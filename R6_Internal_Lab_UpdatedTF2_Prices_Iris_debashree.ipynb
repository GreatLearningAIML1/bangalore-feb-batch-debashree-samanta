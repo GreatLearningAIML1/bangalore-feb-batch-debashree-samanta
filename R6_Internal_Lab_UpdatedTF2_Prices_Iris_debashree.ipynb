{
  "nbformat": 4,
  "nbformat_minor": 0,
  "metadata": {
    "colab": {
      "name": "R6_Internal_Lab_UpdatedTF2_Prices_Iris.ipynb",
      "version": "0.3.2",
      "provenance": [],
      "collapsed_sections": [
        "XiipRpe7rbVh"
      ]
    },
    "kernelspec": {
      "name": "python3",
      "display_name": "Python 3"
    },
    "accelerator": "GPU"
  },
  "cells": [
    {
      "cell_type": "markdown",
      "metadata": {
        "colab_type": "text",
        "id": "84Q8JfvaeZZ6"
      },
      "source": [
        "## Linear Classifier in TensorFlow \n",
        "Using Low Level API in Eager Execution mode"
      ]
    },
    {
      "cell_type": "code",
      "metadata": {
        "id": "UKiAvcfn3zJz",
        "colab_type": "code",
        "outputId": "8333cbc0-fba3-4f32-e50e-7bff251786e0",
        "colab": {
          "base_uri": "https://localhost:8080/",
          "height": 34
        }
      },
      "source": [
        "from google.colab import drive\n",
        "drive.mount('/content/drive')"
      ],
      "execution_count": 9,
      "outputs": [
        {
          "output_type": "stream",
          "text": [
            "Mounted at /content/drive\n"
          ],
          "name": "stdout"
        }
      ]
    },
    {
      "cell_type": "markdown",
      "metadata": {
        "colab_type": "text",
        "id": "sb7Epo0VOB58"
      },
      "source": [
        "### Load tensorflow"
      ]
    },
    {
      "cell_type": "code",
      "metadata": {
        "id": "6IzV3Fya4nPU",
        "colab_type": "code",
        "colab": {}
      },
      "source": [
        "import pandas as pd\n",
        "import tensorflow as tf"
      ],
      "execution_count": 0,
      "outputs": []
    },
    {
      "cell_type": "markdown",
      "metadata": {
        "colab_type": "text",
        "id": "DxJDmJqqOB6K"
      },
      "source": [
        "### Collect Data"
      ]
    },
    {
      "cell_type": "code",
      "metadata": {
        "colab_type": "code",
        "id": "B4yQKMiJOB6R",
        "colab": {}
      },
      "source": [
        "\n",
        "data_prices_df=  pd.read_csv('/content/drive/My Drive/collab_ml_files/prices.csv')"
      ],
      "execution_count": 0,
      "outputs": []
    },
    {
      "cell_type": "markdown",
      "metadata": {
        "colab_type": "text",
        "id": "fgkX6SEqOB6W"
      },
      "source": [
        "### Check all columns in the dataset"
      ]
    },
    {
      "cell_type": "code",
      "metadata": {
        "colab_type": "code",
        "id": "7K8pWsNQOB6X",
        "colab": {
          "base_uri": "https://localhost:8080/",
          "height": 221
        },
        "outputId": "59638119-1ee0-4b9b-ed64-c2b09a661ba0"
      },
      "source": [
        "data_prices_df.info()"
      ],
      "execution_count": 60,
      "outputs": [
        {
          "output_type": "stream",
          "text": [
            "<class 'pandas.core.frame.DataFrame'>\n",
            "RangeIndex: 851264 entries, 0 to 851263\n",
            "Data columns (total 7 columns):\n",
            "date      851264 non-null object\n",
            "symbol    851264 non-null object\n",
            "open      851264 non-null float64\n",
            "close     851264 non-null float64\n",
            "low       851264 non-null float64\n",
            "high      851264 non-null float64\n",
            "volume    851264 non-null float64\n",
            "dtypes: float64(5), object(2)\n",
            "memory usage: 45.5+ MB\n"
          ],
          "name": "stdout"
        }
      ]
    },
    {
      "cell_type": "markdown",
      "metadata": {
        "colab_type": "text",
        "id": "7dU6X7MpOB6c"
      },
      "source": [
        "### Drop columns `date` and  `symbol`"
      ]
    },
    {
      "cell_type": "code",
      "metadata": {
        "colab_type": "code",
        "id": "lh_6spSKOB6e",
        "colab": {}
      },
      "source": [
        "data_prices_df=data_prices_df.drop(['date','symbol'],axis=1)"
      ],
      "execution_count": 0,
      "outputs": []
    },
    {
      "cell_type": "code",
      "metadata": {
        "colab_type": "code",
        "id": "xlwbUgTwOB6i",
        "outputId": "56bad82a-f271-415a-e0d6-cbe1c4290743",
        "colab": {}
      },
      "source": [
        "data.head()"
      ],
      "execution_count": 0,
      "outputs": [
        {
          "output_type": "execute_result",
          "data": {
            "text/html": [
              "<div>\n",
              "<style scoped>\n",
              "    .dataframe tbody tr th:only-of-type {\n",
              "        vertical-align: middle;\n",
              "    }\n",
              "\n",
              "    .dataframe tbody tr th {\n",
              "        vertical-align: top;\n",
              "    }\n",
              "\n",
              "    .dataframe thead th {\n",
              "        text-align: right;\n",
              "    }\n",
              "</style>\n",
              "<table border=\"1\" class=\"dataframe\">\n",
              "  <thead>\n",
              "    <tr style=\"text-align: right;\">\n",
              "      <th></th>\n",
              "      <th>open</th>\n",
              "      <th>close</th>\n",
              "      <th>low</th>\n",
              "      <th>high</th>\n",
              "      <th>volume</th>\n",
              "    </tr>\n",
              "  </thead>\n",
              "  <tbody>\n",
              "    <tr>\n",
              "      <th>0</th>\n",
              "      <td>123.430000</td>\n",
              "      <td>125.839996</td>\n",
              "      <td>122.309998</td>\n",
              "      <td>126.250000</td>\n",
              "      <td>2163600.0</td>\n",
              "    </tr>\n",
              "    <tr>\n",
              "      <th>1</th>\n",
              "      <td>125.239998</td>\n",
              "      <td>119.980003</td>\n",
              "      <td>119.940002</td>\n",
              "      <td>125.540001</td>\n",
              "      <td>2386400.0</td>\n",
              "    </tr>\n",
              "    <tr>\n",
              "      <th>2</th>\n",
              "      <td>116.379997</td>\n",
              "      <td>114.949997</td>\n",
              "      <td>114.930000</td>\n",
              "      <td>119.739998</td>\n",
              "      <td>2489500.0</td>\n",
              "    </tr>\n",
              "    <tr>\n",
              "      <th>3</th>\n",
              "      <td>115.480003</td>\n",
              "      <td>116.620003</td>\n",
              "      <td>113.500000</td>\n",
              "      <td>117.440002</td>\n",
              "      <td>2006300.0</td>\n",
              "    </tr>\n",
              "    <tr>\n",
              "      <th>4</th>\n",
              "      <td>117.010002</td>\n",
              "      <td>114.970001</td>\n",
              "      <td>114.089996</td>\n",
              "      <td>117.330002</td>\n",
              "      <td>1408600.0</td>\n",
              "    </tr>\n",
              "  </tbody>\n",
              "</table>\n",
              "</div>"
            ],
            "text/plain": [
              "         open       close         low        high     volume\n",
              "0  123.430000  125.839996  122.309998  126.250000  2163600.0\n",
              "1  125.239998  119.980003  119.940002  125.540001  2386400.0\n",
              "2  116.379997  114.949997  114.930000  119.739998  2489500.0\n",
              "3  115.480003  116.620003  113.500000  117.440002  2006300.0\n",
              "4  117.010002  114.970001  114.089996  117.330002  1408600.0"
            ]
          },
          "metadata": {
            "tags": []
          },
          "execution_count": 806
        }
      ]
    },
    {
      "cell_type": "markdown",
      "metadata": {
        "colab_type": "text",
        "id": "3DBv3WWYOB6q"
      },
      "source": [
        "### Consider only first 1000 rows in the dataset for building feature set and target set\n",
        "Target 'Volume' has very high values. Divide 'Volume' by 1000,000"
      ]
    },
    {
      "cell_type": "code",
      "metadata": {
        "id": "DI7guWpVOxGv",
        "colab_type": "code",
        "colab": {}
      },
      "source": [
        "data_prices=data_prices_df.head(1000)"
      ],
      "execution_count": 0,
      "outputs": []
    },
    {
      "cell_type": "code",
      "metadata": {
        "colab_type": "code",
        "id": "Z_hG9rGBOB6s",
        "colab": {
          "base_uri": "https://localhost:8080/",
          "height": 119
        },
        "outputId": "1c608079-1f7e-4550-c7a6-6b53a9fae658"
      },
      "source": [
        "data_prices['volume']=data_prices['volume'] / 1000000\n"
      ],
      "execution_count": 63,
      "outputs": [
        {
          "output_type": "stream",
          "text": [
            "/usr/local/lib/python3.6/dist-packages/ipykernel_launcher.py:1: SettingWithCopyWarning: \n",
            "A value is trying to be set on a copy of a slice from a DataFrame.\n",
            "Try using .loc[row_indexer,col_indexer] = value instead\n",
            "\n",
            "See the caveats in the documentation: http://pandas.pydata.org/pandas-docs/stable/indexing.html#indexing-view-versus-copy\n",
            "  \"\"\"Entry point for launching an IPython kernel.\n"
          ],
          "name": "stderr"
        }
      ]
    },
    {
      "cell_type": "code",
      "metadata": {
        "id": "Pew44Sj99wV6",
        "colab_type": "code",
        "colab": {
          "base_uri": "https://localhost:8080/",
          "height": 204
        },
        "outputId": "a5b00b55-31d3-4148-d549-59d8de2b8010"
      },
      "source": [
        "data_prices.head()"
      ],
      "execution_count": 64,
      "outputs": [
        {
          "output_type": "execute_result",
          "data": {
            "text/html": [
              "<div>\n",
              "<style scoped>\n",
              "    .dataframe tbody tr th:only-of-type {\n",
              "        vertical-align: middle;\n",
              "    }\n",
              "\n",
              "    .dataframe tbody tr th {\n",
              "        vertical-align: top;\n",
              "    }\n",
              "\n",
              "    .dataframe thead th {\n",
              "        text-align: right;\n",
              "    }\n",
              "</style>\n",
              "<table border=\"1\" class=\"dataframe\">\n",
              "  <thead>\n",
              "    <tr style=\"text-align: right;\">\n",
              "      <th></th>\n",
              "      <th>open</th>\n",
              "      <th>close</th>\n",
              "      <th>low</th>\n",
              "      <th>high</th>\n",
              "      <th>volume</th>\n",
              "    </tr>\n",
              "  </thead>\n",
              "  <tbody>\n",
              "    <tr>\n",
              "      <th>0</th>\n",
              "      <td>123.430000</td>\n",
              "      <td>125.839996</td>\n",
              "      <td>122.309998</td>\n",
              "      <td>126.250000</td>\n",
              "      <td>2.1636</td>\n",
              "    </tr>\n",
              "    <tr>\n",
              "      <th>1</th>\n",
              "      <td>125.239998</td>\n",
              "      <td>119.980003</td>\n",
              "      <td>119.940002</td>\n",
              "      <td>125.540001</td>\n",
              "      <td>2.3864</td>\n",
              "    </tr>\n",
              "    <tr>\n",
              "      <th>2</th>\n",
              "      <td>116.379997</td>\n",
              "      <td>114.949997</td>\n",
              "      <td>114.930000</td>\n",
              "      <td>119.739998</td>\n",
              "      <td>2.4895</td>\n",
              "    </tr>\n",
              "    <tr>\n",
              "      <th>3</th>\n",
              "      <td>115.480003</td>\n",
              "      <td>116.620003</td>\n",
              "      <td>113.500000</td>\n",
              "      <td>117.440002</td>\n",
              "      <td>2.0063</td>\n",
              "    </tr>\n",
              "    <tr>\n",
              "      <th>4</th>\n",
              "      <td>117.010002</td>\n",
              "      <td>114.970001</td>\n",
              "      <td>114.089996</td>\n",
              "      <td>117.330002</td>\n",
              "      <td>1.4086</td>\n",
              "    </tr>\n",
              "  </tbody>\n",
              "</table>\n",
              "</div>"
            ],
            "text/plain": [
              "         open       close         low        high  volume\n",
              "0  123.430000  125.839996  122.309998  126.250000  2.1636\n",
              "1  125.239998  119.980003  119.940002  125.540001  2.3864\n",
              "2  116.379997  114.949997  114.930000  119.739998  2.4895\n",
              "3  115.480003  116.620003  113.500000  117.440002  2.0063\n",
              "4  117.010002  114.970001  114.089996  117.330002  1.4086"
            ]
          },
          "metadata": {
            "tags": []
          },
          "execution_count": 64
        }
      ]
    },
    {
      "cell_type": "markdown",
      "metadata": {
        "colab_type": "text",
        "id": "M3UaApqYOB6x"
      },
      "source": [
        "### Divide the data into train and test sets"
      ]
    },
    {
      "cell_type": "code",
      "metadata": {
        "colab_type": "code",
        "id": "4LE4U8lTdQJq",
        "colab": {}
      },
      "source": [
        "from sklearn.model_selection import train_test_split\n",
        "#splitting dataframe into dependent and independent columns\n",
        "Y=data_prices['volume']\n",
        "X=data_prices.drop(['volume'],axis=1)\n",
        "\n",
        "x_train, x_test, y_train, y_test = train_test_split(X, Y, test_size=0.20, random_state=1)"
      ],
      "execution_count": 0,
      "outputs": []
    },
    {
      "cell_type": "code",
      "metadata": {
        "id": "aCc6jSX0AjU3",
        "colab_type": "code",
        "colab": {
          "base_uri": "https://localhost:8080/",
          "height": 34
        },
        "outputId": "a0c42a09-d4eb-4f31-db1c-ec9fba0705c9"
      },
      "source": [
        "type(x_train)"
      ],
      "execution_count": 39,
      "outputs": [
        {
          "output_type": "execute_result",
          "data": {
            "text/plain": [
              "pandas.core.frame.DataFrame"
            ]
          },
          "metadata": {
            "tags": []
          },
          "execution_count": 39
        }
      ]
    },
    {
      "cell_type": "markdown",
      "metadata": {
        "colab_type": "text",
        "id": "oYK-aUuLbrz2"
      },
      "source": [
        "#### Convert Training and Test Data to numpy float32 arrays\n"
      ]
    },
    {
      "cell_type": "code",
      "metadata": {
        "colab_type": "code",
        "id": "Ao-S0tQGcncz",
        "colab": {}
      },
      "source": [
        "x_train=x_train.to_numpy('float32')\n",
        "x_test=x_test.to_numpy('float32')\n",
        "y_train=y_train.to_numpy('float32')\n",
        "y_test=y_test.to_numpy('float32')"
      ],
      "execution_count": 0,
      "outputs": []
    },
    {
      "cell_type": "code",
      "metadata": {
        "id": "WV36re3RBAWU",
        "colab_type": "code",
        "colab": {
          "base_uri": "https://localhost:8080/",
          "height": 34
        },
        "outputId": "e6bf7e32-cf24-4a98-eb99-84e3967a4245"
      },
      "source": [
        "type(x_train)"
      ],
      "execution_count": 145,
      "outputs": [
        {
          "output_type": "execute_result",
          "data": {
            "text/plain": [
              "numpy.ndarray"
            ]
          },
          "metadata": {
            "tags": []
          },
          "execution_count": 145
        }
      ]
    },
    {
      "cell_type": "markdown",
      "metadata": {
        "colab_type": "text",
        "id": "im1ZegbDdKgv"
      },
      "source": [
        "### Normalize the data\n",
        "You can use Normalizer from sklearn.preprocessing"
      ]
    },
    {
      "cell_type": "code",
      "metadata": {
        "colab_type": "code",
        "id": "2EkKAy7fOB6y",
        "colab": {}
      },
      "source": [
        "from sklearn.preprocessing import Normalizer\n",
        "import numpy as np  \n",
        "#x_train_n = normalize(np.vstack([x_train]), norm='l2', axis=1)\n",
        "#x_test_n = normalize(np.vstack([x_test]), norm='l2', axis=1)\n",
        "transformer = Normalizer().fit(x_train)\n",
        "x_train_new = transformer.transform(x_train)\n",
        "\n",
        "transformer_test = Normalizer().fit(x_test)\n",
        "x_test_new = transformer_test.transform(x_test)"
      ],
      "execution_count": 0,
      "outputs": []
    },
    {
      "cell_type": "code",
      "metadata": {
        "id": "cgmwfter3w0X",
        "colab_type": "code",
        "colab": {}
      },
      "source": [
        ""
      ],
      "execution_count": 0,
      "outputs": []
    },
    {
      "cell_type": "markdown",
      "metadata": {
        "colab_type": "text",
        "id": "v6vE4eYCOB62"
      },
      "source": [
        "## Building the Model in tensorflow"
      ]
    },
    {
      "cell_type": "markdown",
      "metadata": {
        "colab_type": "text",
        "id": "297_qja4OB7A"
      },
      "source": [
        "1.Define Weights and Bias, use tf.zeros to initialize weights and Bias"
      ]
    },
    {
      "cell_type": "code",
      "metadata": {
        "colab_type": "code",
        "id": "L205qPeQOB7B",
        "colab": {}
      },
      "source": [
        "W = tf.Variable(tf.random_normal(shape=[4,1]), name=\"Weights\")\n",
        "b = tf.Variable(tf.zeros(shape=[1]),name=\"Bias\")"
      ],
      "execution_count": 0,
      "outputs": []
    },
    {
      "cell_type": "markdown",
      "metadata": {
        "colab_type": "text",
        "id": "HgtWA-UIOB7F"
      },
      "source": [
        "2.Define a function to calculate prediction"
      ]
    },
    {
      "cell_type": "code",
      "metadata": {
        "colab_type": "code",
        "id": "JveGlx25OB7H",
        "colab": {}
      },
      "source": [
        "y_pred = tf.add(tf.matmul(x_train_new,W),b,name='output')"
      ],
      "execution_count": 0,
      "outputs": []
    },
    {
      "cell_type": "markdown",
      "metadata": {
        "colab_type": "text",
        "id": "TL1hIwf_OB7M"
      },
      "source": [
        "3.Loss (Cost) Function [Mean square error]"
      ]
    },
    {
      "cell_type": "code",
      "metadata": {
        "colab_type": "code",
        "id": "8VSWPiGXOB7P",
        "colab": {}
      },
      "source": [
        "loss_fun = tf.reduce_mean(tf.square(y_pred-y_train),name='MSE')"
      ],
      "execution_count": 0,
      "outputs": []
    },
    {
      "cell_type": "markdown",
      "metadata": {
        "colab_type": "text",
        "id": "jzG85FUlOB7U"
      },
      "source": [
        "4.Function to train the Model\n",
        "\n",
        "1.   Record all the mathematical steps to calculate Loss\n",
        "2.   Calculate Gradients of Loss w.r.t weights and bias\n",
        "3.   Update Weights and Bias based on gradients and learning rate to minimize loss"
      ]
    },
    {
      "cell_type": "code",
      "metadata": {
        "colab_type": "code",
        "id": "cj802w-3OB7X",
        "colab": {}
      },
      "source": [
        "train_op = tf.train.GradientDescentOptimizer(0.03).minimize(loss_fun)"
      ],
      "execution_count": 0,
      "outputs": []
    },
    {
      "cell_type": "markdown",
      "metadata": {
        "colab_type": "text",
        "id": "xSypb_u8OB7e"
      },
      "source": [
        "## Train the model for 100 epochs \n",
        "1. Observe the training loss at every iteration\n",
        "2. Observe Train loss at every 5th iteration"
      ]
    },
    {
      "cell_type": "markdown",
      "metadata": {
        "id": "DsH5riuKRc1c",
        "colab_type": "text"
      },
      "source": [
        "Observe the training loss at every iteration"
      ]
    },
    {
      "cell_type": "code",
      "metadata": {
        "id": "DK_tmSG0QLnW",
        "colab_type": "code",
        "colab": {}
      },
      "source": [
        "x = tf.placeholder(shape=[None,4],dtype=tf.float32, name='x_input')\n",
        "y_ = tf.placeholder(shape=[None],dtype=tf.float32, name='y_input')"
      ],
      "execution_count": 0,
      "outputs": []
    },
    {
      "cell_type": "code",
      "metadata": {
        "colab_type": "code",
        "id": "DVvgj7eQOB7f",
        "colab": {}
      },
      "source": [
        "#Lets start graph Execution\n",
        "sess = tf.Session()\n",
        "\n",
        "# variables need to be initialized before we can use them\n",
        "sess.run(tf.global_variables_initializer())\n",
        "\n",
        "#how many times data need to be shown to model\n",
        "training_epochs = 100"
      ],
      "execution_count": 0,
      "outputs": []
    },
    {
      "cell_type": "code",
      "metadata": {
        "id": "AqrXQb3UJUg2",
        "colab_type": "code",
        "colab": {
          "base_uri": "https://localhost:8080/",
          "height": 1000
        },
        "outputId": "61f8ea8e-8a1c-4cc9-d19c-0aa49ac11982"
      },
      "source": [
        "\n",
        "for epoch in range(training_epochs):\n",
        "            \n",
        "    #Calculate train_op and loss\n",
        "    _, train_loss = sess.run([train_op,loss_fun],feed_dict={x:x_train_new, y_:y_train})\n",
        "    \n",
        "    print ('Training loss at step: ', epoch, ' is ', train_loss)"
      ],
      "execution_count": 153,
      "outputs": [
        {
          "output_type": "stream",
          "text": [
            "Training loss at step:  0  is  190.95073\n",
            "Training loss at step:  1  is  187.2394\n",
            "Training loss at step:  2  is  184.3653\n",
            "Training loss at step:  3  is  182.13962\n",
            "Training loss at step:  4  is  180.416\n",
            "Training loss at step:  5  is  179.08124\n",
            "Training loss at step:  6  is  178.0476\n",
            "Training loss at step:  7  is  177.24715\n",
            "Training loss at step:  8  is  176.62724\n",
            "Training loss at step:  9  is  176.14723\n",
            "Training loss at step:  10  is  175.77548\n",
            "Training loss at step:  11  is  175.4876\n",
            "Training loss at step:  12  is  175.26465\n",
            "Training loss at step:  13  is  175.092\n",
            "Training loss at step:  14  is  174.9583\n",
            "Training loss at step:  15  is  174.85478\n",
            "Training loss at step:  16  is  174.7746\n",
            "Training loss at step:  17  is  174.71251\n",
            "Training loss at step:  18  is  174.66444\n",
            "Training loss at step:  19  is  174.6272\n",
            "Training loss at step:  20  is  174.59837\n",
            "Training loss at step:  21  is  174.57602\n",
            "Training loss at step:  22  is  174.55875\n",
            "Training loss at step:  23  is  174.54533\n",
            "Training loss at step:  24  is  174.53497\n",
            "Training loss at step:  25  is  174.52693\n",
            "Training loss at step:  26  is  174.52072\n",
            "Training loss at step:  27  is  174.5159\n",
            "Training loss at step:  28  is  174.5122\n",
            "Training loss at step:  29  is  174.5093\n",
            "Training loss at step:  30  is  174.50705\n",
            "Training loss at step:  31  is  174.50533\n",
            "Training loss at step:  32  is  174.50398\n",
            "Training loss at step:  33  is  174.50294\n",
            "Training loss at step:  34  is  174.50212\n",
            "Training loss at step:  35  is  174.50151\n",
            "Training loss at step:  36  is  174.50102\n",
            "Training loss at step:  37  is  174.50067\n",
            "Training loss at step:  38  is  174.50038\n",
            "Training loss at step:  39  is  174.50015\n",
            "Training loss at step:  40  is  174.49997\n",
            "Training loss at step:  41  is  174.49983\n",
            "Training loss at step:  42  is  174.49976\n",
            "Training loss at step:  43  is  174.49965\n",
            "Training loss at step:  44  is  174.4996\n",
            "Training loss at step:  45  is  174.49954\n",
            "Training loss at step:  46  is  174.4995\n",
            "Training loss at step:  47  is  174.49948\n",
            "Training loss at step:  48  is  174.49945\n",
            "Training loss at step:  49  is  174.49942\n",
            "Training loss at step:  50  is  174.49942\n",
            "Training loss at step:  51  is  174.49942\n",
            "Training loss at step:  52  is  174.4994\n",
            "Training loss at step:  53  is  174.4994\n",
            "Training loss at step:  54  is  174.4994\n",
            "Training loss at step:  55  is  174.4994\n",
            "Training loss at step:  56  is  174.49939\n",
            "Training loss at step:  57  is  174.49937\n",
            "Training loss at step:  58  is  174.49937\n",
            "Training loss at step:  59  is  174.49937\n",
            "Training loss at step:  60  is  174.49937\n",
            "Training loss at step:  61  is  174.49937\n",
            "Training loss at step:  62  is  174.49937\n",
            "Training loss at step:  63  is  174.49937\n",
            "Training loss at step:  64  is  174.49937\n",
            "Training loss at step:  65  is  174.49937\n",
            "Training loss at step:  66  is  174.49937\n",
            "Training loss at step:  67  is  174.49937\n",
            "Training loss at step:  68  is  174.49937\n",
            "Training loss at step:  69  is  174.49937\n",
            "Training loss at step:  70  is  174.49937\n",
            "Training loss at step:  71  is  174.49937\n",
            "Training loss at step:  72  is  174.49937\n",
            "Training loss at step:  73  is  174.49937\n",
            "Training loss at step:  74  is  174.49937\n",
            "Training loss at step:  75  is  174.49937\n",
            "Training loss at step:  76  is  174.49937\n",
            "Training loss at step:  77  is  174.49937\n",
            "Training loss at step:  78  is  174.49937\n",
            "Training loss at step:  79  is  174.49937\n",
            "Training loss at step:  80  is  174.49937\n",
            "Training loss at step:  81  is  174.49937\n",
            "Training loss at step:  82  is  174.49937\n",
            "Training loss at step:  83  is  174.49937\n",
            "Training loss at step:  84  is  174.49939\n",
            "Training loss at step:  85  is  174.49937\n",
            "Training loss at step:  86  is  174.49937\n",
            "Training loss at step:  87  is  174.49937\n",
            "Training loss at step:  88  is  174.49937\n",
            "Training loss at step:  89  is  174.49937\n",
            "Training loss at step:  90  is  174.49937\n",
            "Training loss at step:  91  is  174.49937\n",
            "Training loss at step:  92  is  174.49937\n",
            "Training loss at step:  93  is  174.49937\n",
            "Training loss at step:  94  is  174.49937\n",
            "Training loss at step:  95  is  174.49937\n",
            "Training loss at step:  96  is  174.49937\n",
            "Training loss at step:  97  is  174.49937\n",
            "Training loss at step:  98  is  174.49937\n",
            "Training loss at step:  99  is  174.49937\n"
          ],
          "name": "stdout"
        }
      ]
    },
    {
      "cell_type": "code",
      "metadata": {
        "id": "mQfJMExvRzCR",
        "colab_type": "code",
        "colab": {}
      },
      "source": [
        "sess.close()"
      ],
      "execution_count": 0,
      "outputs": []
    },
    {
      "cell_type": "code",
      "metadata": {
        "id": "z7ATUd55R62Q",
        "colab_type": "code",
        "colab": {}
      },
      "source": [
        "#Lets start graph Execution\n",
        "sess = tf.Session()\n",
        "\n",
        "# variables need to be initialized before we can use them\n",
        "sess.run(tf.global_variables_initializer())\n",
        "\n",
        "#how many times data need to be shown to model\n",
        "training_epochs = 100"
      ],
      "execution_count": 0,
      "outputs": []
    },
    {
      "cell_type": "code",
      "metadata": {
        "id": "SkZf0xN_R68J",
        "colab_type": "code",
        "colab": {
          "base_uri": "https://localhost:8080/",
          "height": 357
        },
        "outputId": "c6563610-3c8d-473d-9c26-7d5d72c32fd2"
      },
      "source": [
        "for epoch in range(training_epochs):\n",
        "            \n",
        "    #Calculate train_op and loss\n",
        "    _, train_loss = sess.run([train_op,loss_fun],feed_dict={x:x_train_new, y_:y_train})\n",
        "    if epoch % 5 == 0:\n",
        "      print ('Training loss at step: ', epoch, ' is ', train_loss)\n",
        "     "
      ],
      "execution_count": 157,
      "outputs": [
        {
          "output_type": "stream",
          "text": [
            "Training loss at step:  0  is  195.40076\n",
            "Training loss at step:  5  is  180.32065\n",
            "Training loss at step:  10  is  176.12068\n",
            "Training loss at step:  15  is  174.95094\n",
            "Training loss at step:  20  is  174.62517\n",
            "Training loss at step:  25  is  174.53442\n",
            "Training loss at step:  30  is  174.50916\n",
            "Training loss at step:  35  is  174.50212\n",
            "Training loss at step:  40  is  174.50015\n",
            "Training loss at step:  45  is  174.49962\n",
            "Training loss at step:  50  is  174.49945\n",
            "Training loss at step:  55  is  174.49942\n",
            "Training loss at step:  60  is  174.4994\n",
            "Training loss at step:  65  is  174.49939\n",
            "Training loss at step:  70  is  174.4994\n",
            "Training loss at step:  75  is  174.4994\n",
            "Training loss at step:  80  is  174.49939\n",
            "Training loss at step:  85  is  174.4994\n",
            "Training loss at step:  90  is  174.4994\n",
            "Training loss at step:  95  is  174.4994\n"
          ],
          "name": "stdout"
        }
      ]
    },
    {
      "cell_type": "markdown",
      "metadata": {
        "colab_type": "text",
        "id": "DOL2ncA1OB7q"
      },
      "source": [
        "### Get the shapes and values of W and b"
      ]
    },
    {
      "cell_type": "code",
      "metadata": {
        "colab_type": "code",
        "id": "ZGvtyTeuOB7r",
        "colab": {
          "base_uri": "https://localhost:8080/",
          "height": 136
        },
        "outputId": "887e5c1f-4a64-4584-9798-1e31f3637b88"
      },
      "source": [
        "print ('W: \\n',sess.run(W))\n",
        "print ('b: \\n',sess.run(b))"
      ],
      "execution_count": 158,
      "outputs": [
        {
          "output_type": "stream",
          "text": [
            "W: \n",
            " [[ 2.1801274 ]\n",
            " [ 2.8023412 ]\n",
            " [-0.29157823]\n",
            " [ 1.434224  ]]\n",
            "b: \n",
            " [2.2859507]\n"
          ],
          "name": "stdout"
        }
      ]
    },
    {
      "cell_type": "code",
      "metadata": {
        "colab_type": "code",
        "id": "vhDtOv5UOB7x",
        "colab": {}
      },
      "source": [
        "sess.close()"
      ],
      "execution_count": 0,
      "outputs": []
    },
    {
      "cell_type": "markdown",
      "metadata": {
        "colab_type": "text",
        "id": "ERq9GOKKciho"
      },
      "source": [
        "### Model Prediction on 1st Examples in Test Dataset"
      ]
    },
    {
      "cell_type": "code",
      "metadata": {
        "colab_type": "code",
        "id": "gKGvUWahcihp",
        "colab": {
          "base_uri": "https://localhost:8080/",
          "height": 34
        },
        "outputId": "0fb92b3e-621d-4095-8fab-532a1c3d49d3"
      },
      "source": [
        "y_test_pred = tf.add(tf.matmul(x_test_new,W),b,name='output')\n",
        "y_test_pred"
      ],
      "execution_count": 119,
      "outputs": [
        {
          "output_type": "execute_result",
          "data": {
            "text/plain": [
              "<tf.Tensor 'output_5:0' shape=(200, 1) dtype=float32>"
            ]
          },
          "metadata": {
            "tags": []
          },
          "execution_count": 119
        }
      ]
    },
    {
      "cell_type": "markdown",
      "metadata": {
        "colab_type": "text",
        "id": "YJRBuqXhOB7_"
      },
      "source": [
        "## Classification using tf.Keras\n",
        "\n",
        "In this exercise, we will build a Deep Neural Network using tf.Keras. We will use Iris Dataset for this exercise."
      ]
    },
    {
      "cell_type": "markdown",
      "metadata": {
        "colab_type": "text",
        "id": "O0g6lorycihf"
      },
      "source": [
        "### Load the given Iris data using pandas (Iris.csv)"
      ]
    },
    {
      "cell_type": "code",
      "metadata": {
        "colab_type": "code",
        "id": "6xFvb5sRcihg",
        "colab": {
          "base_uri": "https://localhost:8080/",
          "height": 204
        },
        "outputId": "c4305418-1771-49ac-914c-9ccfcfb4fc79"
      },
      "source": [
        "data_iris = pd.read_csv('/content/drive/My Drive/collab_ml_files/11_Iris.csv')\n",
        "\n",
        "data_iris=data_iris.drop(['Id'],axis=1)\n",
        "data_iris.head()"
      ],
      "execution_count": 207,
      "outputs": [
        {
          "output_type": "execute_result",
          "data": {
            "text/html": [
              "<div>\n",
              "<style scoped>\n",
              "    .dataframe tbody tr th:only-of-type {\n",
              "        vertical-align: middle;\n",
              "    }\n",
              "\n",
              "    .dataframe tbody tr th {\n",
              "        vertical-align: top;\n",
              "    }\n",
              "\n",
              "    .dataframe thead th {\n",
              "        text-align: right;\n",
              "    }\n",
              "</style>\n",
              "<table border=\"1\" class=\"dataframe\">\n",
              "  <thead>\n",
              "    <tr style=\"text-align: right;\">\n",
              "      <th></th>\n",
              "      <th>SepalLengthCm</th>\n",
              "      <th>SepalWidthCm</th>\n",
              "      <th>PetalLengthCm</th>\n",
              "      <th>PetalWidthCm</th>\n",
              "      <th>Species</th>\n",
              "    </tr>\n",
              "  </thead>\n",
              "  <tbody>\n",
              "    <tr>\n",
              "      <th>0</th>\n",
              "      <td>5.1</td>\n",
              "      <td>3.5</td>\n",
              "      <td>1.4</td>\n",
              "      <td>0.2</td>\n",
              "      <td>Iris-setosa</td>\n",
              "    </tr>\n",
              "    <tr>\n",
              "      <th>1</th>\n",
              "      <td>4.9</td>\n",
              "      <td>3.0</td>\n",
              "      <td>1.4</td>\n",
              "      <td>0.2</td>\n",
              "      <td>Iris-setosa</td>\n",
              "    </tr>\n",
              "    <tr>\n",
              "      <th>2</th>\n",
              "      <td>4.7</td>\n",
              "      <td>3.2</td>\n",
              "      <td>1.3</td>\n",
              "      <td>0.2</td>\n",
              "      <td>Iris-setosa</td>\n",
              "    </tr>\n",
              "    <tr>\n",
              "      <th>3</th>\n",
              "      <td>4.6</td>\n",
              "      <td>3.1</td>\n",
              "      <td>1.5</td>\n",
              "      <td>0.2</td>\n",
              "      <td>Iris-setosa</td>\n",
              "    </tr>\n",
              "    <tr>\n",
              "      <th>4</th>\n",
              "      <td>5.0</td>\n",
              "      <td>3.6</td>\n",
              "      <td>1.4</td>\n",
              "      <td>0.2</td>\n",
              "      <td>Iris-setosa</td>\n",
              "    </tr>\n",
              "  </tbody>\n",
              "</table>\n",
              "</div>"
            ],
            "text/plain": [
              "   SepalLengthCm  SepalWidthCm  PetalLengthCm  PetalWidthCm      Species\n",
              "0            5.1           3.5            1.4           0.2  Iris-setosa\n",
              "1            4.9           3.0            1.4           0.2  Iris-setosa\n",
              "2            4.7           3.2            1.3           0.2  Iris-setosa\n",
              "3            4.6           3.1            1.5           0.2  Iris-setosa\n",
              "4            5.0           3.6            1.4           0.2  Iris-setosa"
            ]
          },
          "metadata": {
            "tags": []
          },
          "execution_count": 207
        }
      ]
    },
    {
      "cell_type": "markdown",
      "metadata": {
        "colab_type": "text",
        "id": "SAB--Qdwcihm"
      },
      "source": [
        "### Splitting the data into feature set and target set"
      ]
    },
    {
      "cell_type": "code",
      "metadata": {
        "colab_type": "code",
        "id": "IJr5dYnocihm",
        "colab": {}
      },
      "source": [
        "X = data_iris.iloc[:,0:4].values\n",
        "y = data_iris.iloc[:,4].values\n"
      ],
      "execution_count": 0,
      "outputs": []
    },
    {
      "cell_type": "markdown",
      "metadata": {
        "colab_type": "text",
        "id": "D95nY5ILcihj"
      },
      "source": [
        "### Target set has different categories. So, Label encode them. And convert into one-hot vectors using get_dummies in pandas"
      ]
    },
    {
      "cell_type": "code",
      "metadata": {
        "colab_type": "code",
        "id": "RyMQoLMucihj",
        "colab": {}
      },
      "source": [
        "from sklearn.preprocessing import LabelEncoder\n",
        "encoder =  LabelEncoder()\n",
        "y1 = encoder.fit_transform(y)\n",
        "#Y = encoder.fit_transform(y)\n",
        "Y = pd.get_dummies(y1).values\n"
      ],
      "execution_count": 0,
      "outputs": []
    },
    {
      "cell_type": "markdown",
      "metadata": {
        "colab_type": "text",
        "id": "b22qpC5xcihr"
      },
      "source": [
        "###  Building Model in tf.keras\n",
        "\n",
        "Build a Linear Classifier model  <br>\n",
        "1.  Use Dense Layer  with input shape of 4 (according to the feature set) and number of outputs set to 3<br> \n",
        "2. Apply Softmax on Dense Layer outputs <br>\n",
        "3. Use SGD as Optimizer\n",
        "4. Use categorical_crossentropy as loss function "
      ]
    },
    {
      "cell_type": "code",
      "metadata": {
        "colab_type": "code",
        "id": "Hov_UFnUciht",
        "colab": {}
      },
      "source": [
        "from keras.models import Sequential\n",
        "from keras.layers import Dense\n",
        "# create model\n",
        "model = Sequential()\n",
        "model.add(Dense(12, input_dim=4, activation='relu'))\n",
        "model.add(Dense(3, activation='softmax'))\n",
        "\n",
        "# Compile model\n",
        "model.compile(loss='categorical_crossentropy', optimizer='sgd', metrics=['accuracy'])"
      ],
      "execution_count": 0,
      "outputs": []
    },
    {
      "cell_type": "markdown",
      "metadata": {
        "colab_type": "text",
        "id": "T5FdzqIKcihw"
      },
      "source": [
        "### Model Training "
      ]
    },
    {
      "cell_type": "code",
      "metadata": {
        "colab_type": "code",
        "id": "4qLEdHPscihx",
        "colab": {
          "base_uri": "https://localhost:8080/",
          "height": 1000
        },
        "outputId": "1246ba69-1ddd-43b3-8e6a-f87aa6a7d3a5"
      },
      "source": [
        "X_train, X_test, Y_train, Y_test = train_test_split(X, Y, test_size=0.33, random_state=7)\n",
        "model.fit(X_train,Y_train, epochs=150, batch_size=10)"
      ],
      "execution_count": 220,
      "outputs": [
        {
          "output_type": "stream",
          "text": [
            "Epoch 1/150\n",
            "100/100 [==============================] - 0s 4ms/step - loss: 1.6026 - acc: 0.6700\n",
            "Epoch 2/150\n",
            "100/100 [==============================] - 0s 286us/step - loss: 0.6518 - acc: 0.7000\n",
            "Epoch 3/150\n",
            "100/100 [==============================] - 0s 268us/step - loss: 0.6112 - acc: 0.7000\n",
            "Epoch 4/150\n",
            "100/100 [==============================] - 0s 276us/step - loss: 0.6266 - acc: 0.6900\n",
            "Epoch 5/150\n",
            "100/100 [==============================] - 0s 289us/step - loss: 0.5825 - acc: 0.6900\n",
            "Epoch 6/150\n",
            "100/100 [==============================] - 0s 295us/step - loss: 0.5398 - acc: 0.7900\n",
            "Epoch 7/150\n",
            "100/100 [==============================] - 0s 312us/step - loss: 0.5521 - acc: 0.7000\n",
            "Epoch 8/150\n",
            "100/100 [==============================] - 0s 265us/step - loss: 0.4997 - acc: 0.8000\n",
            "Epoch 9/150\n",
            "100/100 [==============================] - 0s 271us/step - loss: 0.5226 - acc: 0.7400\n",
            "Epoch 10/150\n",
            "100/100 [==============================] - 0s 288us/step - loss: 0.5242 - acc: 0.7000\n",
            "Epoch 11/150\n",
            "100/100 [==============================] - 0s 290us/step - loss: 0.5069 - acc: 0.7500\n",
            "Epoch 12/150\n",
            "100/100 [==============================] - 0s 281us/step - loss: 0.4875 - acc: 0.7400\n",
            "Epoch 13/150\n",
            "100/100 [==============================] - 0s 284us/step - loss: 0.4752 - acc: 0.8500\n",
            "Epoch 14/150\n",
            "100/100 [==============================] - 0s 255us/step - loss: 0.4670 - acc: 0.7600\n",
            "Epoch 15/150\n",
            "100/100 [==============================] - 0s 277us/step - loss: 0.4337 - acc: 0.8000\n",
            "Epoch 16/150\n",
            "100/100 [==============================] - 0s 268us/step - loss: 0.4554 - acc: 0.7800\n",
            "Epoch 17/150\n",
            "100/100 [==============================] - 0s 289us/step - loss: 0.4324 - acc: 0.8700\n",
            "Epoch 18/150\n",
            "100/100 [==============================] - 0s 403us/step - loss: 0.4240 - acc: 0.8900\n",
            "Epoch 19/150\n",
            "100/100 [==============================] - 0s 297us/step - loss: 0.4518 - acc: 0.8100\n",
            "Epoch 20/150\n",
            "100/100 [==============================] - 0s 279us/step - loss: 0.4349 - acc: 0.8500\n",
            "Epoch 21/150\n",
            "100/100 [==============================] - 0s 263us/step - loss: 0.4073 - acc: 0.9100\n",
            "Epoch 22/150\n",
            "100/100 [==============================] - 0s 281us/step - loss: 0.4135 - acc: 0.8400\n",
            "Epoch 23/150\n",
            "100/100 [==============================] - 0s 281us/step - loss: 0.3962 - acc: 0.8200\n",
            "Epoch 24/150\n",
            "100/100 [==============================] - 0s 268us/step - loss: 0.4037 - acc: 0.8800\n",
            "Epoch 25/150\n",
            "100/100 [==============================] - 0s 284us/step - loss: 0.3856 - acc: 0.9000\n",
            "Epoch 26/150\n",
            "100/100 [==============================] - 0s 284us/step - loss: 0.3992 - acc: 0.8400\n",
            "Epoch 27/150\n",
            "100/100 [==============================] - 0s 265us/step - loss: 0.3819 - acc: 0.9100\n",
            "Epoch 28/150\n",
            "100/100 [==============================] - 0s 286us/step - loss: 0.4062 - acc: 0.8100\n",
            "Epoch 29/150\n",
            "100/100 [==============================] - 0s 284us/step - loss: 0.3733 - acc: 0.8600\n",
            "Epoch 30/150\n",
            "100/100 [==============================] - 0s 263us/step - loss: 0.3741 - acc: 0.8800\n",
            "Epoch 31/150\n",
            "100/100 [==============================] - 0s 260us/step - loss: 0.3467 - acc: 0.8700\n",
            "Epoch 32/150\n",
            "100/100 [==============================] - 0s 263us/step - loss: 0.3579 - acc: 0.9300\n",
            "Epoch 33/150\n",
            "100/100 [==============================] - 0s 333us/step - loss: 0.3561 - acc: 0.8800\n",
            "Epoch 34/150\n",
            "100/100 [==============================] - 0s 295us/step - loss: 0.3413 - acc: 0.8900\n",
            "Epoch 35/150\n",
            "100/100 [==============================] - 0s 285us/step - loss: 0.3410 - acc: 0.9100\n",
            "Epoch 36/150\n",
            "100/100 [==============================] - 0s 299us/step - loss: 0.3303 - acc: 0.9400\n",
            "Epoch 37/150\n",
            "100/100 [==============================] - 0s 306us/step - loss: 0.3131 - acc: 0.9200\n",
            "Epoch 38/150\n",
            "100/100 [==============================] - 0s 2ms/step - loss: 0.3308 - acc: 0.9200\n",
            "Epoch 39/150\n",
            "100/100 [==============================] - 0s 290us/step - loss: 0.3162 - acc: 0.9400\n",
            "Epoch 40/150\n",
            "100/100 [==============================] - 0s 279us/step - loss: 0.3243 - acc: 0.8900\n",
            "Epoch 41/150\n",
            "100/100 [==============================] - 0s 291us/step - loss: 0.3239 - acc: 0.9300\n",
            "Epoch 42/150\n",
            "100/100 [==============================] - 0s 287us/step - loss: 0.3104 - acc: 0.9300\n",
            "Epoch 43/150\n",
            "100/100 [==============================] - 0s 276us/step - loss: 0.3094 - acc: 0.9200\n",
            "Epoch 44/150\n",
            " 10/100 [==>...........................] - ETA: 0s - loss: 0.2094 - acc: 1.0000"
          ],
          "name": "stdout"
        },
        {
          "output_type": "stream",
          "text": [
            "/usr/local/lib/python3.6/dist-packages/keras/callbacks.py:122: UserWarning: Method on_batch_end() is slow compared to the batch update (0.174486). Check your callbacks.\n",
            "  % delta_t_median)\n"
          ],
          "name": "stderr"
        },
        {
          "output_type": "stream",
          "text": [
            "100/100 [==============================] - 0s 301us/step - loss: 0.3004 - acc: 0.9300\n",
            "Epoch 45/150\n",
            "100/100 [==============================] - 0s 319us/step - loss: 0.2987 - acc: 0.9300\n",
            "Epoch 46/150\n",
            "100/100 [==============================] - 0s 449us/step - loss: 0.2857 - acc: 0.9600\n",
            "Epoch 47/150\n",
            "100/100 [==============================] - 0s 342us/step - loss: 0.2844 - acc: 0.9100\n",
            "Epoch 48/150\n",
            "100/100 [==============================] - 0s 278us/step - loss: 0.2808 - acc: 0.9700\n",
            "Epoch 49/150\n",
            "100/100 [==============================] - 0s 288us/step - loss: 0.2809 - acc: 0.9300\n",
            "Epoch 50/150\n",
            "100/100 [==============================] - 0s 269us/step - loss: 0.2817 - acc: 0.9300\n",
            "Epoch 51/150\n",
            "100/100 [==============================] - 0s 295us/step - loss: 0.2705 - acc: 0.9500\n",
            "Epoch 52/150\n",
            "100/100 [==============================] - 0s 327us/step - loss: 0.2741 - acc: 0.9400\n",
            "Epoch 53/150\n",
            "100/100 [==============================] - 0s 305us/step - loss: 0.2854 - acc: 0.9300\n",
            "Epoch 54/150\n",
            "100/100 [==============================] - 0s 306us/step - loss: 0.2672 - acc: 0.9400\n",
            "Epoch 55/150\n",
            "100/100 [==============================] - 0s 297us/step - loss: 0.2693 - acc: 0.9300\n",
            "Epoch 56/150\n",
            "100/100 [==============================] - 0s 284us/step - loss: 0.2610 - acc: 0.9600\n",
            "Epoch 57/150\n",
            "100/100 [==============================] - 0s 338us/step - loss: 0.2643 - acc: 0.9300\n",
            "Epoch 58/150\n",
            "100/100 [==============================] - 0s 308us/step - loss: 0.2526 - acc: 0.9600\n",
            "Epoch 59/150\n",
            "100/100 [==============================] - 0s 303us/step - loss: 0.2453 - acc: 0.9600\n",
            "Epoch 60/150\n",
            "100/100 [==============================] - 0s 308us/step - loss: 0.2457 - acc: 0.9500\n",
            "Epoch 61/150\n",
            "100/100 [==============================] - 0s 303us/step - loss: 0.2475 - acc: 0.9500\n",
            "Epoch 62/150\n",
            "100/100 [==============================] - 0s 290us/step - loss: 0.2441 - acc: 0.9600\n",
            "Epoch 63/150\n",
            "100/100 [==============================] - 0s 296us/step - loss: 0.2355 - acc: 0.9600\n",
            "Epoch 64/150\n",
            "100/100 [==============================] - 0s 286us/step - loss: 0.2429 - acc: 0.9400\n",
            "Epoch 65/150\n",
            "100/100 [==============================] - 0s 281us/step - loss: 0.2387 - acc: 0.9700\n",
            "Epoch 66/150\n",
            "100/100 [==============================] - 0s 299us/step - loss: 0.2204 - acc: 0.9500\n",
            "Epoch 67/150\n",
            "100/100 [==============================] - 0s 301us/step - loss: 0.2317 - acc: 0.9600\n",
            "Epoch 68/150\n",
            "100/100 [==============================] - 0s 336us/step - loss: 0.2140 - acc: 0.9700\n",
            "Epoch 69/150\n",
            "100/100 [==============================] - 0s 320us/step - loss: 0.2269 - acc: 0.9600\n",
            "Epoch 70/150\n",
            "100/100 [==============================] - 0s 312us/step - loss: 0.2249 - acc: 0.9500\n",
            "Epoch 71/150\n",
            "100/100 [==============================] - 0s 293us/step - loss: 0.2258 - acc: 0.9600\n",
            "Epoch 72/150\n",
            "100/100 [==============================] - 0s 301us/step - loss: 0.2252 - acc: 0.9500\n",
            "Epoch 73/150\n",
            "100/100 [==============================] - 0s 299us/step - loss: 0.2057 - acc: 0.9600\n",
            "Epoch 74/150\n",
            "100/100 [==============================] - 0s 297us/step - loss: 0.2118 - acc: 0.9500\n",
            "Epoch 75/150\n",
            "100/100 [==============================] - 0s 311us/step - loss: 0.2180 - acc: 0.9300\n",
            "Epoch 76/150\n",
            "100/100 [==============================] - 0s 296us/step - loss: 0.1976 - acc: 0.9600\n",
            "Epoch 77/150\n",
            "100/100 [==============================] - 0s 293us/step - loss: 0.2026 - acc: 0.9500\n",
            "Epoch 78/150\n",
            "100/100 [==============================] - 0s 445us/step - loss: 0.2002 - acc: 0.9500\n",
            "Epoch 79/150\n",
            "100/100 [==============================] - 0s 320us/step - loss: 0.1874 - acc: 0.9700\n",
            "Epoch 80/150\n",
            "100/100 [==============================] - 0s 316us/step - loss: 0.2064 - acc: 0.9400\n",
            "Epoch 81/150\n",
            "100/100 [==============================] - 0s 303us/step - loss: 0.1955 - acc: 0.9400\n",
            "Epoch 82/150\n",
            "100/100 [==============================] - 0s 293us/step - loss: 0.1907 - acc: 0.9600\n",
            "Epoch 83/150\n",
            "100/100 [==============================] - 0s 301us/step - loss: 0.1923 - acc: 0.9500\n",
            "Epoch 84/150\n",
            "100/100 [==============================] - 0s 296us/step - loss: 0.1854 - acc: 0.9400\n",
            "Epoch 85/150\n",
            "100/100 [==============================] - 0s 286us/step - loss: 0.1894 - acc: 0.9600\n",
            "Epoch 86/150\n",
            "100/100 [==============================] - 0s 278us/step - loss: 0.1872 - acc: 0.9600\n",
            "Epoch 87/150\n",
            "100/100 [==============================] - 0s 295us/step - loss: 0.1847 - acc: 0.9400\n",
            "Epoch 88/150\n",
            "100/100 [==============================] - 0s 283us/step - loss: 0.1840 - acc: 0.9400\n",
            "Epoch 89/150\n",
            "100/100 [==============================] - 0s 289us/step - loss: 0.1854 - acc: 0.9700\n",
            "Epoch 90/150\n",
            "100/100 [==============================] - 0s 274us/step - loss: 0.1723 - acc: 0.9600\n",
            "Epoch 91/150\n",
            "100/100 [==============================] - 0s 274us/step - loss: 0.1730 - acc: 0.9600\n",
            "Epoch 92/150\n",
            "100/100 [==============================] - 0s 290us/step - loss: 0.1720 - acc: 0.9700\n",
            "Epoch 93/150\n",
            "100/100 [==============================] - 0s 284us/step - loss: 0.1742 - acc: 0.9500\n",
            "Epoch 94/150\n",
            "100/100 [==============================] - 0s 286us/step - loss: 0.1669 - acc: 0.9500\n",
            "Epoch 95/150\n",
            "100/100 [==============================] - 0s 281us/step - loss: 0.1708 - acc: 0.9700\n",
            "Epoch 96/150\n",
            "100/100 [==============================] - 0s 282us/step - loss: 0.1684 - acc: 0.9700\n",
            "Epoch 97/150\n",
            "100/100 [==============================] - 0s 288us/step - loss: 0.1630 - acc: 0.9600\n",
            "Epoch 98/150\n",
            "100/100 [==============================] - 0s 284us/step - loss: 0.1622 - acc: 0.9700\n",
            "Epoch 99/150\n",
            "100/100 [==============================] - 0s 273us/step - loss: 0.1631 - acc: 0.9500\n",
            "Epoch 100/150\n",
            "100/100 [==============================] - 0s 271us/step - loss: 0.1582 - acc: 0.9700\n",
            "Epoch 101/150\n",
            "100/100 [==============================] - 0s 280us/step - loss: 0.1593 - acc: 0.9600\n",
            "Epoch 102/150\n",
            "100/100 [==============================] - 0s 277us/step - loss: 0.1605 - acc: 0.9500\n",
            "Epoch 103/150\n",
            "100/100 [==============================] - 0s 277us/step - loss: 0.1573 - acc: 0.9600\n",
            "Epoch 104/150\n",
            "100/100 [==============================] - 0s 293us/step - loss: 0.1529 - acc: 0.9600\n",
            "Epoch 105/150\n",
            "100/100 [==============================] - 0s 299us/step - loss: 0.1620 - acc: 0.9600\n",
            "Epoch 106/150\n",
            "100/100 [==============================] - 0s 277us/step - loss: 0.1560 - acc: 0.9600\n",
            "Epoch 107/150\n",
            "100/100 [==============================] - 0s 273us/step - loss: 0.1565 - acc: 0.9500\n",
            "Epoch 108/150\n",
            "100/100 [==============================] - 0s 282us/step - loss: 0.1615 - acc: 0.9500\n",
            "Epoch 109/150\n",
            "100/100 [==============================] - 0s 272us/step - loss: 0.1574 - acc: 0.9600\n",
            "Epoch 110/150\n",
            "100/100 [==============================] - 0s 269us/step - loss: 0.1534 - acc: 0.9600\n",
            "Epoch 111/150\n",
            "100/100 [==============================] - 0s 266us/step - loss: 0.1464 - acc: 0.9700\n",
            "Epoch 112/150\n",
            "100/100 [==============================] - 0s 382us/step - loss: 0.1438 - acc: 0.9700\n",
            "Epoch 113/150\n",
            "100/100 [==============================] - 0s 289us/step - loss: 0.1501 - acc: 0.9500\n",
            "Epoch 114/150\n",
            "100/100 [==============================] - 0s 296us/step - loss: 0.1479 - acc: 0.9700\n",
            "Epoch 115/150\n",
            "100/100 [==============================] - 0s 280us/step - loss: 0.1452 - acc: 0.9600\n",
            "Epoch 116/150\n",
            "100/100 [==============================] - 0s 275us/step - loss: 0.1515 - acc: 0.9500\n",
            "Epoch 117/150\n",
            "100/100 [==============================] - 0s 314us/step - loss: 0.1418 - acc: 0.9500\n",
            "Epoch 118/150\n",
            "100/100 [==============================] - 0s 298us/step - loss: 0.1413 - acc: 0.9600\n",
            "Epoch 119/150\n",
            "100/100 [==============================] - 0s 285us/step - loss: 0.1479 - acc: 0.9500\n",
            "Epoch 120/150\n",
            "100/100 [==============================] - 0s 276us/step - loss: 0.1397 - acc: 0.9700\n",
            "Epoch 121/150\n",
            "100/100 [==============================] - 0s 275us/step - loss: 0.1417 - acc: 0.9600\n",
            "Epoch 122/150\n",
            "100/100 [==============================] - 0s 281us/step - loss: 0.1423 - acc: 0.9500\n",
            "Epoch 123/150\n",
            "100/100 [==============================] - 0s 299us/step - loss: 0.1397 - acc: 0.9600\n",
            "Epoch 124/150\n",
            "100/100 [==============================] - 0s 291us/step - loss: 0.1514 - acc: 0.9500\n",
            "Epoch 125/150\n",
            "100/100 [==============================] - 0s 284us/step - loss: 0.1512 - acc: 0.9400\n",
            "Epoch 126/150\n",
            "100/100 [==============================] - 0s 270us/step - loss: 0.1373 - acc: 0.9700\n",
            "Epoch 127/150\n",
            "100/100 [==============================] - 0s 273us/step - loss: 0.1328 - acc: 0.9700\n",
            "Epoch 128/150\n",
            "100/100 [==============================] - 0s 260us/step - loss: 0.1441 - acc: 0.9700\n",
            "Epoch 129/150\n",
            "100/100 [==============================] - 0s 265us/step - loss: 0.1281 - acc: 0.9700\n",
            "Epoch 130/150\n",
            "100/100 [==============================] - 0s 302us/step - loss: 0.1501 - acc: 0.9500\n",
            "Epoch 131/150\n",
            "100/100 [==============================] - 0s 299us/step - loss: 0.1359 - acc: 0.9800\n",
            "Epoch 132/150\n",
            "100/100 [==============================] - 0s 268us/step - loss: 0.1292 - acc: 0.9600\n",
            "Epoch 133/150\n",
            "100/100 [==============================] - 0s 292us/step - loss: 0.1332 - acc: 0.9500\n",
            "Epoch 134/150\n",
            "100/100 [==============================] - 0s 283us/step - loss: 0.1345 - acc: 0.9700\n",
            "Epoch 135/150\n",
            "100/100 [==============================] - 0s 287us/step - loss: 0.1299 - acc: 0.9600\n",
            "Epoch 136/150\n",
            "100/100 [==============================] - 0s 280us/step - loss: 0.1294 - acc: 0.9800\n",
            "Epoch 137/150\n",
            "100/100 [==============================] - 0s 287us/step - loss: 0.1317 - acc: 0.9700\n",
            "Epoch 138/150\n",
            "100/100 [==============================] - 0s 269us/step - loss: 0.1400 - acc: 0.9700\n",
            "Epoch 139/150\n",
            "100/100 [==============================] - 0s 288us/step - loss: 0.1207 - acc: 0.9800\n",
            "Epoch 140/150\n",
            "100/100 [==============================] - 0s 297us/step - loss: 0.1257 - acc: 0.9400\n",
            "Epoch 141/150\n",
            "100/100 [==============================] - 0s 301us/step - loss: 0.1276 - acc: 0.9600\n",
            "Epoch 142/150\n",
            "100/100 [==============================] - 0s 287us/step - loss: 0.1349 - acc: 0.9500\n",
            "Epoch 143/150\n",
            "100/100 [==============================] - 0s 297us/step - loss: 0.1300 - acc: 0.9600\n",
            "Epoch 144/150\n",
            "100/100 [==============================] - 0s 279us/step - loss: 0.1226 - acc: 0.9700\n",
            "Epoch 145/150\n",
            "100/100 [==============================] - 0s 303us/step - loss: 0.1290 - acc: 0.9700\n",
            "Epoch 146/150\n",
            "100/100 [==============================] - 0s 412us/step - loss: 0.1177 - acc: 0.9800\n",
            "Epoch 147/150\n",
            "100/100 [==============================] - 0s 314us/step - loss: 0.1271 - acc: 0.9500\n",
            "Epoch 148/150\n",
            "100/100 [==============================] - 0s 301us/step - loss: 0.1245 - acc: 0.9700\n",
            "Epoch 149/150\n",
            "100/100 [==============================] - 0s 319us/step - loss: 0.1256 - acc: 0.9700\n",
            "Epoch 150/150\n",
            "100/100 [==============================] - 0s 280us/step - loss: 0.1262 - acc: 0.9600\n"
          ],
          "name": "stdout"
        },
        {
          "output_type": "execute_result",
          "data": {
            "text/plain": [
              "<keras.callbacks.History at 0x7f956581e358>"
            ]
          },
          "metadata": {
            "tags": []
          },
          "execution_count": 220
        }
      ]
    },
    {
      "cell_type": "markdown",
      "metadata": {
        "colab_type": "text",
        "id": "y-SgSSdRcih5"
      },
      "source": [
        "### Model Prediction"
      ]
    },
    {
      "cell_type": "code",
      "metadata": {
        "colab_type": "code",
        "id": "GBgKZkhkcih6",
        "colab": {
          "base_uri": "https://localhost:8080/",
          "height": 51
        },
        "outputId": "81489557-2ea6-4bcd-a965-fdbdd3c93429"
      },
      "source": [
        "scores = model.evaluate(X_test, Y_test)\n",
        "#print(\"model score: \" , scores*100)\n",
        "print(\"%s: %.2f%%\" % (model.metrics_names[1], scores[1]*100))\n",
        "\n",
        "#Y_predict=model.predict_classes(X_test)\n",
        "#metrics.accuracy_score(Y_test,Y_predict)"
      ],
      "execution_count": 222,
      "outputs": [
        {
          "output_type": "stream",
          "text": [
            "50/50 [==============================] - 0s 193us/step\n",
            "acc: 98.00%\n"
          ],
          "name": "stdout"
        }
      ]
    },
    {
      "cell_type": "markdown",
      "metadata": {
        "colab_type": "text",
        "id": "P32ASP1Vjt0a"
      },
      "source": [
        "### Save the Model"
      ]
    },
    {
      "cell_type": "code",
      "metadata": {
        "colab_type": "code",
        "id": "n8rd0jjAjyTR",
        "colab": {}
      },
      "source": [
        "import pickle\n",
        "pickle.dump(model, open(\"model.pkl\",\"wb\" , ))\n",
        "#loading a model from a file called model.pkl\n",
        "model = pickle.load(open(\"model.pkl\", \"rb\"))\n",
        "##\"rb\" : this means read mode"
      ],
      "execution_count": 0,
      "outputs": []
    },
    {
      "cell_type": "code",
      "metadata": {
        "id": "cx4q5c4FtOEb",
        "colab_type": "code",
        "colab": {}
      },
      "source": [
        ""
      ],
      "execution_count": 0,
      "outputs": []
    },
    {
      "cell_type": "markdown",
      "metadata": {
        "colab_type": "text",
        "id": "XiipRpe7rbVh"
      },
      "source": [
        "### Build and Train a Deep Neural network with 2 hidden layer  - Optional - For Practice\n",
        "\n",
        "Does it perform better than Linear Classifier? What could be the reason for difference in performance?"
      ]
    },
    {
      "cell_type": "code",
      "metadata": {
        "colab_type": "code",
        "id": "v5Du3lubr4sA",
        "colab": {}
      },
      "source": [
        ""
      ],
      "execution_count": 0,
      "outputs": []
    }
  ]
}