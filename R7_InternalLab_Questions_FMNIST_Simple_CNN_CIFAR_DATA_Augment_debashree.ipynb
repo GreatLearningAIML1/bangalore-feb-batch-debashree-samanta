{
  "nbformat": 4,
  "nbformat_minor": 0,
  "metadata": {
    "colab": {
      "name": "R7_InternalLab_Questions_FMNIST_Simple_CNN_CIFAR_DATA_Augment.ipynb",
      "version": "0.3.2",
      "provenance": [],
      "collapsed_sections": []
    },
    "kernelspec": {
      "name": "python3",
      "display_name": "Python 3"
    },
    "accelerator": "GPU"
  },
  "cells": [
    {
      "cell_type": "markdown",
      "metadata": {
        "id": "MyfMmMnPJjvn",
        "colab_type": "text"
      },
      "source": [
        "## Train a simple convnet on the Fashion MNIST dataset"
      ]
    },
    {
      "cell_type": "markdown",
      "metadata": {
        "id": "zjcGOJhcJjvp",
        "colab_type": "text"
      },
      "source": [
        "In this, we will see how to deal with image data and train a convnet for image classification task."
      ]
    },
    {
      "cell_type": "markdown",
      "metadata": {
        "id": "jR0Pl2XjJjvq",
        "colab_type": "text"
      },
      "source": [
        "### Load the  `fashion_mnist`  dataset\n",
        "\n",
        "** Use keras.datasets to load the dataset **"
      ]
    },
    {
      "cell_type": "code",
      "metadata": {
        "id": "Qr75v_UYJjvs",
        "colab_type": "code",
        "colab": {}
      },
      "source": [
        "import tensorflow as tf\n",
        "from keras.datasets import fashion_mnist\n",
        "(x_train, y_train), (x_test, y_test) = fashion_mnist.load_data()"
      ],
      "execution_count": 0,
      "outputs": []
    },
    {
      "cell_type": "markdown",
      "metadata": {
        "id": "hTI42-0qJjvw",
        "colab_type": "text"
      },
      "source": [
        "### Find no.of samples are there in training and test datasets"
      ]
    },
    {
      "cell_type": "code",
      "metadata": {
        "id": "g2sf67VoJjvx",
        "colab_type": "code",
        "colab": {
          "base_uri": "https://localhost:8080/",
          "height": 54
        },
        "outputId": "ba0cec49-9f81-4360-e750-20275ff3e4f6"
      },
      "source": [
        "print(\"x_train shape\", x_train.shape)\n",
        "print(\"y_train shape\", y_train.shape)"
      ],
      "execution_count": 10,
      "outputs": [
        {
          "output_type": "stream",
          "text": [
            "x_train shape (60000, 28, 28)\n",
            "y_train shape (60000,)\n"
          ],
          "name": "stdout"
        }
      ]
    },
    {
      "cell_type": "code",
      "metadata": {
        "id": "VKCHdBM37XiN",
        "colab_type": "code",
        "colab": {
          "base_uri": "https://localhost:8080/",
          "height": 54
        },
        "outputId": "c7d8ce2f-d68e-44fd-fb6d-af3286a34275"
      },
      "source": [
        "print(\"x_test shape\", x_test.shape)\n",
        "print(\"y_test shape\", y_test.shape)"
      ],
      "execution_count": 11,
      "outputs": [
        {
          "output_type": "stream",
          "text": [
            "x_test shape (10000, 28, 28)\n",
            "y_test shape (10000,)\n"
          ],
          "name": "stdout"
        }
      ]
    },
    {
      "cell_type": "code",
      "metadata": {
        "id": "zewyDcBlJjv1",
        "colab_type": "code",
        "colab": {}
      },
      "source": [
        "\"\""
      ],
      "execution_count": 0,
      "outputs": []
    },
    {
      "cell_type": "markdown",
      "metadata": {
        "id": "WytT2eRnJjv4",
        "colab_type": "text"
      },
      "source": [
        "### Find dimensions of an image in the dataset"
      ]
    },
    {
      "cell_type": "code",
      "metadata": {
        "id": "XycQGBSGJjv5",
        "colab_type": "code",
        "colab": {
          "base_uri": "https://localhost:8080/",
          "height": 35
        },
        "outputId": "e031e900-7e68-4d57-a714-ab267d8b850f"
      },
      "source": [
        "x_train[0].shape"
      ],
      "execution_count": 13,
      "outputs": [
        {
          "output_type": "execute_result",
          "data": {
            "text/plain": [
              "(28, 28)"
            ]
          },
          "metadata": {
            "tags": []
          },
          "execution_count": 13
        }
      ]
    },
    {
      "cell_type": "markdown",
      "metadata": {
        "id": "5jtdZ7RqJjv8",
        "colab_type": "text"
      },
      "source": [
        "### Convert train and test labels to one hot vectors\n",
        "\n",
        "** check `keras.utils.to_categorical()` **"
      ]
    },
    {
      "cell_type": "code",
      "metadata": {
        "id": "sAD3q5I6Jjv9",
        "colab_type": "code",
        "colab": {}
      },
      "source": [
        "Y_train=tf.keras.utils.to_categorical(y_train)\n",
        "Y_test=tf.keras.utils.to_categorical(y_test)"
      ],
      "execution_count": 0,
      "outputs": []
    },
    {
      "cell_type": "code",
      "metadata": {
        "id": "mgHSCXy3JjwA",
        "colab_type": "code",
        "colab": {}
      },
      "source": [
        ""
      ],
      "execution_count": 0,
      "outputs": []
    },
    {
      "cell_type": "markdown",
      "metadata": {
        "id": "xO5BRBzBJjwD",
        "colab_type": "text"
      },
      "source": [
        "### Normalize both the train and test image data from 0-255 to 0-1"
      ]
    },
    {
      "cell_type": "code",
      "metadata": {
        "id": "3fUQpMHxJjwE",
        "colab_type": "code",
        "colab": {
          "base_uri": "https://localhost:8080/",
          "height": 35
        },
        "outputId": "70b53439-3a88-4524-a1bb-d735c137bd27"
      },
      "source": [
        "X_train=x_train/255\n",
        "X_train.shape"
      ],
      "execution_count": 47,
      "outputs": [
        {
          "output_type": "execute_result",
          "data": {
            "text/plain": [
              "(60000, 28, 28)"
            ]
          },
          "metadata": {
            "tags": []
          },
          "execution_count": 47
        }
      ]
    },
    {
      "cell_type": "code",
      "metadata": {
        "id": "Okwo_SB5JjwI",
        "colab_type": "code",
        "colab": {}
      },
      "source": [
        "X_test=x_test/255"
      ],
      "execution_count": 0,
      "outputs": []
    },
    {
      "cell_type": "markdown",
      "metadata": {
        "id": "da5-DwgrJjwM",
        "colab_type": "text"
      },
      "source": [
        "### Reshape the data from 28x28 to 28x28x1 to match input dimensions in Conv2D layer in keras"
      ]
    },
    {
      "cell_type": "code",
      "metadata": {
        "id": "LPGVQ-JJJjwN",
        "colab_type": "code",
        "colab": {}
      },
      "source": [
        "X_train =X_train.reshape(X_train.shape[0], 28, 28, 1)\n",
        "X_test =X_test.reshape(X_test.shape[0], 28, 28, 1)"
      ],
      "execution_count": 0,
      "outputs": []
    },
    {
      "cell_type": "code",
      "metadata": {
        "id": "-EnAp6UsEtNz",
        "colab_type": "code",
        "colab": {
          "base_uri": "https://localhost:8080/",
          "height": 35
        },
        "outputId": "8364ee50-83ac-40e8-f902-afce94abac14"
      },
      "source": [
        "X_train[0].shape"
      ],
      "execution_count": 51,
      "outputs": [
        {
          "output_type": "execute_result",
          "data": {
            "text/plain": [
              "(28, 28, 1)"
            ]
          },
          "metadata": {
            "tags": []
          },
          "execution_count": 51
        }
      ]
    },
    {
      "cell_type": "code",
      "metadata": {
        "id": "fbHH0QzQFDtD",
        "colab_type": "code",
        "colab": {
          "base_uri": "https://localhost:8080/",
          "height": 35
        },
        "outputId": "1d320bc3-9ade-4bcb-9947-5ff8b7e2ba74"
      },
      "source": [
        "X_test[0].shape"
      ],
      "execution_count": 52,
      "outputs": [
        {
          "output_type": "execute_result",
          "data": {
            "text/plain": [
              "(28, 28, 1)"
            ]
          },
          "metadata": {
            "tags": []
          },
          "execution_count": 52
        }
      ]
    },
    {
      "cell_type": "markdown",
      "metadata": {
        "id": "OFRRTJq8JjwQ",
        "colab_type": "text"
      },
      "source": [
        "### Import the necessary layers from keras to build the model"
      ]
    },
    {
      "cell_type": "code",
      "metadata": {
        "id": "dWTZYnKSJjwR",
        "colab_type": "code",
        "colab": {}
      },
      "source": [
        "model = tf.keras.models.Sequential()\n",
        "#model.add(tf.keras.layers.BatchNormalization())\n",
        "model.add(tf.keras.layers.Conv2D(32, kernel_size=(3,3), activation='relu'))\n",
        "model.add(tf.keras.layers.Conv2D(32, kernel_size=(3,3), activation='relu'))\n",
        "model.add(tf.keras.layers.Flatten())\n",
        "model.add(tf.keras.layers.Dense(128, activation='relu'))\n",
        "model.add(tf.keras.layers.Dense(10, activation='softmax'))\n"
      ],
      "execution_count": 0,
      "outputs": []
    },
    {
      "cell_type": "markdown",
      "metadata": {
        "id": "C18AoS7eJjwU",
        "colab_type": "text"
      },
      "source": [
        "### Build a model \n",
        "\n",
        "** with 2 Conv layers having `32 3x3 filters` in both convolutions with `relu activations` and `flatten` before passing the feature map into 2 fully connected layers (or Dense Layers) having 128 and 10 neurons with `relu` and `softmax` activations respectively. Now, using `categorical_crossentropy` loss with `adam` optimizer train the model with early stopping `patience=5` and no.of `epochs=10`. **"
      ]
    },
    {
      "cell_type": "code",
      "metadata": {
        "id": "DORCLgSwJjwV",
        "colab_type": "code",
        "colab": {}
      },
      "source": [
        "model.compile(optimizer='adam', loss='categorical_crossentropy', metrics=['accuracy'])"
      ],
      "execution_count": 0,
      "outputs": []
    },
    {
      "cell_type": "code",
      "metadata": {
        "id": "9hYF8dfyKRuw",
        "colab_type": "code",
        "colab": {}
      },
      "source": [
        "\n",
        "es = tf.keras.callbacks.EarlyStopping(monitor='val_acc', mode='auto', patience=5)"
      ],
      "execution_count": 0,
      "outputs": []
    },
    {
      "cell_type": "code",
      "metadata": {
        "id": "bzLwNe0rKR89",
        "colab_type": "code",
        "colab": {
          "base_uri": "https://localhost:8080/",
          "height": 417
        },
        "outputId": "a9a730fa-7413-4903-95d7-8a16d094f3ea"
      },
      "source": [
        "model.fit(X_train,Y_train,validation_data=(X_test,Y_test),epochs=10,batch_size=32,callbacks=[es])"
      ],
      "execution_count": 63,
      "outputs": [
        {
          "output_type": "stream",
          "text": [
            "Train on 60000 samples, validate on 10000 samples\n",
            "Epoch 1/10\n",
            "60000/60000 [==============================] - 8s 137us/sample - loss: 0.2451 - acc: 0.9089 - val_loss: 0.2719 - val_acc: 0.9007\n",
            "Epoch 2/10\n",
            "60000/60000 [==============================] - 8s 134us/sample - loss: 0.1816 - acc: 0.9315 - val_loss: 0.2514 - val_acc: 0.9092\n",
            "Epoch 3/10\n",
            "60000/60000 [==============================] - 8s 134us/sample - loss: 0.1314 - acc: 0.9501 - val_loss: 0.2802 - val_acc: 0.9122\n",
            "Epoch 4/10\n",
            "60000/60000 [==============================] - 8s 140us/sample - loss: 0.0912 - acc: 0.9658 - val_loss: 0.3126 - val_acc: 0.9059\n",
            "Epoch 5/10\n",
            "60000/60000 [==============================] - 8s 134us/sample - loss: 0.0638 - acc: 0.9762 - val_loss: 0.3462 - val_acc: 0.9087\n",
            "Epoch 6/10\n",
            "60000/60000 [==============================] - 8s 133us/sample - loss: 0.0432 - acc: 0.9848 - val_loss: 0.4082 - val_acc: 0.9105\n",
            "Epoch 7/10\n",
            "60000/60000 [==============================] - 8s 134us/sample - loss: 0.0341 - acc: 0.9874 - val_loss: 0.4662 - val_acc: 0.9097\n",
            "Epoch 8/10\n",
            "60000/60000 [==============================] - 8s 134us/sample - loss: 0.0264 - acc: 0.9908 - val_loss: 0.4651 - val_acc: 0.9138\n",
            "Epoch 9/10\n",
            "60000/60000 [==============================] - 8s 134us/sample - loss: 0.0223 - acc: 0.9924 - val_loss: 0.5178 - val_acc: 0.9125\n",
            "Epoch 10/10\n",
            "60000/60000 [==============================] - 8s 136us/sample - loss: 0.0201 - acc: 0.9932 - val_loss: 0.6459 - val_acc: 0.9076\n"
          ],
          "name": "stdout"
        },
        {
          "output_type": "execute_result",
          "data": {
            "text/plain": [
              "<tensorflow.python.keras.callbacks.History at 0x7f6c00861ba8>"
            ]
          },
          "metadata": {
            "tags": []
          },
          "execution_count": 63
        }
      ]
    },
    {
      "cell_type": "markdown",
      "metadata": {
        "id": "ju69vKdIJjwX",
        "colab_type": "text"
      },
      "source": [
        "### Now, to the above model add `max` pooling layer of `filter size 2x2` and `dropout` layer with `p=0.25` after the 2 conv layers and run the model"
      ]
    },
    {
      "cell_type": "code",
      "metadata": {
        "id": "L2hAP94vJjwY",
        "colab_type": "code",
        "colab": {}
      },
      "source": [
        "model1 = tf.keras.models.Sequential()\n",
        "model1.add(tf.keras.layers.BatchNormalization())\n",
        "model1.add(tf.keras.layers.Conv2D(32, kernel_size=(3,3), activation='relu'))\n",
        "model1.add(tf.keras.layers.Conv2D(32, kernel_size=(3,3), activation='relu'))\n",
        "model1.add(tf.keras.layers.MaxPool2D(pool_size=(2,2)))\n",
        "model1.add(tf.keras.layers.Flatten())\n",
        "model1.add(tf.keras.layers.Dropout(0.25))\n",
        "model1.add(tf.keras.layers.Dense(128, activation='relu'))\n",
        "model1.add(tf.keras.layers.Dense(10, activation='softmax'))\n"
      ],
      "execution_count": 0,
      "outputs": []
    },
    {
      "cell_type": "code",
      "metadata": {
        "id": "vq6WyYj5Qxm5",
        "colab_type": "code",
        "colab": {}
      },
      "source": [
        "model1.compile(optimizer='adam', loss='categorical_crossentropy', metrics=['accuracy'])\n",
        "es = tf.keras.callbacks.EarlyStopping(monitor='val_acc', mode='auto', patience=5)"
      ],
      "execution_count": 0,
      "outputs": []
    },
    {
      "cell_type": "code",
      "metadata": {
        "id": "VuE9hbfCQx32",
        "colab_type": "code",
        "colab": {
          "base_uri": "https://localhost:8080/",
          "height": 417
        },
        "outputId": "952b9a7b-01bc-4b70-9751-1ba70d471f09"
      },
      "source": [
        "model1.fit(X_train,Y_train,validation_data=(X_test,Y_test),epochs=10,batch_size=32,callbacks=[es])"
      ],
      "execution_count": 73,
      "outputs": [
        {
          "output_type": "stream",
          "text": [
            "Train on 60000 samples, validate on 10000 samples\n",
            "Epoch 1/10\n",
            "60000/60000 [==============================] - 9s 146us/sample - loss: 0.3700 - acc: 0.8673 - val_loss: 0.2948 - val_acc: 0.8884\n",
            "Epoch 2/10\n",
            "60000/60000 [==============================] - 8s 139us/sample - loss: 0.2432 - acc: 0.9111 - val_loss: 0.2613 - val_acc: 0.9058\n",
            "Epoch 3/10\n",
            "60000/60000 [==============================] - 8s 139us/sample - loss: 0.1956 - acc: 0.9261 - val_loss: 0.2273 - val_acc: 0.9213\n",
            "Epoch 4/10\n",
            "60000/60000 [==============================] - 8s 134us/sample - loss: 0.1608 - acc: 0.9397 - val_loss: 0.2384 - val_acc: 0.9191\n",
            "Epoch 5/10\n",
            "60000/60000 [==============================] - 8s 136us/sample - loss: 0.1368 - acc: 0.9498 - val_loss: 0.2587 - val_acc: 0.9121\n",
            "Epoch 6/10\n",
            "60000/60000 [==============================] - 8s 137us/sample - loss: 0.1149 - acc: 0.9580 - val_loss: 0.2528 - val_acc: 0.9232\n",
            "Epoch 7/10\n",
            "60000/60000 [==============================] - 8s 137us/sample - loss: 0.0989 - acc: 0.9621 - val_loss: 0.2683 - val_acc: 0.9213\n",
            "Epoch 8/10\n",
            "60000/60000 [==============================] - 8s 138us/sample - loss: 0.0842 - acc: 0.9690 - val_loss: 0.2649 - val_acc: 0.9221\n",
            "Epoch 9/10\n",
            "60000/60000 [==============================] - 8s 138us/sample - loss: 0.0738 - acc: 0.9727 - val_loss: 0.3007 - val_acc: 0.9183\n",
            "Epoch 10/10\n",
            "60000/60000 [==============================] - 8s 137us/sample - loss: 0.0652 - acc: 0.9762 - val_loss: 0.3039 - val_acc: 0.9241\n"
          ],
          "name": "stdout"
        },
        {
          "output_type": "execute_result",
          "data": {
            "text/plain": [
              "<tensorflow.python.keras.callbacks.History at 0x7f6b8d8f76d8>"
            ]
          },
          "metadata": {
            "tags": []
          },
          "execution_count": 73
        }
      ]
    },
    {
      "cell_type": "markdown",
      "metadata": {
        "id": "lGTA3bfEJjwa",
        "colab_type": "text"
      },
      "source": [
        "### Now, to the above model, lets add Data Augmentation "
      ]
    },
    {
      "cell_type": "markdown",
      "metadata": {
        "id": "F6gX8n5SJjwb",
        "colab_type": "text"
      },
      "source": [
        "### Import the ImageDataGenrator from keras and fit the training images"
      ]
    },
    {
      "cell_type": "code",
      "metadata": {
        "id": "Cbz4uHBuJjwc",
        "colab_type": "code",
        "colab": {}
      },
      "source": [
        "img_gen = tf.keras.preprocessing.image.ImageDataGenerator(horizontal_flip=True,\n",
        "                                                               width_shift_range=0.2,\n",
        "                                                               height_shift_range=0.2,\n",
        "                                                               rotation_range=30,\n",
        "                                                               shear_range=0.2,\n",
        "                                                               zoom_range=0.3)\n",
        "\n",
        "img_gen.fit(X_train)\n",
        "\n",
        "img_gen.fit(X_test)"
      ],
      "execution_count": 0,
      "outputs": []
    },
    {
      "cell_type": "markdown",
      "metadata": {
        "id": "pl-8dOo7Jjwf",
        "colab_type": "text"
      },
      "source": [
        "#### Showing 5 versions of the first image in training dataset using image datagenerator.flow()"
      ]
    },
    {
      "cell_type": "code",
      "metadata": {
        "scrolled": true,
        "id": "DpI1_McYJjwg",
        "colab_type": "code",
        "outputId": "27e338e6-8eec-4d07-a78e-252944b3445e",
        "colab": {
          "base_uri": "https://localhost:8080/",
          "height": 109
        }
      },
      "source": [
        "from matplotlib import pyplot as plt\n",
        "gen = img_gen.flow(X_train[0:1], batch_size=1)\n",
        "for i in range(1, 6):\n",
        "    plt.subplot(1,5,i)\n",
        "    plt.axis(\"off\")\n",
        "    plt.imshow(gen.next().squeeze(), cmap='gray')\n",
        "    plt.plot()\n",
        "plt.show()"
      ],
      "execution_count": 81,
      "outputs": [
        {
          "output_type": "display_data",
          "data": {
            "image/png": "[encoded data removed]",
            "text/plain": [
              "<Figure size 432x288 with 5 Axes>"
            ]
          },
          "metadata": {
            "tags": []
          }
        }
      ]
    },
    {
      "cell_type": "markdown",
      "metadata": {
        "id": "dmPl5yE8Jjwm",
        "colab_type": "text"
      },
      "source": [
        "### Run the above model using fit_generator()"
      ]
    },
    {
      "cell_type": "code",
      "metadata": {
        "id": "44ZnDdJYJjwn",
        "colab_type": "code",
        "colab": {}
      },
      "source": [
        "model2 = tf.keras.models.Sequential()\n",
        "model2.add(tf.keras.layers.BatchNormalization())\n",
        "model2.add(tf.keras.layers.Conv2D(32, kernel_size=(3,3), activation='relu'))\n",
        "model2.add(tf.keras.layers.Conv2D(32, kernel_size=(3,3), activation='relu'))\n",
        "model2.add(tf.keras.layers.MaxPool2D(pool_size=(2,2)))\n",
        "model2.add(tf.keras.layers.Flatten())\n",
        "model2.add(tf.keras.layers.Dropout(0.25))\n",
        "model2.add(tf.keras.layers.Dense(128, activation='relu'))\n",
        "model2.add(tf.keras.layers.Dense(10, activation='softmax'))\n",
        "\n",
        "model2.compile(optimizer='adam', loss='categorical_crossentropy', metrics=['accuracy'])\n",
        "es = tf.keras.callbacks.EarlyStopping(monitor='val_acc', mode='auto', patience=5)\n",
        "\n",
        "BS = 50\n",
        "\n",
        "\n"
      ],
      "execution_count": 0,
      "outputs": []
    },
    {
      "cell_type": "code",
      "metadata": {
        "id": "tz-vUIksdjgx",
        "colab_type": "code",
        "colab": {
          "base_uri": "https://localhost:8080/",
          "height": 35
        },
        "outputId": "aa26ebdd-0acf-4739-9d5d-b472dc6eb483"
      },
      "source": [
        "Y_train.shape"
      ],
      "execution_count": 101,
      "outputs": [
        {
          "output_type": "execute_result",
          "data": {
            "text/plain": [
              "(60000, 10)"
            ]
          },
          "metadata": {
            "tags": []
          },
          "execution_count": 101
        }
      ]
    },
    {
      "cell_type": "code",
      "metadata": {
        "id": "UKalHLYOYGc3",
        "colab_type": "code",
        "colab": {
          "base_uri": "https://localhost:8080/",
          "height": 399
        },
        "outputId": "3c2d6a7b-4cba-48a5-93fb-f517ec2b82ea"
      },
      "source": [
        "model2.fit_generator(img_gen.flow(X_train, Y_train, batch_size=BS),\tvalidation_data=(X_test, Y_test), steps_per_epoch=len(X_train) // BS,\tepochs=10)"
      ],
      "execution_count": 92,
      "outputs": [
        {
          "output_type": "stream",
          "text": [
            "Epoch 1/10\n",
            "1200/1200 [==============================] - 19s 16ms/step - loss: 0.9943 - acc: 0.5532 - val_loss: 0.6399 - val_acc: 0.7556\n",
            "Epoch 2/10\n",
            "1200/1200 [==============================] - 18s 15ms/step - loss: 0.7585 - acc: 0.7104 - val_loss: 0.5656 - val_acc: 0.7852\n",
            "Epoch 3/10\n",
            "1200/1200 [==============================] - 18s 15ms/step - loss: 0.6910 - acc: 0.7358 - val_loss: 0.5841 - val_acc: 0.7761\n",
            "Epoch 4/10\n",
            "1200/1200 [==============================] - 18s 15ms/step - loss: 0.6520 - acc: 0.7518 - val_loss: 0.6875 - val_acc: 0.7503\n",
            "Epoch 5/10\n",
            "1200/1200 [==============================] - 18s 15ms/step - loss: 0.6171 - acc: 0.7659 - val_loss: 0.5282 - val_acc: 0.8077\n",
            "Epoch 6/10\n",
            "1200/1200 [==============================] - 18s 15ms/step - loss: 0.5976 - acc: 0.7756 - val_loss: 0.6225 - val_acc: 0.7739\n",
            "Epoch 7/10\n",
            "1200/1200 [==============================] - 18s 15ms/step - loss: 0.5738 - acc: 0.7849 - val_loss: 0.6194 - val_acc: 0.7756\n",
            "Epoch 8/10\n",
            "1200/1200 [==============================] - 18s 15ms/step - loss: 0.5700 - acc: 0.7880 - val_loss: 0.4992 - val_acc: 0.8121\n",
            "Epoch 9/10\n",
            "1200/1200 [==============================] - 18s 15ms/step - loss: 0.5566 - acc: 0.7914 - val_loss: 0.4958 - val_acc: 0.8112\n",
            "Epoch 10/10\n",
            "1200/1200 [==============================] - 18s 15ms/step - loss: 0.5372 - acc: 0.7986 - val_loss: 0.5531 - val_acc: 0.7913\n"
          ],
          "name": "stdout"
        },
        {
          "output_type": "execute_result",
          "data": {
            "text/plain": [
              "<tensorflow.python.keras.callbacks.History at 0x7f6b87d8f6a0>"
            ]
          },
          "metadata": {
            "tags": []
          },
          "execution_count": 92
        }
      ]
    },
    {
      "cell_type": "markdown",
      "metadata": {
        "id": "MwQQW5iOJjwq",
        "colab_type": "text"
      },
      "source": [
        "###  Report the final train and validation accuracy"
      ]
    },
    {
      "cell_type": "code",
      "metadata": {
        "id": "c1SrtBEPJjwq",
        "colab_type": "code",
        "colab": {
          "base_uri": "https://localhost:8080/",
          "height": 454
        },
        "outputId": "3d461841-f49b-4313-983d-7f1f88f02b37"
      },
      "source": [
        "model2.summary()"
      ],
      "execution_count": 94,
      "outputs": [
        {
          "output_type": "stream",
          "text": [
            "Model: \"sequential_12\"\n",
            "_________________________________________________________________\n",
            "Layer (type)                 Output Shape              Param #   \n",
            "=================================================================\n",
            "batch_normalization_11 (Batc multiple                  4         \n",
            "_________________________________________________________________\n",
            "conv2d_24 (Conv2D)           multiple                  320       \n",
            "_________________________________________________________________\n",
            "conv2d_25 (Conv2D)           multiple                  9248      \n",
            "_________________________________________________________________\n",
            "max_pooling2d_9 (MaxPooling2 multiple                  0         \n",
            "_________________________________________________________________\n",
            "flatten_12 (Flatten)         multiple                  0         \n",
            "_________________________________________________________________\n",
            "dropout_10 (Dropout)         multiple                  0         \n",
            "_________________________________________________________________\n",
            "dense_24 (Dense)             multiple                  589952    \n",
            "_________________________________________________________________\n",
            "dense_25 (Dense)             multiple                  1290      \n",
            "=================================================================\n",
            "Total params: 600,814\n",
            "Trainable params: 600,812\n",
            "Non-trainable params: 2\n",
            "_________________________________________________________________\n"
          ],
          "name": "stdout"
        }
      ]
    },
    {
      "cell_type": "code",
      "metadata": {
        "id": "ZBwVWNQC2qZD",
        "colab_type": "code",
        "colab": {
          "base_uri": "https://localhost:8080/",
          "height": 54
        },
        "outputId": "ce87d588-b5bb-4440-f320-d9b363b70fef"
      },
      "source": [
        "print(\"train score\", model2.evaluate(X_train,Y_train))"
      ],
      "execution_count": 99,
      "outputs": [
        {
          "output_type": "stream",
          "text": [
            "60000/60000 [==============================] - 5s 80us/sample - loss: 0.5338 - acc: 0.7979\n",
            "train score [0.5337540677150091, 0.79791665]\n"
          ],
          "name": "stdout"
        }
      ]
    },
    {
      "cell_type": "code",
      "metadata": {
        "id": "YnoWLSBdeD5P",
        "colab_type": "code",
        "colab": {
          "base_uri": "https://localhost:8080/",
          "height": 54
        },
        "outputId": "80d56320-538b-4045-fced-d5c74848b2db"
      },
      "source": [
        "print(\"test score\", model2.evaluate(X_test,Y_test))"
      ],
      "execution_count": 103,
      "outputs": [
        {
          "output_type": "stream",
          "text": [
            "10000/10000 [==============================] - 1s 79us/sample - loss: 0.5531 - acc: 0.7913\n",
            "test score [0.5530991406917573, 0.7913]\n"
          ],
          "name": "stdout"
        }
      ]
    },
    {
      "cell_type": "markdown",
      "metadata": {
        "id": "8KXqmUDW2rM1",
        "colab_type": "text"
      },
      "source": [
        "## **DATA AUGMENTATION ON CIFAR10 DATASET**"
      ]
    },
    {
      "cell_type": "markdown",
      "metadata": {
        "id": "8mja6OgQ3L18",
        "colab_type": "text"
      },
      "source": [
        "One of the best ways to improve the performance of a Deep Learning model is to add more data to the training set. Aside from gathering more instances from the wild that are representative of the distinction task, we want to develop a set of methods that enhance the data we already have. There are many ways to augment existing datasets and produce more robust models. In the image domain, these are done to utilize the full power of the convolutional neural network, which is able to capture translational invariance. This translational invariance is what makes image recognition such a difficult task in the first place. You want the dataset to be representative of the many different positions, angles, lightings, and miscellaneous distortions that are of interest to the vision task."
      ]
    },
    {
      "cell_type": "markdown",
      "metadata": {
        "id": "6HzVTPUM3WZJ",
        "colab_type": "text"
      },
      "source": [
        "### **Import neessary libraries for data augmentation**"
      ]
    },
    {
      "cell_type": "code",
      "metadata": {
        "id": "PPM558TX4KMb",
        "colab_type": "code",
        "colab": {}
      },
      "source": [
        "import tensorflow as tf\n",
        "from keras.datasets import cifar10\n",
        "import pandas as pd\n"
      ],
      "execution_count": 0,
      "outputs": []
    },
    {
      "cell_type": "markdown",
      "metadata": {
        "id": "W6hicLwP4SqY",
        "colab_type": "text"
      },
      "source": [
        "### **Load CIFAR10 dataset**"
      ]
    },
    {
      "cell_type": "code",
      "metadata": {
        "id": "NQ1WzrXd4WNk",
        "colab_type": "code",
        "colab": {}
      },
      "source": [
        "(x_train, y_train), (x_test, y_test) = cifar10.load_data()\n"
      ],
      "execution_count": 0,
      "outputs": []
    },
    {
      "cell_type": "code",
      "metadata": {
        "id": "Vq9_krh4g5dS",
        "colab_type": "code",
        "colab": {
          "base_uri": "https://localhost:8080/",
          "height": 35
        },
        "outputId": "71144303-6d89-4f2a-d0e2-9a147f306504"
      },
      "source": [
        "x_train.shape"
      ],
      "execution_count": 137,
      "outputs": [
        {
          "output_type": "execute_result",
          "data": {
            "text/plain": [
              "(50000, 32, 32, 3)"
            ]
          },
          "metadata": {
            "tags": []
          },
          "execution_count": 137
        }
      ]
    },
    {
      "cell_type": "code",
      "metadata": {
        "id": "R9Pht1ggHuiT",
        "colab_type": "code",
        "colab": {
          "base_uri": "https://localhost:8080/",
          "height": 35
        },
        "outputId": "c64f5f03-f9fd-409b-b695-efd5889a0a76"
      },
      "source": [
        "x_test.shape"
      ],
      "execution_count": 144,
      "outputs": [
        {
          "output_type": "execute_result",
          "data": {
            "text/plain": [
              "(10000, 32, 32, 3)"
            ]
          },
          "metadata": {
            "tags": []
          },
          "execution_count": 144
        }
      ]
    },
    {
      "cell_type": "code",
      "metadata": {
        "id": "3n28ccU6Hp6s",
        "colab_type": "code",
        "colab": {}
      },
      "source": [
        ""
      ],
      "execution_count": 0,
      "outputs": []
    },
    {
      "cell_type": "markdown",
      "metadata": {
        "id": "JN3vYYhK4W0u",
        "colab_type": "text"
      },
      "source": [
        "\n",
        "### **Create a data_gen funtion to genererator with image rotation,shifting image horizontally and vertically with random flip horizontally.**"
      ]
    },
    {
      "cell_type": "code",
      "metadata": {
        "id": "JJbekTKi4cmM",
        "colab_type": "code",
        "colab": {}
      },
      "source": [
        "   data_gen = tf.keras.preprocessing.image.ImageDataGenerator(horizontal_flip=True,\n",
        "                                                             width_shift_range=0.2,\n",
        "                                                             height_shift_range=0.2,\n",
        "                                                             rotation_range=30,\n",
        "                                                             shear_range=0.2,\n",
        "                                                             zoom_range=0.3)\n",
        "          "
      ],
      "execution_count": 0,
      "outputs": []
    },
    {
      "cell_type": "markdown",
      "metadata": {
        "id": "e-SLtUhC4dK2",
        "colab_type": "text"
      },
      "source": [
        "### **Prepare/fit the generator.**"
      ]
    },
    {
      "cell_type": "code",
      "metadata": {
        "id": "CSw8Bv2_4hb0",
        "colab_type": "code",
        "colab": {}
      },
      "source": [
        "data_gen.fit(x_train)\n",
        "data_gen.fit(x_test)"
      ],
      "execution_count": 0,
      "outputs": []
    },
    {
      "cell_type": "markdown",
      "metadata": {
        "id": "gYyF-P8O4jQ8",
        "colab_type": "text"
      },
      "source": [
        "### **Generate 5 images for 1 of the image of CIFAR10 train dataset.**"
      ]
    },
    {
      "cell_type": "code",
      "metadata": {
        "id": "mXug4z234mwQ",
        "colab_type": "code",
        "colab": {
          "base_uri": "https://localhost:8080/",
          "height": 109
        },
        "outputId": "6bf0b9f7-d1e4-489b-9022-0796e43a12d4"
      },
      "source": [
        "from matplotlib import pyplot as plt\n",
        "import numpy as np\n",
        "gen = data_gen.flow(x_train[0:1], batch_size=1)\n",
        "for i in range(1, 6):\n",
        "    plt.subplot(1,5,i)\n",
        "    plt.axis(\"off\")\n",
        "    plt.imshow(gen.next().astype(np.uint8).squeeze())\n",
        "    plt.plot()\n",
        "plt.show()"
      ],
      "execution_count": 148,
      "outputs": [
        {
          "output_type": "display_data",
          "data": {
            "image/png": "[encoded data removed]",
            "text/plain": [
              "<Figure size 432x288 with 5 Axes>"
            ]
          },
          "metadata": {
            "tags": []
          }
        }
      ]
    }
  ]
}