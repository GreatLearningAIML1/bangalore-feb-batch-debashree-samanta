{
 "cells": [
  {
   "cell_type": "code",
   "execution_count": null,
   "metadata": {},
   "outputs": [],
   "source": [
    "Dear Participant,\n",
    "\n",
    "Problem Statement -\n",
    "\n",
    "Build your own recommendation system for products on an e-commerce website like Amazon.com. \n",
    "\n",
    "Dataset columns - first three columns are userId, productId, and ratings and the fourth column is timestamp. You can discard the timestamp column as in this case you may not need to use it.\n",
    "\n",
    "Source - Amazon Reviews data (http://jmcauley.ucsd.edu/data/amazon/).\n",
    "\n",
    " \n",
    "\n",
    "Dataset Link - https://drive.google.com/file/d/1ClBptsK3V5KgKXtK2GSRzFNAW7GnTPDW/view?usp=sharing\n",
    "\n",
    " \n",
    "\n",
    "Please do the analysis based on steps( 1 to 8) as given below  using a NEW python notebook:\n",
    "\n",
    "Steps -\n",
    "\n",
    "Read and explore the given dataset.  ( Rename column/add headers, plot histograms, find data characteristics)\n",
    "Take a subset of the dataset to make it less sparse/ denser. ( For example, keep the users only who has given 50 or more number of ratings )\n",
    "Split the data randomly into train and test dataset. ( For example, split it in 70/30 ratio)\n",
    "Build Popularity Recommender model.\n",
    "Build Collaborative Filtering model.\n",
    "Evaluate both the models. ( Once the model is trained on the training data, it can be used to compute the error (like RMSE) on predictions made on the test data.) You can also use a different method to evaluate the models.\n",
    "Get top - K ( K = 5) recommendations. Since our goal is to recommend new products to each user based on his/her habits, we will recommend 5 new products.\n",
    "Summarise your insights.\n",
    " \n",
    "\n",
    "Please Note - \n",
    "\n",
    "If you are facing any memory issue while working on this project, create a small subset (Let’s say 10% of data) and work on it.\n",
    "If you are stuck at the model evaluation part of this project.\n",
    "Please refer to below links - \n",
    "\n",
    "https://surprise.readthedocs.io/en/stable/accuracy.html (Links to an external site.)Links to an external site.\n",
    "http://surpriselib.com/ (Links to an external site.)Links to an external site. - Getting started, example"
   ]
  },
  {
   "cell_type": "code",
   "execution_count": 56,
   "metadata": {},
   "outputs": [],
   "source": [
    "import numpy as np\n",
    "import pandas as pd\n",
    "import matplotlib.pyplot as plt\n",
    "%matplotlib inline\n",
    "#importing seaborn for statistical plots\n",
    "import seaborn as sns\n",
    "# Import Linear Regression machine learning library\n",
    "from sklearn.linear_model import LinearRegression\n",
    "from sklearn import metrics\n",
    "import statsmodels.formula.api as smf"
   ]
  },
  {
   "cell_type": "code",
   "execution_count": 57,
   "metadata": {},
   "outputs": [],
   "source": [
    "columns_names=[\"user_id\",\"product_id\",\"rating\",\"time_stamp\"]\n",
    "amazon_df=pd.read_csv(\"ratings_Electronics.csv\",names=columns_names)"
   ]
  },
  {
   "cell_type": "markdown",
   "metadata": {},
   "source": [
    "### Read and explore the dataset. ( Rename column, plot histograms, find data characteristics)"
   ]
  },
  {
   "cell_type": "code",
   "execution_count": 59,
   "metadata": {},
   "outputs": [
    {
     "data": {
      "text/html": [
       "<div>\n",
       "<style scoped>\n",
       "    .dataframe tbody tr th:only-of-type {\n",
       "        vertical-align: middle;\n",
       "    }\n",
       "\n",
       "    .dataframe tbody tr th {\n",
       "        vertical-align: top;\n",
       "    }\n",
       "\n",
       "    .dataframe thead th {\n",
       "        text-align: right;\n",
       "    }\n",
       "</style>\n",
       "<table border=\"1\" class=\"dataframe\">\n",
       "  <thead>\n",
       "    <tr style=\"text-align: right;\">\n",
       "      <th></th>\n",
       "      <th>user_id</th>\n",
       "      <th>product_id</th>\n",
       "      <th>rating</th>\n",
       "      <th>time_stamp</th>\n",
       "    </tr>\n",
       "  </thead>\n",
       "  <tbody>\n",
       "    <tr>\n",
       "      <th>0</th>\n",
       "      <td>AKM1MP6P0OYPR</td>\n",
       "      <td>0132793040</td>\n",
       "      <td>5.0</td>\n",
       "      <td>1365811200</td>\n",
       "    </tr>\n",
       "    <tr>\n",
       "      <th>1</th>\n",
       "      <td>A2CX7LUOHB2NDG</td>\n",
       "      <td>0321732944</td>\n",
       "      <td>5.0</td>\n",
       "      <td>1341100800</td>\n",
       "    </tr>\n",
       "    <tr>\n",
       "      <th>2</th>\n",
       "      <td>A2NWSAGRHCP8N5</td>\n",
       "      <td>0439886341</td>\n",
       "      <td>1.0</td>\n",
       "      <td>1367193600</td>\n",
       "    </tr>\n",
       "    <tr>\n",
       "      <th>3</th>\n",
       "      <td>A2WNBOD3WNDNKT</td>\n",
       "      <td>0439886341</td>\n",
       "      <td>3.0</td>\n",
       "      <td>1374451200</td>\n",
       "    </tr>\n",
       "    <tr>\n",
       "      <th>4</th>\n",
       "      <td>A1GI0U4ZRJA8WN</td>\n",
       "      <td>0439886341</td>\n",
       "      <td>1.0</td>\n",
       "      <td>1334707200</td>\n",
       "    </tr>\n",
       "    <tr>\n",
       "      <th>5</th>\n",
       "      <td>A1QGNMC6O1VW39</td>\n",
       "      <td>0511189877</td>\n",
       "      <td>5.0</td>\n",
       "      <td>1397433600</td>\n",
       "    </tr>\n",
       "    <tr>\n",
       "      <th>6</th>\n",
       "      <td>A3J3BRHTDRFJ2G</td>\n",
       "      <td>0511189877</td>\n",
       "      <td>2.0</td>\n",
       "      <td>1397433600</td>\n",
       "    </tr>\n",
       "    <tr>\n",
       "      <th>7</th>\n",
       "      <td>A2TY0BTJOTENPG</td>\n",
       "      <td>0511189877</td>\n",
       "      <td>5.0</td>\n",
       "      <td>1395878400</td>\n",
       "    </tr>\n",
       "    <tr>\n",
       "      <th>8</th>\n",
       "      <td>A34ATBPOK6HCHY</td>\n",
       "      <td>0511189877</td>\n",
       "      <td>5.0</td>\n",
       "      <td>1395532800</td>\n",
       "    </tr>\n",
       "    <tr>\n",
       "      <th>9</th>\n",
       "      <td>A89DO69P0XZ27</td>\n",
       "      <td>0511189877</td>\n",
       "      <td>5.0</td>\n",
       "      <td>1395446400</td>\n",
       "    </tr>\n",
       "  </tbody>\n",
       "</table>\n",
       "</div>"
      ],
      "text/plain": [
       "          user_id  product_id  rating  time_stamp\n",
       "0   AKM1MP6P0OYPR  0132793040     5.0  1365811200\n",
       "1  A2CX7LUOHB2NDG  0321732944     5.0  1341100800\n",
       "2  A2NWSAGRHCP8N5  0439886341     1.0  1367193600\n",
       "3  A2WNBOD3WNDNKT  0439886341     3.0  1374451200\n",
       "4  A1GI0U4ZRJA8WN  0439886341     1.0  1334707200\n",
       "5  A1QGNMC6O1VW39  0511189877     5.0  1397433600\n",
       "6  A3J3BRHTDRFJ2G  0511189877     2.0  1397433600\n",
       "7  A2TY0BTJOTENPG  0511189877     5.0  1395878400\n",
       "8  A34ATBPOK6HCHY  0511189877     5.0  1395532800\n",
       "9   A89DO69P0XZ27  0511189877     5.0  1395446400"
      ]
     },
     "execution_count": 59,
     "metadata": {},
     "output_type": "execute_result"
    }
   ],
   "source": [
    "amazon_df.head(10)"
   ]
  },
  {
   "cell_type": "code",
   "execution_count": 60,
   "metadata": {},
   "outputs": [
    {
     "data": {
      "text/plain": [
       "(7824482, 4)"
      ]
     },
     "execution_count": 60,
     "metadata": {},
     "output_type": "execute_result"
    }
   ],
   "source": [
    "amazon_df.shape"
   ]
  },
  {
   "cell_type": "code",
   "execution_count": 133,
   "metadata": {},
   "outputs": [
    {
     "name": "stdout",
     "output_type": "stream",
     "text": [
      "No of rows:  7824482\n",
      "No of columns:  4\n"
     ]
    }
   ],
   "source": [
    "# Check the number of rows and columns\n",
    "rows, columns = amazon_df.shape\n",
    "print(\"No of rows: \", rows)\n",
    "print(\"No of columns: \", columns)"
   ]
  },
  {
   "cell_type": "code",
   "execution_count": 134,
   "metadata": {},
   "outputs": [
    {
     "name": "stdout",
     "output_type": "stream",
     "text": [
      "Number of missing values across columns-\n",
      " user_id       0\n",
      "product_id    0\n",
      "rating        0\n",
      "time_stamp    0\n",
      "dtype: int64\n"
     ]
    }
   ],
   "source": [
    "# Check for missing values present\n",
    "print('Number of missing values across columns-\\n', amazon_df.isnull().sum())"
   ]
  },
  {
   "cell_type": "code",
   "execution_count": 135,
   "metadata": {},
   "outputs": [
    {
     "name": "stderr",
     "output_type": "stream",
     "text": [
      "F:\\anaconda3\\lib\\site-packages\\seaborn\\categorical.py:3666: UserWarning: The `factorplot` function has been renamed to `catplot`. The original name will be removed in a future release. Please update your code. Note that the default `kind` in `factorplot` (`'point'`) has changed `'strip'` in `catplot`.\n",
      "  warnings.warn(msg)\n"
     ]
    },
    {
     "data": {
      "text/plain": [
       "<seaborn.axisgrid.FacetGrid at 0x39de1d30>"
      ]
     },
     "execution_count": 135,
     "metadata": {},
     "output_type": "execute_result"
    },
    {
     "data": {
      "image/png": "[encoded data removed]",
      "text/plain": [
       "<Figure size 360x360 with 1 Axes>"
      ]
     },
     "metadata": {
      "needs_background": "light"
     },
     "output_type": "display_data"
    }
   ],
   "source": [
    "# Check the distribution of ratings \n",
    "g = sns.factorplot(\"rating\", data=amazon_df, kind='count')\n",
    "g.set_ylabels(\"Total number of ratings\") "
   ]
  },
  {
   "cell_type": "code",
   "execution_count": 137,
   "metadata": {},
   "outputs": [
    {
     "name": "stdout",
     "output_type": "stream",
     "text": [
      "Number of unique USERS in Raw data =  4201696\n",
      "Number of unique ITEMS in Raw data =  476002\n"
     ]
    }
   ],
   "source": [
    "# Number of unique user id and product id in the data\n",
    "print('Number of unique USERS in Raw data = ', amazon_df['user_id'].nunique())\n",
    "print('Number of unique ITEMS in Raw data = ', amazon_df['product_id'].nunique())"
   ]
  },
  {
   "cell_type": "markdown",
   "metadata": {},
   "source": [
    "### Take subset of dataset to make it less sparse/more dense. ( For example, keep the users only who has given 50 or more number of ratings )"
   ]
  },
  {
   "cell_type": "code",
   "execution_count": 61,
   "metadata": {},
   "outputs": [],
   "source": [
    "user_counts=amazon_df[\"user_id\"].value_counts()"
   ]
  },
  {
   "cell_type": "code",
   "execution_count": 62,
   "metadata": {},
   "outputs": [],
   "source": [
    "df_user_counts = pd.DataFrame(user_counts)\n",
    "df_user_counts = df_user_counts.reset_index()\n",
    "df_user_counts.columns = ['user_id', 'counts']"
   ]
  },
  {
   "cell_type": "code",
   "execution_count": 63,
   "metadata": {},
   "outputs": [],
   "source": [
    "user_counts_50=df_user_counts[df_user_counts[\"counts\"]>50]"
   ]
  },
  {
   "cell_type": "code",
   "execution_count": 64,
   "metadata": {},
   "outputs": [],
   "source": [
    "amazon_new_df=amazon_df[amazon_df[\"user_id\"].isin(user_counts_50[\"user_id\"])]"
   ]
  },
  {
   "cell_type": "code",
   "execution_count": 65,
   "metadata": {},
   "outputs": [],
   "source": [
    "amazon_new_df=amazon_new_df.drop(\"time_stamp\",axis=1)"
   ]
  },
  {
   "cell_type": "code",
   "execution_count": 66,
   "metadata": {},
   "outputs": [
    {
     "data": {
      "text/plain": [
       "(122171, 3)"
      ]
     },
     "execution_count": 66,
     "metadata": {},
     "output_type": "execute_result"
    }
   ],
   "source": [
    "# amazon_new_df has users  who have rated 50 or more items"
   ]
  },
  {
   "cell_type": "code",
   "execution_count": 16,
   "metadata": {},
   "outputs": [],
   "source": [
    "amazon_new_df.reset_index(inplace=True)"
   ]
  },
  {
   "cell_type": "code",
   "execution_count": 17,
   "metadata": {},
   "outputs": [
    {
     "name": "stdout",
     "output_type": "stream",
     "text": [
      "<class 'pandas.core.frame.DataFrame'>\n",
      "RangeIndex: 122171 entries, 0 to 122170\n",
      "Data columns (total 4 columns):\n",
      "index         122171 non-null int64\n",
      "user_id       122171 non-null object\n",
      "product_id    122171 non-null object\n",
      "rating        122171 non-null float64\n",
      "dtypes: float64(1), int64(1), object(2)\n",
      "memory usage: 3.7+ MB\n"
     ]
    }
   ],
   "source": [
    "amazon_new_df.info()"
   ]
  },
  {
   "cell_type": "code",
   "execution_count": null,
   "metadata": {},
   "outputs": [],
   "source": [
    "# Q3. Split the data randomly into train and test dataset. ( For example split it in 70/30 ratio)\n",
    "#splitted the data indivisually for each model"
   ]
  },
  {
   "cell_type": "markdown",
   "metadata": {},
   "source": [
    "### item popularity recommender model"
   ]
  },
  {
   "cell_type": "code",
   "execution_count": 111,
   "metadata": {},
   "outputs": [],
   "source": [
    "import time\n",
    "from sklearn.externals import joblib\n",
    "import Recommenders as Recommenders\n",
    "import Evaluation as Evaluation\n",
    "from sklearn.model_selection import train_test_split"
   ]
  },
  {
   "cell_type": "code",
   "execution_count": 113,
   "metadata": {},
   "outputs": [],
   "source": [
    "pop_df=amazon_new_df.copy()\n",
    "pop_df = pop_df.drop_duplicates()"
   ]
  },
  {
   "cell_type": "code",
   "execution_count": 114,
   "metadata": {},
   "outputs": [
    {
     "data": {
      "text/plain": [
       "47155"
      ]
     },
     "execution_count": 114,
     "metadata": {},
     "output_type": "execute_result"
    }
   ],
   "source": [
    "items = pop_df['product_id'].unique()\n",
    "len(items)"
   ]
  },
  {
   "cell_type": "code",
   "execution_count": 115,
   "metadata": {},
   "outputs": [
    {
     "data": {
      "text/plain": [
       "1466"
      ]
     },
     "execution_count": 115,
     "metadata": {},
     "output_type": "execute_result"
    }
   ],
   "source": [
    "users = pop_df['user_id'].unique()\n",
    "len(users)"
   ]
  },
  {
   "cell_type": "code",
   "execution_count": 117,
   "metadata": {},
   "outputs": [],
   "source": [
    "train_data, test_data = train_test_split(pop_df, test_size = 0.30, random_state=0)"
   ]
  },
  {
   "cell_type": "code",
   "execution_count": 118,
   "metadata": {},
   "outputs": [],
   "source": [
    "pop_model =  Recommenders.popularity_recommender_py()\n",
    "pop_model.create(train_data, 'user_id', 'product_id')"
   ]
  },
  {
   "cell_type": "code",
   "execution_count": 119,
   "metadata": {},
   "outputs": [
    {
     "data": {
      "text/html": [
       "<div>\n",
       "<style scoped>\n",
       "    .dataframe tbody tr th:only-of-type {\n",
       "        vertical-align: middle;\n",
       "    }\n",
       "\n",
       "    .dataframe tbody tr th {\n",
       "        vertical-align: top;\n",
       "    }\n",
       "\n",
       "    .dataframe thead th {\n",
       "        text-align: right;\n",
       "    }\n",
       "</style>\n",
       "<table border=\"1\" class=\"dataframe\">\n",
       "  <thead>\n",
       "    <tr style=\"text-align: right;\">\n",
       "      <th></th>\n",
       "      <th>user_id</th>\n",
       "      <th>product_id</th>\n",
       "      <th>score</th>\n",
       "      <th>Rank</th>\n",
       "    </tr>\n",
       "  </thead>\n",
       "  <tbody>\n",
       "    <tr>\n",
       "      <th>30197</th>\n",
       "      <td>A2HXEJXEQQTM1D</td>\n",
       "      <td>B0088CJT4U</td>\n",
       "      <td>150</td>\n",
       "      <td>1.0</td>\n",
       "    </tr>\n",
       "    <tr>\n",
       "      <th>19162</th>\n",
       "      <td>A2HXEJXEQQTM1D</td>\n",
       "      <td>B003ES5ZUU</td>\n",
       "      <td>130</td>\n",
       "      <td>2.0</td>\n",
       "    </tr>\n",
       "    <tr>\n",
       "      <th>8448</th>\n",
       "      <td>A2HXEJXEQQTM1D</td>\n",
       "      <td>B000N99BBC</td>\n",
       "      <td>112</td>\n",
       "      <td>3.0</td>\n",
       "    </tr>\n",
       "    <tr>\n",
       "      <th>29619</th>\n",
       "      <td>A2HXEJXEQQTM1D</td>\n",
       "      <td>B007WTAJTO</td>\n",
       "      <td>104</td>\n",
       "      <td>4.0</td>\n",
       "    </tr>\n",
       "    <tr>\n",
       "      <th>29901</th>\n",
       "      <td>A2HXEJXEQQTM1D</td>\n",
       "      <td>B00829TIEK</td>\n",
       "      <td>104</td>\n",
       "      <td>5.0</td>\n",
       "    </tr>\n",
       "    <tr>\n",
       "      <th>29897</th>\n",
       "      <td>A2HXEJXEQQTM1D</td>\n",
       "      <td>B00829THK0</td>\n",
       "      <td>94</td>\n",
       "      <td>6.0</td>\n",
       "    </tr>\n",
       "    <tr>\n",
       "      <th>16945</th>\n",
       "      <td>A2HXEJXEQQTM1D</td>\n",
       "      <td>B002R5AM7C</td>\n",
       "      <td>85</td>\n",
       "      <td>7.0</td>\n",
       "    </tr>\n",
       "    <tr>\n",
       "      <th>22207</th>\n",
       "      <td>A2HXEJXEQQTM1D</td>\n",
       "      <td>B004CLYEDC</td>\n",
       "      <td>83</td>\n",
       "      <td>8.0</td>\n",
       "    </tr>\n",
       "    <tr>\n",
       "      <th>30455</th>\n",
       "      <td>A2HXEJXEQQTM1D</td>\n",
       "      <td>B008DWCRQW</td>\n",
       "      <td>82</td>\n",
       "      <td>9.0</td>\n",
       "    </tr>\n",
       "    <tr>\n",
       "      <th>17122</th>\n",
       "      <td>A2HXEJXEQQTM1D</td>\n",
       "      <td>B002SZEOLG</td>\n",
       "      <td>79</td>\n",
       "      <td>10.0</td>\n",
       "    </tr>\n",
       "  </tbody>\n",
       "</table>\n",
       "</div>"
      ],
      "text/plain": [
       "              user_id  product_id  score  Rank\n",
       "30197  A2HXEJXEQQTM1D  B0088CJT4U    150   1.0\n",
       "19162  A2HXEJXEQQTM1D  B003ES5ZUU    130   2.0\n",
       "8448   A2HXEJXEQQTM1D  B000N99BBC    112   3.0\n",
       "29619  A2HXEJXEQQTM1D  B007WTAJTO    104   4.0\n",
       "29901  A2HXEJXEQQTM1D  B00829TIEK    104   5.0\n",
       "29897  A2HXEJXEQQTM1D  B00829THK0     94   6.0\n",
       "16945  A2HXEJXEQQTM1D  B002R5AM7C     85   7.0\n",
       "22207  A2HXEJXEQQTM1D  B004CLYEDC     83   8.0\n",
       "30455  A2HXEJXEQQTM1D  B008DWCRQW     82   9.0\n",
       "17122  A2HXEJXEQQTM1D  B002SZEOLG     79  10.0"
      ]
     },
     "execution_count": 119,
     "metadata": {},
     "output_type": "execute_result"
    }
   ],
   "source": [
    "user_id = users[97]\n",
    "pop_model.recommend(user_id)"
   ]
  },
  {
   "cell_type": "code",
   "execution_count": 120,
   "metadata": {},
   "outputs": [
    {
     "data": {
      "text/html": [
       "<div>\n",
       "<style scoped>\n",
       "    .dataframe tbody tr th:only-of-type {\n",
       "        vertical-align: middle;\n",
       "    }\n",
       "\n",
       "    .dataframe tbody tr th {\n",
       "        vertical-align: top;\n",
       "    }\n",
       "\n",
       "    .dataframe thead th {\n",
       "        text-align: right;\n",
       "    }\n",
       "</style>\n",
       "<table border=\"1\" class=\"dataframe\">\n",
       "  <thead>\n",
       "    <tr style=\"text-align: right;\">\n",
       "      <th></th>\n",
       "      <th>user_id</th>\n",
       "      <th>product_id</th>\n",
       "      <th>score</th>\n",
       "      <th>Rank</th>\n",
       "    </tr>\n",
       "  </thead>\n",
       "  <tbody>\n",
       "    <tr>\n",
       "      <th>30197</th>\n",
       "      <td>AAW7X3GRD8GY9</td>\n",
       "      <td>B0088CJT4U</td>\n",
       "      <td>150</td>\n",
       "      <td>1.0</td>\n",
       "    </tr>\n",
       "    <tr>\n",
       "      <th>19162</th>\n",
       "      <td>AAW7X3GRD8GY9</td>\n",
       "      <td>B003ES5ZUU</td>\n",
       "      <td>130</td>\n",
       "      <td>2.0</td>\n",
       "    </tr>\n",
       "    <tr>\n",
       "      <th>8448</th>\n",
       "      <td>AAW7X3GRD8GY9</td>\n",
       "      <td>B000N99BBC</td>\n",
       "      <td>112</td>\n",
       "      <td>3.0</td>\n",
       "    </tr>\n",
       "    <tr>\n",
       "      <th>29619</th>\n",
       "      <td>AAW7X3GRD8GY9</td>\n",
       "      <td>B007WTAJTO</td>\n",
       "      <td>104</td>\n",
       "      <td>4.0</td>\n",
       "    </tr>\n",
       "    <tr>\n",
       "      <th>29901</th>\n",
       "      <td>AAW7X3GRD8GY9</td>\n",
       "      <td>B00829TIEK</td>\n",
       "      <td>104</td>\n",
       "      <td>5.0</td>\n",
       "    </tr>\n",
       "    <tr>\n",
       "      <th>29897</th>\n",
       "      <td>AAW7X3GRD8GY9</td>\n",
       "      <td>B00829THK0</td>\n",
       "      <td>94</td>\n",
       "      <td>6.0</td>\n",
       "    </tr>\n",
       "    <tr>\n",
       "      <th>16945</th>\n",
       "      <td>AAW7X3GRD8GY9</td>\n",
       "      <td>B002R5AM7C</td>\n",
       "      <td>85</td>\n",
       "      <td>7.0</td>\n",
       "    </tr>\n",
       "    <tr>\n",
       "      <th>22207</th>\n",
       "      <td>AAW7X3GRD8GY9</td>\n",
       "      <td>B004CLYEDC</td>\n",
       "      <td>83</td>\n",
       "      <td>8.0</td>\n",
       "    </tr>\n",
       "    <tr>\n",
       "      <th>30455</th>\n",
       "      <td>AAW7X3GRD8GY9</td>\n",
       "      <td>B008DWCRQW</td>\n",
       "      <td>82</td>\n",
       "      <td>9.0</td>\n",
       "    </tr>\n",
       "    <tr>\n",
       "      <th>17122</th>\n",
       "      <td>AAW7X3GRD8GY9</td>\n",
       "      <td>B002SZEOLG</td>\n",
       "      <td>79</td>\n",
       "      <td>10.0</td>\n",
       "    </tr>\n",
       "  </tbody>\n",
       "</table>\n",
       "</div>"
      ],
      "text/plain": [
       "             user_id  product_id  score  Rank\n",
       "30197  AAW7X3GRD8GY9  B0088CJT4U    150   1.0\n",
       "19162  AAW7X3GRD8GY9  B003ES5ZUU    130   2.0\n",
       "8448   AAW7X3GRD8GY9  B000N99BBC    112   3.0\n",
       "29619  AAW7X3GRD8GY9  B007WTAJTO    104   4.0\n",
       "29901  AAW7X3GRD8GY9  B00829TIEK    104   5.0\n",
       "29897  AAW7X3GRD8GY9  B00829THK0     94   6.0\n",
       "16945  AAW7X3GRD8GY9  B002R5AM7C     85   7.0\n",
       "22207  AAW7X3GRD8GY9  B004CLYEDC     83   8.0\n",
       "30455  AAW7X3GRD8GY9  B008DWCRQW     82   9.0\n",
       "17122  AAW7X3GRD8GY9  B002SZEOLG     79  10.0"
      ]
     },
     "execution_count": 120,
     "metadata": {},
     "output_type": "execute_result"
    }
   ],
   "source": [
    "user_id = users[150]\n",
    "pop_model.recommend(user_id)"
   ]
  },
  {
   "cell_type": "code",
   "execution_count": null,
   "metadata": {},
   "outputs": [],
   "source": [
    "## Observations \n",
    "# Since this is a popularity-based recommender model, recommendations remain the same for all users\n",
    "# We predict the products based on the popularity. It is not personalized to particular user"
   ]
  },
  {
   "cell_type": "markdown",
   "metadata": {},
   "source": [
    "### item similarity recommender model"
   ]
  },
  {
   "cell_type": "code",
   "execution_count": 121,
   "metadata": {},
   "outputs": [],
   "source": [
    "simi_df=amazon_new_df.copy()\n",
    "simi_df = simi_df.drop_duplicates()"
   ]
  },
  {
   "cell_type": "code",
   "execution_count": 122,
   "metadata": {},
   "outputs": [],
   "source": [
    "train_data, test_data = train_test_split(simi_df, test_size = 0.30, random_state=0)"
   ]
  },
  {
   "cell_type": "code",
   "execution_count": 123,
   "metadata": {},
   "outputs": [],
   "source": [
    "sim_model = Recommenders.item_similarity_recommender_py()\n",
    "sim_model.create(train_data, 'user_id', 'product_id')"
   ]
  },
  {
   "cell_type": "code",
   "execution_count": 47,
   "metadata": {},
   "outputs": [
    {
     "name": "stdout",
     "output_type": "stream",
     "text": [
      "------------------------------------------------------------------------------------\n",
      "Training data products for the user userid: A2HXEJXEQQTM1D:\n",
      "------------------------------------------------------------------------------------\n",
      "B001I4HF8W\n",
      "B004F3CWK4\n",
      "B0023Y9EQC\n",
      "B003A9LH28\n",
      "B00005RZOZ\n",
      "B005GSNLBQ\n",
      "B006JWMOOI\n",
      "B0067G0YR0\n",
      "B001TUYTZM\n",
      "B00870KNNE\n",
      "B001RIYOBK\n",
      "B004AGX4YO\n",
      "B00007FGUF\n",
      "B002FFG6JC\n",
      "B000NUBY0C\n",
      "B000BTL0OA\n",
      "B007X4PUGU\n",
      "B005UE894U\n",
      "B00CPGYNV4\n",
      "B004PGMFG2\n",
      "B004PXYENW\n",
      "B0040IG1A6\n",
      "B00744R7YW\n",
      "B006EDQVQ4\n",
      "B00000J1U8\n",
      "B003LHSY6G\n",
      "B002ALQ60U\n",
      "B000TFQ5HI\n",
      "B00CBE17JG\n",
      "B000FQ2JLW\n",
      "B005FOVA3M\n",
      "B0036VO2BI\n",
      "B000F7857S\n",
      "B001CIREXA\n",
      "B000YK1JAG\n",
      "B004NT8Z2E\n",
      "B00C537BQ6\n",
      "B000I21YDM\n",
      "B00DSVS4QU\n",
      "B007P4VOWC\n",
      "B004W81AI2\n",
      "B0086D1ER6\n",
      "B004DXZ1MC\n",
      "B000V7AF8E\n",
      "B00182CIB8\n",
      "B001U3Y6AQ\n",
      "B000ADKTRG\n",
      "B003V70LYE\n",
      "----------------------------------------------------------------------\n",
      "Recommendation process going on:\n",
      "----------------------------------------------------------------------\n",
      "No. of unique products for the user: 48\n",
      "no. of unique products in the training set: 37385\n",
      "Non zero values in cooccurence_matrix :11700\n"
     ]
    },
    {
     "data": {
      "text/html": [
       "<div>\n",
       "<style scoped>\n",
       "    .dataframe tbody tr th:only-of-type {\n",
       "        vertical-align: middle;\n",
       "    }\n",
       "\n",
       "    .dataframe tbody tr th {\n",
       "        vertical-align: top;\n",
       "    }\n",
       "\n",
       "    .dataframe thead th {\n",
       "        text-align: right;\n",
       "    }\n",
       "</style>\n",
       "<table border=\"1\" class=\"dataframe\">\n",
       "  <thead>\n",
       "    <tr style=\"text-align: right;\">\n",
       "      <th></th>\n",
       "      <th>user_id</th>\n",
       "      <th>product_id</th>\n",
       "      <th>score</th>\n",
       "      <th>rank</th>\n",
       "    </tr>\n",
       "  </thead>\n",
       "  <tbody>\n",
       "    <tr>\n",
       "      <th>0</th>\n",
       "      <td>A2HXEJXEQQTM1D</td>\n",
       "      <td>B000ELSXFY</td>\n",
       "      <td>0.012153</td>\n",
       "      <td>1</td>\n",
       "    </tr>\n",
       "    <tr>\n",
       "      <th>1</th>\n",
       "      <td>A2HXEJXEQQTM1D</td>\n",
       "      <td>B003CGOTJW</td>\n",
       "      <td>0.012153</td>\n",
       "      <td>2</td>\n",
       "    </tr>\n",
       "    <tr>\n",
       "      <th>2</th>\n",
       "      <td>A2HXEJXEQQTM1D</td>\n",
       "      <td>B0026IBJNQ</td>\n",
       "      <td>0.012153</td>\n",
       "      <td>3</td>\n",
       "    </tr>\n",
       "    <tr>\n",
       "      <th>3</th>\n",
       "      <td>A2HXEJXEQQTM1D</td>\n",
       "      <td>B0015IQPUU</td>\n",
       "      <td>0.010417</td>\n",
       "      <td>4</td>\n",
       "    </tr>\n",
       "    <tr>\n",
       "      <th>4</th>\n",
       "      <td>A2HXEJXEQQTM1D</td>\n",
       "      <td>B004GTN0T4</td>\n",
       "      <td>0.010417</td>\n",
       "      <td>5</td>\n",
       "    </tr>\n",
       "    <tr>\n",
       "      <th>5</th>\n",
       "      <td>A2HXEJXEQQTM1D</td>\n",
       "      <td>B004I4MZSO</td>\n",
       "      <td>0.010417</td>\n",
       "      <td>6</td>\n",
       "    </tr>\n",
       "    <tr>\n",
       "      <th>6</th>\n",
       "      <td>A2HXEJXEQQTM1D</td>\n",
       "      <td>B003ZWPRUI</td>\n",
       "      <td>0.010417</td>\n",
       "      <td>7</td>\n",
       "    </tr>\n",
       "    <tr>\n",
       "      <th>7</th>\n",
       "      <td>A2HXEJXEQQTM1D</td>\n",
       "      <td>B009F1J4R0</td>\n",
       "      <td>0.010417</td>\n",
       "      <td>8</td>\n",
       "    </tr>\n",
       "    <tr>\n",
       "      <th>8</th>\n",
       "      <td>A2HXEJXEQQTM1D</td>\n",
       "      <td>B000N5220I</td>\n",
       "      <td>0.010417</td>\n",
       "      <td>9</td>\n",
       "    </tr>\n",
       "    <tr>\n",
       "      <th>9</th>\n",
       "      <td>A2HXEJXEQQTM1D</td>\n",
       "      <td>B001EVY5Y6</td>\n",
       "      <td>0.010417</td>\n",
       "      <td>10</td>\n",
       "    </tr>\n",
       "  </tbody>\n",
       "</table>\n",
       "</div>"
      ],
      "text/plain": [
       "          user_id  product_id     score rank\n",
       "0  A2HXEJXEQQTM1D  B000ELSXFY  0.012153    1\n",
       "1  A2HXEJXEQQTM1D  B003CGOTJW  0.012153    2\n",
       "2  A2HXEJXEQQTM1D  B0026IBJNQ  0.012153    3\n",
       "3  A2HXEJXEQQTM1D  B0015IQPUU  0.010417    4\n",
       "4  A2HXEJXEQQTM1D  B004GTN0T4  0.010417    5\n",
       "5  A2HXEJXEQQTM1D  B004I4MZSO  0.010417    6\n",
       "6  A2HXEJXEQQTM1D  B003ZWPRUI  0.010417    7\n",
       "7  A2HXEJXEQQTM1D  B009F1J4R0  0.010417    8\n",
       "8  A2HXEJXEQQTM1D  B000N5220I  0.010417    9\n",
       "9  A2HXEJXEQQTM1D  B001EVY5Y6  0.010417   10"
      ]
     },
     "execution_count": 47,
     "metadata": {},
     "output_type": "execute_result"
    }
   ],
   "source": [
    "#personalized model to recommed some products\n",
    "user_id = users[97]\n",
    "\n",
    "print(\"----------------------------------------------------------------------\")\n",
    "print(\"Recommendation process going on:\")\n",
    "print(\"----------------------------------------------------------------------\")\n",
    "\n",
    "#Recommend items for the user using personalized model\n",
    "sim_model.recommend(user_id)"
   ]
  },
  {
   "cell_type": "code",
   "execution_count": 48,
   "metadata": {},
   "outputs": [
    {
     "name": "stdout",
     "output_type": "stream",
     "text": [
      "----------------------------------------------------------------------\n",
      "Recommendation process going on:\n",
      "----------------------------------------------------------------------\n",
      "No. of unique products for the user: 43\n",
      "no. of unique products in the training set: 37385\n",
      "Non zero values in cooccurence_matrix :17987\n"
     ]
    },
    {
     "data": {
      "text/html": [
       "<div>\n",
       "<style scoped>\n",
       "    .dataframe tbody tr th:only-of-type {\n",
       "        vertical-align: middle;\n",
       "    }\n",
       "\n",
       "    .dataframe tbody tr th {\n",
       "        vertical-align: top;\n",
       "    }\n",
       "\n",
       "    .dataframe thead th {\n",
       "        text-align: right;\n",
       "    }\n",
       "</style>\n",
       "<table border=\"1\" class=\"dataframe\">\n",
       "  <thead>\n",
       "    <tr style=\"text-align: right;\">\n",
       "      <th></th>\n",
       "      <th>user_id</th>\n",
       "      <th>product_id</th>\n",
       "      <th>score</th>\n",
       "      <th>rank</th>\n",
       "    </tr>\n",
       "  </thead>\n",
       "  <tbody>\n",
       "    <tr>\n",
       "      <th>0</th>\n",
       "      <td>AAW7X3GRD8GY9</td>\n",
       "      <td>B00C7EN5U4</td>\n",
       "      <td>0.016888</td>\n",
       "      <td>1</td>\n",
       "    </tr>\n",
       "    <tr>\n",
       "      <th>1</th>\n",
       "      <td>AAW7X3GRD8GY9</td>\n",
       "      <td>B00CRJVZOM</td>\n",
       "      <td>0.016888</td>\n",
       "      <td>2</td>\n",
       "    </tr>\n",
       "    <tr>\n",
       "      <th>2</th>\n",
       "      <td>AAW7X3GRD8GY9</td>\n",
       "      <td>B00CRNRSLW</td>\n",
       "      <td>0.016888</td>\n",
       "      <td>3</td>\n",
       "    </tr>\n",
       "    <tr>\n",
       "      <th>3</th>\n",
       "      <td>AAW7X3GRD8GY9</td>\n",
       "      <td>B00CZIQZ40</td>\n",
       "      <td>0.016888</td>\n",
       "      <td>4</td>\n",
       "    </tr>\n",
       "    <tr>\n",
       "      <th>4</th>\n",
       "      <td>AAW7X3GRD8GY9</td>\n",
       "      <td>B004NBZAES</td>\n",
       "      <td>0.016888</td>\n",
       "      <td>5</td>\n",
       "    </tr>\n",
       "    <tr>\n",
       "      <th>5</th>\n",
       "      <td>AAW7X3GRD8GY9</td>\n",
       "      <td>B005NB8PRG</td>\n",
       "      <td>0.016888</td>\n",
       "      <td>6</td>\n",
       "    </tr>\n",
       "    <tr>\n",
       "      <th>6</th>\n",
       "      <td>AAW7X3GRD8GY9</td>\n",
       "      <td>B00B1R8JT0</td>\n",
       "      <td>0.016888</td>\n",
       "      <td>7</td>\n",
       "    </tr>\n",
       "    <tr>\n",
       "      <th>7</th>\n",
       "      <td>AAW7X3GRD8GY9</td>\n",
       "      <td>B003JME1CO</td>\n",
       "      <td>0.016888</td>\n",
       "      <td>8</td>\n",
       "    </tr>\n",
       "    <tr>\n",
       "      <th>8</th>\n",
       "      <td>AAW7X3GRD8GY9</td>\n",
       "      <td>B008PQAE98</td>\n",
       "      <td>0.016888</td>\n",
       "      <td>9</td>\n",
       "    </tr>\n",
       "    <tr>\n",
       "      <th>9</th>\n",
       "      <td>AAW7X3GRD8GY9</td>\n",
       "      <td>B00607JLWU</td>\n",
       "      <td>0.016888</td>\n",
       "      <td>10</td>\n",
       "    </tr>\n",
       "  </tbody>\n",
       "</table>\n",
       "</div>"
      ],
      "text/plain": [
       "         user_id  product_id     score rank\n",
       "0  AAW7X3GRD8GY9  B00C7EN5U4  0.016888    1\n",
       "1  AAW7X3GRD8GY9  B00CRJVZOM  0.016888    2\n",
       "2  AAW7X3GRD8GY9  B00CRNRSLW  0.016888    3\n",
       "3  AAW7X3GRD8GY9  B00CZIQZ40  0.016888    4\n",
       "4  AAW7X3GRD8GY9  B004NBZAES  0.016888    5\n",
       "5  AAW7X3GRD8GY9  B005NB8PRG  0.016888    6\n",
       "6  AAW7X3GRD8GY9  B00B1R8JT0  0.016888    7\n",
       "7  AAW7X3GRD8GY9  B003JME1CO  0.016888    8\n",
       "8  AAW7X3GRD8GY9  B008PQAE98  0.016888    9\n",
       "9  AAW7X3GRD8GY9  B00607JLWU  0.016888   10"
      ]
     },
     "execution_count": 48,
     "metadata": {},
     "output_type": "execute_result"
    }
   ],
   "source": [
    "#personalized model to recommed some products\n",
    "user_id = users[150]\n",
    "\n",
    "print(\"----------------------------------------------------------------------\")\n",
    "print(\"Recommendation process going on:\")\n",
    "print(\"----------------------------------------------------------------------\")\n",
    "\n",
    "#Recommend items for the user using personalized model\n",
    "sim_model.recommend(user_id)"
   ]
  },
  {
   "cell_type": "markdown",
   "metadata": {},
   "source": [
    "### collaberative filtering using Surprise package"
   ]
  },
  {
   "cell_type": "code",
   "execution_count": 53,
   "metadata": {},
   "outputs": [],
   "source": [
    "from surprise import KNNWithMeans\n",
    "from surprise import Dataset\n",
    "from surprise import accuracy\n",
    "from surprise.model_selection import train_test_split"
   ]
  },
  {
   "cell_type": "code",
   "execution_count": 67,
   "metadata": {},
   "outputs": [],
   "source": [
    "from surprise import Dataset,Reader\n",
    "reader = Reader(rating_scale=(1, 5))\n",
    "coll_data = Dataset.load_from_df(amazon_new_df, reader)"
   ]
  },
  {
   "cell_type": "code",
   "execution_count": 68,
   "metadata": {},
   "outputs": [],
   "source": [
    "# Split data to train and test\n",
    "from surprise.model_selection import train_test_split\n",
    "trainset, testset = train_test_split(coll_data, test_size=0.3,random_state=123)"
   ]
  },
  {
   "cell_type": "code",
   "execution_count": 69,
   "metadata": {},
   "outputs": [
    {
     "name": "stdout",
     "output_type": "stream",
     "text": [
      "Estimating biases using als...\n",
      "Computing the pearson_baseline similarity matrix...\n",
      "Done computing similarity matrix.\n"
     ]
    },
    {
     "data": {
      "text/plain": [
       "<surprise.prediction_algorithms.knns.KNNWithMeans at 0x2682160>"
      ]
     },
     "execution_count": 69,
     "metadata": {},
     "output_type": "execute_result"
    }
   ],
   "source": [
    "#here number of items are more than number of number users \n",
    "#the similarity measure between user u and user v in this case.\n",
    "algo = KNNWithMeans(k=50, sim_options={'name': 'pearson_baseline', 'user_based': True})\n",
    "algo.fit(trainset)"
   ]
  },
  {
   "cell_type": "code",
   "execution_count": 72,
   "metadata": {},
   "outputs": [],
   "source": [
    "# we can now query for specific predicions\n",
    "userid = str(196)  # raw user id\n",
    "itemid = str(302)  # raw item id"
   ]
  },
  {
   "cell_type": "code",
   "execution_count": 73,
   "metadata": {},
   "outputs": [
    {
     "name": "stdout",
     "output_type": "stream",
     "text": [
      "user: 196        item: 302        r_ui = 4.00   est = 4.26   {'was_impossible': True, 'reason': 'User and/or item is unkown.'}\n"
     ]
    }
   ],
   "source": [
    "# get a prediction for specific users and items.\n",
    "pred = algo.predict(userid, itemid, r_ui=4, verbose=True)"
   ]
  },
  {
   "cell_type": "code",
   "execution_count": 74,
   "metadata": {},
   "outputs": [
    {
     "name": "stdout",
     "output_type": "stream",
     "text": [
      "User-based Model : Training Set\n",
      "RMSE: 0.0175\n"
     ]
    },
    {
     "data": {
      "text/plain": [
       "0.01753591449723026"
      ]
     },
     "execution_count": 74,
     "metadata": {},
     "output_type": "execute_result"
    }
   ],
   "source": [
    "#  evaluate on the trainset\n",
    "print(\"User-based Model : Training Set\")\n",
    "train_pred = algo.test(trainset.build_testset())\n",
    "accuracy.rmse(train_pred)"
   ]
  },
  {
   "cell_type": "code",
   "execution_count": null,
   "metadata": {},
   "outputs": [],
   "source": []
  },
  {
   "cell_type": "code",
   "execution_count": 75,
   "metadata": {},
   "outputs": [
    {
     "name": "stdout",
     "output_type": "stream",
     "text": [
      "User-based Model : Test Set\n",
      "RMSE: 1.0575\n"
     ]
    },
    {
     "data": {
      "text/plain": [
       "1.0574562914112937"
      ]
     },
     "execution_count": 75,
     "metadata": {},
     "output_type": "execute_result"
    }
   ],
   "source": [
    "#  evaluate on the testset\n",
    "# run the trained model against the testset\n",
    "test_pred = algo.test(testset)\n",
    "# get RMSE\n",
    "print(\"User-based Model : Test Set\")\n",
    "accuracy.rmse(test_pred, verbose=True)"
   ]
  },
  {
   "cell_type": "code",
   "execution_count": null,
   "metadata": {},
   "outputs": [],
   "source": [
    "# now we can indivisually recommend for indivisual userids "
   ]
  },
  {
   "cell_type": "code",
   "execution_count": 77,
   "metadata": {},
   "outputs": [
    {
     "data": {
      "text/plain": [
       "Prediction(uid='A1TQZUSOU22E9M', iid='B000NOEDGK', r_ui=5.0, est=4.680412371134021, details={'actual_k': 0, 'was_impossible': False})"
      ]
     },
     "execution_count": 77,
     "metadata": {},
     "output_type": "execute_result"
    }
   ],
   "source": [
    "test_pred[120]"
   ]
  },
  {
   "cell_type": "code",
   "execution_count": 78,
   "metadata": {},
   "outputs": [
    {
     "data": {
      "text/html": [
       "<div>\n",
       "<style scoped>\n",
       "    .dataframe tbody tr th:only-of-type {\n",
       "        vertical-align: middle;\n",
       "    }\n",
       "\n",
       "    .dataframe tbody tr th {\n",
       "        vertical-align: top;\n",
       "    }\n",
       "\n",
       "    .dataframe thead th {\n",
       "        text-align: right;\n",
       "    }\n",
       "</style>\n",
       "<table border=\"1\" class=\"dataframe\">\n",
       "  <thead>\n",
       "    <tr style=\"text-align: right;\">\n",
       "      <th></th>\n",
       "      <th>uid</th>\n",
       "      <th>iid</th>\n",
       "      <th>r_ui</th>\n",
       "      <th>est</th>\n",
       "      <th>details</th>\n",
       "      <th>was_impossible</th>\n",
       "    </tr>\n",
       "  </thead>\n",
       "  <tbody>\n",
       "    <tr>\n",
       "      <th>1</th>\n",
       "      <td>A2MCRCK1V61FWQ</td>\n",
       "      <td>B0042RUSY0</td>\n",
       "      <td>5.0</td>\n",
       "      <td>4.263824</td>\n",
       "      <td>{'was_impossible': True, 'reason': 'User and/o...</td>\n",
       "      <td>True</td>\n",
       "    </tr>\n",
       "    <tr>\n",
       "      <th>3</th>\n",
       "      <td>A1Z7U9K6X3FEOU</td>\n",
       "      <td>B00845RYXE</td>\n",
       "      <td>4.0</td>\n",
       "      <td>4.263824</td>\n",
       "      <td>{'was_impossible': True, 'reason': 'User and/o...</td>\n",
       "      <td>True</td>\n",
       "    </tr>\n",
       "    <tr>\n",
       "      <th>7</th>\n",
       "      <td>A24P4E3RJ6AX94</td>\n",
       "      <td>B00007FH6F</td>\n",
       "      <td>1.0</td>\n",
       "      <td>4.263824</td>\n",
       "      <td>{'was_impossible': True, 'reason': 'User and/o...</td>\n",
       "      <td>True</td>\n",
       "    </tr>\n",
       "    <tr>\n",
       "      <th>9</th>\n",
       "      <td>A1EXGL6L0QQ0M5</td>\n",
       "      <td>B004HB2X4O</td>\n",
       "      <td>3.0</td>\n",
       "      <td>4.263824</td>\n",
       "      <td>{'was_impossible': True, 'reason': 'User and/o...</td>\n",
       "      <td>True</td>\n",
       "    </tr>\n",
       "    <tr>\n",
       "      <th>10</th>\n",
       "      <td>A1LHMSY3Q46PJS</td>\n",
       "      <td>B000F1SFLA</td>\n",
       "      <td>5.0</td>\n",
       "      <td>4.263824</td>\n",
       "      <td>{'was_impossible': True, 'reason': 'User and/o...</td>\n",
       "      <td>True</td>\n",
       "    </tr>\n",
       "  </tbody>\n",
       "</table>\n",
       "</div>"
      ],
      "text/plain": [
       "               uid         iid  r_ui       est  \\\n",
       "1   A2MCRCK1V61FWQ  B0042RUSY0   5.0  4.263824   \n",
       "3   A1Z7U9K6X3FEOU  B00845RYXE   4.0  4.263824   \n",
       "7   A24P4E3RJ6AX94  B00007FH6F   1.0  4.263824   \n",
       "9   A1EXGL6L0QQ0M5  B004HB2X4O   3.0  4.263824   \n",
       "10  A1LHMSY3Q46PJS  B000F1SFLA   5.0  4.263824   \n",
       "\n",
       "                                              details  was_impossible  \n",
       "1   {'was_impossible': True, 'reason': 'User and/o...            True  \n",
       "3   {'was_impossible': True, 'reason': 'User and/o...            True  \n",
       "7   {'was_impossible': True, 'reason': 'User and/o...            True  \n",
       "9   {'was_impossible': True, 'reason': 'User and/o...            True  \n",
       "10  {'was_impossible': True, 'reason': 'User and/o...            True  "
      ]
     },
     "execution_count": 78,
     "metadata": {},
     "output_type": "execute_result"
    }
   ],
   "source": [
    "# convert results to dataframe\n",
    "test_pred_df = pd.DataFrame(test_pred)\n",
    "test_pred_df[\"was_impossible\"] = [x[\"was_impossible\"] for x in test_pred_df[\"details\"]]\n",
    "test_pred_df.loc[test_pred_df.was_impossible].head(5)"
   ]
  },
  {
   "cell_type": "code",
   "execution_count": 84,
   "metadata": {},
   "outputs": [],
   "source": [
    "import recmetrics"
   ]
  },
  {
   "cell_type": "code",
   "execution_count": 104,
   "metadata": {},
   "outputs": [
    {
     "data": {
      "text/html": [
       "<div>\n",
       "<style scoped>\n",
       "    .dataframe tbody tr th:only-of-type {\n",
       "        vertical-align: middle;\n",
       "    }\n",
       "\n",
       "    .dataframe tbody tr th {\n",
       "        vertical-align: top;\n",
       "    }\n",
       "\n",
       "    .dataframe thead th {\n",
       "        text-align: right;\n",
       "    }\n",
       "</style>\n",
       "<table border=\"1\" class=\"dataframe\">\n",
       "  <thead>\n",
       "    <tr style=\"text-align: right;\">\n",
       "      <th></th>\n",
       "      <th>user_id</th>\n",
       "      <th>product_id</th>\n",
       "      <th>actual</th>\n",
       "      <th>cf_predictions</th>\n",
       "    </tr>\n",
       "  </thead>\n",
       "  <tbody>\n",
       "    <tr>\n",
       "      <th>0</th>\n",
       "      <td>A2NT3W1F1XYBFZ</td>\n",
       "      <td>B002LITT56</td>\n",
       "      <td>5.0</td>\n",
       "      <td>4.578947</td>\n",
       "    </tr>\n",
       "    <tr>\n",
       "      <th>1</th>\n",
       "      <td>A2MCRCK1V61FWQ</td>\n",
       "      <td>B0042RUSY0</td>\n",
       "      <td>5.0</td>\n",
       "      <td>4.263824</td>\n",
       "    </tr>\n",
       "    <tr>\n",
       "      <th>2</th>\n",
       "      <td>AOWF9T81XMX2S</td>\n",
       "      <td>B0002LEMWE</td>\n",
       "      <td>5.0</td>\n",
       "      <td>4.327586</td>\n",
       "    </tr>\n",
       "    <tr>\n",
       "      <th>3</th>\n",
       "      <td>A1Z7U9K6X3FEOU</td>\n",
       "      <td>B00845RYXE</td>\n",
       "      <td>4.0</td>\n",
       "      <td>4.263824</td>\n",
       "    </tr>\n",
       "    <tr>\n",
       "      <th>4</th>\n",
       "      <td>A200DY76VXVGP9</td>\n",
       "      <td>B009CP99GK</td>\n",
       "      <td>4.0</td>\n",
       "      <td>4.970588</td>\n",
       "    </tr>\n",
       "  </tbody>\n",
       "</table>\n",
       "</div>"
      ],
      "text/plain": [
       "          user_id  product_id  actual  cf_predictions\n",
       "0  A2NT3W1F1XYBFZ  B002LITT56     5.0        4.578947\n",
       "1  A2MCRCK1V61FWQ  B0042RUSY0     5.0        4.263824\n",
       "2   AOWF9T81XMX2S  B0002LEMWE     5.0        4.327586\n",
       "3  A1Z7U9K6X3FEOU  B00845RYXE     4.0        4.263824\n",
       "4  A200DY76VXVGP9  B009CP99GK     4.0        4.970588"
      ]
     },
     "execution_count": 104,
     "metadata": {},
     "output_type": "execute_result"
    }
   ],
   "source": [
    "test = test_pred_df.copy()\n",
    "test.drop({\"details\",\"was_impossible\"}, inplace=True, axis=1)\n",
    "test.columns = ['user_id', 'product_id', 'actual', 'cf_predictions']\n",
    "test.head()"
   ]
  },
  {
   "cell_type": "code",
   "execution_count": 105,
   "metadata": {},
   "outputs": [
    {
     "name": "stdout",
     "output_type": "stream",
     "text": [
      "<class 'pandas.core.frame.DataFrame'>\n",
      "RangeIndex: 36652 entries, 0 to 36651\n",
      "Data columns (total 4 columns):\n",
      "user_id           36652 non-null object\n",
      "product_id        36652 non-null object\n",
      "actual            36652 non-null float64\n",
      "cf_predictions    36652 non-null float64\n",
      "dtypes: float64(2), object(2)\n",
      "memory usage: 1.1+ MB\n"
     ]
    }
   ],
   "source": [
    "test.info()"
   ]
  },
  {
   "cell_type": "code",
   "execution_count": 106,
   "metadata": {},
   "outputs": [
    {
     "name": "stdout",
     "output_type": "stream",
     "text": [
      "MSE - 1.1182138082453268\n",
      "RMSE - 1.0574562914112937\n"
     ]
    }
   ],
   "source": [
    "print(\"MSE -\", recmetrics.mse(test.actual, test.cf_predictions))\n",
    "print(\"RMSE -\", recmetrics.rmse(test.actual, test.cf_predictions))"
   ]
  },
  {
   "cell_type": "code",
   "execution_count": 107,
   "metadata": {},
   "outputs": [
    {
     "data": {
      "text/html": [
       "<div>\n",
       "<style scoped>\n",
       "    .dataframe tbody tr th:only-of-type {\n",
       "        vertical-align: middle;\n",
       "    }\n",
       "\n",
       "    .dataframe tbody tr th {\n",
       "        vertical-align: top;\n",
       "    }\n",
       "\n",
       "    .dataframe thead th {\n",
       "        text-align: right;\n",
       "    }\n",
       "</style>\n",
       "<table border=\"1\" class=\"dataframe\">\n",
       "  <thead>\n",
       "    <tr style=\"text-align: right;\">\n",
       "      <th>product_id</th>\n",
       "      <th>0594481813</th>\n",
       "      <th>0972683275</th>\n",
       "      <th>1400501466</th>\n",
       "      <th>1400501520</th>\n",
       "      <th>1400532620</th>\n",
       "      <th>1400532655</th>\n",
       "      <th>1400599997</th>\n",
       "      <th>787988002X</th>\n",
       "      <th>9043413585</th>\n",
       "      <th>9575871979</th>\n",
       "      <th>...</th>\n",
       "      <th>B00L21HC7A</th>\n",
       "      <th>B00L2442H0</th>\n",
       "      <th>B00L26YDA4</th>\n",
       "      <th>B00L3YHF6O</th>\n",
       "      <th>B00L43HAY6</th>\n",
       "      <th>B00L8QCVL6</th>\n",
       "      <th>B00LA6T0LS</th>\n",
       "      <th>B00LBZ1Z7K</th>\n",
       "      <th>B00LGQ6HL8</th>\n",
       "      <th>B00LI4ZZO8</th>\n",
       "    </tr>\n",
       "    <tr>\n",
       "      <th>user_id</th>\n",
       "      <th></th>\n",
       "      <th></th>\n",
       "      <th></th>\n",
       "      <th></th>\n",
       "      <th></th>\n",
       "      <th></th>\n",
       "      <th></th>\n",
       "      <th></th>\n",
       "      <th></th>\n",
       "      <th></th>\n",
       "      <th></th>\n",
       "      <th></th>\n",
       "      <th></th>\n",
       "      <th></th>\n",
       "      <th></th>\n",
       "      <th></th>\n",
       "      <th></th>\n",
       "      <th></th>\n",
       "      <th></th>\n",
       "      <th></th>\n",
       "      <th></th>\n",
       "    </tr>\n",
       "  </thead>\n",
       "  <tbody>\n",
       "    <tr>\n",
       "      <th>A100UD67AHFODS</th>\n",
       "      <td>0.0</td>\n",
       "      <td>0.0</td>\n",
       "      <td>0.0</td>\n",
       "      <td>0.0</td>\n",
       "      <td>0.0</td>\n",
       "      <td>0.0</td>\n",
       "      <td>0.0</td>\n",
       "      <td>0.0</td>\n",
       "      <td>0.0</td>\n",
       "      <td>0.0</td>\n",
       "      <td>...</td>\n",
       "      <td>0.0</td>\n",
       "      <td>0.0</td>\n",
       "      <td>0.0</td>\n",
       "      <td>0.0</td>\n",
       "      <td>0.0</td>\n",
       "      <td>0.0</td>\n",
       "      <td>0.0</td>\n",
       "      <td>0.0</td>\n",
       "      <td>0.0</td>\n",
       "      <td>0.0</td>\n",
       "    </tr>\n",
       "    <tr>\n",
       "      <th>A100WO06OQR8BQ</th>\n",
       "      <td>0.0</td>\n",
       "      <td>0.0</td>\n",
       "      <td>0.0</td>\n",
       "      <td>0.0</td>\n",
       "      <td>0.0</td>\n",
       "      <td>0.0</td>\n",
       "      <td>0.0</td>\n",
       "      <td>0.0</td>\n",
       "      <td>0.0</td>\n",
       "      <td>0.0</td>\n",
       "      <td>...</td>\n",
       "      <td>0.0</td>\n",
       "      <td>0.0</td>\n",
       "      <td>0.0</td>\n",
       "      <td>0.0</td>\n",
       "      <td>0.0</td>\n",
       "      <td>0.0</td>\n",
       "      <td>0.0</td>\n",
       "      <td>0.0</td>\n",
       "      <td>0.0</td>\n",
       "      <td>0.0</td>\n",
       "    </tr>\n",
       "    <tr>\n",
       "      <th>A105S56ODHGJEK</th>\n",
       "      <td>0.0</td>\n",
       "      <td>0.0</td>\n",
       "      <td>0.0</td>\n",
       "      <td>0.0</td>\n",
       "      <td>0.0</td>\n",
       "      <td>0.0</td>\n",
       "      <td>0.0</td>\n",
       "      <td>0.0</td>\n",
       "      <td>0.0</td>\n",
       "      <td>0.0</td>\n",
       "      <td>...</td>\n",
       "      <td>0.0</td>\n",
       "      <td>0.0</td>\n",
       "      <td>0.0</td>\n",
       "      <td>0.0</td>\n",
       "      <td>0.0</td>\n",
       "      <td>0.0</td>\n",
       "      <td>0.0</td>\n",
       "      <td>0.0</td>\n",
       "      <td>0.0</td>\n",
       "      <td>0.0</td>\n",
       "    </tr>\n",
       "    <tr>\n",
       "      <th>A105TOJ6LTVMBG</th>\n",
       "      <td>0.0</td>\n",
       "      <td>0.0</td>\n",
       "      <td>0.0</td>\n",
       "      <td>0.0</td>\n",
       "      <td>0.0</td>\n",
       "      <td>0.0</td>\n",
       "      <td>0.0</td>\n",
       "      <td>0.0</td>\n",
       "      <td>0.0</td>\n",
       "      <td>0.0</td>\n",
       "      <td>...</td>\n",
       "      <td>0.0</td>\n",
       "      <td>0.0</td>\n",
       "      <td>0.0</td>\n",
       "      <td>0.0</td>\n",
       "      <td>0.0</td>\n",
       "      <td>0.0</td>\n",
       "      <td>0.0</td>\n",
       "      <td>0.0</td>\n",
       "      <td>0.0</td>\n",
       "      <td>0.0</td>\n",
       "    </tr>\n",
       "    <tr>\n",
       "      <th>A10AFVU66A79Y1</th>\n",
       "      <td>0.0</td>\n",
       "      <td>0.0</td>\n",
       "      <td>0.0</td>\n",
       "      <td>0.0</td>\n",
       "      <td>0.0</td>\n",
       "      <td>0.0</td>\n",
       "      <td>0.0</td>\n",
       "      <td>0.0</td>\n",
       "      <td>0.0</td>\n",
       "      <td>0.0</td>\n",
       "      <td>...</td>\n",
       "      <td>0.0</td>\n",
       "      <td>0.0</td>\n",
       "      <td>0.0</td>\n",
       "      <td>0.0</td>\n",
       "      <td>0.0</td>\n",
       "      <td>0.0</td>\n",
       "      <td>0.0</td>\n",
       "      <td>0.0</td>\n",
       "      <td>0.0</td>\n",
       "      <td>0.0</td>\n",
       "    </tr>\n",
       "    <tr>\n",
       "      <th>A10H24TDLK2VDP</th>\n",
       "      <td>0.0</td>\n",
       "      <td>0.0</td>\n",
       "      <td>0.0</td>\n",
       "      <td>0.0</td>\n",
       "      <td>0.0</td>\n",
       "      <td>0.0</td>\n",
       "      <td>0.0</td>\n",
       "      <td>0.0</td>\n",
       "      <td>0.0</td>\n",
       "      <td>0.0</td>\n",
       "      <td>...</td>\n",
       "      <td>0.0</td>\n",
       "      <td>0.0</td>\n",
       "      <td>0.0</td>\n",
       "      <td>0.0</td>\n",
       "      <td>0.0</td>\n",
       "      <td>0.0</td>\n",
       "      <td>0.0</td>\n",
       "      <td>0.0</td>\n",
       "      <td>0.0</td>\n",
       "      <td>0.0</td>\n",
       "    </tr>\n",
       "    <tr>\n",
       "      <th>A10NMELR4KX0J6</th>\n",
       "      <td>0.0</td>\n",
       "      <td>0.0</td>\n",
       "      <td>0.0</td>\n",
       "      <td>0.0</td>\n",
       "      <td>0.0</td>\n",
       "      <td>0.0</td>\n",
       "      <td>0.0</td>\n",
       "      <td>0.0</td>\n",
       "      <td>0.0</td>\n",
       "      <td>0.0</td>\n",
       "      <td>...</td>\n",
       "      <td>0.0</td>\n",
       "      <td>0.0</td>\n",
       "      <td>0.0</td>\n",
       "      <td>0.0</td>\n",
       "      <td>0.0</td>\n",
       "      <td>0.0</td>\n",
       "      <td>0.0</td>\n",
       "      <td>0.0</td>\n",
       "      <td>0.0</td>\n",
       "      <td>0.0</td>\n",
       "    </tr>\n",
       "    <tr>\n",
       "      <th>A10O7THJ2O20AG</th>\n",
       "      <td>0.0</td>\n",
       "      <td>0.0</td>\n",
       "      <td>0.0</td>\n",
       "      <td>0.0</td>\n",
       "      <td>0.0</td>\n",
       "      <td>0.0</td>\n",
       "      <td>0.0</td>\n",
       "      <td>0.0</td>\n",
       "      <td>0.0</td>\n",
       "      <td>0.0</td>\n",
       "      <td>...</td>\n",
       "      <td>0.0</td>\n",
       "      <td>0.0</td>\n",
       "      <td>0.0</td>\n",
       "      <td>0.0</td>\n",
       "      <td>0.0</td>\n",
       "      <td>0.0</td>\n",
       "      <td>0.0</td>\n",
       "      <td>0.0</td>\n",
       "      <td>0.0</td>\n",
       "      <td>0.0</td>\n",
       "    </tr>\n",
       "    <tr>\n",
       "      <th>A10PEXB6XAQ5XF</th>\n",
       "      <td>0.0</td>\n",
       "      <td>0.0</td>\n",
       "      <td>0.0</td>\n",
       "      <td>0.0</td>\n",
       "      <td>0.0</td>\n",
       "      <td>0.0</td>\n",
       "      <td>0.0</td>\n",
       "      <td>0.0</td>\n",
       "      <td>0.0</td>\n",
       "      <td>0.0</td>\n",
       "      <td>...</td>\n",
       "      <td>0.0</td>\n",
       "      <td>0.0</td>\n",
       "      <td>0.0</td>\n",
       "      <td>0.0</td>\n",
       "      <td>0.0</td>\n",
       "      <td>0.0</td>\n",
       "      <td>0.0</td>\n",
       "      <td>0.0</td>\n",
       "      <td>0.0</td>\n",
       "      <td>0.0</td>\n",
       "    </tr>\n",
       "    <tr>\n",
       "      <th>A10X9ME6R66JDX</th>\n",
       "      <td>0.0</td>\n",
       "      <td>0.0</td>\n",
       "      <td>0.0</td>\n",
       "      <td>0.0</td>\n",
       "      <td>0.0</td>\n",
       "      <td>0.0</td>\n",
       "      <td>0.0</td>\n",
       "      <td>0.0</td>\n",
       "      <td>0.0</td>\n",
       "      <td>0.0</td>\n",
       "      <td>...</td>\n",
       "      <td>0.0</td>\n",
       "      <td>0.0</td>\n",
       "      <td>0.0</td>\n",
       "      <td>0.0</td>\n",
       "      <td>0.0</td>\n",
       "      <td>0.0</td>\n",
       "      <td>0.0</td>\n",
       "      <td>0.0</td>\n",
       "      <td>0.0</td>\n",
       "      <td>0.0</td>\n",
       "    </tr>\n",
       "  </tbody>\n",
       "</table>\n",
       "<p>10 rows × 20957 columns</p>\n",
       "</div>"
      ],
      "text/plain": [
       "product_id      0594481813  0972683275  1400501466  1400501520  1400532620  \\\n",
       "user_id                                                                      \n",
       "A100UD67AHFODS         0.0         0.0         0.0         0.0         0.0   \n",
       "A100WO06OQR8BQ         0.0         0.0         0.0         0.0         0.0   \n",
       "A105S56ODHGJEK         0.0         0.0         0.0         0.0         0.0   \n",
       "A105TOJ6LTVMBG         0.0         0.0         0.0         0.0         0.0   \n",
       "A10AFVU66A79Y1         0.0         0.0         0.0         0.0         0.0   \n",
       "A10H24TDLK2VDP         0.0         0.0         0.0         0.0         0.0   \n",
       "A10NMELR4KX0J6         0.0         0.0         0.0         0.0         0.0   \n",
       "A10O7THJ2O20AG         0.0         0.0         0.0         0.0         0.0   \n",
       "A10PEXB6XAQ5XF         0.0         0.0         0.0         0.0         0.0   \n",
       "A10X9ME6R66JDX         0.0         0.0         0.0         0.0         0.0   \n",
       "\n",
       "product_id      1400532655  1400599997  787988002X  9043413585  9575871979  \\\n",
       "user_id                                                                      \n",
       "A100UD67AHFODS         0.0         0.0         0.0         0.0         0.0   \n",
       "A100WO06OQR8BQ         0.0         0.0         0.0         0.0         0.0   \n",
       "A105S56ODHGJEK         0.0         0.0         0.0         0.0         0.0   \n",
       "A105TOJ6LTVMBG         0.0         0.0         0.0         0.0         0.0   \n",
       "A10AFVU66A79Y1         0.0         0.0         0.0         0.0         0.0   \n",
       "A10H24TDLK2VDP         0.0         0.0         0.0         0.0         0.0   \n",
       "A10NMELR4KX0J6         0.0         0.0         0.0         0.0         0.0   \n",
       "A10O7THJ2O20AG         0.0         0.0         0.0         0.0         0.0   \n",
       "A10PEXB6XAQ5XF         0.0         0.0         0.0         0.0         0.0   \n",
       "A10X9ME6R66JDX         0.0         0.0         0.0         0.0         0.0   \n",
       "\n",
       "product_id         ...      B00L21HC7A  B00L2442H0  B00L26YDA4  B00L3YHF6O  \\\n",
       "user_id            ...                                                       \n",
       "A100UD67AHFODS     ...             0.0         0.0         0.0         0.0   \n",
       "A100WO06OQR8BQ     ...             0.0         0.0         0.0         0.0   \n",
       "A105S56ODHGJEK     ...             0.0         0.0         0.0         0.0   \n",
       "A105TOJ6LTVMBG     ...             0.0         0.0         0.0         0.0   \n",
       "A10AFVU66A79Y1     ...             0.0         0.0         0.0         0.0   \n",
       "A10H24TDLK2VDP     ...             0.0         0.0         0.0         0.0   \n",
       "A10NMELR4KX0J6     ...             0.0         0.0         0.0         0.0   \n",
       "A10O7THJ2O20AG     ...             0.0         0.0         0.0         0.0   \n",
       "A10PEXB6XAQ5XF     ...             0.0         0.0         0.0         0.0   \n",
       "A10X9ME6R66JDX     ...             0.0         0.0         0.0         0.0   \n",
       "\n",
       "product_id      B00L43HAY6  B00L8QCVL6  B00LA6T0LS  B00LBZ1Z7K  B00LGQ6HL8  \\\n",
       "user_id                                                                      \n",
       "A100UD67AHFODS         0.0         0.0         0.0         0.0         0.0   \n",
       "A100WO06OQR8BQ         0.0         0.0         0.0         0.0         0.0   \n",
       "A105S56ODHGJEK         0.0         0.0         0.0         0.0         0.0   \n",
       "A105TOJ6LTVMBG         0.0         0.0         0.0         0.0         0.0   \n",
       "A10AFVU66A79Y1         0.0         0.0         0.0         0.0         0.0   \n",
       "A10H24TDLK2VDP         0.0         0.0         0.0         0.0         0.0   \n",
       "A10NMELR4KX0J6         0.0         0.0         0.0         0.0         0.0   \n",
       "A10O7THJ2O20AG         0.0         0.0         0.0         0.0         0.0   \n",
       "A10PEXB6XAQ5XF         0.0         0.0         0.0         0.0         0.0   \n",
       "A10X9ME6R66JDX         0.0         0.0         0.0         0.0         0.0   \n",
       "\n",
       "product_id      B00LI4ZZO8  \n",
       "user_id                     \n",
       "A100UD67AHFODS         0.0  \n",
       "A100WO06OQR8BQ         0.0  \n",
       "A105S56ODHGJEK         0.0  \n",
       "A105TOJ6LTVMBG         0.0  \n",
       "A10AFVU66A79Y1         0.0  \n",
       "A10H24TDLK2VDP         0.0  \n",
       "A10NMELR4KX0J6         0.0  \n",
       "A10O7THJ2O20AG         0.0  \n",
       "A10PEXB6XAQ5XF         0.0  \n",
       "A10X9ME6R66JDX         0.0  \n",
       "\n",
       "[10 rows x 20957 columns]"
      ]
     },
     "execution_count": 107,
     "metadata": {},
     "output_type": "execute_result"
    }
   ],
   "source": [
    "colfil_model = test.pivot_table(index='user_id', columns='product_id', values='cf_predictions').fillna(0)\n",
    "colfil_model.head(10)"
   ]
  },
  {
   "cell_type": "code",
   "execution_count": 92,
   "metadata": {},
   "outputs": [
    {
     "data": {
      "text/plain": [
       "product_id\n",
       "0594481813    0.002046\n",
       "0970407998    0.003411\n",
       "0972683275    0.010232\n",
       "1400501466    0.010232\n",
       "1400501520    0.003411\n",
       "dtype: float64"
      ]
     },
     "execution_count": 92,
     "metadata": {},
     "output_type": "execute_result"
    }
   ],
   "source": [
    "# Average ACTUAL rating for each item\n",
    "final_ratings_matrix.mean().head()"
   ]
  },
  {
   "cell_type": "code",
   "execution_count": 108,
   "metadata": {},
   "outputs": [],
   "source": [
    "def get_users_predictions(userId, n, model):\n",
    "    recommended_items = pd.DataFrame(model.loc[userId])\n",
    "    recommended_items.columns = [\"predicted_rating\"]\n",
    "    recommended_items = recommended_items.sort_values('predicted_rating', ascending=False)    \n",
    "    recommended_items = recommended_items.head(n)\n",
    "    return recommended_items.index.tolist()"
   ]
  },
  {
   "cell_type": "code",
   "execution_count": 109,
   "metadata": {},
   "outputs": [
    {
     "data": {
      "text/plain": [
       "['B0054YQO5C',\n",
       " 'B000TG4BA0',\n",
       " 'B002SGATH8',\n",
       " 'B0097BEFYA',\n",
       " 'B0044DEDC0',\n",
       " 'B000HGIWN4',\n",
       " 'B004WK3U9W',\n",
       " 'B000JMJWV2',\n",
       " 'B001SEL36M',\n",
       " 'B0018O9JIG']"
      ]
     },
     "execution_count": 109,
     "metadata": {},
     "output_type": "execute_result"
    }
   ],
   "source": [
    "# Get example prediction\n",
    "get_users_predictions('A2XRMQA6PJ5ZJ8', 10, colfil_model)"
   ]
  },
  {
   "cell_type": "markdown",
   "metadata": {},
   "source": [
    "### Evaluate both the models. ( Once the model is trained on the training data, it can be used to compute the error (RMSE) on predictions made on the test data.)"
   ]
  },
  {
   "cell_type": "code",
   "execution_count": 110,
   "metadata": {},
   "outputs": [
    {
     "name": "stderr",
     "output_type": "stream",
     "text": [
      "F:\\anaconda3\\lib\\site-packages\\ipykernel_launcher.py:2: FutureWarning: using a dict on a Series for aggregation\n",
      "is deprecated and will be removed in a future version\n",
      "  \n"
     ]
    },
    {
     "data": {
      "text/html": [
       "<div>\n",
       "<style scoped>\n",
       "    .dataframe tbody tr th:only-of-type {\n",
       "        vertical-align: middle;\n",
       "    }\n",
       "\n",
       "    .dataframe tbody tr th {\n",
       "        vertical-align: top;\n",
       "    }\n",
       "\n",
       "    .dataframe thead th {\n",
       "        text-align: right;\n",
       "    }\n",
       "</style>\n",
       "<table border=\"1\" class=\"dataframe\">\n",
       "  <thead>\n",
       "    <tr style=\"text-align: right;\">\n",
       "      <th></th>\n",
       "      <th>actual</th>\n",
       "      <th>cf_predictions</th>\n",
       "    </tr>\n",
       "    <tr>\n",
       "      <th>user_id</th>\n",
       "      <th></th>\n",
       "      <th></th>\n",
       "    </tr>\n",
       "  </thead>\n",
       "  <tbody>\n",
       "    <tr>\n",
       "      <th>A100UD67AHFODS</th>\n",
       "      <td>[B006X2HIR2, B008PU665A, B00ALNPM2C, B001JIBOL...</td>\n",
       "      <td>[B001A5FH9S, B004I5BUSO, B005OA3BSY, B002HZW7C...</td>\n",
       "    </tr>\n",
       "    <tr>\n",
       "      <th>A100WO06OQR8BQ</th>\n",
       "      <td>[B00BGGDVOO, B000WKY2MK, B005HTIWF4, B0011VJRH...</td>\n",
       "      <td>[B000VX6XL6, B0009YJXMS, B007K3SB6K, B001XURGT...</td>\n",
       "    </tr>\n",
       "    <tr>\n",
       "      <th>A105S56ODHGJEK</th>\n",
       "      <td>[B000UHE8Y2, B001NTFATI, B00F36Y9XU, B004R9OVE...</td>\n",
       "      <td>[B000N99BBC, B00AZFMORW, B00AR95FOU, B0054CFKQ...</td>\n",
       "    </tr>\n",
       "    <tr>\n",
       "      <th>A105TOJ6LTVMBG</th>\n",
       "      <td>[B001KB6Z2U, B0006HBBF0, B000TXK9KE, B0002VAQR...</td>\n",
       "      <td>[B000TXK9KE, B0044BSS6Y, B001UNM414, B000I4RFO...</td>\n",
       "    </tr>\n",
       "    <tr>\n",
       "      <th>A10AFVU66A79Y1</th>\n",
       "      <td>[B00452V1ZW, B001JIBOLQ, B003DKL57G, B003B48UQ...</td>\n",
       "      <td>[B00EUFP39E, B002V88HFE, B000VJWJW2, B00INNP5V...</td>\n",
       "    </tr>\n",
       "  </tbody>\n",
       "</table>\n",
       "</div>"
      ],
      "text/plain": [
       "                                                           actual  \\\n",
       "user_id                                                             \n",
       "A100UD67AHFODS  [B006X2HIR2, B008PU665A, B00ALNPM2C, B001JIBOL...   \n",
       "A100WO06OQR8BQ  [B00BGGDVOO, B000WKY2MK, B005HTIWF4, B0011VJRH...   \n",
       "A105S56ODHGJEK  [B000UHE8Y2, B001NTFATI, B00F36Y9XU, B004R9OVE...   \n",
       "A105TOJ6LTVMBG  [B001KB6Z2U, B0006HBBF0, B000TXK9KE, B0002VAQR...   \n",
       "A10AFVU66A79Y1  [B00452V1ZW, B001JIBOLQ, B003DKL57G, B003B48UQ...   \n",
       "\n",
       "                                                   cf_predictions  \n",
       "user_id                                                            \n",
       "A100UD67AHFODS  [B001A5FH9S, B004I5BUSO, B005OA3BSY, B002HZW7C...  \n",
       "A100WO06OQR8BQ  [B000VX6XL6, B0009YJXMS, B007K3SB6K, B001XURGT...  \n",
       "A105S56ODHGJEK  [B000N99BBC, B00AZFMORW, B00AR95FOU, B0054CFKQ...  \n",
       "A105TOJ6LTVMBG  [B000TXK9KE, B0044BSS6Y, B001UNM414, B000I4RFO...  \n",
       "A10AFVU66A79Y1  [B00EUFP39E, B002V88HFE, B000VJWJW2, B00INNP5V...  "
      ]
     },
     "execution_count": 110,
     "metadata": {},
     "output_type": "execute_result"
    }
   ],
   "source": [
    "#for collabarative filtering\n",
    "test = test.copy().groupby('user_id')['product_id'].agg({'actual': (lambda x: list(set(x)))})\n",
    "# make recommendations for all members in the test data\n",
    "recs = []\n",
    "for user in test.index:\n",
    "    cf_predictions = get_users_predictions(user, 10, colfil_model)\n",
    "    recs.append(cf_predictions)\n",
    "        \n",
    "test['cf_predictions'] = recs\n",
    "test.head()"
   ]
  },
  {
   "cell_type": "code",
   "execution_count": 124,
   "metadata": {},
   "outputs": [
    {
     "data": {
      "text/html": [
       "<div>\n",
       "<style scoped>\n",
       "    .dataframe tbody tr th:only-of-type {\n",
       "        vertical-align: middle;\n",
       "    }\n",
       "\n",
       "    .dataframe tbody tr th {\n",
       "        vertical-align: top;\n",
       "    }\n",
       "\n",
       "    .dataframe thead th {\n",
       "        text-align: right;\n",
       "    }\n",
       "</style>\n",
       "<table border=\"1\" class=\"dataframe\">\n",
       "  <thead>\n",
       "    <tr style=\"text-align: right;\">\n",
       "      <th></th>\n",
       "      <th>actual</th>\n",
       "      <th>cf_predictions</th>\n",
       "      <th>pop_predictions</th>\n",
       "    </tr>\n",
       "    <tr>\n",
       "      <th>user_id</th>\n",
       "      <th></th>\n",
       "      <th></th>\n",
       "      <th></th>\n",
       "    </tr>\n",
       "  </thead>\n",
       "  <tbody>\n",
       "    <tr>\n",
       "      <th>A100UD67AHFODS</th>\n",
       "      <td>[B006X2HIR2, B008PU665A, B00ALNPM2C, B001JIBOL...</td>\n",
       "      <td>[B001A5FH9S, B004I5BUSO, B005OA3BSY, B002HZW7C...</td>\n",
       "      <td>[B0088CJT4U, B003ES5ZUU, B000N99BBC, B007WTAJT...</td>\n",
       "    </tr>\n",
       "    <tr>\n",
       "      <th>A100WO06OQR8BQ</th>\n",
       "      <td>[B00BGGDVOO, B000WKY2MK, B005HTIWF4, B0011VJRH...</td>\n",
       "      <td>[B000VX6XL6, B0009YJXMS, B007K3SB6K, B001XURGT...</td>\n",
       "      <td>[B0088CJT4U, B003ES5ZUU, B000N99BBC, B007WTAJT...</td>\n",
       "    </tr>\n",
       "    <tr>\n",
       "      <th>A105S56ODHGJEK</th>\n",
       "      <td>[B000UHE8Y2, B001NTFATI, B00F36Y9XU, B004R9OVE...</td>\n",
       "      <td>[B000N99BBC, B00AZFMORW, B00AR95FOU, B0054CFKQ...</td>\n",
       "      <td>[B0088CJT4U, B003ES5ZUU, B000N99BBC, B007WTAJT...</td>\n",
       "    </tr>\n",
       "    <tr>\n",
       "      <th>A105TOJ6LTVMBG</th>\n",
       "      <td>[B001KB6Z2U, B0006HBBF0, B000TXK9KE, B0002VAQR...</td>\n",
       "      <td>[B000TXK9KE, B0044BSS6Y, B001UNM414, B000I4RFO...</td>\n",
       "      <td>[B0088CJT4U, B003ES5ZUU, B000N99BBC, B007WTAJT...</td>\n",
       "    </tr>\n",
       "    <tr>\n",
       "      <th>A10AFVU66A79Y1</th>\n",
       "      <td>[B00452V1ZW, B001JIBOLQ, B003DKL57G, B003B48UQ...</td>\n",
       "      <td>[B00EUFP39E, B002V88HFE, B000VJWJW2, B00INNP5V...</td>\n",
       "      <td>[B0088CJT4U, B003ES5ZUU, B000N99BBC, B007WTAJT...</td>\n",
       "    </tr>\n",
       "  </tbody>\n",
       "</table>\n",
       "</div>"
      ],
      "text/plain": [
       "                                                           actual  \\\n",
       "user_id                                                             \n",
       "A100UD67AHFODS  [B006X2HIR2, B008PU665A, B00ALNPM2C, B001JIBOL...   \n",
       "A100WO06OQR8BQ  [B00BGGDVOO, B000WKY2MK, B005HTIWF4, B0011VJRH...   \n",
       "A105S56ODHGJEK  [B000UHE8Y2, B001NTFATI, B00F36Y9XU, B004R9OVE...   \n",
       "A105TOJ6LTVMBG  [B001KB6Z2U, B0006HBBF0, B000TXK9KE, B0002VAQR...   \n",
       "A10AFVU66A79Y1  [B00452V1ZW, B001JIBOLQ, B003DKL57G, B003B48UQ...   \n",
       "\n",
       "                                                   cf_predictions  \\\n",
       "user_id                                                             \n",
       "A100UD67AHFODS  [B001A5FH9S, B004I5BUSO, B005OA3BSY, B002HZW7C...   \n",
       "A100WO06OQR8BQ  [B000VX6XL6, B0009YJXMS, B007K3SB6K, B001XURGT...   \n",
       "A105S56ODHGJEK  [B000N99BBC, B00AZFMORW, B00AR95FOU, B0054CFKQ...   \n",
       "A105TOJ6LTVMBG  [B000TXK9KE, B0044BSS6Y, B001UNM414, B000I4RFO...   \n",
       "A10AFVU66A79Y1  [B00EUFP39E, B002V88HFE, B000VJWJW2, B00INNP5V...   \n",
       "\n",
       "                                                  pop_predictions  \n",
       "user_id                                                            \n",
       "A100UD67AHFODS  [B0088CJT4U, B003ES5ZUU, B000N99BBC, B007WTAJT...  \n",
       "A100WO06OQR8BQ  [B0088CJT4U, B003ES5ZUU, B000N99BBC, B007WTAJT...  \n",
       "A105S56ODHGJEK  [B0088CJT4U, B003ES5ZUU, B000N99BBC, B007WTAJT...  \n",
       "A105TOJ6LTVMBG  [B0088CJT4U, B003ES5ZUU, B000N99BBC, B007WTAJT...  \n",
       "A10AFVU66A79Y1  [B0088CJT4U, B003ES5ZUU, B000N99BBC, B007WTAJT...  "
      ]
     },
     "execution_count": 124,
     "metadata": {},
     "output_type": "execute_result"
    }
   ],
   "source": [
    "# make recommendations for all members in the test data based on popularity based approach\n",
    "popularity_recs = pop_df.product_id.value_counts().head(10).index.tolist()\n",
    "\n",
    "recs = []\n",
    "for user in test.index:\n",
    "    pop_predictions = popularity_recs\n",
    "    recs.append(pop_predictions)\n",
    "        \n",
    "test['pop_predictions'] = recs\n",
    "test.head()"
   ]
  },
  {
   "cell_type": "code",
   "execution_count": null,
   "metadata": {},
   "outputs": [],
   "source": []
  },
  {
   "cell_type": "code",
   "execution_count": 125,
   "metadata": {},
   "outputs": [],
   "source": [
    "actual = test.actual.values.tolist()\n",
    "cf_predictions = test.cf_predictions.values.tolist()\n",
    "pop_predictions = test.pop_predictions.values.tolist()"
   ]
  },
  {
   "cell_type": "code",
   "execution_count": 126,
   "metadata": {},
   "outputs": [
    {
     "data": {
      "text/plain": [
       "[0.001590099405312478,\n",
       " 0.0025376034772658113,\n",
       " 0.0032108174056595024,\n",
       " 0.0035312404900279537,\n",
       " 0.0037367166564530223,\n",
       " 0.00394298335553086,\n",
       " 0.004145051975675662,\n",
       " 0.004321533052363018,\n",
       " 0.004516731673860202,\n",
       " 0.004663373214970316]"
      ]
     },
     "execution_count": 126,
     "metadata": {},
     "output_type": "execute_result"
    }
   ],
   "source": [
    "pop_mark = []\n",
    "for K in np.arange(1, 11):\n",
    "    pop_mark.extend([recmetrics.mark(actual, pop_predictions, k=K)])\n",
    "pop_mark"
   ]
  },
  {
   "cell_type": "code",
   "execution_count": 127,
   "metadata": {},
   "outputs": [
    {
     "data": {
      "text/plain": [
       "[0.04843485982544904,\n",
       " 0.09686971965089808,\n",
       " 0.14530457947634712,\n",
       " 0.19373943930179616,\n",
       " 0.24217429912724517,\n",
       " 0.29060915895269424,\n",
       " 0.3390440187781433,\n",
       " 0.3872839848207039,\n",
       " 0.4350976207131965,\n",
       " 0.48253229647229506]"
      ]
     },
     "execution_count": 127,
     "metadata": {},
     "output_type": "execute_result"
    }
   ],
   "source": [
    "cf_mark = []\n",
    "for K in np.arange(1, 11):\n",
    "    cf_mark.extend([recmetrics.mark(actual, cf_predictions, k=K)])\n",
    "cf_mark"
   ]
  },
  {
   "cell_type": "code",
   "execution_count": 129,
   "metadata": {},
   "outputs": [],
   "source": [
    "catalog = amazon_new_df.product_id.unique().tolist()\n",
    "pop_coverage = recmetrics.coverage(pop_predictions, catalog)\n",
    "cf_coverage = recmetrics.coverage(cf_predictions, catalog)"
   ]
  },
  {
   "cell_type": "code",
   "execution_count": 131,
   "metadata": {},
   "outputs": [
    {
     "data": {
      "image/png": "[encoded data removed]",
      "text/plain": [
       "<Figure size 720x360 with 1 Axes>"
      ]
     },
     "metadata": {
      "needs_background": "light"
     },
     "output_type": "display_data"
    }
   ],
   "source": [
    "coverage_scores = [ pop_coverage, cf_coverage]\n",
    "model_names = ['Popularity Recommender', 'Collaborative Filter']\n",
    "\n",
    "fig = plt.figure(figsize=(10, 5))\n",
    "recmetrics.coverage_plot(coverage_scores, model_names)"
   ]
  },
  {
   "cell_type": "markdown",
   "metadata": {},
   "source": [
    "### Summarise your insights."
   ]
  },
  {
   "cell_type": "code",
   "execution_count": null,
   "metadata": {},
   "outputs": [],
   "source": [
    "# Model-based Collaborative Filtering is a personalised recommender system\n",
    "\n",
    "# The Popularity-based recommender system is non-personalised and the recommendations are based on frequecy counts\n",
    "\n",
    "# The Popularity based model has recommended the same set of 5 products to all users\n",
    "# The Collaborative Filtering based model has recommended different list for esch user based on the user past purchase history"
   ]
  }
 ],
 "metadata": {
  "kernelspec": {
   "display_name": "Python 3",
   "language": "python",
   "name": "python3"
  },
  "language_info": {
   "codemirror_mode": {
    "name": "ipython",
    "version": 3
   },
   "file_extension": ".py",
   "mimetype": "text/x-python",
   "name": "python",
   "nbconvert_exporter": "python",
   "pygments_lexer": "ipython3",
   "version": "3.7.1"
  }
 },
 "nbformat": 4,
 "nbformat_minor": 2
}
