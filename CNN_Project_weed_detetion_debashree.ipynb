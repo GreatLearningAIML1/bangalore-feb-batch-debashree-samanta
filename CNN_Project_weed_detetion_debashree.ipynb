{
 "cells": [
  {
   "cell_type": "code",
   "execution_count": 0,
   "metadata": {
    "colab": {},
    "colab_type": "code",
    "id": "cJL7bGZ9uw6f"
   },
   "outputs": [],
   "source": [
    "import numpy as np # MATRIX OPERATIONS\n",
    "import pandas as pd # EFFICIENT DATA STRUCTURES\n",
    "import matplotlib.pyplot as plt # GRAPHING AND VISUALIZATIONS\n",
    "import math # MATHEMATICAL OPERATIONS\n",
    "import cv2 # IMAGE PROCESSING - OPENCV\n",
    "from glob import glob # FILE OPERATIONS\n",
    "import itertools\n",
    "import os\n",
    "from zipfile import ZipFile\n",
    "\n",
    "\n",
    "# KERAS AND SKLEARN MODULES\n",
    "from keras.utils import np_utils\n",
    "from keras.preprocessing.image import ImageDataGenerator\n",
    "from keras.models import Sequential\n",
    "from keras.layers import Dense\n",
    "from keras.layers import Dropout\n",
    "from keras.layers import Flatten\n",
    "from keras.layers.convolutional import Conv2D\n",
    "from keras.layers.convolutional import MaxPooling2D\n",
    "from keras.layers import BatchNormalization\n",
    "from keras.callbacks import ModelCheckpoint,ReduceLROnPlateau,CSVLogger\n",
    "\n",
    "from sklearn import preprocessing\n",
    "from sklearn.model_selection import train_test_split\n",
    "from sklearn.metrics import confusion_matrix\n",
    "\n",
    "from tensorflow.python.framework import ops\n",
    "ops.reset_default_graph()\n",
    "\n",
    "%matplotlib inline\n",
    "plt.rcParams['figure.figsize'] = [16, 10]\n",
    "plt.rcParams['font.size'] = 16\n",
    "from IPython.core.interactiveshell import InteractiveShell\n",
    "InteractiveShell.ast_node_interactivity = \"all\"\n",
    "\n",
    "# GLOBAL VARIABLES\n",
    "SCALE = 70\n",
    "SEED = 7\n",
    "np.random.seed(SEED)"
   ]
  },
  {
   "cell_type": "code",
   "execution_count": 5,
   "metadata": {
    "colab": {
     "base_uri": "https://localhost:8080/",
     "height": 128
    },
    "colab_type": "code",
    "id": "-UHm3Ktzuzvp",
    "outputId": "11f35b1c-56f9-4f5a-f97f-3da5fd293f1f"
   },
   "outputs": [
    {
     "name": "stdout",
     "output_type": "stream",
     "text": [
      "Go to this URL in a browser: https://accounts.google.com/o/oauth2/auth?client_id=947318989803-6bn6qk8qdgf4n4g3pfee6491hc0brc4i.apps.googleusercontent.com&redirect_uri=urn%3Aietf%3Awg%3Aoauth%3A2.0%3Aoob&scope=email%20https%3A%2F%2Fwww.googleapis.com%2Fauth%2Fdocs.test%20https%3A%2F%2Fwww.googleapis.com%2Fauth%2Fdrive%20https%3A%2F%2Fwww.googleapis.com%2Fauth%2Fdrive.photos.readonly%20https%3A%2F%2Fwww.googleapis.com%2Fauth%2Fpeopleapi.readonly&response_type=code\n",
      "\n",
      "Enter your authorization code:\n",
      "··········\n",
      "Mounted at /content/drive\n"
     ]
    }
   ],
   "source": [
    "from google.colab import drive\n",
    "drive.mount('/content/drive')"
   ]
  },
  {
   "cell_type": "code",
   "execution_count": 0,
   "metadata": {
    "colab": {},
    "colab_type": "code",
    "id": "b6fo7fv_wfSP"
   },
   "outputs": [],
   "source": [
    "project_path = \"/content/drive/My Drive/Colab Notebooks/weed/\""
   ]
  },
  {
   "cell_type": "code",
   "execution_count": 0,
   "metadata": {
    "colab": {},
    "colab_type": "code",
    "id": "RmzeOEVlwfjw"
   },
   "outputs": [],
   "source": [
    "with ZipFile(project_path+'train.zip', 'r') as zip:\n",
    "  zip.extractall()"
   ]
  },
  {
   "cell_type": "code",
   "execution_count": 0,
   "metadata": {
    "colab": {},
    "colab_type": "code",
    "id": "XwoU1bMWwf2c"
   },
   "outputs": [],
   "source": [
    "with ZipFile(project_path+'test.zip', 'r') as zip:\n",
    "  zip.extractall()"
   ]
  },
  {
   "cell_type": "markdown",
   "metadata": {
    "colab_type": "text",
    "id": "1m568HLauw60"
   },
   "source": [
    "# Read the images and generate the train and test dataset "
   ]
  },
  {
   "cell_type": "code",
   "execution_count": 0,
   "metadata": {
    "colab": {},
    "colab_type": "code",
    "id": "xns3GmsPuw62"
   },
   "outputs": [],
   "source": [
    "import os\n",
    "from glob import glob"
   ]
  },
  {
   "cell_type": "code",
   "execution_count": 10,
   "metadata": {
    "colab": {
     "base_uri": "https://localhost:8080/",
     "height": 235
    },
    "colab_type": "code",
    "id": "Nf5BlqTcuw67",
    "outputId": "c07f599e-20e9-4408-d242-9b72b13b58f3"
   },
   "outputs": [
    {
     "data": {
      "text/plain": [
       "['Scentless Mayweed',\n",
       " 'Charlock',\n",
       " 'Cleavers',\n",
       " 'Sugar beet',\n",
       " 'Black-grass',\n",
       " 'Maize',\n",
       " 'Fat Hen',\n",
       " 'Shepherds Purse',\n",
       " 'Loose Silky-bent',\n",
       " 'Small-flowered Cranesbill',\n",
       " 'Common wheat',\n",
       " 'Common Chickweed']"
      ]
     },
     "execution_count": 10,
     "metadata": {
      "tags": []
     },
     "output_type": "execute_result"
    }
   ],
   "source": [
    "#List of Classes/Labels\n",
    "os.listdir(\"./train\")"
   ]
  },
  {
   "cell_type": "code",
   "execution_count": 11,
   "metadata": {
    "colab": {
     "base_uri": "https://localhost:8080/",
     "height": 1000
    },
    "colab_type": "code",
    "id": "bbsMg9S6uw7A",
    "outputId": "77bb64a3-2134-4c2b-abae-126f4dc37523"
   },
   "outputs": [
    {
     "data": {
      "text/plain": [
       "['c0f5d9ac8.png',\n",
       " 'ef02b4ee7.png',\n",
       " '1d321253f.png',\n",
       " 'a2b703e21.png',\n",
       " 'f8318faf1.png',\n",
       " '5ca0205f9.png',\n",
       " '93079d970.png',\n",
       " 'caa2fbd79.png',\n",
       " '5779fe8b4.png',\n",
       " 'ef65533d5.png',\n",
       " 'c1ecff98b.png',\n",
       " '0e8492cb1.png',\n",
       " 'b0acaff4a.png',\n",
       " '1b6a6494d.png',\n",
       " '8d6991365.png',\n",
       " 'a800caead.png',\n",
       " 'beebe5f4e.png',\n",
       " '77ccb8b2a.png',\n",
       " '5e6a237f2.png',\n",
       " '958bb9e96.png',\n",
       " '39858776a.png',\n",
       " 'f66ae4070.png',\n",
       " '8b043093d.png',\n",
       " 'f3fcfff1b.png',\n",
       " '38c054379.png',\n",
       " '1c52ea820.png',\n",
       " '35cf9fa01.png',\n",
       " '599691cd9.png',\n",
       " 'ab35453cb.png',\n",
       " 'dabe3e5be.png',\n",
       " '3bbef3ecb.png',\n",
       " '13b9fa92d.png',\n",
       " '25fa8d109.png',\n",
       " '5bbc0a255.png',\n",
       " '33748968f.png',\n",
       " '4c5ab9b68.png',\n",
       " 'b828443ff.png',\n",
       " 'f4ad9d950.png',\n",
       " '6be169e41.png',\n",
       " 'a169b71e7.png',\n",
       " '41f1c3cdb.png',\n",
       " '61dd2cdc5.png',\n",
       " 'a8b431a3e.png',\n",
       " 'fea3da57c.png',\n",
       " '699d3c707.png',\n",
       " 'e15fce4f2.png',\n",
       " 'c75a82234.png',\n",
       " '2ff5cb348.png',\n",
       " '1c680883c.png',\n",
       " '728eabae1.png',\n",
       " '0021e90e4.png',\n",
       " '8e3ed0a25.png',\n",
       " 'cf3a8b2fd.png',\n",
       " 'ae90f2827.png',\n",
       " '87f627bf9.png',\n",
       " '756dd5070.png',\n",
       " '9c32a797e.png',\n",
       " 'c7051c902.png',\n",
       " '53ceb4657.png',\n",
       " '6a47821f9.png',\n",
       " '39d569be4.png',\n",
       " '1541bdb2e.png',\n",
       " '7a38416be.png',\n",
       " '7d4cd07ad.png',\n",
       " '06d12f6fa.png',\n",
       " 'b145ba9d4.png',\n",
       " '8170d33c1.png',\n",
       " 'ce3d280eb.png',\n",
       " 'dfb1d9012.png',\n",
       " '3a909ead8.png',\n",
       " 'ef74dbcad.png',\n",
       " '675ec1b0b.png',\n",
       " '711b46fba.png',\n",
       " '31fcdc161.png',\n",
       " '148bbda66.png',\n",
       " '98d819587.png',\n",
       " '9326bda1b.png',\n",
       " '3d38a87bc.png',\n",
       " 'abf8b0772.png',\n",
       " '23e480e64.png',\n",
       " '177d7e2a4.png',\n",
       " '35ebe165c.png',\n",
       " '91e469b4a.png',\n",
       " '8ca6140ca.png',\n",
       " 'c10ccbd82.png',\n",
       " 'b944a49ca.png',\n",
       " '97844bfd5.png',\n",
       " 'c6b76307d.png',\n",
       " '1bf9b94a6.png',\n",
       " '0d31e6602.png',\n",
       " '9df3275da.png',\n",
       " '406ecb5c5.png',\n",
       " '96ecad7a1.png',\n",
       " 'e5064f6be.png',\n",
       " 'da713c465.png',\n",
       " 'a890ac088.png',\n",
       " '2e86f1085.png',\n",
       " 'fef2ade8c.png',\n",
       " '7506c0c02.png',\n",
       " '592cc5b89.png',\n",
       " 'c5e419015.png',\n",
       " 'a9d2eab61.png',\n",
       " '953496deb.png',\n",
       " '9c777333d.png',\n",
       " 'af45e222a.png',\n",
       " '56a01b835.png',\n",
       " '0ee4ad224.png',\n",
       " '2a667e099.png',\n",
       " '5bdcfa329.png',\n",
       " '5883b423d.png',\n",
       " '0885e7690.png',\n",
       " '3281183f9.png',\n",
       " '74068643d.png',\n",
       " '5bc6595f6.png',\n",
       " '32a8c8a1d.png',\n",
       " 'b7192c70f.png',\n",
       " '4287d810c.png',\n",
       " '59f62ad1d.png',\n",
       " 'a276c65f7.png',\n",
       " 'eec1079a1.png',\n",
       " '3f92d8039.png',\n",
       " '3d65168c2.png',\n",
       " 'dc4cd56a3.png',\n",
       " '1f5e5554e.png',\n",
       " 'b4c3df835.png',\n",
       " '12625488b.png',\n",
       " '03e322a29.png',\n",
       " 'a0b393945.png',\n",
       " 'e19ad6ac9.png',\n",
       " 'f445fe6fb.png',\n",
       " '05341a8a6.png',\n",
       " '835dc5447.png',\n",
       " 'd17f48d3b.png',\n",
       " '20ea96bcc.png',\n",
       " '67e185673.png',\n",
       " '647689543.png',\n",
       " 'e5881dd33.png',\n",
       " 'fadc6adbc.png',\n",
       " '3f826b318.png',\n",
       " '6a41bf95b.png',\n",
       " 'bfab3e3d0.png',\n",
       " '20817c846.png',\n",
       " 'edfdb4aeb.png',\n",
       " '1926e82fd.png',\n",
       " '79dafec17.png',\n",
       " '4823c3ffa.png',\n",
       " '7d3045fc3.png',\n",
       " '0625f063b.png',\n",
       " '1758a1baf.png',\n",
       " 'e14afa235.png',\n",
       " '54c8bb900.png',\n",
       " '87608f7aa.png',\n",
       " '8e29abce1.png',\n",
       " '7f31c7f42.png',\n",
       " 'b3d6fdb80.png',\n",
       " 'f2dc546ca.png',\n",
       " '11d3f68ff.png',\n",
       " 'fea1d13d6.png',\n",
       " '2d9c798f9.png',\n",
       " 'd8f4923f8.png',\n",
       " 'b6a3f7876.png',\n",
       " '14bb43eee.png',\n",
       " '506347cfe.png',\n",
       " 'b4f7c9214.png',\n",
       " 'da5255450.png',\n",
       " '85431c075.png',\n",
       " 'cc3d2a59a.png',\n",
       " '6d6eb3830.png',\n",
       " 'e82017baa.png',\n",
       " 'b2706e2b3.png',\n",
       " 'b62dca166.png',\n",
       " 'afa446484.png',\n",
       " '856f2910a.png',\n",
       " 'e721c6ac8.png',\n",
       " '36ed4f215.png',\n",
       " '063363305.png',\n",
       " '03ef36742.png',\n",
       " '0ebf8f2f4.png',\n",
       " 'd84d37a61.png',\n",
       " 'cfd8165e9.png',\n",
       " 'e921021a8.png',\n",
       " '606647f64.png',\n",
       " '4bbfd1e05.png',\n",
       " '466bb6d3b.png',\n",
       " '41e07778c.png',\n",
       " '099b961ec.png',\n",
       " '43ede9de9.png',\n",
       " '5817b766d.png',\n",
       " '9aa5587fe.png',\n",
       " '98062cd87.png',\n",
       " 'dabea05f4.png',\n",
       " 'bb64660b7.png',\n",
       " '69d1669f8.png',\n",
       " '5b3beec58.png',\n",
       " '827279bad.png',\n",
       " '92292055d.png',\n",
       " '258b1183c.png',\n",
       " '39c8fde99.png',\n",
       " '974959ec1.png',\n",
       " '63c07d340.png',\n",
       " 'd0cdc768f.png',\n",
       " 'f0ffa00bd.png',\n",
       " '3f64c2c1b.png',\n",
       " 'b03397525.png',\n",
       " 'ba3ce6b3e.png',\n",
       " '0437393b1.png',\n",
       " '29ce426a1.png',\n",
       " '4e1190d78.png',\n",
       " '1191ba346.png',\n",
       " 'fa9f3a8f9.png',\n",
       " 'e1809cef2.png',\n",
       " 'da231c97f.png',\n",
       " '490c4f9c8.png',\n",
       " 'e15472085.png',\n",
       " '9c8b08a24.png',\n",
       " '1f3f44563.png',\n",
       " '809eb0b82.png',\n",
       " 'adb7a032c.png',\n",
       " '03a2ee656.png',\n",
       " '3e9f41817.png',\n",
       " '539961189.png',\n",
       " 'e9d48d664.png',\n",
       " '659412b1a.png',\n",
       " 'd09275360.png',\n",
       " '6edb96d45.png',\n",
       " '71f5323c5.png',\n",
       " '060450d79.png',\n",
       " 'ec08a5d56.png',\n",
       " 'c60e91e07.png',\n",
       " 'f9b6bfb00.png',\n",
       " 'a006a475c.png',\n",
       " '085974290.png',\n",
       " 'b687160f5.png',\n",
       " '19b51843a.png',\n",
       " '837ac0270.png',\n",
       " '4c8005bbc.png',\n",
       " '4bbf1f6ea.png',\n",
       " 'd689256be.png',\n",
       " '003d61042.png',\n",
       " '36d62bf36.png',\n",
       " '88d8a4508.png',\n",
       " 'c7ae30f3a.png',\n",
       " 'e478c452c.png',\n",
       " '5af1d74ee.png',\n",
       " '7c85b0265.png',\n",
       " '64fe8beb9.png',\n",
       " 'bb1d1bfd3.png',\n",
       " '8e4eaeec0.png',\n",
       " '19fdf19fb.png',\n",
       " '966ae5ad9.png',\n",
       " '24d36c52c.png',\n",
       " '55920f07f.png',\n",
       " '995c7ab1e.png',\n",
       " '9d3cb4745.png',\n",
       " '53e6e9000.png',\n",
       " 'e1a0e3202.png',\n",
       " '0ad9e7dfb.png',\n",
       " '00d090cde.png',\n",
       " '599c82eea.png',\n",
       " '71b232519.png',\n",
       " 'c0d9e170b.png',\n",
       " '0c27cf05f.png',\n",
       " 'f593c9cf0.png',\n",
       " '6b721f68e.png',\n",
       " '0caeda5df.png',\n",
       " 'e19673dc9.png',\n",
       " 'a2d25b4f3.png',\n",
       " '866be78b0.png',\n",
       " 'c85ef220d.png',\n",
       " '78750e0ff.png',\n",
       " '65e97117e.png',\n",
       " 'fe9e87b78.png',\n",
       " 'df521c0c0.png',\n",
       " '9a3f20121.png',\n",
       " '4392d93cf.png',\n",
       " '74d810f87.png',\n",
       " 'cae684f8f.png',\n",
       " '65489944f.png',\n",
       " 'f85ed9b6d.png',\n",
       " '6edc76e7c.png',\n",
       " '26852751a.png',\n",
       " '5eb9c26a6.png',\n",
       " '66ab0e8d0.png',\n",
       " '3eebd36c6.png',\n",
       " 'e0ec5b6a1.png',\n",
       " '593896f83.png',\n",
       " 'a74bf916d.png',\n",
       " 'a8c8a1db0.png',\n",
       " '0d117d910.png',\n",
       " '721b2c47a.png',\n",
       " '6bce55e05.png',\n",
       " '410e6f702.png',\n",
       " '59b2c6f2b.png',\n",
       " 'd515398fd.png',\n",
       " '4e69d100a.png',\n",
       " '75cb95e91.png',\n",
       " '47f9e5d91.png',\n",
       " '5b3000b9a.png',\n",
       " '6b9d6f8c9.png',\n",
       " '65e262a6d.png',\n",
       " '37e545a60.png',\n",
       " '32c86784b.png',\n",
       " '4e9d3765f.png',\n",
       " 'fc3e58836.png',\n",
       " '3eda9cbb6.png',\n",
       " '5f04aed97.png',\n",
       " '9cce7328c.png',\n",
       " '0bf7bfb05.png',\n",
       " '976e4e079.png',\n",
       " '4f44ca525.png',\n",
       " '8a8d6c712.png',\n",
       " '6908fb540.png',\n",
       " '79fba50db.png',\n",
       " 'c7eb96871.png',\n",
       " '46c14fde2.png',\n",
       " '2a5064f19.png',\n",
       " '6680836dd.png',\n",
       " '7cabd68cc.png',\n",
       " '241e6935a.png',\n",
       " '7691014a1.png',\n",
       " '780bd2a2c.png',\n",
       " 'f4e7733d4.png',\n",
       " '8a4d3a1b1.png',\n",
       " 'd488a4fe1.png',\n",
       " '17529c555.png',\n",
       " '3d67c434b.png',\n",
       " '25a4c427e.png',\n",
       " '446f7da01.png',\n",
       " '239bdf640.png',\n",
       " 'd2f422ccb.png',\n",
       " 'efe19dc32.png',\n",
       " '279df95f2.png',\n",
       " '0ae6668fa.png',\n",
       " '8916793ce.png',\n",
       " 'bdde957ec.png',\n",
       " '4ac29bbf0.png',\n",
       " '5a38ac566.png',\n",
       " 'aad8375e0.png',\n",
       " '67ce3eaa6.png',\n",
       " '444473900.png',\n",
       " '754b1adf8.png',\n",
       " '0c4199daa.png',\n",
       " 'ffc6f8527.png',\n",
       " 'c0461776c.png',\n",
       " '08d591441.png',\n",
       " 'fa5fd1384.png',\n",
       " 'e5368474f.png',\n",
       " 'd0152bd7c.png',\n",
       " 'cec5bf198.png',\n",
       " 'c06e7c748.png',\n",
       " 'a935ca110.png',\n",
       " '73260a4ee.png',\n",
       " 'e7077322d.png',\n",
       " '686dc7ec8.png',\n",
       " '089ad62a7.png',\n",
       " '34dd57ca9.png',\n",
       " '8585f9718.png',\n",
       " '5c3cd7ea2.png',\n",
       " 'c35efa095.png',\n",
       " 'e52493d0b.png',\n",
       " 'd89db156f.png',\n",
       " '8311740de.png',\n",
       " '24dbc3b21.png',\n",
       " 'a3d0031fd.png',\n",
       " '35a90f8d0.png',\n",
       " '5b63dcc21.png',\n",
       " 'cfb18d262.png',\n",
       " '3b73c3b61.png',\n",
       " '9643fc5f4.png',\n",
       " '780defa2e.png',\n",
       " '3abb502fb.png',\n",
       " 'f4021df6c.png',\n",
       " '37297a64c.png',\n",
       " '5315c2dca.png',\n",
       " '99036c51d.png',\n",
       " '32b42c120.png',\n",
       " 'b39c71707.png',\n",
       " '219fd68d5.png',\n",
       " 'c74c5b7fc.png',\n",
       " 'a544fc46d.png',\n",
       " 'b47691c08.png',\n",
       " '00c47e980.png',\n",
       " 'a2c89c367.png',\n",
       " '44e8b8833.png',\n",
       " '1364b297a.png',\n",
       " '9b4800b42.png',\n",
       " '4f83143e1.png',\n",
       " '4bcdaa5e2.png',\n",
       " '7d22abf91.png',\n",
       " 'bd789d151.png',\n",
       " '61b044411.png',\n",
       " 'cc74feadc.png',\n",
       " '17a78fb44.png',\n",
       " 'aecfaed64.png',\n",
       " '71e73a8a0.png',\n",
       " '3fbf1a417.png',\n",
       " '8104422bb.png',\n",
       " 'c2de6020a.png',\n",
       " 'a5db42f7d.png',\n",
       " 'f48916a8c.png',\n",
       " '0751c0bbc.png',\n",
       " 'ef3e232ad.png',\n",
       " '0fb233ad6.png',\n",
       " 'cbe761896.png',\n",
       " 'df7cb5f87.png',\n",
       " '88ac6df54.png',\n",
       " '3fbd0fc6a.png',\n",
       " '862b8e7a0.png',\n",
       " '03566743d.png',\n",
       " 'e4d5ec761.png',\n",
       " '1459e96a0.png',\n",
       " '39b740f7e.png',\n",
       " '48ef6a2ff.png',\n",
       " 'b026bf8ca.png',\n",
       " '52dc7a4d6.png',\n",
       " 'a8da9c08d.png',\n",
       " 'b30ab4659.png',\n",
       " '1376f3b63.png',\n",
       " '1312065a5.png',\n",
       " '8455169fe.png',\n",
       " 'dcd7ff249.png',\n",
       " '785a73ab8.png',\n",
       " 'a060c1cf8.png',\n",
       " 'c069fc3fa.png',\n",
       " '8faadb6a8.png',\n",
       " '851c90831.png',\n",
       " 'fbf88b6be.png',\n",
       " '770a265f5.png',\n",
       " 'd2fd9df40.png',\n",
       " 'fd87b36ae.png',\n",
       " '3efa1f66c.png',\n",
       " '270b939cf.png',\n",
       " '429211ee6.png',\n",
       " '1d56351b2.png',\n",
       " 'b3e08b037.png',\n",
       " '288564c76.png',\n",
       " '5296835a0.png',\n",
       " 'bebcaab66.png',\n",
       " '3ebbe9ca4.png',\n",
       " 'f23faf9c1.png',\n",
       " 'de0b79659.png',\n",
       " 'f1f7c833f.png',\n",
       " '0c51bf229.png',\n",
       " '800a8c17e.png',\n",
       " 'dce2f6612.png',\n",
       " 'c8f50f0c3.png',\n",
       " 'a83820a2c.png',\n",
       " 'd6d31dcbe.png',\n",
       " '6db684fff.png',\n",
       " '7b21ba6ba.png',\n",
       " 'a8388a37f.png',\n",
       " '60ee66ddd.png',\n",
       " 'd102e1a15.png',\n",
       " '0dba99002.png',\n",
       " '90d119d25.png',\n",
       " 'b31292706.png',\n",
       " 'e96e57a90.png',\n",
       " '592473c83.png',\n",
       " 'cbba27d89.png',\n",
       " '24d78df74.png',\n",
       " '391dcd7fd.png',\n",
       " '9c0c5b731.png',\n",
       " 'a4b61a4ea.png',\n",
       " 'b6f3d8b5d.png',\n",
       " '16467a950.png',\n",
       " '338c7e907.png',\n",
       " '23bc8ec4f.png',\n",
       " '36839d5e9.png',\n",
       " 'cd5f0db1c.png',\n",
       " 'fba8fc78a.png',\n",
       " '0a64e3e6c.png',\n",
       " '8dbb8e1b9.png',\n",
       " '808578ed5.png',\n",
       " '98da6ef4e.png',\n",
       " 'bffc08672.png',\n",
       " 'bb7621cb3.png',\n",
       " '8a32d0bfa.png',\n",
       " '7615e52d3.png',\n",
       " '59c6a9f95.png',\n",
       " 'afcf6abd5.png',\n",
       " 'd01873fdd.png',\n",
       " 'fdea6b119.png',\n",
       " 'cb496f36e.png',\n",
       " '0c5f6c493.png',\n",
       " '026716f9b.png',\n",
       " '97b2f0a10.png',\n",
       " '8ece6efec.png',\n",
       " 'f9ea23fb5.png',\n",
       " 'd350a25fa.png',\n",
       " '1f290e016.png',\n",
       " '8f523520c.png',\n",
       " '1be0713da.png',\n",
       " '1694a70e4.png',\n",
       " 'd41d87796.png',\n",
       " '8e2e5604e.png',\n",
       " '52a87abe5.png',\n",
       " 'be2499cf4.png',\n",
       " 'bb20fce02.png',\n",
       " 'b7ad92859.png',\n",
       " '808cf55c6.png',\n",
       " '0c45ace27.png',\n",
       " 'ac3193f78.png',\n",
       " '7f9e9565d.png',\n",
       " '4b155fb07.png',\n",
       " '31f3dd81f.png',\n",
       " '060f1dc84.png',\n",
       " 'abc331628.png',\n",
       " '456d507c0.png',\n",
       " 'd14aa43f3.png',\n",
       " '043449b0b.png',\n",
       " '6da892be6.png',\n",
       " '54b3afd58.png',\n",
       " '8ab8a958b.png',\n",
       " '1cfd91582.png',\n",
       " '33317fc2a.png',\n",
       " '79e5ea8fa.png',\n",
       " 'f4234cf4f.png',\n",
       " '8cfd98117.png',\n",
       " '7696badea.png',\n",
       " 'dd9f36df7.png',\n",
       " '0911d3dee.png',\n",
       " 'e471f1d3a.png',\n",
       " '2df78338c.png',\n",
       " '855955aaf.png',\n",
       " 'fe29629fb.png',\n",
       " '2bd74d2da.png',\n",
       " '963544aa0.png',\n",
       " '523e5505c.png',\n",
       " '8db450ce3.png',\n",
       " 'd563be369.png',\n",
       " 'e6f1211a2.png',\n",
       " 'd6d80a321.png',\n",
       " '78b1bf91a.png',\n",
       " '1d0cbd819.png',\n",
       " '42e7ed442.png',\n",
       " '65d08b894.png',\n",
       " '3185294c8.png',\n",
       " '33448fe39.png',\n",
       " '8bc0261c9.png',\n",
       " '2406d6c99.png',\n",
       " '502dff972.png',\n",
       " '37c3108d6.png',\n",
       " '618de3d7a.png',\n",
       " 'eef131644.png',\n",
       " '71334c634.png',\n",
       " 'dd5ec63d9.png',\n",
       " '6982a9d30.png',\n",
       " '4e18ab737.png',\n",
       " '79d93bc96.png',\n",
       " '74fd477eb.png',\n",
       " '9b9911f20.png',\n",
       " 'c50335991.png',\n",
       " 'ace8761dd.png',\n",
       " '1e095a7e1.png',\n",
       " 'a85b48a95.png',\n",
       " 'fea355851.png',\n",
       " '93d76fd5d.png',\n",
       " 'b573b7a56.png',\n",
       " '653193c1a.png',\n",
       " 'c7b07431e.png',\n",
       " 'c63da993b.png',\n",
       " '721be0a4a.png',\n",
       " '558aa7deb.png',\n",
       " '071cb3ece.png',\n",
       " '29f49cd0b.png',\n",
       " 'fc6f686fb.png',\n",
       " 'a8de7c1b7.png',\n",
       " '22fbf13d6.png',\n",
       " '01291174f.png',\n",
       " '0086a6340.png',\n",
       " '02cfeb38d.png',\n",
       " '20e562fd5.png',\n",
       " 'd93c7ab6d.png',\n",
       " 'bf3924a57.png',\n",
       " '824f5d4e5.png',\n",
       " '7b52585da.png',\n",
       " '60fea2ef6.png',\n",
       " 'c26ccf73c.png',\n",
       " '1fefb54b7.png',\n",
       " '37714071b.png',\n",
       " 'c832e4302.png',\n",
       " '4c7838de4.png',\n",
       " 'c4ed8ed38.png',\n",
       " '9baf94467.png',\n",
       " '9d79a1f0c.png',\n",
       " 'acdb75e00.png',\n",
       " '3da774107.png',\n",
       " '00ef713a8.png',\n",
       " 'f25996db8.png',\n",
       " 'eaf0815e2.png',\n",
       " '55fed435f.png',\n",
       " 'fb022edf9.png',\n",
       " '2dd5cfba9.png',\n",
       " '29bab7cad.png',\n",
       " 'f4caf74f9.png',\n",
       " '115f93ecc.png',\n",
       " 'b9062c1c8.png',\n",
       " 'bd72d4d8a.png',\n",
       " 'bf66b9cd2.png',\n",
       " 'a3b375b34.png',\n",
       " '47b7d8e17.png',\n",
       " 'a254d71f6.png',\n",
       " '59e1cea8d.png',\n",
       " 'e80a259c5.png',\n",
       " '7beb2766f.png',\n",
       " '1dc7c45df.png',\n",
       " 'c0bc3997b.png',\n",
       " '24a058589.png',\n",
       " '30ad31220.png',\n",
       " '6dd095129.png',\n",
       " '948cdb277.png',\n",
       " '126a71ce0.png',\n",
       " '8e6ec1ca6.png',\n",
       " '19e58cc5e.png',\n",
       " '2d5058a59.png',\n",
       " '632156793.png',\n",
       " 'd668409ff.png',\n",
       " '6c874918c.png',\n",
       " '3dd52bd2a.png',\n",
       " '122913909.png',\n",
       " '56112b92c.png',\n",
       " 'bea23d9f8.png',\n",
       " 'bb1c84bbc.png',\n",
       " '7f46a71db.png',\n",
       " '07e62f903.png',\n",
       " 'fd925f542.png',\n",
       " '22e79540f.png',\n",
       " '6ba4ef411.png',\n",
       " '76dbd1054.png',\n",
       " '8301b0547.png',\n",
       " '82b5f4d33.png',\n",
       " '16357b436.png',\n",
       " '664194d19.png',\n",
       " '4a337a4a9.png',\n",
       " '04814f36d.png',\n",
       " '007b3da8b.png',\n",
       " '5dcad9a53.png',\n",
       " '8b9144917.png',\n",
       " '897e5a8de.png',\n",
       " 'b7a7f6390.png',\n",
       " 'aaf4da98f.png',\n",
       " '172f9b10b.png',\n",
       " 'ad12382d4.png',\n",
       " 'c6c8d4ba0.png',\n",
       " '8303b27ed.png',\n",
       " '59358cd44.png',\n",
       " '86f08e6d1.png',\n",
       " '165681fd9.png',\n",
       " '17d5e5ac4.png',\n",
       " 'fd253a74e.png',\n",
       " 'ab0f67743.png',\n",
       " 'a74d475c2.png',\n",
       " 'a85fc8c9a.png',\n",
       " 'f9f35cbd4.png',\n",
       " '8cf2e3e6c.png',\n",
       " '6df8e31ea.png',\n",
       " '96f14d90c.png',\n",
       " '4049a6ea6.png',\n",
       " 'b5c7fd009.png',\n",
       " '9fab816f2.png',\n",
       " '50de8a115.png',\n",
       " '604dd663f.png',\n",
       " '615d2b0a9.png',\n",
       " 'ac75d3326.png',\n",
       " 'aee6fa3df.png',\n",
       " '80e299ae9.png',\n",
       " 'ef9676433.png',\n",
       " '9516e56c4.png',\n",
       " '86676d627.png',\n",
       " '99569b224.png',\n",
       " '486e59179.png',\n",
       " '969a851be.png',\n",
       " 'c88ebfb47.png',\n",
       " '60f0bc617.png',\n",
       " 'b341d0aab.png',\n",
       " '8c98a6e9b.png',\n",
       " 'e783f5a4f.png',\n",
       " 'd5f7dd60a.png',\n",
       " '1d48b7564.png',\n",
       " '0f6cbe5e8.png',\n",
       " '5bd71f445.png',\n",
       " '1623fb9e1.png',\n",
       " '892e9d6c6.png',\n",
       " '26e7ae885.png',\n",
       " '20f983a71.png',\n",
       " 'e88bf0db9.png',\n",
       " '5a6bf96f6.png',\n",
       " '116b136de.png',\n",
       " '55a852f40.png',\n",
       " '8b27bfd2b.png',\n",
       " '205df1df3.png',\n",
       " 'f351ce097.png',\n",
       " '16fd2e01a.png',\n",
       " 'a93f940d6.png',\n",
       " '590f5aea6.png',\n",
       " 'cadab6616.png',\n",
       " '2f0004a7f.png',\n",
       " '8cf909eb3.png',\n",
       " '377283a21.png',\n",
       " 'ef7a5651d.png',\n",
       " 'ce15eee52.png',\n",
       " '668c1007c.png',\n",
       " 'a1e0a6c02.png',\n",
       " '3edf5e9ef.png',\n",
       " '8c9953903.png',\n",
       " '2ea664465.png',\n",
       " '1b490196c.png',\n",
       " '752101fdf.png',\n",
       " '534e74d83.png',\n",
       " '25cf6eb73.png',\n",
       " '3526b05cc.png',\n",
       " '24c94a6ca.png',\n",
       " 'cf46d09c5.png',\n",
       " '589e643b8.png',\n",
       " '8a30b2de3.png',\n",
       " '78c5fba1d.png',\n",
       " 'fda0b5c38.png',\n",
       " '406162ef9.png',\n",
       " 'e5e3dccff.png',\n",
       " '48231e475.png',\n",
       " '248436078.png',\n",
       " '4b032563b.png',\n",
       " 'b130a0632.png',\n",
       " '550a8b7e6.png',\n",
       " 'c5e88cd42.png',\n",
       " '2d992d1fb.png',\n",
       " 'c64370a72.png',\n",
       " '5ee9d0a5b.png',\n",
       " '7e9cf1c46.png',\n",
       " 'cb76a7766.png',\n",
       " '3827436f3.png',\n",
       " 'e5297b675.png',\n",
       " 'f6d250856.png',\n",
       " '187668bde.png',\n",
       " 'a38b8a581.png',\n",
       " '86c309150.png',\n",
       " 'e84464f5a.png',\n",
       " '1821eb11a.png',\n",
       " 'a7bd7cadb.png',\n",
       " 'a35fd6fbb.png',\n",
       " 'd6c8c3c48.png',\n",
       " '76555b064.png',\n",
       " 'b1cd2a91e.png',\n",
       " 'd7017f701.png',\n",
       " 'c5078bac5.png',\n",
       " '521b27a17.png',\n",
       " '4ea7493d5.png',\n",
       " 'da4ed3a28.png',\n",
       " 'f33e9d918.png',\n",
       " '2693e5c65.png',\n",
       " 'c10db7ae2.png',\n",
       " 'cf90fc52d.png',\n",
       " '8d6acbe9b.png',\n",
       " 'e901b0f28.png',\n",
       " '8874bba69.png',\n",
       " 'e1abb4ff9.png',\n",
       " '2f246d688.png',\n",
       " 'f1e87cba7.png',\n",
       " 'ff65bc002.png',\n",
       " '2b55a2da2.png',\n",
       " 'b215531dd.png',\n",
       " 'aa7d098d1.png',\n",
       " 'df11d56a7.png',\n",
       " '7fdb7202d.png',\n",
       " 'ce42adffb.png',\n",
       " 'dc55449b2.png',\n",
       " '48d97c645.png',\n",
       " 'a55d26a4c.png',\n",
       " 'a0f37c726.png',\n",
       " 'b98327bf4.png',\n",
       " 'd2f0f326e.png',\n",
       " '5ca2687a4.png',\n",
       " 'e9cd91682.png',\n",
       " '19618ad6a.png',\n",
       " 'e4a76885b.png',\n",
       " 'e73e308be.png',\n",
       " 'd09d24c58.png',\n",
       " '223e4af09.png',\n",
       " '6049234e6.png',\n",
       " 'd9c50616e.png',\n",
       " 'a19c3faca.png',\n",
       " 'cd6adba97.png',\n",
       " '2126dc71b.png',\n",
       " '55251925f.png',\n",
       " 'da9ef7858.png',\n",
       " 'e3f50adfc.png',\n",
       " 'b29339405.png',\n",
       " 'be341dbdc.png',\n",
       " 'd3331e071.png',\n",
       " 'e98e5d1d5.png',\n",
       " 'fda39e16f.png',\n",
       " 'ede6b84b4.png',\n",
       " 'a1da8be3c.png',\n",
       " '90b595f12.png']"
      ]
     },
     "execution_count": 11,
     "metadata": {
      "tags": []
     },
     "output_type": "execute_result"
    }
   ],
   "source": [
    "os.listdir(\"./test\")"
   ]
  },
  {
   "cell_type": "code",
   "execution_count": 0,
   "metadata": {
    "colab": {},
    "colab_type": "code",
    "id": "xvM7nvYFuw7E"
   },
   "outputs": [],
   "source": [
    "#path_to_images_train = 'plant_seedlings/train/*/*.png'\n",
    "#path_to_images_test = 'plant_seedlings/test/*.png'\n",
    "path_to_images_train = 'train/*/*.png'\n",
    "path_to_images_test = 'test/*.png'\n",
    "\n",
    "images_train = glob(path_to_images_train)\n",
    "images_test  = glob(path_to_images_test)\n",
    "\n",
    "trainingset = []\n",
    "traininglabels = []\n",
    "testset = []\n",
    "tests = []\n",
    "\n",
    "num_train = len(images_train)\n",
    "num_test  = len(images_test)\n"
   ]
  },
  {
   "cell_type": "code",
   "execution_count": 13,
   "metadata": {
    "colab": {
     "base_uri": "https://localhost:8080/",
     "height": 54
    },
    "colab_type": "code",
    "id": "pcJhsHqruw7I",
    "outputId": "623a2d08-35db-4eae-d7de-81e225414895"
   },
   "outputs": [
    {
     "name": "stdout",
     "output_type": "stream",
     "text": [
      "4750\n",
      "794\n"
     ]
    }
   ],
   "source": [
    "print(num_train)\n",
    "print(num_test)"
   ]
  },
  {
   "cell_type": "code",
   "execution_count": 14,
   "metadata": {
    "colab": {
     "base_uri": "https://localhost:8080/",
     "height": 17
    },
    "colab_type": "code",
    "id": "-DhdNgw1uw7N",
    "outputId": "51876d9a-4f3e-4338-d805-d119c716d0fd"
   },
   "outputs": [
    {
     "name": "stdout",
     "output_type": "stream",
     "text": []
    }
   ],
   "source": [
    "#READING IMAGES AND RESIZING THEM\n",
    "count = 1\n",
    "for i in images_train:\n",
    "    print(str(count)+'/'+str(num_train),end='\\r')\n",
    "    trainingset.append(cv2.resize(cv2.imread(i),(SCALE,SCALE)))\n",
    "    traininglabels.append(i.split('/')[-2])\n",
    "    count = count + 1\n",
    "trainingset = np.asarray(trainingset)\n",
    "traininglabels = pd.DataFrame(traininglabels)\n"
   ]
  },
  {
   "cell_type": "code",
   "execution_count": 15,
   "metadata": {
    "colab": {
     "base_uri": "https://localhost:8080/",
     "height": 35
    },
    "colab_type": "code",
    "id": "0rw6HATiuw7X",
    "outputId": "d2585140-e0c1-461c-a1ad-b21161efc8b8"
   },
   "outputs": [
    {
     "name": "stdout",
     "output_type": "stream",
     "text": [
      "4750 4750 4750\n"
     ]
    }
   ],
   "source": [
    "#Number of training images\n",
    "print(num_train, len(trainingset), len(traininglabels))"
   ]
  },
  {
   "cell_type": "code",
   "execution_count": 16,
   "metadata": {
    "colab": {
     "base_uri": "https://localhost:8080/",
     "height": 17
    },
    "colab_type": "code",
    "id": "3eXAW0rnuw7d",
    "outputId": "b01d1ab6-fd4e-42c6-8c9e-2aa851d022a6"
   },
   "outputs": [
    {
     "name": "stdout",
     "output_type": "stream",
     "text": []
    }
   ],
   "source": [
    "count = 1\n",
    "for i in images_test:\n",
    "    print(str(count)+'/'+str(num_test),end='\\r')\n",
    "    tests.append(i.split('/')[-1])\n",
    "    testset.append(cv2.resize(cv2.imread(i),(SCALE,SCALE)))\n",
    "    count = count + 1\n",
    "testset = np.asarray(testset)\n"
   ]
  },
  {
   "cell_type": "code",
   "execution_count": 17,
   "metadata": {
    "colab": {
     "base_uri": "https://localhost:8080/",
     "height": 35
    },
    "colab_type": "code",
    "id": "TQVk2poXuw7i",
    "outputId": "c09e13b5-3fc2-48ed-d850-acd4822305e3"
   },
   "outputs": [
    {
     "name": "stdout",
     "output_type": "stream",
     "text": [
      "794 794\n"
     ]
    }
   ],
   "source": [
    "#Number of test images\n",
    "print(num_test, len(testset))"
   ]
  },
  {
   "cell_type": "code",
   "execution_count": 18,
   "metadata": {
    "colab": {
     "base_uri": "https://localhost:8080/",
     "height": 500
    },
    "colab_type": "code",
    "id": "MAUCXdfNuw7m",
    "outputId": "5e6d4aa5-feb0-4fe4-9930-8481b4122b31"
   },
   "outputs": [
    {
     "name": "stdout",
     "output_type": "stream",
     "text": [
      "(194, 194, 3) (70, 70, 3)\n"
     ]
    },
    {
     "data": {
      "text/plain": [
       "<matplotlib.axes._subplots.AxesSubplot at 0x7f6fa9247b38>"
      ]
     },
     "execution_count": 18,
     "metadata": {
      "tags": []
     },
     "output_type": "execute_result"
    },
    {
     "data": {
      "text/plain": [
       "<matplotlib.image.AxesImage at 0x7f6fa9247748>"
      ]
     },
     "execution_count": 18,
     "metadata": {
      "tags": []
     },
     "output_type": "execute_result"
    },
    {
     "data": {
      "text/plain": [
       "<matplotlib.axes._subplots.AxesSubplot at 0x7f6fa9229780>"
      ]
     },
     "execution_count": 18,
     "metadata": {
      "tags": []
     },
     "output_type": "execute_result"
    },
    {
     "data": {
      "text/plain": [
       "<matplotlib.image.AxesImage at 0x7f6fa9229a58>"
      ]
     },
     "execution_count": 18,
     "metadata": {
      "tags": []
     },
     "output_type": "execute_result"
    },
    {
     "data": {
      "image/png": "[encoded data removed]",
      "text/plain": [
       "<Figure size 1152x720 with 2 Axes>"
      ]
     },
     "metadata": {
      "tags": []
     },
     "output_type": "display_data"
    }
   ],
   "source": [
    "#View one sample image\n",
    "sample_image_scale = trainingset[1]\n",
    "sample_image_orig = cv2.imread(images_train[1])\n",
    "print(sample_image_orig.shape, sample_image_scale.shape)\n",
    "plt.subplot(1,2,1)\n",
    "plt.imshow(sample_image_orig)\n",
    "plt.subplot(1,2,2)\n",
    "plt.imshow(sample_image_scale)"
   ]
  },
  {
   "cell_type": "code",
   "execution_count": 19,
   "metadata": {
    "colab": {
     "base_uri": "https://localhost:8080/",
     "height": 655
    },
    "colab_type": "code",
    "id": "O8tNuuX5uw7s",
    "outputId": "49466418-19a0-4251-b2fe-5303b5d4d7e6"
   },
   "outputs": [
    {
     "data": {
      "text/plain": [
       "<matplotlib.axes._subplots.AxesSubplot at 0x7f6fa9476780>"
      ]
     },
     "execution_count": 19,
     "metadata": {
      "tags": []
     },
     "output_type": "execute_result"
    },
    {
     "data": {
      "text/plain": [
       "<matplotlib.image.AxesImage at 0x7f6fa94762e8>"
      ]
     },
     "execution_count": 19,
     "metadata": {
      "tags": []
     },
     "output_type": "execute_result"
    },
    {
     "data": {
      "text/plain": [
       "<matplotlib.axes._subplots.AxesSubplot at 0x7f6fa942bfd0>"
      ]
     },
     "execution_count": 19,
     "metadata": {
      "tags": []
     },
     "output_type": "execute_result"
    },
    {
     "data": {
      "text/plain": [
       "<matplotlib.image.AxesImage at 0x7f6fa943a400>"
      ]
     },
     "execution_count": 19,
     "metadata": {
      "tags": []
     },
     "output_type": "execute_result"
    },
    {
     "data": {
      "text/plain": [
       "<matplotlib.axes._subplots.AxesSubplot at 0x7f6fa93d98d0>"
      ]
     },
     "execution_count": 19,
     "metadata": {
      "tags": []
     },
     "output_type": "execute_result"
    },
    {
     "data": {
      "text/plain": [
       "<matplotlib.image.AxesImage at 0x7f6fa9389208>"
      ]
     },
     "execution_count": 19,
     "metadata": {
      "tags": []
     },
     "output_type": "execute_result"
    },
    {
     "data": {
      "text/plain": [
       "<matplotlib.axes._subplots.AxesSubplot at 0x7f6fa93891d0>"
      ]
     },
     "execution_count": 19,
     "metadata": {
      "tags": []
     },
     "output_type": "execute_result"
    },
    {
     "data": {
      "text/plain": [
       "<matplotlib.image.AxesImage at 0x7f6fa9389518>"
      ]
     },
     "execution_count": 19,
     "metadata": {
      "tags": []
     },
     "output_type": "execute_result"
    },
    {
     "data": {
      "text/plain": [
       "<matplotlib.axes._subplots.AxesSubplot at 0x7f6fa93b1940>"
      ]
     },
     "execution_count": 19,
     "metadata": {
      "tags": []
     },
     "output_type": "execute_result"
    },
    {
     "data": {
      "text/plain": [
       "<matplotlib.image.AxesImage at 0x7f6fa9361278>"
      ]
     },
     "execution_count": 19,
     "metadata": {
      "tags": []
     },
     "output_type": "execute_result"
    },
    {
     "data": {
      "text/plain": [
       "<matplotlib.axes._subplots.AxesSubplot at 0x7f6fa9361240>"
      ]
     },
     "execution_count": 19,
     "metadata": {
      "tags": []
     },
     "output_type": "execute_result"
    },
    {
     "data": {
      "text/plain": [
       "<matplotlib.image.AxesImage at 0x7f6fa48c4a90>"
      ]
     },
     "execution_count": 19,
     "metadata": {
      "tags": []
     },
     "output_type": "execute_result"
    },
    {
     "data": {
      "image/png": "[encoded data removed]",
      "text/plain": [
       "<Figure size 1152x720 with 6 Axes>"
      ]
     },
     "metadata": {
      "tags": []
     },
     "output_type": "display_data"
    }
   ],
   "source": [
    "#Experiment preprocessing with one sample image\n",
    "blurr = cv2.GaussianBlur(sample_image_scale,(5,5),0)\n",
    "hsv = cv2.cvtColor(blurr,cv2.COLOR_BGR2HSV)\n",
    "#GREEN PARAMETERS\n",
    "lower = (25,40,50)\n",
    "upper = (75,255,255)\n",
    "mask = cv2.inRange(hsv,lower,upper)\n",
    "struc = cv2.getStructuringElement(cv2.MORPH_ELLIPSE,(11,11))\n",
    "mask = cv2.morphologyEx(mask,cv2.MORPH_CLOSE,struc)\n",
    "boolean = mask>0\n",
    "new = np.zeros_like(sample_image_scale,np.uint8)\n",
    "new[boolean] = sample_image_scale[boolean]\n",
    "plt.subplot(2,3,1);plt.imshow(sample_image_scale) # ORIGINAL\n",
    "plt.subplot(2,3,2);plt.imshow(blurr) # BLURRED\n",
    "plt.subplot(2,3,3);plt.imshow(hsv) # HSV CONVERTED\n",
    "plt.subplot(2,3,4);plt.imshow(mask) # MASKED\n",
    "plt.subplot(2,3,5);plt.imshow(boolean) # BOOLEAN MASKED\n",
    "plt.subplot(2,3,6);plt.imshow(new) # NEW PROCESSED IMAGE\n",
    "plt.show()"
   ]
  },
  {
   "cell_type": "code",
   "execution_count": 20,
   "metadata": {
    "colab": {
     "base_uri": "https://localhost:8080/",
     "height": 1000
    },
    "colab_type": "code",
    "id": "lYsIdXA4uw7y",
    "outputId": "a6ba193d-b4fb-4493-8cc1-0d47ce33d2b9"
   },
   "outputs": [
    {
     "data": {
      "text/plain": [
       "<matplotlib.axes._subplots.AxesSubplot at 0x7f6fa4874080>"
      ]
     },
     "execution_count": 20,
     "metadata": {
      "tags": []
     },
     "output_type": "execute_result"
    },
    {
     "data": {
      "text/plain": [
       "<matplotlib.image.AxesImage at 0x7f6fa47db6d8>"
      ]
     },
     "execution_count": 20,
     "metadata": {
      "tags": []
     },
     "output_type": "execute_result"
    },
    {
     "data": {
      "text/plain": [
       "<matplotlib.axes._subplots.AxesSubplot at 0x7f6fa47dbac8>"
      ]
     },
     "execution_count": 20,
     "metadata": {
      "tags": []
     },
     "output_type": "execute_result"
    },
    {
     "data": {
      "text/plain": [
       "<matplotlib.image.AxesImage at 0x7f6fa4784ef0>"
      ]
     },
     "execution_count": 20,
     "metadata": {
      "tags": []
     },
     "output_type": "execute_result"
    },
    {
     "data": {
      "text/plain": [
       "<matplotlib.axes._subplots.AxesSubplot at 0x7f6fa4798320>"
      ]
     },
     "execution_count": 20,
     "metadata": {
      "tags": []
     },
     "output_type": "execute_result"
    },
    {
     "data": {
      "text/plain": [
       "<matplotlib.image.AxesImage at 0x7f6fa47b4748>"
      ]
     },
     "execution_count": 20,
     "metadata": {
      "tags": []
     },
     "output_type": "execute_result"
    },
    {
     "data": {
      "text/plain": [
       "<matplotlib.axes._subplots.AxesSubplot at 0x7f6fa47b4b38>"
      ]
     },
     "execution_count": 20,
     "metadata": {
      "tags": []
     },
     "output_type": "execute_result"
    },
    {
     "data": {
      "text/plain": [
       "<matplotlib.image.AxesImage at 0x7f6fa475df98>"
      ]
     },
     "execution_count": 20,
     "metadata": {
      "tags": []
     },
     "output_type": "execute_result"
    },
    {
     "data": {
      "text/plain": [
       "<matplotlib.axes._subplots.AxesSubplot at 0x7f6fa4771390>"
      ]
     },
     "execution_count": 20,
     "metadata": {
      "tags": []
     },
     "output_type": "execute_result"
    },
    {
     "data": {
      "text/plain": [
       "<matplotlib.image.AxesImage at 0x7f6fa470d7b8>"
      ]
     },
     "execution_count": 20,
     "metadata": {
      "tags": []
     },
     "output_type": "execute_result"
    },
    {
     "data": {
      "text/plain": [
       "<matplotlib.axes._subplots.AxesSubplot at 0x7f6fa470dbe0>"
      ]
     },
     "execution_count": 20,
     "metadata": {
      "tags": []
     },
     "output_type": "execute_result"
    },
    {
     "data": {
      "text/plain": [
       "<matplotlib.image.AxesImage at 0x7f6fa46cb128>"
      ]
     },
     "execution_count": 20,
     "metadata": {
      "tags": []
     },
     "output_type": "execute_result"
    },
    {
     "data": {
      "image/png": "[encoded data removed]",
      "text/plain": [
       "<Figure size 1152x720 with 6 Axes>"
      ]
     },
     "metadata": {
      "tags": []
     },
     "output_type": "display_data"
    },
    {
     "data": {
      "text/plain": [
       "<matplotlib.axes._subplots.AxesSubplot at 0x7f6fa4667860>"
      ]
     },
     "execution_count": 20,
     "metadata": {
      "tags": []
     },
     "output_type": "execute_result"
    },
    {
     "data": {
      "text/plain": [
       "<matplotlib.image.AxesImage at 0x7f6fa45cb2b0>"
      ]
     },
     "execution_count": 20,
     "metadata": {
      "tags": []
     },
     "output_type": "execute_result"
    },
    {
     "data": {
      "text/plain": [
       "<matplotlib.axes._subplots.AxesSubplot at 0x7f6fa45cb5c0>"
      ]
     },
     "execution_count": 20,
     "metadata": {
      "tags": []
     },
     "output_type": "execute_result"
    },
    {
     "data": {
      "text/plain": [
       "<matplotlib.image.AxesImage at 0x7f6fa45f4a58>"
      ]
     },
     "execution_count": 20,
     "metadata": {
      "tags": []
     },
     "output_type": "execute_result"
    },
    {
     "data": {
      "text/plain": [
       "<matplotlib.axes._subplots.AxesSubplot at 0x7f6fa45f4b70>"
      ]
     },
     "execution_count": 20,
     "metadata": {
      "tags": []
     },
     "output_type": "execute_result"
    },
    {
     "data": {
      "text/plain": [
       "<matplotlib.image.AxesImage at 0x7f6fa45a6320>"
      ]
     },
     "execution_count": 20,
     "metadata": {
      "tags": []
     },
     "output_type": "execute_result"
    },
    {
     "data": {
      "text/plain": [
       "<matplotlib.axes._subplots.AxesSubplot at 0x7f6fa45a6630>"
      ]
     },
     "execution_count": 20,
     "metadata": {
      "tags": []
     },
     "output_type": "execute_result"
    },
    {
     "data": {
      "text/plain": [
       "<matplotlib.image.AxesImage at 0x7f6fa454cb38>"
      ]
     },
     "execution_count": 20,
     "metadata": {
      "tags": []
     },
     "output_type": "execute_result"
    },
    {
     "data": {
      "text/plain": [
       "<matplotlib.axes._subplots.AxesSubplot at 0x7f6fa454ce80>"
      ]
     },
     "execution_count": 20,
     "metadata": {
      "tags": []
     },
     "output_type": "execute_result"
    },
    {
     "data": {
      "text/plain": [
       "<matplotlib.image.AxesImage at 0x7f6fa44fe358>"
      ]
     },
     "execution_count": 20,
     "metadata": {
      "tags": []
     },
     "output_type": "execute_result"
    },
    {
     "data": {
      "text/plain": [
       "<matplotlib.axes._subplots.AxesSubplot at 0x7f6fa44fe6a0>"
      ]
     },
     "execution_count": 20,
     "metadata": {
      "tags": []
     },
     "output_type": "execute_result"
    },
    {
     "data": {
      "text/plain": [
       "<matplotlib.image.AxesImage at 0x7f6fa4526b70>"
      ]
     },
     "execution_count": 20,
     "metadata": {
      "tags": []
     },
     "output_type": "execute_result"
    },
    {
     "data": {
      "text/plain": [
       "<matplotlib.axes._subplots.AxesSubplot at 0x7f6fa4526ef0>"
      ]
     },
     "execution_count": 20,
     "metadata": {
      "tags": []
     },
     "output_type": "execute_result"
    },
    {
     "data": {
      "text/plain": [
       "<matplotlib.image.AxesImage at 0x7f6fa44d7438>"
      ]
     },
     "execution_count": 20,
     "metadata": {
      "tags": []
     },
     "output_type": "execute_result"
    },
    {
     "data": {
      "text/plain": [
       "<matplotlib.axes._subplots.AxesSubplot at 0x7f6fa44d7748>"
      ]
     },
     "execution_count": 20,
     "metadata": {
      "tags": []
     },
     "output_type": "execute_result"
    },
    {
     "data": {
      "text/plain": [
       "<matplotlib.image.AxesImage at 0x7f6fa4480ac8>"
      ]
     },
     "execution_count": 20,
     "metadata": {
      "tags": []
     },
     "output_type": "execute_result"
    },
    {
     "data": {
      "image/png": "[encoded data removed]",
      "text/plain": [
       "<Figure size 1152x720 with 8 Axes>"
      ]
     },
     "metadata": {
      "tags": []
     },
     "output_type": "display_data"
    }
   ],
   "source": [
    "new_train = []\n",
    "sets = []; getEx = True\n",
    "for i in trainingset:\n",
    "    blurr = cv2.GaussianBlur(i,(5,5),0)\n",
    "    hsv = cv2.cvtColor(blurr,cv2.COLOR_BGR2HSV)\n",
    "    #GREEN PARAMETERS\n",
    "    lower = (25,40,50)\n",
    "    upper = (75,255,255)\n",
    "    mask = cv2.inRange(hsv,lower,upper)\n",
    "    struc = cv2.getStructuringElement(cv2.MORPH_ELLIPSE,(11,11))\n",
    "    mask = cv2.morphologyEx(mask,cv2.MORPH_CLOSE,struc)\n",
    "    boolean = mask>0\n",
    "    new = np.zeros_like(i,np.uint8)\n",
    "    new[boolean] = i[boolean]\n",
    "    new_train.append(new)\n",
    "    \n",
    "    if getEx:\n",
    "        plt.subplot(2,3,1);plt.imshow(i) # ORIGINAL\n",
    "        plt.subplot(2,3,2);plt.imshow(blurr) # BLURRED\n",
    "        plt.subplot(2,3,3);plt.imshow(hsv) # HSV CONVERTED\n",
    "        plt.subplot(2,3,4);plt.imshow(mask) # MASKED\n",
    "        plt.subplot(2,3,5);plt.imshow(boolean) # BOOLEAN MASKED\n",
    "        plt.subplot(2,3,6);plt.imshow(new) # NEW PROCESSED IMAGE\n",
    "        plt.show()\n",
    "        getEx = False\n",
    "new_train = np.asarray(new_train)\n",
    "\n",
    "# CLEANED IMAGES\n",
    "for i in range(8):\n",
    "    plt.subplot(2,4,i+1)\n",
    "    plt.imshow(new_train[i])"
   ]
  },
  {
   "cell_type": "markdown",
   "metadata": {
    "colab_type": "text",
    "id": "gYbVhYz5uw78"
   },
   "source": [
    "# Divide the data set into Train and validation data sets"
   ]
  },
  {
   "cell_type": "code",
   "execution_count": 0,
   "metadata": {
    "colab": {},
    "colab_type": "code",
    "id": "KnsDXJCSuw79"
   },
   "outputs": [],
   "source": [
    "#Normalize and split into train/validation set\n",
    "new_train = new_train/255\n",
    "x_train,x_test,y_train,y_test = train_test_split(new_train,clearalllabels,test_size=0.1,\n",
    "                                                 random_state=SEED,stratify=clearalllabels)"
   ]
  },
  {
   "cell_type": "code",
   "execution_count": 23,
   "metadata": {
    "colab": {
     "base_uri": "https://localhost:8080/",
     "height": 35
    },
    "colab_type": "code",
    "id": "7Pha0EGguw8B",
    "outputId": "8d3e6c78-a7b2-4326-a543-5bc95f96b7d7"
   },
   "outputs": [
    {
     "name": "stdout",
     "output_type": "stream",
     "text": [
      "4275 475\n"
     ]
    }
   ],
   "source": [
    "print(len(x_train),len(x_test))"
   ]
  },
  {
   "cell_type": "markdown",
   "metadata": {
    "colab_type": "text",
    "id": "eddDDGEsuw8G"
   },
   "source": [
    "# Initialize & build the model"
   ]
  },
  {
   "cell_type": "code",
   "execution_count": 24,
   "metadata": {
    "colab": {
     "base_uri": "https://localhost:8080/",
     "height": 1000
    },
    "colab_type": "code",
    "id": "lIcLb06puw8P",
    "outputId": "56c5f990-ea1e-47be-c97e-33eb43a667d7"
   },
   "outputs": [
    {
     "name": "stdout",
     "output_type": "stream",
     "text": [
      "WARNING:tensorflow:From /usr/local/lib/python3.6/dist-packages/keras/backend/tensorflow_backend.py:66: The name tf.get_default_graph is deprecated. Please use tf.compat.v1.get_default_graph instead.\n",
      "\n",
      "WARNING:tensorflow:From /usr/local/lib/python3.6/dist-packages/keras/backend/tensorflow_backend.py:541: The name tf.placeholder is deprecated. Please use tf.compat.v1.placeholder instead.\n",
      "\n",
      "WARNING:tensorflow:From /usr/local/lib/python3.6/dist-packages/keras/backend/tensorflow_backend.py:4432: The name tf.random_uniform is deprecated. Please use tf.random.uniform instead.\n",
      "\n",
      "WARNING:tensorflow:From /usr/local/lib/python3.6/dist-packages/keras/backend/tensorflow_backend.py:4267: The name tf.nn.max_pool is deprecated. Please use tf.nn.max_pool2d instead.\n",
      "\n",
      "WARNING:tensorflow:From /usr/local/lib/python3.6/dist-packages/keras/backend/tensorflow_backend.py:190: The name tf.get_default_session is deprecated. Please use tf.compat.v1.get_default_session instead.\n",
      "\n",
      "WARNING:tensorflow:From /usr/local/lib/python3.6/dist-packages/keras/backend/tensorflow_backend.py:197: The name tf.ConfigProto is deprecated. Please use tf.compat.v1.ConfigProto instead.\n",
      "\n",
      "WARNING:tensorflow:From /usr/local/lib/python3.6/dist-packages/keras/backend/tensorflow_backend.py:2041: The name tf.nn.fused_batch_norm is deprecated. Please use tf.compat.v1.nn.fused_batch_norm instead.\n",
      "\n",
      "WARNING:tensorflow:From /usr/local/lib/python3.6/dist-packages/keras/backend/tensorflow_backend.py:3733: calling dropout (from tensorflow.python.ops.nn_ops) with keep_prob is deprecated and will be removed in a future version.\n",
      "Instructions for updating:\n",
      "Please use `rate` instead of `keep_prob`. Rate should be set to `rate = 1 - keep_prob`.\n",
      "WARNING:tensorflow:From /usr/local/lib/python3.6/dist-packages/keras/optimizers.py:793: The name tf.train.Optimizer is deprecated. Please use tf.compat.v1.train.Optimizer instead.\n",
      "\n",
      "Model: \"sequential_1\"\n",
      "_________________________________________________________________\n",
      "Layer (type)                 Output Shape              Param #   \n",
      "=================================================================\n",
      "conv2d_1 (Conv2D)            (None, 66, 66, 64)        4864      \n",
      "_________________________________________________________________\n",
      "conv2d_2 (Conv2D)            (None, 62, 62, 64)        102464    \n",
      "_________________________________________________________________\n",
      "max_pooling2d_1 (MaxPooling2 (None, 31, 31, 64)        0         \n",
      "_________________________________________________________________\n",
      "batch_normalization_1 (Batch (None, 31, 31, 64)        256       \n",
      "_________________________________________________________________\n",
      "dropout_1 (Dropout)          (None, 31, 31, 64)        0         \n",
      "_________________________________________________________________\n",
      "flatten_1 (Flatten)          (None, 61504)             0         \n",
      "_________________________________________________________________\n",
      "dense_1 (Dense)              (None, 12)                738060    \n",
      "=================================================================\n",
      "Total params: 845,644\n",
      "Trainable params: 845,516\n",
      "Non-trainable params: 128\n",
      "_________________________________________________________________\n",
      "WARNING:tensorflow:From /usr/local/lib/python3.6/dist-packages/tensorflow/python/ops/math_grad.py:1250: add_dispatch_support.<locals>.wrapper (from tensorflow.python.ops.array_ops) is deprecated and will be removed in a future version.\n",
      "Instructions for updating:\n",
      "Use tf.where in 2.0, which has the same broadcast rule as np.where\n",
      "Train on 4275 samples, validate on 475 samples\n",
      "Epoch 1/15\n",
      "4275/4275 [==============================] - 10s 2ms/step - loss: 1.5142 - acc: 0.5018 - val_loss: 1.6284 - val_acc: 0.5747\n",
      "Epoch 2/15\n",
      "4275/4275 [==============================] - 5s 1ms/step - loss: 0.6721 - acc: 0.7806 - val_loss: 1.1874 - val_acc: 0.6232\n",
      "Epoch 3/15\n",
      "4275/4275 [==============================] - 5s 1ms/step - loss: 0.3558 - acc: 0.8880 - val_loss: 1.9952 - val_acc: 0.5200\n",
      "Epoch 4/15\n",
      "4275/4275 [==============================] - 5s 1ms/step - loss: 0.1392 - acc: 0.9581 - val_loss: 2.3723 - val_acc: 0.5663\n",
      "Epoch 5/15\n",
      "4275/4275 [==============================] - 5s 1ms/step - loss: 0.0644 - acc: 0.9822 - val_loss: 3.0036 - val_acc: 0.5537\n",
      "Epoch 6/15\n",
      "4275/4275 [==============================] - 5s 1ms/step - loss: 0.0283 - acc: 0.9963 - val_loss: 2.3090 - val_acc: 0.6253\n",
      "Epoch 7/15\n",
      "4275/4275 [==============================] - 5s 1ms/step - loss: 0.0152 - acc: 0.9986 - val_loss: 2.4897 - val_acc: 0.6126\n",
      "Epoch 8/15\n",
      "4275/4275 [==============================] - 5s 1ms/step - loss: 0.0122 - acc: 0.9984 - val_loss: 2.2553 - val_acc: 0.6274\n",
      "Epoch 9/15\n",
      "4275/4275 [==============================] - 5s 1ms/step - loss: 0.0181 - acc: 0.9970 - val_loss: 2.7267 - val_acc: 0.5789\n",
      "Epoch 10/15\n",
      "4275/4275 [==============================] - 5s 1ms/step - loss: 0.0239 - acc: 0.9949 - val_loss: 2.2001 - val_acc: 0.6379\n",
      "Epoch 11/15\n",
      "4275/4275 [==============================] - 5s 1ms/step - loss: 0.0222 - acc: 0.9960 - val_loss: 2.2104 - val_acc: 0.6463\n",
      "Epoch 12/15\n",
      "4275/4275 [==============================] - 5s 1ms/step - loss: 0.0167 - acc: 0.9960 - val_loss: 3.3293 - val_acc: 0.5789\n",
      "Epoch 13/15\n",
      "4275/4275 [==============================] - 5s 1ms/step - loss: 0.0231 - acc: 0.9946 - val_loss: 2.6150 - val_acc: 0.6295\n",
      "Epoch 14/15\n",
      "4275/4275 [==============================] - 5s 1ms/step - loss: 0.0310 - acc: 0.9927 - val_loss: 2.6262 - val_acc: 0.5853\n",
      "Epoch 15/15\n",
      "4275/4275 [==============================] - 5s 1ms/step - loss: 0.0298 - acc: 0.9932 - val_loss: 2.9434 - val_acc: 0.6105\n"
     ]
    },
    {
     "data": {
      "text/plain": [
       "<keras.callbacks.History at 0x7f6fa47367b8>"
      ]
     },
     "execution_count": 24,
     "metadata": {
      "tags": []
     },
     "output_type": "execute_result"
    }
   ],
   "source": [
    "#Define and train the base model \n",
    "EPOCHS=15\n",
    "BATCH_SIZE=75\n",
    "\n",
    "base_model = Sequential()\n",
    "\n",
    "base_model.add(Conv2D(filters=64, kernel_size=(5, 5), input_shape=(SCALE, SCALE, 3), activation='relu'))\n",
    "base_model.add(Conv2D(filters=64, kernel_size=(5, 5), activation='relu'))\n",
    "base_model.add(MaxPooling2D((2, 2)))\n",
    "base_model.add(BatchNormalization(axis=3))\n",
    "base_model.add(Dropout(0.1))\n",
    "\n",
    "base_model.add(Flatten())\n",
    "\n",
    "base_model.add(Dense(classes, activation='softmax'))\n",
    "\n",
    "base_model.compile(loss='categorical_crossentropy', optimizer='adam', metrics=['accuracy'])\n",
    "\n",
    "base_model.summary()\n",
    "base_model.fit(x_train, y_train, batch_size=BATCH_SIZE, epochs=EPOCHS, validation_data=(x_test, y_test))"
   ]
  },
  {
   "cell_type": "markdown",
   "metadata": {
    "colab_type": "text",
    "id": "8H_5b3Z3uw8b"
   },
   "source": [
    "# Optimize the model"
   ]
  },
  {
   "cell_type": "code",
   "execution_count": 0,
   "metadata": {
    "colab": {},
    "colab_type": "code",
    "id": "lEEMHt6juw8c"
   },
   "outputs": [],
   "source": [
    "#Base model is heavily overfitting with high training accuracy and low validation accuracy. \n",
    "#Optimize the model exploring on the following: \n",
    "#1) Batch Normalization to transform inputs to be mean zero and unit variance for regularization. \n",
    "#2) Max pooling to provide abstracted form by down-sampling/reducing dimensionality. \n",
    "#3) Drop out layer to randomly ignore randomly selected neurons for regularization\n",
    "\n",
    "\n",
    "#One such experimented architecture is provided below. "
   ]
  },
  {
   "cell_type": "code",
   "execution_count": 26,
   "metadata": {
    "colab": {
     "base_uri": "https://localhost:8080/",
     "height": 1000
    },
    "colab_type": "code",
    "id": "aDHsmkwmuw8l",
    "outputId": "2757dcd9-aec1-4dba-c7ff-7d832b176480"
   },
   "outputs": [
    {
     "name": "stdout",
     "output_type": "stream",
     "text": [
      "Model: \"sequential_2\"\n",
      "_________________________________________________________________\n",
      "Layer (type)                 Output Shape              Param #   \n",
      "=================================================================\n",
      "conv2d_3 (Conv2D)            (None, 66, 66, 64)        4864      \n",
      "_________________________________________________________________\n",
      "batch_normalization_2 (Batch (None, 66, 66, 64)        256       \n",
      "_________________________________________________________________\n",
      "conv2d_4 (Conv2D)            (None, 62, 62, 64)        102464    \n",
      "_________________________________________________________________\n",
      "max_pooling2d_2 (MaxPooling2 (None, 31, 31, 64)        0         \n",
      "_________________________________________________________________\n",
      "batch_normalization_3 (Batch (None, 31, 31, 64)        256       \n",
      "_________________________________________________________________\n",
      "dropout_2 (Dropout)          (None, 31, 31, 64)        0         \n",
      "_________________________________________________________________\n",
      "conv2d_5 (Conv2D)            (None, 27, 27, 128)       204928    \n",
      "_________________________________________________________________\n",
      "batch_normalization_4 (Batch (None, 27, 27, 128)       512       \n",
      "_________________________________________________________________\n",
      "conv2d_6 (Conv2D)            (None, 23, 23, 128)       409728    \n",
      "_________________________________________________________________\n",
      "max_pooling2d_3 (MaxPooling2 (None, 11, 11, 128)       0         \n",
      "_________________________________________________________________\n",
      "batch_normalization_5 (Batch (None, 11, 11, 128)       512       \n",
      "_________________________________________________________________\n",
      "dropout_3 (Dropout)          (None, 11, 11, 128)       0         \n",
      "_________________________________________________________________\n",
      "conv2d_7 (Conv2D)            (None, 7, 7, 256)         819456    \n",
      "_________________________________________________________________\n",
      "batch_normalization_6 (Batch (None, 7, 7, 256)         1024      \n",
      "_________________________________________________________________\n",
      "conv2d_8 (Conv2D)            (None, 3, 3, 256)         1638656   \n",
      "_________________________________________________________________\n",
      "max_pooling2d_4 (MaxPooling2 (None, 1, 1, 256)         0         \n",
      "_________________________________________________________________\n",
      "batch_normalization_7 (Batch (None, 1, 1, 256)         1024      \n",
      "_________________________________________________________________\n",
      "dropout_4 (Dropout)          (None, 1, 1, 256)         0         \n",
      "_________________________________________________________________\n",
      "flatten_2 (Flatten)          (None, 256)               0         \n",
      "_________________________________________________________________\n",
      "dense_2 (Dense)              (None, 256)               65792     \n",
      "_________________________________________________________________\n",
      "batch_normalization_8 (Batch (None, 256)               1024      \n",
      "_________________________________________________________________\n",
      "dropout_5 (Dropout)          (None, 256)               0         \n",
      "_________________________________________________________________\n",
      "dense_3 (Dense)              (None, 256)               65792     \n",
      "_________________________________________________________________\n",
      "batch_normalization_9 (Batch (None, 256)               1024      \n",
      "_________________________________________________________________\n",
      "dropout_6 (Dropout)          (None, 256)               0         \n",
      "_________________________________________________________________\n",
      "dense_4 (Dense)              (None, 12)                3084      \n",
      "=================================================================\n",
      "Total params: 3,320,396\n",
      "Trainable params: 3,317,580\n",
      "Non-trainable params: 2,816\n",
      "_________________________________________________________________\n"
     ]
    }
   ],
   "source": [
    "#Define the model architecture\n",
    "model = Sequential()\n",
    "\n",
    "model.add(Conv2D(filters=64, kernel_size=(5, 5), input_shape=(SCALE, SCALE, 3), activation='relu'))\n",
    "model.add(BatchNormalization(axis=3))\n",
    "model.add(Conv2D(filters=64, kernel_size=(5, 5), activation='relu'))\n",
    "model.add(MaxPooling2D((2, 2)))\n",
    "model.add(BatchNormalization(axis=3))\n",
    "model.add(Dropout(0.1))\n",
    "\n",
    "model.add(Conv2D(filters=128, kernel_size=(5, 5), activation='relu'))\n",
    "model.add(BatchNormalization(axis=3))\n",
    "model.add(Conv2D(filters=128, kernel_size=(5, 5), activation='relu'))\n",
    "model.add(MaxPooling2D((2, 2)))\n",
    "model.add(BatchNormalization(axis=3))\n",
    "model.add(Dropout(0.1))\n",
    "\n",
    "model.add(Conv2D(filters=256, kernel_size=(5, 5), activation='relu'))\n",
    "model.add(BatchNormalization(axis=3))\n",
    "model.add(Conv2D(filters=256, kernel_size=(5, 5), activation='relu'))\n",
    "model.add(MaxPooling2D((2, 2)))\n",
    "model.add(BatchNormalization(axis=3))\n",
    "model.add(Dropout(0.1))\n",
    "\n",
    "model.add(Flatten())\n",
    "\n",
    "model.add(Dense(256, activation='relu'))\n",
    "model.add(BatchNormalization())\n",
    "model.add(Dropout(0.5))\n",
    "\n",
    "model.add(Dense(256, activation='relu'))\n",
    "model.add(BatchNormalization())\n",
    "model.add(Dropout(0.5))\n",
    "\n",
    "model.add(Dense(classes, activation='softmax'))\n",
    "\n",
    "model.compile(loss='categorical_crossentropy', optimizer='adam', metrics=['accuracy'])\n",
    "\n",
    "model.summary()"
   ]
  },
  {
   "cell_type": "code",
   "execution_count": 0,
   "metadata": {
    "colab": {},
    "colab_type": "code",
    "id": "pLM_-jMWuw8q"
   },
   "outputs": [],
   "source": [
    "# SETTING UP CHECKPOINTS, CALLBACKS AND REDUCING LEARNING RATE\n",
    "lrr = ReduceLROnPlateau(monitor='val_acc', \n",
    "                        patience=3, \n",
    "                        verbose=2, \n",
    "                        factor=0.4, \n",
    "                        min_lr=0.00001)\n",
    "\n",
    "filepath=\"weights.best_{epoch:02d}-{val_acc:.2f}.hdf5\"\n",
    "checkpoints = ModelCheckpoint(filepath, monitor='val_acc', \n",
    "                              verbose=2, save_best_only=True, mode='max')\n",
    "filepath=\"weights.last_auto4.hdf5\"\n",
    "checkpoints_full = ModelCheckpoint(filepath, monitor='val_acc', \n",
    "                                 verbose=2, save_best_only=False, mode='max')\n",
    "\n",
    "callbacks_list = [checkpoints, lrr, checkpoints_full]"
   ]
  },
  {
   "cell_type": "code",
   "execution_count": 0,
   "metadata": {
    "colab": {},
    "colab_type": "code",
    "id": "lVRq6JwNuw8u"
   },
   "outputs": [],
   "source": [
    "generator = ImageDataGenerator(rotation_range = 180,zoom_range = 0.1,width_shift_range = 0.1,\n",
    "                               height_shift_range = 0.1,horizontal_flip = True,vertical_flip = True)\n",
    "generator.fit(x_train)"
   ]
  },
  {
   "cell_type": "code",
   "execution_count": 29,
   "metadata": {
    "colab": {
     "base_uri": "https://localhost:8080/",
     "height": 1000
    },
    "colab_type": "code",
    "id": "HsYrPhxyuw80",
    "outputId": "1b061fd1-e048-4134-a6af-33bbe99b3d36"
   },
   "outputs": [
    {
     "data": {
      "text/plain": [
       "'06.Oct 2019 17:34:13'"
      ]
     },
     "execution_count": 29,
     "metadata": {
      "tags": []
     },
     "output_type": "execute_result"
    },
    {
     "name": "stdout",
     "output_type": "stream",
     "text": [
      "Epoch 1/10\n",
      "123/122 [==============================] - 18s 145ms/step - loss: 2.5267 - acc: 0.2829 - val_loss: 3.1014 - val_acc: 0.3895\n",
      "\n",
      "Epoch 00001: val_acc improved from -inf to 0.38947, saving model to weights.best_01-0.39.hdf5\n",
      "\n",
      "Epoch 00001: saving model to weights.last_auto4.hdf5\n",
      "Epoch 2/10\n",
      "123/122 [==============================] - 14s 112ms/step - loss: 1.9494 - acc: 0.3870 - val_loss: 3.3054 - val_acc: 0.3747\n",
      "\n",
      "Epoch 00002: val_acc did not improve from 0.38947\n",
      "\n",
      "Epoch 00002: saving model to weights.last_auto4.hdf5\n",
      "Epoch 3/10\n",
      "123/122 [==============================] - 14s 112ms/step - loss: 1.6899 - acc: 0.4316 - val_loss: 1.4981 - val_acc: 0.4611\n",
      "\n",
      "Epoch 00003: val_acc improved from 0.38947 to 0.46105, saving model to weights.best_03-0.46.hdf5\n",
      "\n",
      "Epoch 00003: saving model to weights.last_auto4.hdf5\n",
      "Epoch 4/10\n",
      "123/122 [==============================] - 14s 113ms/step - loss: 1.4836 - acc: 0.4822 - val_loss: 1.8715 - val_acc: 0.5095\n",
      "\n",
      "Epoch 00004: val_acc improved from 0.46105 to 0.50947, saving model to weights.best_04-0.51.hdf5\n",
      "\n",
      "Epoch 00004: saving model to weights.last_auto4.hdf5\n",
      "Epoch 5/10\n",
      "123/122 [==============================] - 14s 113ms/step - loss: 1.3490 - acc: 0.5378 - val_loss: 1.1793 - val_acc: 0.5874\n",
      "\n",
      "Epoch 00005: val_acc improved from 0.50947 to 0.58737, saving model to weights.best_05-0.59.hdf5\n",
      "\n",
      "Epoch 00005: saving model to weights.last_auto4.hdf5\n",
      "Epoch 6/10\n",
      "123/122 [==============================] - 14s 113ms/step - loss: 1.1968 - acc: 0.5889 - val_loss: 2.6922 - val_acc: 0.3242\n",
      "\n",
      "Epoch 00006: val_acc did not improve from 0.58737\n",
      "\n",
      "Epoch 00006: saving model to weights.last_auto4.hdf5\n",
      "Epoch 7/10\n",
      "123/122 [==============================] - 14s 113ms/step - loss: 1.1343 - acc: 0.6168 - val_loss: 1.4571 - val_acc: 0.5621\n",
      "\n",
      "Epoch 00007: val_acc did not improve from 0.58737\n",
      "\n",
      "Epoch 00007: saving model to weights.last_auto4.hdf5\n",
      "Epoch 8/10\n",
      "123/122 [==============================] - 14s 113ms/step - loss: 1.0338 - acc: 0.6525 - val_loss: 0.8108 - val_acc: 0.7074\n",
      "\n",
      "Epoch 00008: val_acc improved from 0.58737 to 0.70737, saving model to weights.best_08-0.71.hdf5\n",
      "\n",
      "Epoch 00008: saving model to weights.last_auto4.hdf5\n",
      "Epoch 9/10\n",
      "123/122 [==============================] - 14s 113ms/step - loss: 0.9839 - acc: 0.6748 - val_loss: 0.8663 - val_acc: 0.7179\n",
      "\n",
      "Epoch 00009: val_acc improved from 0.70737 to 0.71789, saving model to weights.best_09-0.72.hdf5\n",
      "\n",
      "Epoch 00009: saving model to weights.last_auto4.hdf5\n",
      "Epoch 10/10\n",
      "123/122 [==============================] - 14s 113ms/step - loss: 0.9168 - acc: 0.6913 - val_loss: 0.8750 - val_acc: 0.7011\n",
      "\n",
      "Epoch 00010: val_acc did not improve from 0.71789\n",
      "\n",
      "Epoch 00010: saving model to weights.last_auto4.hdf5\n"
     ]
    },
    {
     "data": {
      "text/plain": [
       "<keras.callbacks.History at 0x7f6f57b4fcf8>"
      ]
     },
     "execution_count": 29,
     "metadata": {
      "tags": []
     },
     "output_type": "execute_result"
    },
    {
     "data": {
      "text/plain": [
       "'06.Oct 2019 17:36:42'"
      ]
     },
     "execution_count": 29,
     "metadata": {
      "tags": []
     },
     "output_type": "execute_result"
    }
   ],
   "source": [
    "# Store Training Results\n",
    "import datetime \n",
    "\n",
    "datetime.datetime.now().strftime(\"%d.%b %Y %H:%M:%S\")\n",
    "EPOCHS=10\n",
    "BATCH_SIZE=35\n",
    "\n",
    "# Fit the model on batches with real-time data augmentation:\n",
    "model.fit_generator(generator.flow(x_train, y_train, batch_size=BATCH_SIZE), steps_per_epoch=len(x_train) / BATCH_SIZE, \n",
    "                    epochs=EPOCHS, validation_data=(x_test, y_test), callbacks=callbacks_list)\n",
    "\n",
    "\n",
    "datetime.datetime.now().strftime(\"%d.%b %Y %H:%M:%S\")"
   ]
  },
  {
   "cell_type": "code",
   "execution_count": 30,
   "metadata": {
    "colab": {
     "base_uri": "https://localhost:8080/",
     "height": 54
    },
    "colab_type": "code",
    "id": "7jjXQreyuw84",
    "outputId": "994aac33-d7f9-4328-ae60-5e7e74d3e9c0"
   },
   "outputs": [
    {
     "name": "stdout",
     "output_type": "stream",
     "text": [
      "4275/4275 [==============================] - 4s 997us/step\n",
      "[0.7883343319307293, 0.7251461987885816]\n"
     ]
    }
   ],
   "source": [
    "print(model.evaluate(x_train, y_train))  # Evaluate on train set"
   ]
  },
  {
   "cell_type": "code",
   "execution_count": 31,
   "metadata": {
    "colab": {
     "base_uri": "https://localhost:8080/",
     "height": 54
    },
    "colab_type": "code",
    "id": "vnegHOP-uw88",
    "outputId": "ef803555-9506-4559-dbce-47f093bcfd00"
   },
   "outputs": [
    {
     "name": "stdout",
     "output_type": "stream",
     "text": [
      "475/475 [==============================] - 1s 1ms/step\n",
      "[0.875038245100724, 0.7010526305750797]\n"
     ]
    }
   ],
   "source": [
    "print(model.evaluate(x_test, y_test))  # Evaluate on test set"
   ]
  },
  {
   "cell_type": "markdown",
   "metadata": {
    "colab_type": "text",
    "id": "bEQF6Dj9uw9A"
   },
   "source": [
    "# Predict the accuracy for both train and validation data"
   ]
  },
  {
   "cell_type": "code",
   "execution_count": 32,
   "metadata": {
    "colab": {
     "base_uri": "https://localhost:8080/",
     "height": 235
    },
    "colab_type": "code",
    "id": "j9BOpJI1uw9B",
    "outputId": "993a92ba-22e9-4db4-eec4-2fa01b3ef8f3"
   },
   "outputs": [
    {
     "name": "stdout",
     "output_type": "stream",
     "text": [
      "[[ 0  0  0  0  0  1 24  1  0  0  0  0]\n",
      " [ 0 33  1  0  0  0  0  4  1  0  0  0]\n",
      " [ 0  7 19  0  0  0  0  3  0  0  0  0]\n",
      " [ 0  0  0 53  0  0  0  1  0  4  2  1]\n",
      " [ 0  0  3  0  8  1  7  0  1  0  0  2]\n",
      " [ 0  5  0  3  0 30  0  0  2  2  1  4]\n",
      " [ 0  0  0  0  0  1 62  0  2  0  0  0]\n",
      " [ 0  0  0  2  0  0  0 18  1  1  0  0]\n",
      " [ 0  1  0  2  0  0  0 19 28  0  0  2]\n",
      " [ 0  3  0  3  0  0  0  0  4 12  1  0]\n",
      " [ 0  2  0  0  0  0  0  0  0  0 47  1]\n",
      " [ 0  0  0  0  0  0  0  1  2  0 13 23]]\n"
     ]
    }
   ],
   "source": [
    "# PREDICTIONS\n",
    "y_pred = model.predict(x_test)\n",
    "y_class = np.argmax(y_pred, axis = 1) \n",
    "y_check = np.argmax(y_test, axis = 1) \n",
    "\n",
    "#Print confusion matrix\n",
    "cmatrix = confusion_matrix(y_check, y_class)\n",
    "print(cmatrix)"
   ]
  }
 ],
 "metadata": {
  "accelerator": "GPU",
  "colab": {
   "collapsed_sections": [],
   "name": "Computer_Vision_With_CNN_Project (1).ipynb",
   "provenance": []
  },
  "kernelspec": {
   "display_name": "Python 3",
   "language": "python",
   "name": "python3"
  },
  "language_info": {
   "codemirror_mode": {
    "name": "ipython",
    "version": 3
   },
   "file_extension": ".py",
   "mimetype": "text/x-python",
   "name": "python",
   "nbconvert_exporter": "python",
   "pygments_lexer": "ipython3",
   "version": "3.7.1"
  }
 },
 "nbformat": 4,
 "nbformat_minor": 1
}
