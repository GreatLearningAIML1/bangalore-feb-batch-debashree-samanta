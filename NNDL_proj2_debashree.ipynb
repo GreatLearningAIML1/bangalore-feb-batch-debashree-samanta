{
 "cells": [
  {
   "cell_type": "markdown",
   "metadata": {},
   "source": [
    "### This file was run on google colab"
   ]
  },
  {
   "cell_type": "code",
   "execution_count": 0,
   "metadata": {
    "colab": {},
    "colab_type": "code",
    "id": "b22oCtnRY0yv"
   },
   "outputs": [],
   "source": [
    "import h5py\n",
    "import numpy as np"
   ]
  },
  {
   "cell_type": "code",
   "execution_count": 0,
   "metadata": {
    "colab": {},
    "colab_type": "code",
    "id": "p3dKngRLNTWc"
   },
   "outputs": [],
   "source": [
    "import tensorflow as tf"
   ]
  },
  {
   "cell_type": "code",
   "execution_count": 0,
   "metadata": {
    "colab": {
     "base_uri": "https://localhost:8080/",
     "height": 34
    },
    "colab_type": "code",
    "id": "cjwM4MrENW0l",
    "outputId": "8aa77321-137c-4a9d-e525-cf782b499f7c"
   },
   "outputs": [
    {
     "data": {
      "text/plain": [
       "''"
      ]
     },
     "execution_count": 3,
     "metadata": {
      "tags": []
     },
     "output_type": "execute_result"
    }
   ],
   "source": [
    "tf.test.gpu_device_name()"
   ]
  },
  {
   "cell_type": "code",
   "execution_count": 0,
   "metadata": {
    "colab": {
     "base_uri": "https://localhost:8080/",
     "height": 34
    },
    "colab_type": "code",
    "id": "RmWTeHIINx8d",
    "outputId": "74c4679a-3e03-4a67-9c0b-6db242c9db1a"
   },
   "outputs": [
    {
     "name": "stderr",
     "output_type": "stream",
     "text": [
      "Using TensorFlow backend.\n"
     ]
    }
   ],
   "source": [
    "from keras.utils import np_utils\n",
    "from keras.utils import to_categorical\n",
    "from keras.models import Sequential\n",
    "from keras.layers import Dense\n",
    "from keras.callbacks import EarlyStopping\n",
    "from sklearn.model_selection import GridSearchCV\n",
    "from sklearn.metrics import accuracy_score\n",
    "from sklearn.metrics import make_scorer\n",
    "from keras.wrappers.scikit_learn import KerasClassifier"
   ]
  },
  {
   "cell_type": "code",
   "execution_count": 0,
   "metadata": {
    "colab": {},
    "colab_type": "code",
    "id": "BFUpRvrKOgiE"
   },
   "outputs": [],
   "source": [
    "import pandas as pd\n",
    "import matplotlib.pyplot as plt\n",
    "import seaborn as sns\n",
    "from scipy.io import loadmat\n",
    "from skimage import color\n",
    "from skimage import io\n",
    "from sklearn.model_selection import train_test_split"
   ]
  },
  {
   "cell_type": "code",
   "execution_count": 0,
   "metadata": {
    "colab": {},
    "colab_type": "code",
    "id": "HqCWSu7yO3NE"
   },
   "outputs": [],
   "source": [
    "import keras\n",
    "from keras.layers import Dense, Activation, Dropout, Flatten, Reshape,BatchNormalization"
   ]
  },
  {
   "cell_type": "code",
   "execution_count": 0,
   "metadata": {
    "colab": {},
    "colab_type": "code",
    "id": "0z_G5L__BFL7"
   },
   "outputs": [],
   "source": [
    "\n",
    "from sklearn.neighbors import KNeighborsClassifier\n",
    "from sklearn.metrics import confusion_matrix\n",
    "from sklearn.metrics import classification_report"
   ]
  },
  {
   "cell_type": "code",
   "execution_count": 0,
   "metadata": {
    "colab": {},
    "colab_type": "code",
    "id": "zMzWS8ZQZHQS"
   },
   "outputs": [],
   "source": [
    "f = h5py.File('SVHN_single_grey1.h5', 'r')"
   ]
  },
  {
   "cell_type": "code",
   "execution_count": 0,
   "metadata": {
    "colab": {
     "base_uri": "https://localhost:8080/",
     "height": 34
    },
    "colab_type": "code",
    "id": "9tcszolHZQSt",
    "outputId": "bc8ea01a-8396-4c7d-b3f0-0a96e3d8c979"
   },
   "outputs": [
    {
     "data": {
      "text/plain": [
       "['X_test', 'X_train', 'X_val', 'y_test', 'y_train', 'y_val']"
      ]
     },
     "execution_count": 9,
     "metadata": {
      "tags": []
     },
     "output_type": "execute_result"
    }
   ],
   "source": [
    "list(f.keys())\n"
   ]
  },
  {
   "cell_type": "code",
   "execution_count": 0,
   "metadata": {
    "colab": {},
    "colab_type": "code",
    "id": "Y50jX1cjHji6"
   },
   "outputs": [],
   "source": [
    "#h5 dataset to numpy array\n",
    "X_test = f['X_test'][:]\n",
    "X_train = f['X_train'][:]\n",
    "X_val = f['X_val'][:]\n",
    "y_test = f['y_test'][:]\n",
    "y_train = f['y_train'][:]\n",
    "y_val = f['y_val'][:]\n"
   ]
  },
  {
   "cell_type": "code",
   "execution_count": 0,
   "metadata": {
    "colab": {
     "base_uri": "https://localhost:8080/",
     "height": 119
    },
    "colab_type": "code",
    "id": "cP2BM62Batj5",
    "outputId": "45908acf-dbcb-4b6c-e82b-ec0dadeaeb4b"
   },
   "outputs": [
    {
     "name": "stdout",
     "output_type": "stream",
     "text": [
      "X_test shape.. (18000, 32, 32)\n",
      "X_train shape.. (42000, 32, 32)\n",
      "X_val shape.. (60000, 32, 32)\n",
      "y_test shape.. (18000,)\n",
      "y_train shape.. (42000,)\n",
      "y_val shape.. (60000,)\n"
     ]
    }
   ],
   "source": [
    "print(\"X_test shape..\",X_test.shape)\n",
    "print(\"X_train shape..\",X_train.shape)\n",
    "print(\"X_val shape..\",X_val.shape)\n",
    "print(\"y_test shape..\",y_test.shape)\n",
    "print(\"y_train shape..\",y_train.shape)\n",
    "print(\"y_val shape..\",y_val.shape)"
   ]
  },
  {
   "cell_type": "code",
   "execution_count": 0,
   "metadata": {
    "colab": {},
    "colab_type": "code",
    "id": "vBfH2MtpMzbi"
   },
   "outputs": [],
   "source": [
    "#numpy to 3D matrix\n",
    "x_train2 = X_train.reshape(X_train.shape[0], 32, 32, 1).astype('float32')\n",
    "x_test2 = X_test.reshape(X_test.shape[0], 32, 32, 1).astype('float32')\n",
    "x_val2 = X_val.reshape(X_val.shape[0], 32, 32, 1).astype('float32')\n",
    "y_train2 = y_train.reshape(y_train.shape[0], 1).astype('float32')\n",
    "y_test2 = y_test.reshape(y_test.shape[0],1).astype('float32')\n",
    "y_val2 = y_val.reshape(y_val.shape[0],1).astype('float32')"
   ]
  },
  {
   "cell_type": "code",
   "execution_count": 0,
   "metadata": {
    "colab": {
     "base_uri": "https://localhost:8080/",
     "height": 119
    },
    "colab_type": "code",
    "id": "jxlphN6LNkaV",
    "outputId": "b91b0e50-2d53-43cf-94d2-88465c86edd2"
   },
   "outputs": [
    {
     "name": "stdout",
     "output_type": "stream",
     "text": [
      "X_test shape.. (18000, 32, 32, 1)\n",
      "X_train shape.. (42000, 32, 32, 1)\n",
      "X_val shape.. (60000, 32, 32, 1)\n",
      "y_test shape.. (18000, 1)\n",
      "y_train shape.. (42000, 1)\n",
      "y_val shape.. (60000, 1)\n"
     ]
    }
   ],
   "source": [
    "print(\"X_test shape..\",x_test2.shape)\n",
    "print(\"X_train shape..\",x_train2.shape)\n",
    "print(\"X_val shape..\",x_val2.shape)\n",
    "print(\"y_test shape..\",y_test2.shape)\n",
    "print(\"y_train shape..\",y_train2.shape)\n",
    "print(\"y_val shape..\",y_val2.shape)"
   ]
  },
  {
   "cell_type": "code",
   "execution_count": 0,
   "metadata": {
    "colab": {},
    "colab_type": "code",
    "id": "kPv_O8P-NszC"
   },
   "outputs": [],
   "source": [
    "#converting y to categorical\n",
    "y_train2 = np_utils.to_categorical(y_train, 10)\n",
    "y_test2 = np_utils.to_categorical(y_test, 10)"
   ]
  },
  {
   "cell_type": "code",
   "execution_count": 0,
   "metadata": {
    "colab": {},
    "colab_type": "code",
    "id": "cP6ONr6VN4i8"
   },
   "outputs": [],
   "source": [
    "# normalizing the X\n",
    "x_train3 = X_train/255\n",
    "x_test3 = X_test/255"
   ]
  },
  {
   "cell_type": "code",
   "execution_count": 0,
   "metadata": {
    "colab": {
     "base_uri": "https://localhost:8080/",
     "height": 51
    },
    "colab_type": "code",
    "id": "kFxQeIM6Pxpd",
    "outputId": "e4f6089f-dc8c-41a3-fa08-9bc509092dcd"
   },
   "outputs": [
    {
     "name": "stdout",
     "output_type": "stream",
     "text": [
      "(42000, 32, 32)\n",
      "(42000, 10)\n"
     ]
    }
   ],
   "source": [
    "print(x_train3.shape)\n",
    "print(y_train2.shape)"
   ]
  },
  {
   "cell_type": "code",
   "execution_count": 0,
   "metadata": {
    "colab": {},
    "colab_type": "code",
    "id": "tE3_qwr_8pMv"
   },
   "outputs": [],
   "source": [
    "#plot the images\n",
    "def plot_images(img, labels, nrows, ncols):\n",
    "    \"\"\" Plot nrows x ncols images\n",
    "    \"\"\"\n",
    "    fig, axes = plt.subplots(nrows, ncols)\n",
    "    for i, ax in enumerate(axes.flat): \n",
    "        if img[i].shape == (32, 32, 3):\n",
    "            ax.imshow(img[i])\n",
    "        else:\n",
    "            ax.imshow(img[i,:,:,0])\n",
    "        ax.set_xticks([]); ax.set_yticks([])\n",
    "        ax.set_title(labels[i])"
   ]
  },
  {
   "cell_type": "code",
   "execution_count": 0,
   "metadata": {
    "colab": {
     "base_uri": "https://localhost:8080/",
     "height": 310
    },
    "colab_type": "code",
    "id": "jwrYj2oA8saK",
    "outputId": "69cf89cd-44e4-49a1-d9bc-e593dabb8c57"
   },
   "outputs": [
    {
     "name": "stderr",
     "output_type": "stream",
     "text": [
      "/usr/local/lib/python3.6/dist-packages/matplotlib/text.py:1191: FutureWarning: elementwise comparison failed; returning scalar instead, but in the future will perform elementwise comparison\n",
      "  if s != self._text:\n"
     ]
    },
    {
     "data": {
      "image/png": "[encoded data removed]",
      "text/plain": [
       "<Figure size 576x396 with 16 Axes>"
      ]
     },
     "metadata": {
      "tags": []
     },
     "output_type": "display_data"
    }
   ],
   "source": [
    "# Plot some training set images\n",
    "plot_images(x_train2, y_train2, 2, 8)"
   ]
  },
  {
   "cell_type": "code",
   "execution_count": 0,
   "metadata": {
    "colab": {
     "base_uri": "https://localhost:8080/",
     "height": 310
    },
    "colab_type": "code",
    "id": "cmINROAG8uvX",
    "outputId": "3117fdee-9d20-4730-b971-1741bb165067"
   },
   "outputs": [
    {
     "name": "stderr",
     "output_type": "stream",
     "text": [
      "/usr/local/lib/python3.6/dist-packages/matplotlib/text.py:1191: FutureWarning: elementwise comparison failed; returning scalar instead, but in the future will perform elementwise comparison\n",
      "  if s != self._text:\n"
     ]
    },
    {
     "data": {
      "image/png": "[encoded data removed]",
      "text/plain": [
       "<Figure size 576x396 with 16 Axes>"
      ]
     },
     "metadata": {
      "tags": []
     },
     "output_type": "display_data"
    }
   ],
   "source": [
    "# Plot some test set images\n",
    "plot_images(x_test2, y_test2, 2, 8)"
   ]
  },
  {
   "cell_type": "code",
   "execution_count": 0,
   "metadata": {
    "colab": {},
    "colab_type": "code",
    "id": "5inMeDHCAjVz"
   },
   "outputs": [],
   "source": [
    "#KNN initialization parameters\n",
    "\n",
    "kVals = range(1, 20, 2)\n",
    "accuracies = []"
   ]
  },
  {
   "cell_type": "code",
   "execution_count": 0,
   "metadata": {
    "colab": {},
    "colab_type": "code",
    "id": "2zegHorzAwPY"
   },
   "outputs": [],
   "source": [
    "X_train_reshaped = np.reshape(X_train,(42000,1024))\n",
    "X_test_reshaped = np.reshape(X_test,(18000,1024))"
   ]
  },
  {
   "cell_type": "code",
   "execution_count": 0,
   "metadata": {
    "colab": {
     "base_uri": "https://localhost:8080/",
     "height": 187
    },
    "colab_type": "code",
    "id": "J_Tu2OVVA9Kt",
    "outputId": "c86d0035-59d2-4766-fd4e-b0e669a91757"
   },
   "outputs": [
    {
     "name": "stdout",
     "output_type": "stream",
     "text": [
      "k=1, accuracy=45.92%\n",
      "k=3, accuracy=46.18%\n",
      "k=5, accuracy=49.02%\n",
      "k=7, accuracy=50.71%\n",
      "k=9, accuracy=51.24%\n",
      "k=11, accuracy=51.80%\n",
      "k=13, accuracy=52.11%\n",
      "k=15, accuracy=52.36%\n",
      "k=17, accuracy=52.87%\n",
      "k=19, accuracy=52.72%\n"
     ]
    }
   ],
   "source": [
    "for k in range(1, 20, 2):\n",
    "    model = KNeighborsClassifier(n_neighbors=k)\n",
    "    model.fit(X_train_reshaped, y_train)\n",
    "    score = model.score(X_test_reshaped, y_test)\n",
    "    print(\"k=%d, accuracy=%.2f%%\" % (k, score * 100))\n",
    "    accuracies.append(score)"
   ]
  },
  {
   "cell_type": "code",
   "execution_count": 0,
   "metadata": {
    "colab": {
     "base_uri": "https://localhost:8080/",
     "height": 204
    },
    "colab_type": "code",
    "id": "2qsKlYFBBjMQ",
    "outputId": "60105f27-2d5d-479e-a0c2-a6effc130405"
   },
   "outputs": [
    {
     "data": {
      "text/html": [
       "<div>\n",
       "<style scoped>\n",
       "    .dataframe tbody tr th:only-of-type {\n",
       "        vertical-align: middle;\n",
       "    }\n",
       "\n",
       "    .dataframe tbody tr th {\n",
       "        vertical-align: top;\n",
       "    }\n",
       "\n",
       "    .dataframe thead th {\n",
       "        text-align: right;\n",
       "    }\n",
       "</style>\n",
       "<table border=\"1\" class=\"dataframe\">\n",
       "  <thead>\n",
       "    <tr style=\"text-align: right;\">\n",
       "      <th></th>\n",
       "      <th>KNN-Accuracy</th>\n",
       "      <th>k</th>\n",
       "    </tr>\n",
       "  </thead>\n",
       "  <tbody>\n",
       "    <tr>\n",
       "      <th>0</th>\n",
       "      <td>0.459167</td>\n",
       "      <td>1</td>\n",
       "    </tr>\n",
       "    <tr>\n",
       "      <th>1</th>\n",
       "      <td>0.461778</td>\n",
       "      <td>3</td>\n",
       "    </tr>\n",
       "    <tr>\n",
       "      <th>2</th>\n",
       "      <td>0.490167</td>\n",
       "      <td>5</td>\n",
       "    </tr>\n",
       "    <tr>\n",
       "      <th>3</th>\n",
       "      <td>0.507056</td>\n",
       "      <td>7</td>\n",
       "    </tr>\n",
       "    <tr>\n",
       "      <th>4</th>\n",
       "      <td>0.512444</td>\n",
       "      <td>9</td>\n",
       "    </tr>\n",
       "  </tbody>\n",
       "</table>\n",
       "</div>"
      ],
      "text/plain": [
       "   KNN-Accuracy  k\n",
       "0      0.459167  1\n",
       "1      0.461778  3\n",
       "2      0.490167  5\n",
       "3      0.507056  7\n",
       "4      0.512444  9"
      ]
     },
     "execution_count": 25,
     "metadata": {
      "tags": []
     },
     "output_type": "execute_result"
    }
   ],
   "source": [
    "k_data = [1,3,5,7,9,11,13,15,17,19]\n",
    "df = pd.DataFrame(accuracies)\n",
    "df.rename(columns={0 : 'KNN-Accuracy'}, inplace=True)\n",
    "df[\"k\"] = k_data\n",
    "df.head()"
   ]
  },
  {
   "cell_type": "code",
   "execution_count": 0,
   "metadata": {
    "colab": {},
    "colab_type": "code",
    "id": "t4rqAARHBsay"
   },
   "outputs": [],
   "source": [
    "# re-train our classifier using the best k value and predict the labels of the\n",
    "# test data\n",
    "\n",
    "model = KNeighborsClassifier(n_neighbors=kVals[i])\n",
    "model.fit(X_train_reshaped, y_train)\n",
    "predictions = model.predict(X_test_reshaped)"
   ]
  },
  {
   "cell_type": "code",
   "execution_count": 0,
   "metadata": {
    "colab": {
     "base_uri": "https://localhost:8080/",
     "height": 510
    },
    "colab_type": "code",
    "id": "50478-4MBv22",
    "outputId": "7858f570-9601-4e49-d255-cbc81228cee3"
   },
   "outputs": [
    {
     "name": "stdout",
     "output_type": "stream",
     "text": [
      "Confusion matrix\n",
      "[[1274   66   34   35   46   45   98   39   78   99]\n",
      " [  99 1335   55   95   69   36   31   46   26   36]\n",
      " [  94  226 1000   95   44   37   35  141   52   79]\n",
      " [ 129  260  135  736   47  160   36   57   94   65]\n",
      " [ 105  249   41   60 1177   16   54   19   43   48]\n",
      " [ 165  172   47  269   58  693  137   31  119   77]\n",
      " [ 319  128   40   67  135  116  744   21  202   60]\n",
      " [ 100  209  110   88   27   37   37 1128   24   48]\n",
      " [ 247  119   68  114   94  115  265   25  654  111]\n",
      " [ 323  142   71   89   71   93   55   73  111  776]]\n",
      "EVALUATION ON TESTING DATA\n",
      "              precision    recall  f1-score   support\n",
      "\n",
      "           0       0.45      0.70      0.55      1814\n",
      "           1       0.46      0.73      0.56      1828\n",
      "           2       0.62      0.55      0.59      1803\n",
      "           3       0.45      0.43      0.44      1719\n",
      "           4       0.67      0.65      0.66      1812\n",
      "           5       0.51      0.39      0.44      1768\n",
      "           6       0.50      0.41      0.45      1832\n",
      "           7       0.71      0.62      0.67      1808\n",
      "           8       0.47      0.36      0.41      1812\n",
      "           9       0.55      0.43      0.48      1804\n",
      "\n",
      "   micro avg       0.53      0.53      0.53     18000\n",
      "   macro avg       0.54      0.53      0.52     18000\n",
      "weighted avg       0.54      0.53      0.52     18000\n",
      "\n"
     ]
    }
   ],
   "source": [
    "#final classification matrix\n",
    "\n",
    "print (\"Confusion matrix\")\n",
    "print(confusion_matrix(y_test,predictions))\n",
    "\n",
    "print(\"test data evaluation\")\n",
    "print(classification_report(y_test, predictions))"
   ]
  },
  {
   "cell_type": "code",
   "execution_count": 0,
   "metadata": {
    "colab": {},
    "colab_type": "code",
    "id": "ygEHa0fWODn1"
   },
   "outputs": [],
   "source": [
    "import matplotlib.pyplot as plt"
   ]
  },
  {
   "cell_type": "code",
   "execution_count": 0,
   "metadata": {
    "colab": {},
    "colab_type": "code",
    "id": "tMVGkqq1T1Eq"
   },
   "outputs": [],
   "source": []
  },
  {
   "cell_type": "code",
   "execution_count": 0,
   "metadata": {
    "colab": {
     "base_uri": "https://localhost:8080/",
     "height": 1176
    },
    "colab_type": "code",
    "id": "b3baAnHKOQKe",
    "outputId": "e387b40f-9ae9-4427-dfa8-0238e2354317"
   },
   "outputs": [
    {
     "name": "stdout",
     "output_type": "stream",
     "text": [
      "WARNING:tensorflow:From /usr/local/lib/python3.6/dist-packages/tensorflow/python/framework/op_def_library.py:263: colocate_with (from tensorflow.python.framework.ops) is deprecated and will be removed in a future version.\n",
      "Instructions for updating:\n",
      "Colocations handled automatically by placer.\n",
      "WARNING:tensorflow:From /usr/local/lib/python3.6/dist-packages/tensorflow/python/ops/math_ops.py:3066: to_int32 (from tensorflow.python.ops.math_ops) is deprecated and will be removed in a future version.\n",
      "Instructions for updating:\n",
      "Use tf.cast instead.\n",
      "Train on 42000 samples, validate on 18000 samples\n",
      "Epoch 1/30\n",
      "42000/42000 [==============================] - 3s 68us/step - loss: 2.2446 - acc: 0.1627 - val_loss: 2.0179 - val_acc: 0.2960\n",
      "Epoch 2/30\n",
      "42000/42000 [==============================] - 2s 51us/step - loss: 1.7012 - acc: 0.4340 - val_loss: 1.4729 - val_acc: 0.5308\n",
      "Epoch 3/30\n",
      "42000/42000 [==============================] - 2s 51us/step - loss: 1.3650 - acc: 0.5694 - val_loss: 1.2574 - val_acc: 0.6142\n",
      "Epoch 4/30\n",
      "42000/42000 [==============================] - 2s 51us/step - loss: 1.2055 - acc: 0.6282 - val_loss: 1.1229 - val_acc: 0.6604\n",
      "Epoch 5/30\n",
      "42000/42000 [==============================] - 2s 52us/step - loss: 1.1138 - acc: 0.6606 - val_loss: 1.0599 - val_acc: 0.6758\n",
      "Epoch 6/30\n",
      "42000/42000 [==============================] - 2s 53us/step - loss: 1.0567 - acc: 0.6754 - val_loss: 1.0289 - val_acc: 0.6864\n",
      "Epoch 7/30\n",
      "42000/42000 [==============================] - 2s 54us/step - loss: 1.0031 - acc: 0.6927 - val_loss: 0.9821 - val_acc: 0.7022\n",
      "Epoch 8/30\n",
      "42000/42000 [==============================] - 2s 57us/step - loss: 0.9632 - acc: 0.7073 - val_loss: 0.9712 - val_acc: 0.7048\n",
      "Epoch 9/30\n",
      "42000/42000 [==============================] - 2s 55us/step - loss: 0.9276 - acc: 0.7173 - val_loss: 0.9171 - val_acc: 0.7224\n",
      "Epoch 10/30\n",
      "42000/42000 [==============================] - 2s 57us/step - loss: 0.8932 - acc: 0.7299 - val_loss: 0.9220 - val_acc: 0.7192\n",
      "Epoch 11/30\n",
      "42000/42000 [==============================] - 2s 57us/step - loss: 0.8815 - acc: 0.7309 - val_loss: 0.8956 - val_acc: 0.7286\n",
      "Epoch 12/30\n",
      "42000/42000 [==============================] - 2s 53us/step - loss: 0.8487 - acc: 0.7419 - val_loss: 0.8676 - val_acc: 0.7386\n",
      "Epoch 13/30\n",
      "42000/42000 [==============================] - 2s 52us/step - loss: 0.8413 - acc: 0.7441 - val_loss: 0.8569 - val_acc: 0.7409\n",
      "Epoch 14/30\n",
      "42000/42000 [==============================] - 2s 52us/step - loss: 0.8118 - acc: 0.7540 - val_loss: 0.8551 - val_acc: 0.7436\n",
      "Epoch 15/30\n",
      "42000/42000 [==============================] - 2s 54us/step - loss: 0.8035 - acc: 0.7566 - val_loss: 0.8795 - val_acc: 0.7307\n",
      "Epoch 16/30\n",
      "42000/42000 [==============================] - 2s 54us/step - loss: 0.7926 - acc: 0.7590 - val_loss: 0.8281 - val_acc: 0.7479\n",
      "Epoch 17/30\n",
      "42000/42000 [==============================] - 2s 54us/step - loss: 0.7744 - acc: 0.7657 - val_loss: 0.8297 - val_acc: 0.7515\n",
      "Epoch 18/30\n",
      "42000/42000 [==============================] - 2s 53us/step - loss: 0.7592 - acc: 0.7704 - val_loss: 0.8244 - val_acc: 0.7510\n",
      "Epoch 19/30\n",
      "42000/42000 [==============================] - 2s 53us/step - loss: 0.7501 - acc: 0.7723 - val_loss: 0.8310 - val_acc: 0.7528\n",
      "Epoch 20/30\n",
      "42000/42000 [==============================] - 2s 53us/step - loss: 0.7341 - acc: 0.7784 - val_loss: 0.8109 - val_acc: 0.7631\n",
      "Epoch 21/30\n",
      "42000/42000 [==============================] - 2s 52us/step - loss: 0.7267 - acc: 0.7785 - val_loss: 0.7908 - val_acc: 0.7626\n",
      "Epoch 22/30\n",
      "42000/42000 [==============================] - 2s 53us/step - loss: 0.7151 - acc: 0.7839 - val_loss: 0.7676 - val_acc: 0.7746\n",
      "Epoch 23/30\n",
      "42000/42000 [==============================] - 2s 52us/step - loss: 0.7080 - acc: 0.7848 - val_loss: 0.7517 - val_acc: 0.7766\n",
      "Epoch 24/30\n",
      "42000/42000 [==============================] - 2s 52us/step - loss: 0.7020 - acc: 0.7892 - val_loss: 0.7498 - val_acc: 0.7784\n",
      "Epoch 25/30\n",
      "42000/42000 [==============================] - 2s 53us/step - loss: 0.6804 - acc: 0.7961 - val_loss: 0.7769 - val_acc: 0.7668\n",
      "Epoch 26/30\n",
      "42000/42000 [==============================] - 2s 51us/step - loss: 0.6758 - acc: 0.7958 - val_loss: 0.7305 - val_acc: 0.7871\n",
      "Epoch 27/30\n",
      "42000/42000 [==============================] - 2s 51us/step - loss: 0.6693 - acc: 0.7990 - val_loss: 0.7475 - val_acc: 0.7779\n",
      "Epoch 28/30\n",
      "42000/42000 [==============================] - 2s 52us/step - loss: 0.6589 - acc: 0.8018 - val_loss: 0.7593 - val_acc: 0.7752\n",
      "Epoch 29/30\n",
      "42000/42000 [==============================] - 2s 54us/step - loss: 0.6529 - acc: 0.8038 - val_loss: 0.7403 - val_acc: 0.7842\n",
      "Epoch 30/30\n",
      "42000/42000 [==============================] - 2s 55us/step - loss: 0.6446 - acc: 0.8057 - val_loss: 0.7242 - val_acc: 0.7902\n"
     ]
    }
   ],
   "source": [
    "#basic NN model\n",
    "model =Sequential ()\n",
    "model.add(Reshape((1024,),input_shape=(32,32,)))\n",
    "model.add(Dense(200, activation='relu'))\n",
    "model.add(Dense(100, activation='relu'))\n",
    "#model.add(Dropout(0.25))\n",
    "model.add(Dense(10, activation='softmax'))\n",
    "\n",
    "model.compile(loss='categorical_crossentropy', optimizer='adam', metrics=['accuracy'])\n",
    "history = model.fit(x_train3,y_train2,validation_data=(x_test3,y_test2),epochs=30,batch_size = 200)"
   ]
  },
  {
   "cell_type": "code",
   "execution_count": 0,
   "metadata": {
    "colab": {
     "base_uri": "https://localhost:8080/",
     "height": 51
    },
    "colab_type": "code",
    "id": "g7vnCpRk-C3a",
    "outputId": "3212c95d-d179-4259-b3cd-2d1fc49448d9"
   },
   "outputs": [
    {
     "name": "stdout",
     "output_type": "stream",
     "text": [
      "18000/18000 [==============================] - 1s 41us/step\n",
      "Accuracy:  79.01666666666667\n"
     ]
    }
   ],
   "source": [
    "accuracy = model.evaluate(x=x_test3,y=y_test2)\n",
    "print(\"Accuracy: \", accuracy[1]*100)"
   ]
  },
  {
   "cell_type": "code",
   "execution_count": 0,
   "metadata": {
    "colab": {},
    "colab_type": "code",
    "id": "HGJKiOfSK-FA"
   },
   "outputs": [],
   "source": [
    "from keras import losses"
   ]
  },
  {
   "cell_type": "code",
   "execution_count": 0,
   "metadata": {
    "colab": {},
    "colab_type": "code",
    "id": "WQNAuq3mFxBI"
   },
   "outputs": [],
   "source": [
    "df = []"
   ]
  },
  {
   "cell_type": "code",
   "execution_count": 0,
   "metadata": {
    "colab": {},
    "colab_type": "code",
    "id": "7v7QGX3uJJNj"
   },
   "outputs": [],
   "source": []
  },
  {
   "cell_type": "markdown",
   "metadata": {
    "colab": {},
    "colab_type": "code",
    "id": "IgB4ika2Tt4p"
   },
   "source": [
    "### 1.SGD optimizer \n",
    "#### with loss functions as a. categorical cross entropy\n",
    "#### with and without batch normalization\n",
    "#### with and without drop out layer."
   ]
  },
  {
   "cell_type": "code",
   "execution_count": 0,
   "metadata": {
    "colab": {},
    "colab_type": "code",
    "id": "25c5idE8_5Nj"
   },
   "outputs": [],
   "source": [
    "#without drop-out and without batch normalization with 2 types of losses.\n",
    "def create_model(loss_type,optimizer='SGD'): \n",
    "  model =Sequential ()\n",
    "  model.add(Reshape((1024,),input_shape=(32,32,)))\n",
    "  model.add(Dense(300, activation='relu'))\n",
    "  model.add(Dense(200, activation='relu'))\n",
    "  model.add(Dense(200, activation='relu'))\n",
    "  model.add(Dense(250, activation='relu'))\n",
    "  #model.add(Dropout(0.5))\n",
    "  model.add(Dense(10, activation='softmax'))\n",
    "  model.compile(loss=loss_type, optimizer=optimizer, metrics=['accuracy'])\n",
    "  return model"
   ]
  },
  {
   "cell_type": "code",
   "execution_count": 0,
   "metadata": {
    "colab": {
     "base_uri": "https://localhost:8080/",
     "height": 1074
    },
    "colab_type": "code",
    "id": "kCQnGouw_5a0",
    "outputId": "59b7e45a-a63d-449f-e40e-000a1e853bdd"
   },
   "outputs": [
    {
     "name": "stdout",
     "output_type": "stream",
     "text": [
      "Train on 42000 samples, validate on 18000 samples\n",
      "Epoch 1/30\n",
      "42000/42000 [==============================] - 4s 92us/step - loss: 2.2991 - acc: 0.1268 - val_loss: 2.2930 - val_acc: 0.1428\n",
      "Epoch 2/30\n",
      "42000/42000 [==============================] - 4s 90us/step - loss: 2.2890 - acc: 0.1694 - val_loss: 2.2840 - val_acc: 0.1871\n",
      "Epoch 3/30\n",
      "42000/42000 [==============================] - 4s 90us/step - loss: 2.2790 - acc: 0.2073 - val_loss: 2.2725 - val_acc: 0.2386\n",
      "Epoch 4/30\n",
      "42000/42000 [==============================] - 4s 89us/step - loss: 2.2658 - acc: 0.2415 - val_loss: 2.2571 - val_acc: 0.2589\n",
      "Epoch 5/30\n",
      "42000/42000 [==============================] - 4s 91us/step - loss: 2.2473 - acc: 0.2761 - val_loss: 2.2333 - val_acc: 0.2931\n",
      "Epoch 6/30\n",
      "42000/42000 [==============================] - 4s 91us/step - loss: 2.2179 - acc: 0.3053 - val_loss: 2.1962 - val_acc: 0.2994\n",
      "Epoch 7/30\n",
      "42000/42000 [==============================] - 4s 91us/step - loss: 2.1707 - acc: 0.3265 - val_loss: 2.1359 - val_acc: 0.3388\n",
      "Epoch 8/30\n",
      "42000/42000 [==============================] - 4s 91us/step - loss: 2.0971 - acc: 0.3519 - val_loss: 2.0462 - val_acc: 0.3666\n",
      "Epoch 9/30\n",
      "42000/42000 [==============================] - 4s 91us/step - loss: 1.9940 - acc: 0.3822 - val_loss: 1.9297 - val_acc: 0.4057\n",
      "Epoch 10/30\n",
      "42000/42000 [==============================] - 4s 91us/step - loss: 1.8793 - acc: 0.4135 - val_loss: 1.7984 - val_acc: 0.4453\n",
      "Epoch 11/30\n",
      "42000/42000 [==============================] - 4s 89us/step - loss: 1.7739 - acc: 0.4350 - val_loss: 1.7140 - val_acc: 0.4622\n",
      "Epoch 12/30\n",
      "42000/42000 [==============================] - 4s 88us/step - loss: 1.6887 - acc: 0.4548 - val_loss: 1.5990 - val_acc: 0.5084\n",
      "Epoch 13/30\n",
      "42000/42000 [==============================] - 4s 88us/step - loss: 1.6041 - acc: 0.4874 - val_loss: 1.6332 - val_acc: 0.4536\n",
      "Epoch 14/30\n",
      "42000/42000 [==============================] - 4s 89us/step - loss: 1.5304 - acc: 0.5121 - val_loss: 1.4525 - val_acc: 0.5473\n",
      "Epoch 15/30\n",
      "42000/42000 [==============================] - 4s 89us/step - loss: 1.4700 - acc: 0.5328 - val_loss: 1.4120 - val_acc: 0.5549\n",
      "Epoch 16/30\n",
      "42000/42000 [==============================] - 4s 90us/step - loss: 1.4019 - acc: 0.5590 - val_loss: 1.4646 - val_acc: 0.5092\n",
      "Epoch 17/30\n",
      "42000/42000 [==============================] - 4s 90us/step - loss: 1.3564 - acc: 0.5710 - val_loss: 1.2826 - val_acc: 0.6055\n",
      "Epoch 18/30\n",
      "42000/42000 [==============================] - 4s 90us/step - loss: 1.3015 - acc: 0.5874 - val_loss: 1.2797 - val_acc: 0.5916\n",
      "Epoch 19/30\n",
      "42000/42000 [==============================] - 4s 90us/step - loss: 1.2620 - acc: 0.6019 - val_loss: 1.2274 - val_acc: 0.6086\n",
      "Epoch 20/30\n",
      "42000/42000 [==============================] - 4s 89us/step - loss: 1.2327 - acc: 0.6105 - val_loss: 1.1999 - val_acc: 0.6283\n",
      "Epoch 21/30\n",
      "42000/42000 [==============================] - 4s 90us/step - loss: 1.2067 - acc: 0.6206 - val_loss: 1.1648 - val_acc: 0.6415\n",
      "Epoch 22/30\n",
      "42000/42000 [==============================] - 4s 90us/step - loss: 1.1712 - acc: 0.6339 - val_loss: 1.1797 - val_acc: 0.6262\n",
      "Epoch 23/30\n",
      "42000/42000 [==============================] - 4s 89us/step - loss: 1.1528 - acc: 0.6401 - val_loss: 1.1585 - val_acc: 0.6381\n",
      "Epoch 24/30\n",
      "42000/42000 [==============================] - 4s 89us/step - loss: 1.1289 - acc: 0.6468 - val_loss: 1.0931 - val_acc: 0.6680\n",
      "Epoch 25/30\n",
      "42000/42000 [==============================] - 4s 90us/step - loss: 1.1102 - acc: 0.6537 - val_loss: 1.1159 - val_acc: 0.6519\n",
      "Epoch 26/30\n",
      "42000/42000 [==============================] - 4s 89us/step - loss: 1.0817 - acc: 0.6639 - val_loss: 1.0509 - val_acc: 0.6849\n",
      "Epoch 27/30\n",
      "42000/42000 [==============================] - 4s 89us/step - loss: 1.0640 - acc: 0.6691 - val_loss: 1.0687 - val_acc: 0.6742\n",
      "Epoch 28/30\n",
      "42000/42000 [==============================] - 4s 89us/step - loss: 1.0399 - acc: 0.6792 - val_loss: 1.0344 - val_acc: 0.6846\n",
      "Epoch 29/30\n",
      "42000/42000 [==============================] - 4s 89us/step - loss: 1.0261 - acc: 0.6825 - val_loss: 1.0303 - val_acc: 0.6845\n",
      "Epoch 30/30\n",
      "42000/42000 [==============================] - 4s 89us/step - loss: 1.0106 - acc: 0.6871 - val_loss: 0.9989 - val_acc: 0.6931\n"
     ]
    }
   ],
   "source": [
    "#categorical crossentropy without batch normalization\n",
    "model1 =create_model('categorical_crossentropy')\n",
    "model1_result = model1.fit(x_train3,y_train2,validation_data=(x_test3,y_test2),epochs=30,batch_size = 200)"
   ]
  },
  {
   "cell_type": "code",
   "execution_count": 0,
   "metadata": {
    "colab": {},
    "colab_type": "code",
    "id": "Zfi1jGBIDUDB"
   },
   "outputs": [],
   "source": [
    "#SGD with batch normalization\n",
    "def create_model_withBN(loss_type,optimizer='SGD'): \n",
    "  model =Sequential ()\n",
    "  model.add(Reshape((1024,),input_shape=(32,32,)))\n",
    "  model.add(BatchNormalization())\n",
    "  model.add(Dense(300, activation='relu'))\n",
    "  model.add(Dense(200, activation='relu'))\n",
    "  model.add(Dense(200, activation='relu'))\n",
    "  model.add(Dense(250, activation='relu'))\n",
    "  #model.add(Dropout(0.5))\n",
    "  model.add(Dense(10, activation='softmax'))\n",
    "  model.compile(loss=loss_type, optimizer=optimizer, metrics=['accuracy'])\n",
    "  return model"
   ]
  },
  {
   "cell_type": "code",
   "execution_count": 0,
   "metadata": {
    "colab": {
     "base_uri": "https://localhost:8080/",
     "height": 1074
    },
    "colab_type": "code",
    "id": "gYQj2HV2G1jO",
    "outputId": "2c59cab9-1dc2-4fa2-c185-3e67dd24ad20"
   },
   "outputs": [
    {
     "name": "stdout",
     "output_type": "stream",
     "text": [
      "Train on 42000 samples, validate on 18000 samples\n",
      "Epoch 1/30\n",
      "42000/42000 [==============================] - 6s 137us/step - loss: 2.2779 - acc: 0.1549 - val_loss: 2.2208 - val_acc: 0.2212\n",
      "Epoch 2/30\n",
      "42000/42000 [==============================] - 5s 122us/step - loss: 2.1351 - acc: 0.2872 - val_loss: 2.0172 - val_acc: 0.3496\n",
      "Epoch 3/30\n",
      "42000/42000 [==============================] - 5s 123us/step - loss: 1.8610 - acc: 0.4039 - val_loss: 1.6899 - val_acc: 0.4679\n",
      "Epoch 4/30\n",
      "42000/42000 [==============================] - 5s 122us/step - loss: 1.5481 - acc: 0.5175 - val_loss: 1.4149 - val_acc: 0.5669\n",
      "Epoch 5/30\n",
      "42000/42000 [==============================] - 5s 123us/step - loss: 1.3210 - acc: 0.5965 - val_loss: 1.2288 - val_acc: 0.6306\n",
      "Epoch 6/30\n",
      "42000/42000 [==============================] - 5s 125us/step - loss: 1.1667 - acc: 0.6458 - val_loss: 1.1140 - val_acc: 0.6647\n",
      "Epoch 7/30\n",
      "42000/42000 [==============================] - 5s 123us/step - loss: 1.0580 - acc: 0.6812 - val_loss: 1.0190 - val_acc: 0.6982\n",
      "Epoch 8/30\n",
      "42000/42000 [==============================] - 5s 123us/step - loss: 0.9755 - acc: 0.7038 - val_loss: 0.9654 - val_acc: 0.7101\n",
      "Epoch 9/30\n",
      "42000/42000 [==============================] - 5s 124us/step - loss: 0.9129 - acc: 0.7223 - val_loss: 0.9165 - val_acc: 0.7229\n",
      "Epoch 10/30\n",
      "42000/42000 [==============================] - 5s 124us/step - loss: 0.8618 - acc: 0.7394 - val_loss: 0.8896 - val_acc: 0.7347\n",
      "Epoch 11/30\n",
      "42000/42000 [==============================] - 5s 123us/step - loss: 0.8141 - acc: 0.7540 - val_loss: 0.8595 - val_acc: 0.7423\n",
      "Epoch 12/30\n",
      "42000/42000 [==============================] - 5s 123us/step - loss: 0.7793 - acc: 0.7647 - val_loss: 0.8153 - val_acc: 0.7573\n",
      "Epoch 13/30\n",
      "42000/42000 [==============================] - 5s 123us/step - loss: 0.7484 - acc: 0.7736 - val_loss: 0.7980 - val_acc: 0.7615\n",
      "Epoch 14/30\n",
      "42000/42000 [==============================] - 5s 123us/step - loss: 0.7148 - acc: 0.7841 - val_loss: 0.7888 - val_acc: 0.7636\n",
      "Epoch 15/30\n",
      "42000/42000 [==============================] - 5s 123us/step - loss: 0.6933 - acc: 0.7900 - val_loss: 0.8980 - val_acc: 0.7293\n",
      "Epoch 16/30\n",
      "42000/42000 [==============================] - 5s 123us/step - loss: 0.6718 - acc: 0.7952 - val_loss: 0.7424 - val_acc: 0.7826\n",
      "Epoch 17/30\n",
      "42000/42000 [==============================] - 5s 125us/step - loss: 0.6435 - acc: 0.8029 - val_loss: 0.7324 - val_acc: 0.7857\n",
      "Epoch 18/30\n",
      "42000/42000 [==============================] - 5s 122us/step - loss: 0.6281 - acc: 0.8086 - val_loss: 0.7199 - val_acc: 0.7884\n",
      "Epoch 19/30\n",
      "42000/42000 [==============================] - 5s 124us/step - loss: 0.6073 - acc: 0.8136 - val_loss: 0.6982 - val_acc: 0.7961\n",
      "Epoch 20/30\n",
      "42000/42000 [==============================] - 5s 123us/step - loss: 0.5872 - acc: 0.8200 - val_loss: 0.6858 - val_acc: 0.8016\n",
      "Epoch 21/30\n",
      "42000/42000 [==============================] - 5s 124us/step - loss: 0.5724 - acc: 0.8244 - val_loss: 0.6892 - val_acc: 0.8002\n",
      "Epoch 22/30\n",
      "42000/42000 [==============================] - 5s 124us/step - loss: 0.5636 - acc: 0.8280 - val_loss: 0.6693 - val_acc: 0.8066\n",
      "Epoch 23/30\n",
      "42000/42000 [==============================] - 5s 123us/step - loss: 0.5459 - acc: 0.8322 - val_loss: 0.6688 - val_acc: 0.8060\n",
      "Epoch 24/30\n",
      "42000/42000 [==============================] - 5s 122us/step - loss: 0.5322 - acc: 0.8367 - val_loss: 0.6574 - val_acc: 0.8106\n",
      "Epoch 25/30\n",
      "42000/42000 [==============================] - 5s 122us/step - loss: 0.5173 - acc: 0.8408 - val_loss: 0.6550 - val_acc: 0.8121\n",
      "Epoch 26/30\n",
      "42000/42000 [==============================] - 5s 123us/step - loss: 0.5068 - acc: 0.8443 - val_loss: 0.6538 - val_acc: 0.8142\n",
      "Epoch 27/30\n",
      "42000/42000 [==============================] - 5s 121us/step - loss: 0.4943 - acc: 0.8475 - val_loss: 0.6834 - val_acc: 0.8050\n",
      "Epoch 28/30\n",
      "42000/42000 [==============================] - 5s 121us/step - loss: 0.4876 - acc: 0.8513 - val_loss: 0.6636 - val_acc: 0.8082\n",
      "Epoch 29/30\n",
      "42000/42000 [==============================] - 5s 120us/step - loss: 0.4782 - acc: 0.8547 - val_loss: 0.6220 - val_acc: 0.8231\n",
      "Epoch 30/30\n",
      "42000/42000 [==============================] - 5s 120us/step - loss: 0.4659 - acc: 0.8586 - val_loss: 0.6440 - val_acc: 0.8172\n"
     ]
    }
   ],
   "source": [
    "#categorical crossentropy  batch normalization\n",
    "model3 =create_model_withBN('categorical_crossentropy')\n",
    "model3_result = model3.fit(x_train3,y_train2,validation_data=(x_test3,y_test2),epochs=30,batch_size = 200)"
   ]
  },
  {
   "cell_type": "code",
   "execution_count": 0,
   "metadata": {
    "colab": {},
    "colab_type": "code",
    "id": "uEkiV69xHy9T"
   },
   "outputs": [],
   "source": [
    "#with dropout and with batchnormalization\n",
    "def create_model_withdropout(loss_type,optimizer='SGD'): \n",
    "  model =Sequential ()\n",
    "  model.add(Reshape((1024,),input_shape=(32,32,)))\n",
    "  model.add(BatchNormalization())\n",
    "  model.add(Dense(300, activation='relu'))\n",
    "  model.add(Dense(200, activation='relu'))\n",
    "  model.add(Dense(200, activation='relu'))\n",
    "  model.add(Dense(250, activation='relu'))\n",
    "  model.add(Dropout(0.5))\n",
    "  model.add(Dense(10, activation='softmax'))\n",
    "  model.compile(loss=loss_type, optimizer=optimizer, metrics=['accuracy'])\n",
    "  return model"
   ]
  },
  {
   "cell_type": "code",
   "execution_count": 0,
   "metadata": {
    "colab": {
     "base_uri": "https://localhost:8080/",
     "height": 1125
    },
    "colab_type": "code",
    "id": "I48_mfxoH0QV",
    "outputId": "01477138-e6b9-42ff-d6dd-2f4ab28a40d3"
   },
   "outputs": [
    {
     "name": "stdout",
     "output_type": "stream",
     "text": [
      "WARNING:tensorflow:From /usr/local/lib/python3.6/dist-packages/keras/backend/tensorflow_backend.py:3445: calling dropout (from tensorflow.python.ops.nn_ops) with keep_prob is deprecated and will be removed in a future version.\n",
      "Instructions for updating:\n",
      "Please use `rate` instead of `keep_prob`. Rate should be set to `rate = 1 - keep_prob`.\n",
      "Train on 42000 samples, validate on 18000 samples\n",
      "Epoch 1/30\n",
      "42000/42000 [==============================] - 6s 146us/step - loss: 2.3030 - acc: 0.1325 - val_loss: 2.2285 - val_acc: 0.2319\n",
      "Epoch 2/30\n",
      "42000/42000 [==============================] - 5s 124us/step - loss: 2.1942 - acc: 0.2105 - val_loss: 2.0908 - val_acc: 0.3331\n",
      "Epoch 3/30\n",
      "42000/42000 [==============================] - 5s 123us/step - loss: 2.0222 - acc: 0.2981 - val_loss: 1.8448 - val_acc: 0.4390\n",
      "Epoch 4/30\n",
      "42000/42000 [==============================] - 5s 124us/step - loss: 1.7775 - acc: 0.3978 - val_loss: 1.5646 - val_acc: 0.5310\n",
      "Epoch 5/30\n",
      "42000/42000 [==============================] - 5s 122us/step - loss: 1.5454 - acc: 0.4857 - val_loss: 1.3499 - val_acc: 0.5879\n",
      "Epoch 6/30\n",
      "42000/42000 [==============================] - 5s 130us/step - loss: 1.3776 - acc: 0.5465 - val_loss: 1.2050 - val_acc: 0.6381\n",
      "Epoch 7/30\n",
      "42000/42000 [==============================] - 6s 132us/step - loss: 1.2520 - acc: 0.5970 - val_loss: 1.1045 - val_acc: 0.6676\n",
      "Epoch 8/30\n",
      "42000/42000 [==============================] - 5s 129us/step - loss: 1.1535 - acc: 0.6366 - val_loss: 1.0225 - val_acc: 0.6925\n",
      "Epoch 9/30\n",
      "42000/42000 [==============================] - 5s 122us/step - loss: 1.0720 - acc: 0.6626 - val_loss: 0.9640 - val_acc: 0.7103\n",
      "Epoch 10/30\n",
      "42000/42000 [==============================] - 5s 121us/step - loss: 1.0124 - acc: 0.6864 - val_loss: 0.9298 - val_acc: 0.7185\n",
      "Epoch 11/30\n",
      "42000/42000 [==============================] - 5s 121us/step - loss: 0.9528 - acc: 0.7070 - val_loss: 0.8814 - val_acc: 0.7331\n",
      "Epoch 12/30\n",
      "42000/42000 [==============================] - 5s 123us/step - loss: 0.9083 - acc: 0.7190 - val_loss: 0.8440 - val_acc: 0.7460\n",
      "Epoch 13/30\n",
      "42000/42000 [==============================] - 5s 122us/step - loss: 0.8657 - acc: 0.7331 - val_loss: 0.8168 - val_acc: 0.7562\n",
      "Epoch 14/30\n",
      "42000/42000 [==============================] - 5s 124us/step - loss: 0.8294 - acc: 0.7454 - val_loss: 0.7905 - val_acc: 0.7631\n",
      "Epoch 15/30\n",
      "42000/42000 [==============================] - 5s 122us/step - loss: 0.7981 - acc: 0.7562 - val_loss: 0.7892 - val_acc: 0.7611\n",
      "Epoch 16/30\n",
      "42000/42000 [==============================] - 5s 122us/step - loss: 0.7696 - acc: 0.7651 - val_loss: 0.7451 - val_acc: 0.7773\n",
      "Epoch 17/30\n",
      "42000/42000 [==============================] - 5s 123us/step - loss: 0.7449 - acc: 0.7723 - val_loss: 0.7462 - val_acc: 0.7742\n",
      "Epoch 18/30\n",
      "42000/42000 [==============================] - 5s 124us/step - loss: 0.7235 - acc: 0.7786 - val_loss: 0.7151 - val_acc: 0.7870\n",
      "Epoch 19/30\n",
      "42000/42000 [==============================] - 5s 124us/step - loss: 0.6995 - acc: 0.7861 - val_loss: 0.7069 - val_acc: 0.7897\n",
      "Epoch 20/30\n",
      "42000/42000 [==============================] - 5s 123us/step - loss: 0.6788 - acc: 0.7927 - val_loss: 0.6869 - val_acc: 0.7969\n",
      "Epoch 21/30\n",
      "42000/42000 [==============================] - 5s 123us/step - loss: 0.6653 - acc: 0.7962 - val_loss: 0.6735 - val_acc: 0.8014\n",
      "Epoch 22/30\n",
      "42000/42000 [==============================] - 5s 124us/step - loss: 0.6440 - acc: 0.8035 - val_loss: 0.6754 - val_acc: 0.7984\n",
      "Epoch 23/30\n",
      "42000/42000 [==============================] - 5s 125us/step - loss: 0.6300 - acc: 0.8082 - val_loss: 0.6901 - val_acc: 0.7929\n",
      "Epoch 24/30\n",
      "42000/42000 [==============================] - 5s 123us/step - loss: 0.6109 - acc: 0.8144 - val_loss: 0.6535 - val_acc: 0.8045\n",
      "Epoch 25/30\n",
      "42000/42000 [==============================] - 5s 122us/step - loss: 0.6030 - acc: 0.8176 - val_loss: 0.7188 - val_acc: 0.7805\n",
      "Epoch 26/30\n",
      "42000/42000 [==============================] - 5s 122us/step - loss: 0.5857 - acc: 0.8199 - val_loss: 0.6357 - val_acc: 0.8121\n",
      "Epoch 27/30\n",
      "42000/42000 [==============================] - 5s 124us/step - loss: 0.5745 - acc: 0.8263 - val_loss: 0.6902 - val_acc: 0.7933\n",
      "Epoch 28/30\n",
      "42000/42000 [==============================] - 5s 122us/step - loss: 0.5660 - acc: 0.8268 - val_loss: 0.6509 - val_acc: 0.8090\n",
      "Epoch 29/30\n",
      "42000/42000 [==============================] - 5s 123us/step - loss: 0.5492 - acc: 0.8330 - val_loss: 0.6827 - val_acc: 0.7997\n",
      "Epoch 30/30\n",
      "42000/42000 [==============================] - 5s 123us/step - loss: 0.5399 - acc: 0.8367 - val_loss: 0.6148 - val_acc: 0.8207\n"
     ]
    }
   ],
   "source": [
    "#categorical crossentropy  batch normalization and drop out\n",
    "model5 =create_model_withdropout('categorical_crossentropy')\n",
    "model5_result = model5.fit(x_train3,y_train2,validation_data=(x_test3,y_test2),epochs=30,batch_size = 200)"
   ]
  },
  {
   "cell_type": "code",
   "execution_count": 0,
   "metadata": {
    "colab": {
     "base_uri": "https://localhost:8080/",
     "height": 1074
    },
    "colab_type": "code",
    "id": "MUALY4WoH8Bz",
    "outputId": "c8e1630d-8118-49b1-a797-5ccc467352b1"
   },
   "outputs": [
    {
     "name": "stdout",
     "output_type": "stream",
     "text": [
      "Train on 42000 samples, validate on 18000 samples\n",
      "Epoch 1/30\n",
      "42000/42000 [==============================] - 9s 207us/step - loss: 1.5192 - acc: 0.4805 - val_loss: 0.9880 - val_acc: 0.6879\n",
      "Epoch 2/30\n",
      "42000/42000 [==============================] - 6s 140us/step - loss: 0.9392 - acc: 0.7070 - val_loss: 0.8200 - val_acc: 0.7489\n",
      "Epoch 3/30\n",
      "42000/42000 [==============================] - 6s 141us/step - loss: 0.7889 - acc: 0.7576 - val_loss: 0.7377 - val_acc: 0.7742\n",
      "Epoch 4/30\n",
      "42000/42000 [==============================] - 6s 142us/step - loss: 0.6933 - acc: 0.7847 - val_loss: 0.6957 - val_acc: 0.7857\n",
      "Epoch 5/30\n",
      "42000/42000 [==============================] - 6s 144us/step - loss: 0.6317 - acc: 0.8058 - val_loss: 0.6616 - val_acc: 0.8006\n",
      "Epoch 6/30\n",
      "42000/42000 [==============================] - 6s 145us/step - loss: 0.5842 - acc: 0.8180 - val_loss: 0.6746 - val_acc: 0.7947\n",
      "Epoch 7/30\n",
      "42000/42000 [==============================] - 6s 144us/step - loss: 0.5379 - acc: 0.8328 - val_loss: 0.6579 - val_acc: 0.8051\n",
      "Epoch 8/30\n",
      "42000/42000 [==============================] - 6s 144us/step - loss: 0.5132 - acc: 0.8395 - val_loss: 0.6092 - val_acc: 0.8216\n",
      "Epoch 9/30\n",
      "42000/42000 [==============================] - 6s 144us/step - loss: 0.4895 - acc: 0.8477 - val_loss: 0.6010 - val_acc: 0.8259\n",
      "Epoch 10/30\n",
      "42000/42000 [==============================] - 6s 142us/step - loss: 0.4530 - acc: 0.8575 - val_loss: 0.6016 - val_acc: 0.8234\n",
      "Epoch 11/30\n",
      "42000/42000 [==============================] - 6s 145us/step - loss: 0.4408 - acc: 0.8611 - val_loss: 0.5699 - val_acc: 0.8358\n",
      "Epoch 12/30\n",
      "42000/42000 [==============================] - 6s 145us/step - loss: 0.4158 - acc: 0.8703 - val_loss: 0.5777 - val_acc: 0.8422\n",
      "Epoch 13/30\n",
      "42000/42000 [==============================] - 6s 144us/step - loss: 0.3993 - acc: 0.8749 - val_loss: 0.5741 - val_acc: 0.8382\n",
      "Epoch 14/30\n",
      "42000/42000 [==============================] - 6s 144us/step - loss: 0.3776 - acc: 0.8799 - val_loss: 0.6009 - val_acc: 0.8352\n",
      "Epoch 15/30\n",
      "42000/42000 [==============================] - 6s 145us/step - loss: 0.3708 - acc: 0.8821 - val_loss: 0.5783 - val_acc: 0.8451\n",
      "Epoch 16/30\n",
      "42000/42000 [==============================] - 6s 143us/step - loss: 0.3535 - acc: 0.8874 - val_loss: 0.6017 - val_acc: 0.8382\n",
      "Epoch 17/30\n",
      "42000/42000 [==============================] - 6s 144us/step - loss: 0.3279 - acc: 0.8962 - val_loss: 0.6112 - val_acc: 0.8385\n",
      "Epoch 18/30\n",
      "42000/42000 [==============================] - 6s 143us/step - loss: 0.3232 - acc: 0.8976 - val_loss: 0.6079 - val_acc: 0.8384\n",
      "Epoch 19/30\n",
      "42000/42000 [==============================] - 6s 140us/step - loss: 0.3021 - acc: 0.9022 - val_loss: 0.5877 - val_acc: 0.8538\n",
      "Epoch 20/30\n",
      "42000/42000 [==============================] - 6s 144us/step - loss: 0.2962 - acc: 0.9040 - val_loss: 0.6213 - val_acc: 0.8399\n",
      "Epoch 21/30\n",
      "42000/42000 [==============================] - 6s 149us/step - loss: 0.2919 - acc: 0.9057 - val_loss: 0.6000 - val_acc: 0.8468\n",
      "Epoch 22/30\n",
      "42000/42000 [==============================] - 6s 143us/step - loss: 0.2825 - acc: 0.9103 - val_loss: 0.6101 - val_acc: 0.8507\n",
      "Epoch 23/30\n",
      "42000/42000 [==============================] - 6s 141us/step - loss: 0.2657 - acc: 0.9149 - val_loss: 0.6326 - val_acc: 0.8457\n",
      "Epoch 24/30\n",
      "42000/42000 [==============================] - 6s 143us/step - loss: 0.2614 - acc: 0.9157 - val_loss: 0.6182 - val_acc: 0.8479\n",
      "Epoch 25/30\n",
      "42000/42000 [==============================] - 6s 143us/step - loss: 0.2570 - acc: 0.9185 - val_loss: 0.6333 - val_acc: 0.8449\n",
      "Epoch 26/30\n",
      "42000/42000 [==============================] - 6s 146us/step - loss: 0.2483 - acc: 0.9218 - val_loss: 0.6479 - val_acc: 0.8471\n",
      "Epoch 27/30\n",
      "42000/42000 [==============================] - 6s 146us/step - loss: 0.2255 - acc: 0.9278 - val_loss: 0.6749 - val_acc: 0.8443\n",
      "Epoch 28/30\n",
      "42000/42000 [==============================] - 6s 141us/step - loss: 0.2303 - acc: 0.9282 - val_loss: 0.6494 - val_acc: 0.8522\n",
      "Epoch 29/30\n",
      "42000/42000 [==============================] - 6s 142us/step - loss: 0.2266 - acc: 0.9269 - val_loss: 0.6667 - val_acc: 0.8478\n",
      "Epoch 30/30\n",
      "42000/42000 [==============================] - 6s 142us/step - loss: 0.2261 - acc: 0.9285 - val_loss: 0.6750 - val_acc: 0.8410\n"
     ]
    }
   ],
   "source": [
    "#KL-divergence with batch normalization and drop out\n",
    "model6 =create_model_withdropout(losses.kullback_leibler_divergence)\n",
    "model6_result = model6.fit(x_train3,y_train2,validation_data=(x_test3,y_test2),epochs=30,batch_size = 200)"
   ]
  },
  {
   "cell_type": "code",
   "execution_count": 0,
   "metadata": {
    "colab": {},
    "colab_type": "code",
    "id": "LQkTW_rWLlcV"
   },
   "outputs": [],
   "source": [
    "columns =['optimizer','loss function','batch_normalization','drop_out layer','training accuracy','testing accuracy','training error','testing error']"
   ]
  },
  {
   "cell_type": "code",
   "execution_count": 0,
   "metadata": {
    "colab": {},
    "colab_type": "code",
    "id": "zLV5ck2WOJjb"
   },
   "outputs": [],
   "source": [
    "rows_list=[]"
   ]
  },
  {
   "cell_type": "code",
   "execution_count": 0,
   "metadata": {
    "colab": {},
    "colab_type": "code",
    "id": "7qjEfRMCJAAa"
   },
   "outputs": [],
   "source": [
    "rows_list.append(['sgd','cross_entropy','No','No',model1_result.history['acc'][29],model1_result.history['val_acc'][29],model1_result.history['loss'][29],model1_result.history['val_loss'][29]])"
   ]
  },
  {
   "cell_type": "code",
   "execution_count": 0,
   "metadata": {
    "colab": {},
    "colab_type": "code",
    "id": "Kygtnc2XQNJG"
   },
   "outputs": [],
   "source": [
    "rows_list.append(['sgd','Kl-divergence','No','No',model2_result.history['acc'][29],model2_result.history['val_acc'][29],model2_result.history['loss'][29],model2_result.history['val_loss'][29]])\n",
    "rows_list.append(['sgd','cross_entropy','Yes','No',model3_result.history['acc'][29],model3_result.history['val_acc'][29],model3_result.history['loss'][29],model3_result.history['val_loss'][29]])\n",
    "rows_list.append(['sgd','Kl-divergence','YEs','No',model4_result.history['acc'][29],model4_result.history['val_acc'][29],model4_result.history['loss'][29],model4_result.history['val_loss'][29]])\n",
    "rows_list.append(['sgd','cross_entropy','No','Yes',model5_result.history['acc'][29],model5_result.history['val_acc'][29],model5_result.history['loss'][29],model5_result.history['val_loss'][29]])\n",
    "rows_list.append(['sgd','Kl-divergence','No','Yes',model6_result.history['acc'][29],model6_result.history['val_acc'][29],model6_result.history['loss'][29],model6_result.history['val_loss'][29]])"
   ]
  },
  {
   "cell_type": "code",
   "execution_count": 0,
   "metadata": {
    "colab": {},
    "colab_type": "code",
    "id": "EN94QNxcPbpF"
   },
   "outputs": [],
   "source": [
    "sgd_history = pd.DataFrame(rows_list,columns = columns)"
   ]
  },
  {
   "cell_type": "code",
   "execution_count": 0,
   "metadata": {
    "colab": {
     "base_uri": "https://localhost:8080/",
     "height": 272
    },
    "colab_type": "code",
    "id": "1wbL_cPwQ8wz",
    "outputId": "318ee92c-6767-42ef-cc24-fca5895c945b"
   },
   "outputs": [
    {
     "data": {
      "text/html": [
       "<div>\n",
       "<style scoped>\n",
       "    .dataframe tbody tr th:only-of-type {\n",
       "        vertical-align: middle;\n",
       "    }\n",
       "\n",
       "    .dataframe tbody tr th {\n",
       "        vertical-align: top;\n",
       "    }\n",
       "\n",
       "    .dataframe thead th {\n",
       "        text-align: right;\n",
       "    }\n",
       "</style>\n",
       "<table border=\"1\" class=\"dataframe\">\n",
       "  <thead>\n",
       "    <tr style=\"text-align: right;\">\n",
       "      <th></th>\n",
       "      <th>optimizer</th>\n",
       "      <th>loss function</th>\n",
       "      <th>batch_normalization</th>\n",
       "      <th>drop_out layer</th>\n",
       "      <th>training accuracy</th>\n",
       "      <th>testing accuracy</th>\n",
       "      <th>training error</th>\n",
       "      <th>testing error</th>\n",
       "    </tr>\n",
       "  </thead>\n",
       "  <tbody>\n",
       "    <tr>\n",
       "      <th>0</th>\n",
       "      <td>sgd</td>\n",
       "      <td>cross_entropy</td>\n",
       "      <td>No</td>\n",
       "      <td>No</td>\n",
       "      <td>0.687119</td>\n",
       "      <td>0.693056</td>\n",
       "      <td>1.010566</td>\n",
       "      <td>0.998912</td>\n",
       "    </tr>\n",
       "    <tr>\n",
       "      <th>1</th>\n",
       "      <td>sgd</td>\n",
       "      <td>Kl-divergence</td>\n",
       "      <td>No</td>\n",
       "      <td>No</td>\n",
       "      <td>0.702190</td>\n",
       "      <td>0.707833</td>\n",
       "      <td>0.972805</td>\n",
       "      <td>0.965735</td>\n",
       "    </tr>\n",
       "    <tr>\n",
       "      <th>2</th>\n",
       "      <td>sgd</td>\n",
       "      <td>cross_entropy</td>\n",
       "      <td>Yes</td>\n",
       "      <td>No</td>\n",
       "      <td>0.858595</td>\n",
       "      <td>0.817167</td>\n",
       "      <td>0.465926</td>\n",
       "      <td>0.644047</td>\n",
       "    </tr>\n",
       "    <tr>\n",
       "      <th>3</th>\n",
       "      <td>sgd</td>\n",
       "      <td>Kl-divergence</td>\n",
       "      <td>YEs</td>\n",
       "      <td>No</td>\n",
       "      <td>0.857524</td>\n",
       "      <td>0.813111</td>\n",
       "      <td>0.462631</td>\n",
       "      <td>0.648903</td>\n",
       "    </tr>\n",
       "    <tr>\n",
       "      <th>4</th>\n",
       "      <td>sgd</td>\n",
       "      <td>cross_entropy</td>\n",
       "      <td>No</td>\n",
       "      <td>Yes</td>\n",
       "      <td>0.836738</td>\n",
       "      <td>0.820722</td>\n",
       "      <td>0.539858</td>\n",
       "      <td>0.614783</td>\n",
       "    </tr>\n",
       "    <tr>\n",
       "      <th>5</th>\n",
       "      <td>sgd</td>\n",
       "      <td>Kl-divergence</td>\n",
       "      <td>No</td>\n",
       "      <td>Yes</td>\n",
       "      <td>0.916500</td>\n",
       "      <td>0.839611</td>\n",
       "      <td>0.276361</td>\n",
       "      <td>0.620672</td>\n",
       "    </tr>\n",
       "  </tbody>\n",
       "</table>\n",
       "</div>"
      ],
      "text/plain": [
       "  optimizer  loss function batch_normalization drop_out layer  \\\n",
       "0       sgd  cross_entropy                  No             No   \n",
       "1       sgd  Kl-divergence                  No             No   \n",
       "2       sgd  cross_entropy                 Yes             No   \n",
       "3       sgd  Kl-divergence                 YEs             No   \n",
       "4       sgd  cross_entropy                  No            Yes   \n",
       "5       sgd  Kl-divergence                  No            Yes   \n",
       "\n",
       "   training accuracy  testing accuracy  training error  testing error  \n",
       "0           0.687119          0.693056        1.010566       0.998912  \n",
       "1           0.702190          0.707833        0.972805       0.965735  \n",
       "2           0.858595          0.817167        0.465926       0.644047  \n",
       "3           0.857524          0.813111        0.462631       0.648903  \n",
       "4           0.836738          0.820722        0.539858       0.614783  \n",
       "5           0.916500          0.839611        0.276361       0.620672  "
      ]
     },
     "execution_count": 82,
     "metadata": {
      "tags": []
     },
     "output_type": "execute_result"
    }
   ],
   "source": [
    "sgd_history"
   ]
  },
  {
   "cell_type": "code",
   "execution_count": 0,
   "metadata": {
    "colab": {},
    "colab_type": "code",
    "id": "kyb7hxb8REtA"
   },
   "outputs": [],
   "source": [
    "#best method is SGD with kl-divergence with batch normalization and with drop out layer"
   ]
  },
  {
   "cell_type": "markdown",
   "metadata": {
    "colab": {},
    "colab_type": "code",
    "id": "lnX3MGrT_54n"
   },
   "source": [
    "### 2.Adam optimizer"
   ]
  },
  {
   "cell_type": "markdown",
   "metadata": {
    "colab": {},
    "colab_type": "code",
    "id": "U5VkoLCsRcx_"
   },
   "source": [
    "### with loss functions as a. categorical cross entropy b. KL-divergence\n",
    "#### with and without batch normalization\n",
    "#### with and without drop out layer."
   ]
  },
  {
   "cell_type": "code",
   "execution_count": 0,
   "metadata": {
    "colab": {},
    "colab_type": "code",
    "id": "qt9CsAMaUBm0"
   },
   "outputs": [],
   "source": [
    "def create_model(loss_type,optimizer='adam'): \n",
    "  model =Sequential ()\n",
    "  model.add(Reshape((1024,),input_shape=(32,32,)))\n",
    "  model.add(Dense(300, activation='relu'))\n",
    "  model.add(Dense(200, activation='relu'))\n",
    "  model.add(Dense(200, activation='relu'))\n",
    "  model.add(Dense(250, activation='relu'))\n",
    "  #model.add(Dropout(0.5))\n",
    "  model.add(Dense(10, activation='softmax'))\n",
    "  model.compile(loss=loss_type, optimizer=optimizer, metrics=['accuracy'])\n",
    "  return model"
   ]
  },
  {
   "cell_type": "code",
   "execution_count": 0,
   "metadata": {
    "colab": {
     "base_uri": "https://localhost:8080/",
     "height": 1074
    },
    "colab_type": "code",
    "id": "giDcgLxWRqMj",
    "outputId": "2a7db5ae-b3ae-446b-b776-55a2cdd53cd1"
   },
   "outputs": [
    {
     "name": "stdout",
     "output_type": "stream",
     "text": [
      "Train on 42000 samples, validate on 18000 samples\n",
      "Epoch 1/30\n",
      "42000/42000 [==============================] - 6s 141us/step - loss: 2.0559 - acc: 0.2399 - val_loss: 1.4546 - val_acc: 0.5034\n",
      "Epoch 2/30\n",
      "42000/42000 [==============================] - 5s 109us/step - loss: 1.3499 - acc: 0.5470 - val_loss: 1.2772 - val_acc: 0.5853\n",
      "Epoch 3/30\n",
      "42000/42000 [==============================] - 5s 109us/step - loss: 1.1543 - acc: 0.6294 - val_loss: 1.0452 - val_acc: 0.6729\n",
      "Epoch 4/30\n",
      "42000/42000 [==============================] - 5s 114us/step - loss: 1.0476 - acc: 0.6680 - val_loss: 1.0109 - val_acc: 0.6805\n",
      "Epoch 5/30\n",
      "42000/42000 [==============================] - 5s 116us/step - loss: 0.9638 - acc: 0.6961 - val_loss: 1.0074 - val_acc: 0.6829\n",
      "Epoch 6/30\n",
      "42000/42000 [==============================] - 5s 108us/step - loss: 0.9006 - acc: 0.7153 - val_loss: 0.8705 - val_acc: 0.7274\n",
      "Epoch 7/30\n",
      "42000/42000 [==============================] - 5s 109us/step - loss: 0.8561 - acc: 0.7291 - val_loss: 0.8804 - val_acc: 0.7238\n",
      "Epoch 8/30\n",
      "42000/42000 [==============================] - 5s 108us/step - loss: 0.8132 - acc: 0.7436 - val_loss: 0.8662 - val_acc: 0.7285\n",
      "Epoch 9/30\n",
      "42000/42000 [==============================] - 5s 108us/step - loss: 0.7662 - acc: 0.7582 - val_loss: 0.8346 - val_acc: 0.7411\n",
      "Epoch 10/30\n",
      "42000/42000 [==============================] - 5s 109us/step - loss: 0.7515 - acc: 0.7631 - val_loss: 0.8444 - val_acc: 0.7370\n",
      "Epoch 11/30\n",
      "42000/42000 [==============================] - 5s 108us/step - loss: 0.7077 - acc: 0.7759 - val_loss: 0.8697 - val_acc: 0.7276\n",
      "Epoch 12/30\n",
      "42000/42000 [==============================] - 5s 108us/step - loss: 0.7040 - acc: 0.7765 - val_loss: 0.7326 - val_acc: 0.7759\n",
      "Epoch 13/30\n",
      "42000/42000 [==============================] - 5s 109us/step - loss: 0.6691 - acc: 0.7887 - val_loss: 0.7184 - val_acc: 0.7793\n",
      "Epoch 14/30\n",
      "42000/42000 [==============================] - 5s 110us/step - loss: 0.6406 - acc: 0.7969 - val_loss: 0.7423 - val_acc: 0.7741\n",
      "Epoch 15/30\n",
      "42000/42000 [==============================] - 5s 111us/step - loss: 0.6139 - acc: 0.8042 - val_loss: 0.7188 - val_acc: 0.7795\n",
      "Epoch 16/30\n",
      "42000/42000 [==============================] - 5s 111us/step - loss: 0.5945 - acc: 0.8103 - val_loss: 0.7525 - val_acc: 0.7702\n",
      "Epoch 17/30\n",
      "42000/42000 [==============================] - 5s 108us/step - loss: 0.5728 - acc: 0.8162 - val_loss: 0.6748 - val_acc: 0.7957\n",
      "Epoch 18/30\n",
      "42000/42000 [==============================] - 4s 107us/step - loss: 0.5638 - acc: 0.8194 - val_loss: 0.7137 - val_acc: 0.7828\n",
      "Epoch 19/30\n",
      "42000/42000 [==============================] - 5s 108us/step - loss: 0.5531 - acc: 0.8242 - val_loss: 0.6448 - val_acc: 0.8012\n",
      "Epoch 20/30\n",
      "42000/42000 [==============================] - 5s 107us/step - loss: 0.5449 - acc: 0.8262 - val_loss: 0.6924 - val_acc: 0.7913\n",
      "Epoch 21/30\n",
      "42000/42000 [==============================] - 4s 107us/step - loss: 0.5293 - acc: 0.8292 - val_loss: 0.6676 - val_acc: 0.7952\n",
      "Epoch 22/30\n",
      "42000/42000 [==============================] - 4s 107us/step - loss: 0.5002 - acc: 0.8388 - val_loss: 0.6355 - val_acc: 0.8083\n",
      "Epoch 23/30\n",
      "42000/42000 [==============================] - 5s 109us/step - loss: 0.4851 - acc: 0.8442 - val_loss: 0.6245 - val_acc: 0.8120\n",
      "Epoch 24/30\n",
      "42000/42000 [==============================] - 5s 109us/step - loss: 0.4719 - acc: 0.8482 - val_loss: 0.6225 - val_acc: 0.8169\n",
      "Epoch 25/30\n",
      "42000/42000 [==============================] - 5s 109us/step - loss: 0.4556 - acc: 0.8530 - val_loss: 0.6189 - val_acc: 0.8158\n",
      "Epoch 26/30\n",
      "42000/42000 [==============================] - 5s 108us/step - loss: 0.4549 - acc: 0.8537 - val_loss: 0.6454 - val_acc: 0.8067\n",
      "Epoch 27/30\n",
      "42000/42000 [==============================] - 5s 109us/step - loss: 0.4228 - acc: 0.8645 - val_loss: 0.6573 - val_acc: 0.8024\n",
      "Epoch 28/30\n",
      "42000/42000 [==============================] - 5s 108us/step - loss: 0.4254 - acc: 0.8617 - val_loss: 0.6343 - val_acc: 0.8148\n",
      "Epoch 29/30\n",
      "42000/42000 [==============================] - 5s 108us/step - loss: 0.4209 - acc: 0.8631 - val_loss: 0.6466 - val_acc: 0.8148\n",
      "Epoch 30/30\n",
      "42000/42000 [==============================] - 5s 109us/step - loss: 0.4029 - acc: 0.8699 - val_loss: 0.6164 - val_acc: 0.8215\n"
     ]
    }
   ],
   "source": [
    "#categorical crossentropy without batch normalization\n",
    "adam1 =create_model('categorical_crossentropy')\n",
    "adam1_result = adam1.fit(x_train3,y_train2,validation_data=(x_test3,y_test2),epochs=30,batch_size = 200)"
   ]
  },
  {
   "cell_type": "code",
   "execution_count": 0,
   "metadata": {
    "colab": {
     "base_uri": "https://localhost:8080/",
     "height": 1074
    },
    "colab_type": "code",
    "id": "MQwr5Y-PRqHZ",
    "outputId": "b028b4fa-f6d5-4d4e-890e-0d7be7f14fdb"
   },
   "outputs": [
    {
     "name": "stdout",
     "output_type": "stream",
     "text": [
      "Train on 42000 samples, validate on 18000 samples\n",
      "Epoch 1/30\n",
      "42000/42000 [==============================] - 6s 135us/step - loss: 2.1133 - acc: 0.2003 - val_loss: 1.6944 - val_acc: 0.3885\n",
      "Epoch 2/30\n",
      "42000/42000 [==============================] - 5s 108us/step - loss: 1.4140 - acc: 0.5190 - val_loss: 1.2329 - val_acc: 0.5952\n",
      "Epoch 3/30\n",
      "42000/42000 [==============================] - 5s 108us/step - loss: 1.1872 - acc: 0.6157 - val_loss: 1.1050 - val_acc: 0.6391\n",
      "Epoch 4/30\n",
      "42000/42000 [==============================] - 5s 108us/step - loss: 1.0402 - acc: 0.6699 - val_loss: 1.0301 - val_acc: 0.6716\n",
      "Epoch 5/30\n",
      "42000/42000 [==============================] - 4s 107us/step - loss: 0.9708 - acc: 0.6909 - val_loss: 0.9888 - val_acc: 0.6884\n",
      "Epoch 6/30\n",
      "42000/42000 [==============================] - 5s 109us/step - loss: 0.9020 - acc: 0.7133 - val_loss: 0.8802 - val_acc: 0.7252\n",
      "Epoch 7/30\n",
      "42000/42000 [==============================] - 5s 110us/step - loss: 0.8319 - acc: 0.7383 - val_loss: 0.9064 - val_acc: 0.7149\n",
      "Epoch 8/30\n",
      "42000/42000 [==============================] - 5s 109us/step - loss: 0.8156 - acc: 0.7416 - val_loss: 0.7970 - val_acc: 0.7539\n",
      "Epoch 9/30\n",
      "42000/42000 [==============================] - 5s 108us/step - loss: 0.7678 - acc: 0.7550 - val_loss: 0.7627 - val_acc: 0.7653\n",
      "Epoch 10/30\n",
      "42000/42000 [==============================] - 5s 108us/step - loss: 0.7291 - acc: 0.7702 - val_loss: 0.7483 - val_acc: 0.7695\n",
      "Epoch 11/30\n",
      "42000/42000 [==============================] - 5s 108us/step - loss: 0.7136 - acc: 0.7745 - val_loss: 0.7811 - val_acc: 0.7590\n",
      "Epoch 12/30\n",
      "42000/42000 [==============================] - 5s 110us/step - loss: 0.6844 - acc: 0.7841 - val_loss: 0.7104 - val_acc: 0.7823\n",
      "Epoch 13/30\n",
      "42000/42000 [==============================] - 5s 109us/step - loss: 0.6609 - acc: 0.7908 - val_loss: 0.7507 - val_acc: 0.7682\n",
      "Epoch 14/30\n",
      "42000/42000 [==============================] - 5s 108us/step - loss: 0.6433 - acc: 0.7949 - val_loss: 0.7268 - val_acc: 0.7750\n",
      "Epoch 15/30\n",
      "42000/42000 [==============================] - 5s 109us/step - loss: 0.6367 - acc: 0.7991 - val_loss: 0.6840 - val_acc: 0.7903\n",
      "Epoch 16/30\n",
      "42000/42000 [==============================] - 5s 110us/step - loss: 0.5924 - acc: 0.8129 - val_loss: 0.6802 - val_acc: 0.7898\n",
      "Epoch 17/30\n",
      "42000/42000 [==============================] - 5s 110us/step - loss: 0.5841 - acc: 0.8127 - val_loss: 0.6482 - val_acc: 0.8028\n",
      "Epoch 18/30\n",
      "42000/42000 [==============================] - 5s 109us/step - loss: 0.5583 - acc: 0.8217 - val_loss: 0.7154 - val_acc: 0.7798\n",
      "Epoch 19/30\n",
      "42000/42000 [==============================] - 5s 109us/step - loss: 0.5536 - acc: 0.8223 - val_loss: 0.6607 - val_acc: 0.8000\n",
      "Epoch 20/30\n",
      "42000/42000 [==============================] - 5s 110us/step - loss: 0.5398 - acc: 0.8271 - val_loss: 0.7067 - val_acc: 0.7789\n",
      "Epoch 21/30\n",
      "42000/42000 [==============================] - 5s 114us/step - loss: 0.5312 - acc: 0.8286 - val_loss: 0.6847 - val_acc: 0.7900\n",
      "Epoch 22/30\n",
      "42000/42000 [==============================] - 5s 110us/step - loss: 0.5046 - acc: 0.8391 - val_loss: 0.7262 - val_acc: 0.7819\n",
      "Epoch 23/30\n",
      "42000/42000 [==============================] - 5s 109us/step - loss: 0.4797 - acc: 0.8465 - val_loss: 0.6296 - val_acc: 0.8134\n",
      "Epoch 24/30\n",
      "42000/42000 [==============================] - 5s 108us/step - loss: 0.4827 - acc: 0.8436 - val_loss: 0.6280 - val_acc: 0.8153\n",
      "Epoch 25/30\n",
      "42000/42000 [==============================] - 5s 109us/step - loss: 0.4673 - acc: 0.8493 - val_loss: 0.6154 - val_acc: 0.8169\n",
      "Epoch 26/30\n",
      "42000/42000 [==============================] - 5s 108us/step - loss: 0.4481 - acc: 0.8553 - val_loss: 0.6706 - val_acc: 0.8002\n",
      "Epoch 27/30\n",
      "42000/42000 [==============================] - 5s 109us/step - loss: 0.4616 - acc: 0.8498 - val_loss: 0.6532 - val_acc: 0.8057\n",
      "Epoch 28/30\n",
      "42000/42000 [==============================] - 5s 109us/step - loss: 0.4347 - acc: 0.8589 - val_loss: 0.6850 - val_acc: 0.7947\n",
      "Epoch 29/30\n",
      "42000/42000 [==============================] - 5s 108us/step - loss: 0.4199 - acc: 0.8635 - val_loss: 0.6911 - val_acc: 0.7991\n",
      "Epoch 30/30\n",
      "42000/42000 [==============================] - 5s 110us/step - loss: 0.4024 - acc: 0.8695 - val_loss: 0.6273 - val_acc: 0.8164\n"
     ]
    }
   ],
   "source": [
    "#KL-divergence without batch normalization\n",
    "adam2 =create_model(losses.kullback_leibler_divergence)\n",
    "adam2_result = adam2.fit(x_train3,y_train2,validation_data=(x_test3,y_test2),epochs=30,batch_size = 200)"
   ]
  },
  {
   "cell_type": "code",
   "execution_count": 0,
   "metadata": {
    "colab": {},
    "colab_type": "code",
    "id": "240KfIx7RqD7"
   },
   "outputs": [],
   "source": [
    "def create_model_withBatchNorm(loss_type,optimizer='adam'): \n",
    "  model =Sequential ()\n",
    "  model.add(Reshape((1024,),input_shape=(32,32,)))\n",
    "  model.add(BatchNormalization())\n",
    "  model.add(Dense(300, activation='relu'))\n",
    "  model.add(Dense(200, activation='relu'))\n",
    "  model.add(Dense(200, activation='relu'))\n",
    "  model.add(Dense(250, activation='relu'))\n",
    "  #model.add(Dropout(0.5))\n",
    "  model.add(Dense(10, activation='softmax'))\n",
    "  model.compile(loss=loss_type, optimizer=optimizer, metrics=['accuracy'])\n",
    "  return model"
   ]
  },
  {
   "cell_type": "code",
   "execution_count": 0,
   "metadata": {
    "colab": {
     "base_uri": "https://localhost:8080/",
     "height": 1074
    },
    "colab_type": "code",
    "id": "Jj6NL70dRqAF",
    "outputId": "0d0b536e-6668-4a5a-c1b8-4338f5a78208"
   },
   "outputs": [
    {
     "name": "stdout",
     "output_type": "stream",
     "text": [
      "Train on 42000 samples, validate on 18000 samples\n",
      "Epoch 1/30\n",
      "42000/42000 [==============================] - 7s 177us/step - loss: 1.3172 - acc: 0.5639 - val_loss: 0.9210 - val_acc: 0.7108\n",
      "Epoch 2/30\n",
      "42000/42000 [==============================] - 6s 141us/step - loss: 0.8373 - acc: 0.7377 - val_loss: 0.7847 - val_acc: 0.7614\n",
      "Epoch 3/30\n",
      "42000/42000 [==============================] - 6s 141us/step - loss: 0.7003 - acc: 0.7822 - val_loss: 0.6916 - val_acc: 0.7907\n",
      "Epoch 4/30\n",
      "42000/42000 [==============================] - 6s 139us/step - loss: 0.6141 - acc: 0.8085 - val_loss: 0.6805 - val_acc: 0.7941\n",
      "Epoch 5/30\n",
      "42000/42000 [==============================] - 6s 139us/step - loss: 0.5567 - acc: 0.8251 - val_loss: 0.6634 - val_acc: 0.8012\n",
      "Epoch 6/30\n",
      "42000/42000 [==============================] - 6s 140us/step - loss: 0.5161 - acc: 0.8369 - val_loss: 0.6245 - val_acc: 0.8155\n",
      "Epoch 7/30\n",
      "42000/42000 [==============================] - 6s 141us/step - loss: 0.4672 - acc: 0.8515 - val_loss: 0.6241 - val_acc: 0.8173\n",
      "Epoch 8/30\n",
      "42000/42000 [==============================] - 6s 142us/step - loss: 0.4395 - acc: 0.8593 - val_loss: 0.6409 - val_acc: 0.8192\n",
      "Epoch 9/30\n",
      "42000/42000 [==============================] - 6s 152us/step - loss: 0.4125 - acc: 0.8674 - val_loss: 0.6139 - val_acc: 0.8275\n",
      "Epoch 10/30\n",
      "42000/42000 [==============================] - 6s 145us/step - loss: 0.3849 - acc: 0.8749 - val_loss: 0.6055 - val_acc: 0.8311\n",
      "Epoch 11/30\n",
      "42000/42000 [==============================] - 6s 140us/step - loss: 0.3614 - acc: 0.8839 - val_loss: 0.6115 - val_acc: 0.8279\n",
      "Epoch 12/30\n",
      "42000/42000 [==============================] - 6s 143us/step - loss: 0.3435 - acc: 0.8892 - val_loss: 0.6165 - val_acc: 0.8257\n",
      "Epoch 13/30\n",
      "42000/42000 [==============================] - 6s 141us/step - loss: 0.3199 - acc: 0.8972 - val_loss: 0.6231 - val_acc: 0.8338\n",
      "Epoch 14/30\n",
      "42000/42000 [==============================] - 6s 141us/step - loss: 0.3115 - acc: 0.9002 - val_loss: 0.6255 - val_acc: 0.8361\n",
      "Epoch 15/30\n",
      "42000/42000 [==============================] - 6s 140us/step - loss: 0.2956 - acc: 0.9034 - val_loss: 0.6491 - val_acc: 0.8341\n",
      "Epoch 16/30\n",
      "42000/42000 [==============================] - 6s 141us/step - loss: 0.2808 - acc: 0.9083 - val_loss: 0.6379 - val_acc: 0.8413\n",
      "Epoch 17/30\n",
      "42000/42000 [==============================] - 6s 140us/step - loss: 0.2614 - acc: 0.9155 - val_loss: 0.6383 - val_acc: 0.8432\n",
      "Epoch 18/30\n",
      "42000/42000 [==============================] - 6s 138us/step - loss: 0.2481 - acc: 0.9190 - val_loss: 0.6569 - val_acc: 0.8408\n",
      "Epoch 19/30\n",
      "42000/42000 [==============================] - 6s 137us/step - loss: 0.2362 - acc: 0.9237 - val_loss: 0.6864 - val_acc: 0.8403\n",
      "Epoch 20/30\n",
      "42000/42000 [==============================] - 6s 138us/step - loss: 0.2178 - acc: 0.9294 - val_loss: 0.6845 - val_acc: 0.8407\n",
      "Epoch 21/30\n",
      "42000/42000 [==============================] - 6s 138us/step - loss: 0.2225 - acc: 0.9278 - val_loss: 0.6861 - val_acc: 0.8426\n",
      "Epoch 22/30\n",
      "42000/42000 [==============================] - 6s 139us/step - loss: 0.2160 - acc: 0.9298 - val_loss: 0.6992 - val_acc: 0.8439\n",
      "Epoch 23/30\n",
      "42000/42000 [==============================] - 6s 140us/step - loss: 0.2073 - acc: 0.9324 - val_loss: 0.7031 - val_acc: 0.8396\n",
      "Epoch 24/30\n",
      "42000/42000 [==============================] - 6s 140us/step - loss: 0.1936 - acc: 0.9366 - val_loss: 0.7428 - val_acc: 0.8363\n",
      "Epoch 25/30\n",
      "42000/42000 [==============================] - 6s 139us/step - loss: 0.1903 - acc: 0.9371 - val_loss: 0.7131 - val_acc: 0.8414\n",
      "Epoch 26/30\n",
      "42000/42000 [==============================] - 6s 139us/step - loss: 0.1722 - acc: 0.9439 - val_loss: 0.7537 - val_acc: 0.8394\n",
      "Epoch 27/30\n",
      "42000/42000 [==============================] - 6s 140us/step - loss: 0.1762 - acc: 0.9420 - val_loss: 0.7406 - val_acc: 0.8397\n",
      "Epoch 28/30\n",
      "42000/42000 [==============================] - 6s 137us/step - loss: 0.1650 - acc: 0.9459 - val_loss: 0.7801 - val_acc: 0.8393\n",
      "Epoch 29/30\n",
      "42000/42000 [==============================] - 6s 138us/step - loss: 0.1808 - acc: 0.9420 - val_loss: 0.7425 - val_acc: 0.8469\n",
      "Epoch 30/30\n",
      "42000/42000 [==============================] - 6s 137us/step - loss: 0.1654 - acc: 0.9459 - val_loss: 0.7502 - val_acc: 0.8441\n"
     ]
    }
   ],
   "source": [
    "adam3 =create_model_withBatchNorm('categorical_crossentropy')\n",
    "adam3_result = adam3.fit(x_train3,y_train2,validation_data=(x_test3,y_test2),epochs=30,batch_size = 200)"
   ]
  },
  {
   "cell_type": "code",
   "execution_count": 0,
   "metadata": {
    "colab": {},
    "colab_type": "code",
    "id": "dpJ9UIJkTHtx"
   },
   "outputs": [],
   "source": [
    "def create_model_withdropout(loss_type,optimizer='adam'): \n",
    "  model =Sequential ()\n",
    "  model.add(Reshape((1024,),input_shape=(32,32,)))\n",
    "  model.add(BatchNormalization())\n",
    "  model.add(Dense(300, activation='relu'))\n",
    "  model.add(Dense(200, activation='relu'))\n",
    "  model.add(Dense(200, activation='relu'))\n",
    "  model.add(Dense(250, activation='relu'))\n",
    "  model.add(Dropout(0.5))\n",
    "  model.add(Dense(10, activation='softmax'))\n",
    "  model.compile(loss=loss_type, optimizer=optimizer, metrics=['accuracy'])\n",
    "  return model"
   ]
  },
  {
   "cell_type": "code",
   "execution_count": 0,
   "metadata": {
    "colab": {
     "base_uri": "https://localhost:8080/",
     "height": 1074
    },
    "colab_type": "code",
    "id": "IMhHAbOzTIae",
    "outputId": "54dded0e-5e18-4ce0-9b4e-e22206af3c15"
   },
   "outputs": [
    {
     "name": "stdout",
     "output_type": "stream",
     "text": [
      "Train on 42000 samples, validate on 18000 samples\n",
      "Epoch 1/30\n",
      "42000/42000 [==============================] - 8s 189us/step - loss: 1.5374 - acc: 0.4729 - val_loss: 0.9937 - val_acc: 0.6871\n",
      "Epoch 2/30\n",
      "42000/42000 [==============================] - 6s 152us/step - loss: 0.9507 - acc: 0.7031 - val_loss: 0.8253 - val_acc: 0.7478\n",
      "Epoch 3/30\n",
      "42000/42000 [==============================] - 6s 144us/step - loss: 0.7920 - acc: 0.7530 - val_loss: 0.7448 - val_acc: 0.7737\n",
      "Epoch 4/30\n",
      "42000/42000 [==============================] - 6s 142us/step - loss: 0.7082 - acc: 0.7807 - val_loss: 0.6912 - val_acc: 0.7896\n",
      "Epoch 5/30\n",
      "42000/42000 [==============================] - 6s 143us/step - loss: 0.6400 - acc: 0.8009 - val_loss: 0.6472 - val_acc: 0.8072\n",
      "Epoch 6/30\n",
      "42000/42000 [==============================] - 6s 145us/step - loss: 0.5911 - acc: 0.8160 - val_loss: 0.6334 - val_acc: 0.8129\n",
      "Epoch 7/30\n",
      "42000/42000 [==============================] - 6s 147us/step - loss: 0.5498 - acc: 0.8287 - val_loss: 0.6273 - val_acc: 0.8157\n",
      "Epoch 8/30\n",
      "42000/42000 [==============================] - 6s 143us/step - loss: 0.5133 - acc: 0.8411 - val_loss: 0.5968 - val_acc: 0.8268\n",
      "Epoch 9/30\n",
      "42000/42000 [==============================] - 6s 142us/step - loss: 0.4893 - acc: 0.8463 - val_loss: 0.6394 - val_acc: 0.8144\n",
      "Epoch 10/30\n",
      "42000/42000 [==============================] - 6s 144us/step - loss: 0.4549 - acc: 0.8583 - val_loss: 0.5961 - val_acc: 0.8302\n",
      "Epoch 11/30\n",
      "42000/42000 [==============================] - 6s 145us/step - loss: 0.4344 - acc: 0.8624 - val_loss: 0.5979 - val_acc: 0.8293\n",
      "Epoch 12/30\n",
      "42000/42000 [==============================] - 6s 146us/step - loss: 0.4224 - acc: 0.8677 - val_loss: 0.5940 - val_acc: 0.8347\n",
      "Epoch 13/30\n",
      "42000/42000 [==============================] - 6s 145us/step - loss: 0.3961 - acc: 0.8768 - val_loss: 0.6007 - val_acc: 0.8309\n",
      "Epoch 14/30\n",
      "42000/42000 [==============================] - 6s 144us/step - loss: 0.3743 - acc: 0.8824 - val_loss: 0.6029 - val_acc: 0.8333\n",
      "Epoch 15/30\n",
      "42000/42000 [==============================] - 6s 143us/step - loss: 0.3640 - acc: 0.8859 - val_loss: 0.6032 - val_acc: 0.8323\n",
      "Epoch 16/30\n",
      "42000/42000 [==============================] - 6s 144us/step - loss: 0.3558 - acc: 0.8886 - val_loss: 0.5918 - val_acc: 0.8424\n",
      "Epoch 17/30\n",
      "42000/42000 [==============================] - 6s 145us/step - loss: 0.3344 - acc: 0.8958 - val_loss: 0.6033 - val_acc: 0.8431\n",
      "Epoch 18/30\n",
      "42000/42000 [==============================] - 6s 144us/step - loss: 0.3161 - acc: 0.8998 - val_loss: 0.5889 - val_acc: 0.8450\n",
      "Epoch 19/30\n",
      "42000/42000 [==============================] - 6s 145us/step - loss: 0.3130 - acc: 0.9002 - val_loss: 0.6062 - val_acc: 0.8467\n",
      "Epoch 20/30\n",
      "42000/42000 [==============================] - 6s 147us/step - loss: 0.2946 - acc: 0.9065 - val_loss: 0.5977 - val_acc: 0.8479\n",
      "Epoch 21/30\n",
      "42000/42000 [==============================] - 6s 146us/step - loss: 0.2950 - acc: 0.9060 - val_loss: 0.6220 - val_acc: 0.8431\n",
      "Epoch 22/30\n",
      "42000/42000 [==============================] - 6s 147us/step - loss: 0.2772 - acc: 0.9115 - val_loss: 0.6152 - val_acc: 0.8497\n",
      "Epoch 23/30\n",
      "42000/42000 [==============================] - 6s 146us/step - loss: 0.2734 - acc: 0.9125 - val_loss: 0.6187 - val_acc: 0.8497\n",
      "Epoch 24/30\n",
      "42000/42000 [==============================] - 6s 144us/step - loss: 0.2465 - acc: 0.9210 - val_loss: 0.6253 - val_acc: 0.8507\n",
      "Epoch 25/30\n",
      "42000/42000 [==============================] - 6s 145us/step - loss: 0.2556 - acc: 0.9183 - val_loss: 0.6537 - val_acc: 0.8450\n",
      "Epoch 26/30\n",
      "42000/42000 [==============================] - 6s 146us/step - loss: 0.2522 - acc: 0.9198 - val_loss: 0.6390 - val_acc: 0.8523\n",
      "Epoch 27/30\n",
      "42000/42000 [==============================] - 6s 145us/step - loss: 0.2316 - acc: 0.9256 - val_loss: 0.6548 - val_acc: 0.8505\n",
      "Epoch 28/30\n",
      "42000/42000 [==============================] - 6s 144us/step - loss: 0.2345 - acc: 0.9251 - val_loss: 0.6530 - val_acc: 0.8494\n",
      "Epoch 29/30\n",
      "42000/42000 [==============================] - 6s 145us/step - loss: 0.2205 - acc: 0.9293 - val_loss: 0.6742 - val_acc: 0.8466\n",
      "Epoch 30/30\n",
      "42000/42000 [==============================] - 6s 144us/step - loss: 0.2201 - acc: 0.9291 - val_loss: 0.6803 - val_acc: 0.8507\n"
     ]
    }
   ],
   "source": [
    "adam5 =create_model_withdropout('categorical_crossentropy')\n",
    "adam5_result = adam5.fit(x_train3,y_train2,validation_data=(x_test3,y_test2),epochs=30,batch_size = 200)"
   ]
  },
  {
   "cell_type": "code",
   "execution_count": 0,
   "metadata": {
    "colab": {
     "base_uri": "https://localhost:8080/",
     "height": 1074
    },
    "colab_type": "code",
    "id": "59vP1tVg4EW3",
    "outputId": "4dd4c0c9-e0dd-4296-d858-a7ed3fc6d2f6"
   },
   "outputs": [
    {
     "name": "stdout",
     "output_type": "stream",
     "text": [
      "Train on 42000 samples, validate on 18000 samples\n",
      "Epoch 1/30\n",
      "42000/42000 [==============================] - 9s 226us/step - loss: 1.5402 - acc: 0.4748 - val_loss: 0.9754 - val_acc: 0.6960\n",
      "Epoch 2/30\n",
      "42000/42000 [==============================] - 6s 146us/step - loss: 0.9574 - acc: 0.7016 - val_loss: 0.8502 - val_acc: 0.7406\n",
      "Epoch 3/30\n",
      "42000/42000 [==============================] - 6s 146us/step - loss: 0.8009 - acc: 0.7531 - val_loss: 0.7374 - val_acc: 0.7744\n",
      "Epoch 4/30\n",
      "42000/42000 [==============================] - 6s 146us/step - loss: 0.7025 - acc: 0.7818 - val_loss: 0.6974 - val_acc: 0.7862\n",
      "Epoch 5/30\n",
      "42000/42000 [==============================] - 6s 144us/step - loss: 0.6356 - acc: 0.8026 - val_loss: 0.6506 - val_acc: 0.8061\n",
      "Epoch 6/30\n",
      "42000/42000 [==============================] - 6s 143us/step - loss: 0.5859 - acc: 0.8156 - val_loss: 0.6343 - val_acc: 0.8101\n",
      "Epoch 7/30\n",
      "42000/42000 [==============================] - 6s 145us/step - loss: 0.5572 - acc: 0.8267 - val_loss: 0.6010 - val_acc: 0.8234\n",
      "Epoch 8/30\n",
      "42000/42000 [==============================] - 6s 147us/step - loss: 0.5205 - acc: 0.8388 - val_loss: 0.6254 - val_acc: 0.8155\n",
      "Epoch 9/30\n",
      "42000/42000 [==============================] - 6s 147us/step - loss: 0.4855 - acc: 0.8485 - val_loss: 0.6104 - val_acc: 0.8188\n",
      "Epoch 10/30\n",
      "42000/42000 [==============================] - 6s 146us/step - loss: 0.4596 - acc: 0.8559 - val_loss: 0.5904 - val_acc: 0.8293\n",
      "Epoch 11/30\n",
      "42000/42000 [==============================] - 6s 147us/step - loss: 0.4428 - acc: 0.8588 - val_loss: 0.5909 - val_acc: 0.8299\n",
      "Epoch 12/30\n",
      "42000/42000 [==============================] - 6s 148us/step - loss: 0.4150 - acc: 0.8686 - val_loss: 0.6056 - val_acc: 0.8291\n",
      "Epoch 13/30\n",
      "42000/42000 [==============================] - 6s 146us/step - loss: 0.3992 - acc: 0.8747 - val_loss: 0.5905 - val_acc: 0.8369\n",
      "Epoch 14/30\n",
      "42000/42000 [==============================] - 6s 143us/step - loss: 0.3848 - acc: 0.8781 - val_loss: 0.5850 - val_acc: 0.8363\n",
      "Epoch 15/30\n",
      "42000/42000 [==============================] - 6s 149us/step - loss: 0.3688 - acc: 0.8835 - val_loss: 0.5901 - val_acc: 0.8427\n",
      "Epoch 16/30\n",
      "42000/42000 [==============================] - 6s 149us/step - loss: 0.3445 - acc: 0.8907 - val_loss: 0.6014 - val_acc: 0.8403\n",
      "Epoch 17/30\n",
      "42000/42000 [==============================] - 6s 147us/step - loss: 0.3393 - acc: 0.8916 - val_loss: 0.6332 - val_acc: 0.8321\n",
      "Epoch 18/30\n",
      "42000/42000 [==============================] - 6s 147us/step - loss: 0.3264 - acc: 0.8953 - val_loss: 0.6142 - val_acc: 0.8394\n",
      "Epoch 19/30\n",
      "42000/42000 [==============================] - 6s 145us/step - loss: 0.3106 - acc: 0.8991 - val_loss: 0.5995 - val_acc: 0.8413\n",
      "Epoch 20/30\n",
      "42000/42000 [==============================] - 6s 145us/step - loss: 0.2898 - acc: 0.9077 - val_loss: 0.6111 - val_acc: 0.8474\n",
      "Epoch 21/30\n",
      "42000/42000 [==============================] - 6s 147us/step - loss: 0.2812 - acc: 0.9089 - val_loss: 0.6094 - val_acc: 0.8493\n",
      "Epoch 22/30\n",
      "42000/42000 [==============================] - 6s 148us/step - loss: 0.2799 - acc: 0.9094 - val_loss: 0.6245 - val_acc: 0.8446\n",
      "Epoch 23/30\n",
      "42000/42000 [==============================] - 6s 147us/step - loss: 0.2738 - acc: 0.9121 - val_loss: 0.6441 - val_acc: 0.8443\n",
      "Epoch 24/30\n",
      "42000/42000 [==============================] - 6s 146us/step - loss: 0.2704 - acc: 0.9118 - val_loss: 0.6528 - val_acc: 0.8457\n",
      "Epoch 25/30\n",
      "42000/42000 [==============================] - 6s 148us/step - loss: 0.2593 - acc: 0.9156 - val_loss: 0.6379 - val_acc: 0.8477\n",
      "Epoch 26/30\n",
      "42000/42000 [==============================] - 6s 151us/step - loss: 0.2435 - acc: 0.9216 - val_loss: 0.6811 - val_acc: 0.8444\n",
      "Epoch 27/30\n",
      "42000/42000 [==============================] - 6s 150us/step - loss: 0.2402 - acc: 0.9214 - val_loss: 0.6847 - val_acc: 0.8388\n",
      "Epoch 28/30\n",
      "42000/42000 [==============================] - 6s 150us/step - loss: 0.2350 - acc: 0.9237 - val_loss: 0.6623 - val_acc: 0.8491\n",
      "Epoch 29/30\n",
      "42000/42000 [==============================] - 6s 149us/step - loss: 0.2231 - acc: 0.9283 - val_loss: 0.6809 - val_acc: 0.8476\n",
      "Epoch 30/30\n",
      "42000/42000 [==============================] - 6s 148us/step - loss: 0.2134 - acc: 0.9322 - val_loss: 0.7007 - val_acc: 0.8468\n"
     ]
    }
   ],
   "source": [
    "#best model(adam optimizer with categorical cross entropy)\n",
    "best_model =Sequential ()\n",
    "best_model.add(Reshape((1024,),input_shape=(32,32,)))\n",
    "best_model.add(BatchNormalization())\n",
    "best_model.add(Dense(300, activation='relu'))\n",
    "best_model.add(Dense(200, activation='relu'))\n",
    "best_model.add(Dense(200, activation='relu'))\n",
    "best_model.add(Dense(250, activation='relu'))\n",
    "best_model.add(Dropout(0.5))\n",
    "best_model.add(Dense(10, activation='softmax'))\n",
    "best_model.compile(loss='categorical_crossentropy', optimizer='adam', metrics=['accuracy'])\n",
    "history = best_model.fit(x_train3,y_train2,validation_data=(x_test3,y_test2),epochs=30,batch_size = 200)"
   ]
  },
  {
   "cell_type": "code",
   "execution_count": 0,
   "metadata": {
    "colab": {},
    "colab_type": "code",
    "id": "zBeiysYQ4QCD"
   },
   "outputs": [],
   "source": [
    "from sklearn.metrics import confusion_matrix\n",
    "from sklearn.metrics import classification_report"
   ]
  },
  {
   "cell_type": "code",
   "execution_count": 0,
   "metadata": {
    "colab": {},
    "colab_type": "code",
    "id": "CbxVGYQn4FUG"
   },
   "outputs": [],
   "source": [
    "y_pred=model.predict(x_test3)"
   ]
  },
  {
   "cell_type": "code",
   "execution_count": 0,
   "metadata": {
    "colab": {
     "base_uri": "https://localhost:8080/",
     "height": 272
    },
    "colab_type": "code",
    "id": "p-bT1VPDBpy3",
    "outputId": "9df9e190-b996-4dfe-f453-bb81a1616675"
   },
   "outputs": [
    {
     "data": {
      "text/plain": [
       "array([[4.3145615e-01, 3.2689024e-02, 1.1899723e-01, 1.8163582e-02,\n",
       "        3.8996976e-02, 2.5002321e-02, 7.2685473e-02, 2.6946986e-02,\n",
       "        9.1808453e-02, 1.4325374e-01],\n",
       "       [1.0526397e-05, 3.4574934e-04, 6.3356447e-01, 4.9037710e-03,\n",
       "        3.1317368e-06, 3.4350069e-04, 6.3813687e-04, 3.5936499e-01,\n",
       "        5.9940497e-04, 2.2627802e-04],\n",
       "       [9.8963083e-06, 1.8777898e-04, 9.9852198e-01, 2.2228135e-04,\n",
       "        1.6334666e-04, 5.3643289e-06, 1.9800707e-05, 3.5244777e-04,\n",
       "        3.4836965e-04, 1.6879626e-04],\n",
       "       [6.6873595e-06, 4.0189488e-07, 1.0879387e-06, 3.4806453e-07,\n",
       "        1.9636945e-08, 1.9299280e-07, 7.0161796e-09, 1.3289980e-09,\n",
       "        2.1578764e-05, 9.9996972e-01],\n",
       "       [9.1274810e-01, 2.4450617e-06, 2.4106396e-06, 4.2595221e-07,\n",
       "        2.5368961e-06, 7.2338535e-06, 1.4412369e-03, 1.2285705e-06,\n",
       "        1.2704778e-02, 7.3089622e-02]], dtype=float32)"
      ]
     },
     "execution_count": 134,
     "metadata": {
      "tags": []
     },
     "output_type": "execute_result"
    }
   ],
   "source": [
    "#few predicted values\n",
    "y_pred[0:5]"
   ]
  },
  {
   "cell_type": "code",
   "execution_count": 0,
   "metadata": {
    "colab": {
     "base_uri": "https://localhost:8080/",
     "height": 493
    },
    "colab_type": "code",
    "id": "XjuYl4J1BqWT",
    "outputId": "3bc29dad-fc80-4337-dd76-15c3ba80eed3"
   },
   "outputs": [
    {
     "name": "stdout",
     "output_type": "stream",
     "text": [
      "Confusion Matrix\n",
      "[[1480   28   13   40   29   11   37   20   46  110]\n",
      " [  35 1441   25   89   55   19   23   50   45   46]\n",
      " [  19   26 1428   89   25   19   10   72   38   77]\n",
      " [  22   31   39 1321   11  142   18   28   53   54]\n",
      " [  26   34   23   44 1484   30   64   11   34   62]\n",
      " [  24   16   12  102   11 1412   60    6   48   77]\n",
      " [  65   26   13   28   47   73 1449    7   84   40]\n",
      " [  28   61   89   69   12   19   16 1440   18   56]\n",
      " [  43   41   26   62   17   63  108   10 1319  123]\n",
      " [  63   27   16   59   27   64   11   26   62 1449]]\n",
      "              precision    recall  f1-score   support\n",
      "\n",
      "           0       0.82      0.82      0.82      1814\n",
      "           1       0.83      0.79      0.81      1828\n",
      "           2       0.85      0.79      0.82      1803\n",
      "           3       0.69      0.77      0.73      1719\n",
      "           4       0.86      0.82      0.84      1812\n",
      "           5       0.76      0.80      0.78      1768\n",
      "           6       0.81      0.79      0.80      1832\n",
      "           7       0.86      0.80      0.83      1808\n",
      "           8       0.76      0.73      0.74      1812\n",
      "           9       0.69      0.80      0.74      1804\n",
      "\n",
      "   micro avg       0.79      0.79      0.79     18000\n",
      "   macro avg       0.79      0.79      0.79     18000\n",
      "weighted avg       0.79      0.79      0.79     18000\n",
      "\n"
     ]
    }
   ],
   "source": [
    "matrix = confusion_matrix(y_test2.argmax(axis=1), y_pred.argmax(axis=1))\n",
    "print(\"Confusion Matrix\")\n",
    "print(matrix)\n",
    "\n",
    "# Get Classification Report\n",
    "report = classification_report(np.argmax(y_test2, axis=1), np.argmax(y_pred, axis=1))\n",
    "print(report)"
   ]
  },
  {
   "cell_type": "code",
   "execution_count": 0,
   "metadata": {
    "colab": {},
    "colab_type": "code",
    "id": "0_pIdAdyKhcz"
   },
   "outputs": [],
   "source": [
    "##Comparison of CNN with and without batch normalization\n",
    "#1. Batch normalization has reduced overfitting effect as difference between training acc and\n",
    "#validation acc came down. \n",
    "#2. Batch normalization provided only a small marginal increase in performance. (0.826 vs 0.874)\n",
    "\n",
    "##Comparison of final CNN with KNN model.\n",
    "#1. The Acurracy is high for CNN as expected. CNN extracts features through convolution layer \n",
    "#whereas KNN processes the raw pixel data\n",
    "#2. Memory requirement is high for KNN as expected. When kfold cross validation was run from laptop it \n",
    "#ran out of memory. Rerun the code from desktop system to complete it. \n",
    "#3. Training time was also high for KNN as expected. It took hours to complete kfold\n",
    "#cross validation. "
   ]
  }
 ],
 "metadata": {
  "accelerator": "TPU",
  "colab": {
   "collapsed_sections": [],
   "name": "Ananya_Neural Networks and Deep Learning_R7_Project1.ipynb",
   "provenance": [],
   "version": "0.3.2"
  },
  "kernelspec": {
   "display_name": "Python 3",
   "language": "python",
   "name": "python3"
  },
  "language_info": {
   "codemirror_mode": {
    "name": "ipython",
    "version": 3
   },
   "file_extension": ".py",
   "mimetype": "text/x-python",
   "name": "python",
   "nbconvert_exporter": "python",
   "pygments_lexer": "ipython3",
   "version": "3.7.1"
  }
 },
 "nbformat": 4,
 "nbformat_minor": 1
}
