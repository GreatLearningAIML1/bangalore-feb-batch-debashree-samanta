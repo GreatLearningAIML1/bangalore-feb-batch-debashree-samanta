{
 "cells": [
  {
   "cell_type": "markdown",
   "metadata": {
    "colab_type": "text",
    "id": "YYk8NG3yOIT9"
   },
   "source": [
    "### A MNIST-like fashion product database\n",
    "\n",
    "In this, we classify the images into respective classes given in the dataset. We use a Neural Net and a Deep Neural Net in Keras to solve this and check the accuracy scores."
   ]
  },
  {
   "cell_type": "markdown",
   "metadata": {
    "colab_type": "text",
    "id": "tFO6PuxzOIT_",
    "slideshow": {
     "slide_type": "slide"
    }
   },
   "source": [
    "### Load tensorflow"
   ]
  },
  {
   "cell_type": "code",
   "execution_count": 1,
   "metadata": {
    "colab": {},
    "colab_type": "code",
    "id": "efNjNImfOIUC"
   },
   "outputs": [],
   "source": [
    "import tensorflow as tf\n",
    "tf.set_random_seed(42)"
   ]
  },
  {
   "cell_type": "code",
   "execution_count": 2,
   "metadata": {
    "colab": {},
    "colab_type": "code",
    "id": "l9C4aAIGOIUH",
    "outputId": "5ef9aff6-a7bd-4b26-cba6-8750955f6ca3"
   },
   "outputs": [
    {
     "data": {
      "text/plain": [
       "'1.13.1'"
      ]
     },
     "execution_count": 2,
     "metadata": {},
     "output_type": "execute_result"
    }
   ],
   "source": [
    "tf.__version__"
   ]
  },
  {
   "cell_type": "markdown",
   "metadata": {
    "colab_type": "text",
    "id": "HcoZBStrOIUQ",
    "slideshow": {
     "slide_type": "slide"
    }
   },
   "source": [
    "### Collect Data"
   ]
  },
  {
   "cell_type": "code",
   "execution_count": 3,
   "metadata": {
    "colab": {},
    "colab_type": "code",
    "id": "XA1WsFSeOIUS"
   },
   "outputs": [
    {
     "name": "stderr",
     "output_type": "stream",
     "text": [
      "Using TensorFlow backend.\n"
     ]
    }
   ],
   "source": [
    "import keras"
   ]
  },
  {
   "cell_type": "code",
   "execution_count": 4,
   "metadata": {
    "colab": {},
    "colab_type": "code",
    "id": "qnbx7TyQOIUY"
   },
   "outputs": [],
   "source": [
    "(trainX, trainY), (testX, testY) = keras.datasets.fashion_mnist.load_data()"
   ]
  },
  {
   "cell_type": "code",
   "execution_count": 5,
   "metadata": {
    "colab": {},
    "colab_type": "code",
    "id": "UbiHj5YPOIUc",
    "outputId": "87e1b9cd-07f0-45cb-e706-0d51ad742d72",
    "slideshow": {
     "slide_type": "fragment"
    }
   },
   "outputs": [
    {
     "name": "stdout",
     "output_type": "stream",
     "text": [
      "[9 2 1 1 6]\n"
     ]
    }
   ],
   "source": [
    "print(testY[0:5])"
   ]
  },
  {
   "cell_type": "markdown",
   "metadata": {
    "colab_type": "text",
    "id": "lDAYzkwyOIUj",
    "slideshow": {
     "slide_type": "slide"
    }
   },
   "source": [
    "### Convert both training and testing labels into one-hot vectors.\n",
    "\n",
    "**Hint:** check **tf.keras.utils.to_categorical()**"
   ]
  },
  {
   "cell_type": "code",
   "execution_count": 6,
   "metadata": {
    "colab": {},
    "colab_type": "code",
    "id": "vBlfYlANOIUk"
   },
   "outputs": [
    {
     "data": {
      "text/plain": [
       "array([[0., 0., 0., ..., 0., 0., 1.],\n",
       "       [0., 0., 1., ..., 0., 0., 0.],\n",
       "       [0., 1., 0., ..., 0., 0., 0.],\n",
       "       ...,\n",
       "       [0., 0., 0., ..., 0., 1., 0.],\n",
       "       [0., 1., 0., ..., 0., 0., 0.],\n",
       "       [0., 0., 0., ..., 0., 0., 0.]], dtype=float32)"
      ]
     },
     "execution_count": 6,
     "metadata": {},
     "output_type": "execute_result"
    }
   ],
   "source": [
    "tf.keras.utils.to_categorical(trainY)\n",
    "tf.keras.utils.to_categorical(testY)"
   ]
  },
  {
   "cell_type": "code",
   "execution_count": 7,
   "metadata": {
    "colab": {},
    "colab_type": "code",
    "id": "RHV3b9mzOIUq",
    "outputId": "27bdfe58-91ee-4677-fe49-e742ad306c70",
    "scrolled": true,
    "slideshow": {
     "slide_type": "fragment"
    }
   },
   "outputs": [
    {
     "name": "stdout",
     "output_type": "stream",
     "text": [
      "(60000,)\n",
      "First 5 examples now are:  [9 0 0 3 0]\n"
     ]
    }
   ],
   "source": [
    "print(trainY.shape)\n",
    "print('First 5 examples now are: ', trainY[0:5])"
   ]
  },
  {
   "cell_type": "markdown",
   "metadata": {
    "colab_type": "text",
    "id": "FwhQ8e7VOIUw"
   },
   "source": [
    "### Visualize the data\n",
    "\n",
    "Plot first 10 images in the triaining set and their labels."
   ]
  },
  {
   "cell_type": "code",
   "execution_count": 8,
   "metadata": {},
   "outputs": [],
   "source": [
    "# Helper libraries\n",
    "import numpy as np\n",
    "import matplotlib.pyplot as plt"
   ]
  },
  {
   "cell_type": "code",
   "execution_count": 9,
   "metadata": {
    "colab": {},
    "colab_type": "code",
    "id": "AvDML2OoOIUx",
    "outputId": "9dafc94e-61a8-4089-be03-d143163d68aa"
   },
   "outputs": [
    {
     "data": {
      "image/png": "[encoded data removed]",
      "text/plain": [
       "<Figure size 720x720 with 10 Axes>"
      ]
     },
     "metadata": {},
     "output_type": "display_data"
    }
   ],
   "source": [
    "plt.figure(figsize=(10,10))\n",
    "for i in range(10):\n",
    "    plt.subplot(2,5,i+1)\n",
    "    plt.xticks([])\n",
    "    plt.yticks([])\n",
    "    plt.grid(False)\n",
    "    plt.imshow(trainX[i], cmap=plt.cm.binary)\n",
    "    plt.xlabel(trainY[trainY[i]])\n",
    "plt.show()"
   ]
  },
  {
   "cell_type": "markdown",
   "metadata": {
    "colab_type": "text",
    "id": "l4TbJGeSOIU4",
    "slideshow": {
     "slide_type": "slide"
    }
   },
   "source": [
    "### Build a neural Network with a cross entropy loss function and sgd optimizer in Keras. The output layer with 10 neurons as we have 10 classes."
   ]
  },
  {
   "cell_type": "code",
   "execution_count": 30,
   "metadata": {},
   "outputs": [],
   "source": [
    "from keras.layers import Dense\n",
    "from keras.optimizers import SGD\n",
    "from keras.layers.normalization import BatchNormalization\n",
    "from keras import optimizers\n",
    "from sklearn import metrics"
   ]
  },
  {
   "cell_type": "code",
   "execution_count": 13,
   "metadata": {
    "colab": {},
    "colab_type": "code",
    "id": "Ac06XZZTOIU6"
   },
   "outputs": [
    {
     "name": "stdout",
     "output_type": "stream",
     "text": [
      "WARNING:tensorflow:From F:\\anaconda3\\lib\\site-packages\\tensorflow\\python\\framework\\op_def_library.py:263: colocate_with (from tensorflow.python.framework.ops) is deprecated and will be removed in a future version.\n",
      "Instructions for updating:\n",
      "Colocations handled automatically by placer.\n"
     ]
    }
   ],
   "source": [
    "model = keras.Sequential([keras.layers.Flatten(input_shape=(28, 28))])\n",
    "model.add(Dense(120, activation='relu'))\n",
    "model.add(Dense(10, activation='sigmoid'))"
   ]
  },
  {
   "cell_type": "markdown",
   "metadata": {
    "colab_type": "text",
    "id": "3hQpLv3aOIU_",
    "slideshow": {
     "slide_type": "slide"
    }
   },
   "source": [
    "### Execute the model using model.fit()"
   ]
  },
  {
   "cell_type": "code",
   "execution_count": 14,
   "metadata": {},
   "outputs": [],
   "source": [
    "model.compile(loss='sparse_categorical_crossentropy', optimizer='sgd', metrics=['accuracy'])"
   ]
  },
  {
   "cell_type": "code",
   "execution_count": 15,
   "metadata": {
    "colab": {},
    "colab_type": "code",
    "id": "O59C_-IgOIVB"
   },
   "outputs": [
    {
     "name": "stdout",
     "output_type": "stream",
     "text": [
      "WARNING:tensorflow:From F:\\anaconda3\\lib\\site-packages\\tensorflow\\python\\ops\\math_ops.py:3066: to_int32 (from tensorflow.python.ops.math_ops) is deprecated and will be removed in a future version.\n",
      "Instructions for updating:\n",
      "Use tf.cast instead.\n",
      "Epoch 1/10\n",
      "60000/60000 [==============================] - 10s 174us/step - loss: 5.3292 - acc: 0.0999\n",
      "Epoch 2/10\n",
      "60000/60000 [==============================] - 10s 169us/step - loss: 5.3031 - acc: 0.1000\n",
      "Epoch 3/10\n",
      "60000/60000 [==============================] - 11s 176us/step - loss: 5.3030 - acc: 0.1000\n",
      "Epoch 4/10\n",
      "60000/60000 [==============================] - 10s 175us/step - loss: 5.3033 - acc: 0.1000\n",
      "Epoch 5/10\n",
      "60000/60000 [==============================] - 11s 184us/step - loss: 5.3032 - acc: 0.1000\n",
      "Epoch 6/10\n",
      "60000/60000 [==============================] - 11s 184us/step - loss: 5.3031 - acc: 0.1000\n",
      "Epoch 7/10\n",
      "60000/60000 [==============================] - 11s 189us/step - loss: 5.3031 - acc: 0.1000\n",
      "Epoch 8/10\n",
      "60000/60000 [==============================] - 12s 205us/step - loss: 5.3031 - acc: 0.1000\n",
      "Epoch 9/10\n",
      "60000/60000 [==============================] - 12s 202us/step - loss: 5.3031 - acc: 0.1000\n",
      "Epoch 10/10\n",
      "60000/60000 [==============================] - 12s 207us/step - loss: 5.3031 - acc: 0.1000\n"
     ]
    },
    {
     "data": {
      "text/plain": [
       "<keras.callbacks.History at 0xec7dc50>"
      ]
     },
     "execution_count": 15,
     "metadata": {},
     "output_type": "execute_result"
    }
   ],
   "source": [
    "model.fit(trainX, trainY, epochs=10)"
   ]
  },
  {
   "cell_type": "code",
   "execution_count": null,
   "metadata": {},
   "outputs": [],
   "source": [
    "#There is not much improvement in accuracy score or decrease in error after 2nd epoch."
   ]
  },
  {
   "cell_type": "markdown",
   "metadata": {
    "colab_type": "text",
    "id": "JdzDtGwDOIVF",
    "slideshow": {
     "slide_type": "slide"
    }
   },
   "source": [
    "### In the above Neural Network model add Batch Normalization layer after the input layer and repeat the steps."
   ]
  },
  {
   "cell_type": "code",
   "execution_count": 18,
   "metadata": {
    "colab": {},
    "colab_type": "code",
    "id": "kndfpdidOIVI"
   },
   "outputs": [],
   "source": [
    "model1 = keras.Sequential([keras.layers.Flatten(input_shape=(28, 28))])\n",
    "model1.add(Dense(100, activation='relu'))\n",
    "model1.add(BatchNormalization())\n",
    "model1.add(Dense(10, activation='sigmoid'))\n",
    "model1.compile(loss='sparse_categorical_crossentropy', optimizer='sgd', metrics=['accuracy'])"
   ]
  },
  {
   "cell_type": "markdown",
   "metadata": {
    "colab_type": "text",
    "id": "mwk3T5LJOIVN",
    "slideshow": {
     "slide_type": "slide"
    }
   },
   "source": [
    "### Execute the model"
   ]
  },
  {
   "cell_type": "code",
   "execution_count": 19,
   "metadata": {
    "colab": {},
    "colab_type": "code",
    "id": "JNLR8tcBOIVP"
   },
   "outputs": [
    {
     "name": "stdout",
     "output_type": "stream",
     "text": [
      "Epoch 1/10\n",
      "60000/60000 [==============================] - 10s 169us/step - loss: 1.2781 - acc: 0.6585\n",
      "Epoch 2/10\n",
      "60000/60000 [==============================] - 7s 120us/step - loss: 0.7983 - acc: 0.7249\n",
      "Epoch 3/10\n",
      "60000/60000 [==============================] - 7s 122us/step - loss: 0.5279 - acc: 0.8074\n",
      "Epoch 4/10\n",
      "60000/60000 [==============================] - 7s 123us/step - loss: 0.4431 - acc: 0.8444\n",
      "Epoch 5/10\n",
      "60000/60000 [==============================] - 7s 124us/step - loss: 0.4102 - acc: 0.8549\n",
      "Epoch 6/10\n",
      "60000/60000 [==============================] - 8s 127us/step - loss: 0.3858 - acc: 0.8631\n",
      "Epoch 7/10\n",
      "60000/60000 [==============================] - 8s 141us/step - loss: 0.3720 - acc: 0.8683 0s - loss: 0.3719 - acc\n",
      "Epoch 8/10\n",
      "60000/60000 [==============================] - 8s 141us/step - loss: 0.3578 - acc: 0.8727\n",
      "Epoch 9/10\n",
      "60000/60000 [==============================] - 7s 122us/step - loss: 0.3490 - acc: 0.8744 0s - loss: 0.3500 - ac\n",
      "Epoch 10/10\n",
      "60000/60000 [==============================] - 7s 110us/step - loss: 0.3350 - acc: 0.8794\n"
     ]
    },
    {
     "data": {
      "text/plain": [
       "<keras.callbacks.History at 0xec7dac8>"
      ]
     },
     "execution_count": 19,
     "metadata": {},
     "output_type": "execute_result"
    }
   ],
   "source": [
    "model1.fit(trainX, trainY, epochs=10)"
   ]
  },
  {
   "cell_type": "code",
   "execution_count": null,
   "metadata": {},
   "outputs": [],
   "source": [
    "#After adding the batch normalizer, we can observe that the error is decreasing and accuracy is increasing with each epoch."
   ]
  },
  {
   "cell_type": "markdown",
   "metadata": {
    "colab_type": "text",
    "id": "Py-KwkmjOIVU"
   },
   "source": [
    "### Customize the learning rate to 0.001 in sgd optimizer and run the model"
   ]
  },
  {
   "cell_type": "code",
   "execution_count": 21,
   "metadata": {
    "colab": {},
    "colab_type": "code",
    "id": "yLXUE9jWOIVV"
   },
   "outputs": [],
   "source": [
    "sgd = optimizers.SGD(lr=0.001)"
   ]
  },
  {
   "cell_type": "code",
   "execution_count": 22,
   "metadata": {
    "colab": {},
    "colab_type": "code",
    "id": "pJUqA5T4OIVc"
   },
   "outputs": [],
   "source": [
    "model1.compile(loss='sparse_categorical_crossentropy', optimizer='sgd', metrics=['accuracy'])"
   ]
  },
  {
   "cell_type": "code",
   "execution_count": 23,
   "metadata": {},
   "outputs": [
    {
     "name": "stdout",
     "output_type": "stream",
     "text": [
      "Epoch 1/10\n",
      "60000/60000 [==============================] - 10s 169us/step - loss: 0.3345 - acc: 0.8791\n",
      "Epoch 2/10\n",
      "60000/60000 [==============================] - 7s 116us/step - loss: 0.3236 - acc: 0.8836\n",
      "Epoch 3/10\n",
      "60000/60000 [==============================] - 7s 119us/step - loss: 0.3181 - acc: 0.8856\n",
      "Epoch 4/10\n",
      "60000/60000 [==============================] - 7s 121us/step - loss: 0.3111 - acc: 0.8877\n",
      "Epoch 5/10\n",
      "60000/60000 [==============================] - 7s 123us/step - loss: 0.3094 - acc: 0.8879\n",
      "Epoch 6/10\n",
      "60000/60000 [==============================] - 7s 124us/step - loss: 0.3093 - acc: 0.8895\n",
      "Epoch 7/10\n",
      "60000/60000 [==============================] - 8s 129us/step - loss: 0.3062 - acc: 0.8913\n",
      "Epoch 8/10\n",
      "60000/60000 [==============================] - 8s 128us/step - loss: 0.2986 - acc: 0.8929\n",
      "Epoch 9/10\n",
      "60000/60000 [==============================] - 8s 131us/step - loss: 0.2986 - acc: 0.8912\n",
      "Epoch 10/10\n",
      "60000/60000 [==============================] - 8s 138us/step - loss: 0.2964 - acc: 0.8924\n"
     ]
    },
    {
     "data": {
      "text/plain": [
       "<keras.callbacks.History at 0xec7da58>"
      ]
     },
     "execution_count": 23,
     "metadata": {},
     "output_type": "execute_result"
    }
   ],
   "source": [
    "model1.fit(trainX, trainY, epochs=10)"
   ]
  },
  {
   "cell_type": "code",
   "execution_count": null,
   "metadata": {},
   "outputs": [],
   "source": [
    "#Addition of learning rate shows better result. "
   ]
  },
  {
   "cell_type": "markdown",
   "metadata": {
    "colab_type": "text",
    "id": "j9CSqKvpOIVk",
    "slideshow": {
     "slide_type": "slide"
    }
   },
   "source": [
    "### Build the Neural Network model with 3 Dense layers with 100,100,10 neurons respectively in each layer. Use cross entropy loss function and singmoid as activation in the hidden layers and softmax as activation function in the output layer. Use sgd optimizer with learning rate 0.03."
   ]
  },
  {
   "cell_type": "code",
   "execution_count": 25,
   "metadata": {
    "colab": {},
    "colab_type": "code",
    "id": "GGAad54JOIVm"
   },
   "outputs": [],
   "source": [
    "sgd = optimizers.SGD(lr=0.03)\n",
    "model2 = keras.Sequential([keras.layers.Flatten(input_shape=(28, 28))])\n",
    "model2.add(Dense(100, activation='sigmoid'))\n",
    "model2.add(BatchNormalization())\n",
    "model2.add(Dense(100, activation='sigmoid'))\n",
    "model2.add(BatchNormalization())\n",
    "model2.add(Dense(10, activation='softmax'))\n",
    "model2.compile(loss='sparse_categorical_crossentropy', optimizer='sgd', metrics=['accuracy'])"
   ]
  },
  {
   "cell_type": "code",
   "execution_count": 29,
   "metadata": {
    "colab": {},
    "colab_type": "code",
    "id": "MQ7oIymROIVp"
   },
   "outputs": [
    {
     "name": "stdout",
     "output_type": "stream",
     "text": [
      "Epoch 1/10\n",
      "60000/60000 [==============================] - 13s 214us/step - loss: 1.0143 - acc: 0.5833\n",
      "Epoch 2/10\n",
      "60000/60000 [==============================] - 10s 173us/step - loss: 0.9662 - acc: 0.6187\n",
      "Epoch 3/10\n",
      "60000/60000 [==============================] - 10s 170us/step - loss: 1.0256 - acc: 0.5939\n",
      "Epoch 4/10\n",
      "60000/60000 [==============================] - 10s 171us/step - loss: 0.9680 - acc: 0.6091\n",
      "Epoch 5/10\n",
      "60000/60000 [==============================] - 11s 175us/step - loss: 0.9799 - acc: 0.6089\n",
      "Epoch 6/10\n",
      "60000/60000 [==============================] - 11s 177us/step - loss: 0.9082 - acc: 0.6260\n",
      "Epoch 7/10\n",
      "60000/60000 [==============================] - 11s 183us/step - loss: 0.9165 - acc: 0.6222\n",
      "Epoch 8/10\n",
      "60000/60000 [==============================] - 11s 188us/step - loss: 0.8865 - acc: 0.6486\n",
      "Epoch 9/10\n",
      "60000/60000 [==============================] - 12s 194us/step - loss: 0.9138 - acc: 0.6349\n",
      "Epoch 10/10\n",
      "60000/60000 [==============================] - 12s 197us/step - loss: 0.8843 - acc: 0.6491\n"
     ]
    },
    {
     "data": {
      "text/plain": [
       "<keras.callbacks.History at 0xee75940>"
      ]
     },
     "execution_count": 29,
     "metadata": {},
     "output_type": "execute_result"
    }
   ],
   "source": [
    "model2.fit(trainX, trainY, epochs=10)"
   ]
  },
  {
   "cell_type": "code",
   "execution_count": null,
   "metadata": {},
   "outputs": [],
   "source": [
    "#Error is more after using segmoid instead of relu. "
   ]
  },
  {
   "cell_type": "markdown",
   "metadata": {
    "colab_type": "text",
    "id": "Nr2YsZV0OIV0",
    "slideshow": {
     "slide_type": "slide"
    }
   },
   "source": [
    "## Review model"
   ]
  },
  {
   "cell_type": "code",
   "execution_count": 27,
   "metadata": {
    "colab": {},
    "colab_type": "code",
    "id": "h4ojW6-oOIV2"
   },
   "outputs": [
    {
     "name": "stdout",
     "output_type": "stream",
     "text": [
      "Train on 60000 samples, validate on 10000 samples\n",
      "Epoch 1/10\n",
      "60000/60000 [==============================] - 11s 187us/step - loss: 0.2893 - acc: 0.8955 - val_loss: 0.3792 - val_acc: 0.8668\n",
      "Epoch 2/10\n",
      "60000/60000 [==============================] - 7s 112us/step - loss: 0.2850 - acc: 0.8966 - val_loss: 0.3723 - val_acc: 0.86692847 - \n",
      "Epoch 3/10\n",
      "60000/60000 [==============================] - 9s 147us/step - loss: 0.2811 - acc: 0.8976 - val_loss: 0.3706 - val_acc: 0.8694\n",
      "Epoch 4/10\n",
      "60000/60000 [==============================] - 8s 138us/step - loss: 0.2784 - acc: 0.8984 - val_loss: 0.3788 - val_acc: 0.8690: 0s - loss: 0\n",
      "Epoch 5/10\n",
      "60000/60000 [==============================] - 9s 143us/step - loss: 0.2749 - acc: 0.8999 - val_loss: 0.3858 - val_acc: 0.8657\n",
      "Epoch 6/10\n",
      "60000/60000 [==============================] - 9s 147us/step - loss: 0.2706 - acc: 0.9014 - val_loss: 0.3595 - val_acc: 0.8693\n",
      "Epoch 7/10\n",
      "60000/60000 [==============================] - 9s 149us/step - loss: 0.2696 - acc: 0.9012 - val_loss: 0.3900 - val_acc: 0.8647\n",
      "Epoch 8/10\n",
      "60000/60000 [==============================] - 9s 151us/step - loss: 0.2672 - acc: 0.9032 - val_loss: 0.3629 - val_acc: 0.8746\n",
      "Epoch 9/10\n",
      "60000/60000 [==============================] - 9s 157us/step - loss: 0.2593 - acc: 0.9058 - val_loss: 0.3616 - val_acc: 0.8735\n",
      "Epoch 10/10\n",
      "60000/60000 [==============================] - 10s 169us/step - loss: 0.2649 - acc: 0.9039 - val_loss: 0.3677 - val_acc: 0.8729\n"
     ]
    },
    {
     "data": {
      "text/plain": [
       "<keras.callbacks.History at 0x174407b8>"
      ]
     },
     "execution_count": 27,
     "metadata": {},
     "output_type": "execute_result"
    }
   ],
   "source": [
    "model1.fit(trainX, trainY, validation_data=(testX,testY), epochs=10)"
   ]
  },
  {
   "cell_type": "code",
   "execution_count": 28,
   "metadata": {},
   "outputs": [
    {
     "name": "stdout",
     "output_type": "stream",
     "text": [
      "Train on 60000 samples, validate on 10000 samples\n",
      "Epoch 1/10\n",
      "60000/60000 [==============================] - 13s 222us/step - loss: 1.2043 - acc: 0.4801 - val_loss: 1.1395 - val_acc: 0.5022\n",
      "Epoch 2/10\n",
      "60000/60000 [==============================] - 10s 175us/step - loss: 1.2730 - acc: 0.4393 - val_loss: 1.2936 - val_acc: 0.4654\n",
      "Epoch 3/10\n",
      "60000/60000 [==============================] - 12s 196us/step - loss: 1.2324 - acc: 0.4926 - val_loss: 1.3536 - val_acc: 0.4507\n",
      "Epoch 4/10\n",
      "60000/60000 [==============================] - 12s 197us/step - loss: 1.2028 - acc: 0.4854 - val_loss: 1.2671 - val_acc: 0.4545\n",
      "Epoch 5/10\n",
      "60000/60000 [==============================] - 12s 202us/step - loss: 1.1496 - acc: 0.5029 - val_loss: 1.0870 - val_acc: 0.5531\n",
      "Epoch 6/10\n",
      "60000/60000 [==============================] - 12s 207us/step - loss: 1.0944 - acc: 0.5404 - val_loss: 1.3978 - val_acc: 0.4197\n",
      "Epoch 7/10\n",
      "60000/60000 [==============================] - 13s 214us/step - loss: 1.1742 - acc: 0.5035 - val_loss: 1.1088 - val_acc: 0.5082\n",
      "Epoch 8/10\n",
      "60000/60000 [==============================] - 14s 228us/step - loss: 1.0787 - acc: 0.5327 - val_loss: 1.0512 - val_acc: 0.5779\n",
      "Epoch 9/10\n",
      "60000/60000 [==============================] - 13s 211us/step - loss: 1.0040 - acc: 0.5843 - val_loss: 1.0103 - val_acc: 0.5722\n",
      "Epoch 10/10\n",
      "60000/60000 [==============================] - 14s 227us/step - loss: 0.9915 - acc: 0.5987 - val_loss: 1.0772 - val_acc: 0.5544\n"
     ]
    },
    {
     "data": {
      "text/plain": [
       "<keras.callbacks.History at 0x1a473898>"
      ]
     },
     "execution_count": 28,
     "metadata": {},
     "output_type": "execute_result"
    }
   ],
   "source": [
    "model2.fit(trainX, trainY, validation_data=(testX,testY), epochs=10)"
   ]
  },
  {
   "cell_type": "code",
   "execution_count": 31,
   "metadata": {},
   "outputs": [
    {
     "data": {
      "text/plain": [
       "0.9106833333333333"
      ]
     },
     "execution_count": 31,
     "metadata": {},
     "output_type": "execute_result"
    }
   ],
   "source": [
    "model1_y_pred=model1.predict_classes(trainX)\n",
    "metrics.accuracy_score(trainY,model1_y_pred)"
   ]
  },
  {
   "cell_type": "code",
   "execution_count": 32,
   "metadata": {},
   "outputs": [
    {
     "data": {
      "text/plain": [
       "0.6658833333333334"
      ]
     },
     "execution_count": 32,
     "metadata": {},
     "output_type": "execute_result"
    }
   ],
   "source": [
    "model2_y_pred=model2.predict_classes(trainX)\n",
    "metrics.accuracy_score(trainY,model2_y_pred)"
   ]
  },
  {
   "cell_type": "code",
   "execution_count": null,
   "metadata": {},
   "outputs": [],
   "source": [
    "#Ran two models with validation data. \n",
    "#Accuracy of model1 is much better than model 2."
   ]
  },
  {
   "cell_type": "markdown",
   "metadata": {
    "colab_type": "text",
    "id": "gfFGmbZLOIV5",
    "slideshow": {
     "slide_type": "slide"
    }
   },
   "source": [
    "### Run the model"
   ]
  },
  {
   "cell_type": "code",
   "execution_count": 34,
   "metadata": {
    "colab": {},
    "colab_type": "code",
    "id": "bIkbMEN5OIV7"
   },
   "outputs": [
    {
     "data": {
      "text/plain": [
       "0.8729"
      ]
     },
     "execution_count": 34,
     "metadata": {},
     "output_type": "execute_result"
    }
   ],
   "source": [
    "model1_y_pred=model1.predict_classes(testX)\n",
    "metrics.accuracy_score(testY,model1_y_pred)"
   ]
  },
  {
   "cell_type": "code",
   "execution_count": 35,
   "metadata": {},
   "outputs": [
    {
     "data": {
      "text/plain": [
       "0.654"
      ]
     },
     "execution_count": 35,
     "metadata": {},
     "output_type": "execute_result"
    }
   ],
   "source": [
    "model2_y_pred=model2.predict_classes(testX)\n",
    "metrics.accuracy_score(testY,model2_y_pred)"
   ]
  },
  {
   "cell_type": "code",
   "execution_count": null,
   "metadata": {},
   "outputs": [],
   "source": [
    "#Ran both models with test data. \n",
    "#Again model1 shows good result. \n",
    "#So relu should be used in dense layers. "
   ]
  }
 ],
 "metadata": {
  "colab": {
   "name": "R6_ExternalLab_AIML.ipynb",
   "provenance": [],
   "version": "0.3.2"
  },
  "kernelspec": {
   "display_name": "Python 3",
   "language": "python",
   "name": "python3"
  },
  "language_info": {
   "codemirror_mode": {
    "name": "ipython",
    "version": 3
   },
   "file_extension": ".py",
   "mimetype": "text/x-python",
   "name": "python",
   "nbconvert_exporter": "python",
   "pygments_lexer": "ipython3",
   "version": "3.7.1"
  }
 },
 "nbformat": 4,
 "nbformat_minor": 1
}
